{
 "cells": [
  {
   "cell_type": "markdown",
   "metadata": {
    "_cell_guid": "b1076dfc-b9ad-4769-8c92-a6c4dae69d19",
    "_uuid": "8f2839f25d086af736a60e9eeb907d3b93b6e0e5",
    "papermill": {
     "duration": 0.025856,
     "end_time": "2021-03-05T04:54:37.633321",
     "exception": false,
     "start_time": "2021-03-05T04:54:37.607465",
     "status": "completed"
    },
    "tags": []
   },
   "source": [
    "# Module"
   ]
  },
  {
   "cell_type": "code",
   "execution_count": 1,
   "metadata": {
    "execution": {
     "iopub.execute_input": "2021-03-05T04:54:37.686890Z",
     "iopub.status.busy": "2021-03-05T04:54:37.686172Z",
     "iopub.status.idle": "2021-03-05T04:54:39.906353Z",
     "shell.execute_reply": "2021-03-05T04:54:39.907208Z"
    },
    "papermill": {
     "duration": 2.250442,
     "end_time": "2021-03-05T04:54:39.907564",
     "exception": false,
     "start_time": "2021-03-05T04:54:37.657122",
     "status": "completed"
    },
    "tags": []
   },
   "outputs": [
    {
     "data": {
      "text/html": [
       "<style type='text/css'>\n",
       ".datatable table.frame { margin-bottom: 0; }\n",
       ".datatable table.frame thead { border-bottom: none; }\n",
       ".datatable table.frame tr.coltypes td {  color: #FFFFFF;  line-height: 6px;  padding: 0 0.5em;}\n",
       ".datatable .bool    { background: #DDDD99; }\n",
       ".datatable .object  { background: #565656; }\n",
       ".datatable .int     { background: #5D9E5D; }\n",
       ".datatable .float   { background: #4040CC; }\n",
       ".datatable .str     { background: #CC4040; }\n",
       ".datatable .row_index {  background: var(--jp-border-color3);  border-right: 1px solid var(--jp-border-color0);  color: var(--jp-ui-font-color3);  font-size: 9px;}\n",
       ".datatable .frame tr.coltypes .row_index {  background: var(--jp-border-color0);}\n",
       ".datatable th:nth-child(2) { padding-left: 12px; }\n",
       ".datatable .hellipsis {  color: var(--jp-cell-editor-border-color);}\n",
       ".datatable .vellipsis {  background: var(--jp-layout-color0);  color: var(--jp-cell-editor-border-color);}\n",
       ".datatable .na {  color: var(--jp-cell-editor-border-color);  font-size: 80%;}\n",
       ".datatable .footer { font-size: 9px; }\n",
       ".datatable .frame_dimensions {  background: var(--jp-border-color3);  border-top: 1px solid var(--jp-border-color0);  color: var(--jp-ui-font-color3);  display: inline-block;  opacity: 0.6;  padding: 1px 10px 1px 5px;}\n",
       "</style>\n"
      ],
      "text/plain": [
       "<IPython.core.display.HTML object>"
      ]
     },
     "metadata": {},
     "output_type": "display_data"
    }
   ],
   "source": [
    "import gc\n",
    "import optuna\n",
    "import numpy as np\n",
    "import pandas as pd\n",
    "import seaborn as sns\n",
    "import lightgbm as lgb\n",
    "import matplotlib.pyplot as plt\n",
    "from sklearn.model_selection import train_test_split\n",
    "from sklearn.metrics import roc_auc_score"
   ]
  },
  {
   "cell_type": "markdown",
   "metadata": {
    "papermill": {
     "duration": 0.029105,
     "end_time": "2021-03-05T04:54:39.966772",
     "exception": false,
     "start_time": "2021-03-05T04:54:39.937667",
     "status": "completed"
    },
    "tags": []
   },
   "source": [
    "# Dataset"
   ]
  },
  {
   "cell_type": "code",
   "execution_count": 2,
   "metadata": {
    "execution": {
     "iopub.execute_input": "2021-03-05T04:54:40.038491Z",
     "iopub.status.busy": "2021-03-05T04:54:40.037711Z",
     "iopub.status.idle": "2021-03-05T04:54:40.099753Z",
     "shell.execute_reply": "2021-03-05T04:54:40.100572Z"
    },
    "papermill": {
     "duration": 0.096871,
     "end_time": "2021-03-05T04:54:40.100782",
     "exception": false,
     "start_time": "2021-03-05T04:54:40.003911",
     "status": "completed"
    },
    "tags": []
   },
   "outputs": [
    {
     "name": "stdout",
     "output_type": "stream",
     "text": [
      "(891, 12)\n"
     ]
    },
    {
     "data": {
      "text/html": [
       "<div>\n",
       "<style scoped>\n",
       "    .dataframe tbody tr th:only-of-type {\n",
       "        vertical-align: middle;\n",
       "    }\n",
       "\n",
       "    .dataframe tbody tr th {\n",
       "        vertical-align: top;\n",
       "    }\n",
       "\n",
       "    .dataframe thead th {\n",
       "        text-align: right;\n",
       "    }\n",
       "</style>\n",
       "<table border=\"1\" class=\"dataframe\">\n",
       "  <thead>\n",
       "    <tr style=\"text-align: right;\">\n",
       "      <th></th>\n",
       "      <th>PassengerId</th>\n",
       "      <th>Survived</th>\n",
       "      <th>Pclass</th>\n",
       "      <th>Name</th>\n",
       "      <th>Sex</th>\n",
       "      <th>Age</th>\n",
       "      <th>SibSp</th>\n",
       "      <th>Parch</th>\n",
       "      <th>Ticket</th>\n",
       "      <th>Fare</th>\n",
       "      <th>Cabin</th>\n",
       "      <th>Embarked</th>\n",
       "    </tr>\n",
       "  </thead>\n",
       "  <tbody>\n",
       "    <tr>\n",
       "      <th>0</th>\n",
       "      <td>1</td>\n",
       "      <td>0</td>\n",
       "      <td>3</td>\n",
       "      <td>Braund, Mr. Owen Harris</td>\n",
       "      <td>male</td>\n",
       "      <td>22.0</td>\n",
       "      <td>1</td>\n",
       "      <td>0</td>\n",
       "      <td>A/5 21171</td>\n",
       "      <td>7.2500</td>\n",
       "      <td>NaN</td>\n",
       "      <td>S</td>\n",
       "    </tr>\n",
       "    <tr>\n",
       "      <th>1</th>\n",
       "      <td>2</td>\n",
       "      <td>1</td>\n",
       "      <td>1</td>\n",
       "      <td>Cumings, Mrs. John Bradley (Florence Briggs Th...</td>\n",
       "      <td>female</td>\n",
       "      <td>38.0</td>\n",
       "      <td>1</td>\n",
       "      <td>0</td>\n",
       "      <td>PC 17599</td>\n",
       "      <td>71.2833</td>\n",
       "      <td>C85</td>\n",
       "      <td>C</td>\n",
       "    </tr>\n",
       "    <tr>\n",
       "      <th>2</th>\n",
       "      <td>3</td>\n",
       "      <td>1</td>\n",
       "      <td>3</td>\n",
       "      <td>Heikkinen, Miss. Laina</td>\n",
       "      <td>female</td>\n",
       "      <td>26.0</td>\n",
       "      <td>0</td>\n",
       "      <td>0</td>\n",
       "      <td>STON/O2. 3101282</td>\n",
       "      <td>7.9250</td>\n",
       "      <td>NaN</td>\n",
       "      <td>S</td>\n",
       "    </tr>\n",
       "    <tr>\n",
       "      <th>3</th>\n",
       "      <td>4</td>\n",
       "      <td>1</td>\n",
       "      <td>1</td>\n",
       "      <td>Futrelle, Mrs. Jacques Heath (Lily May Peel)</td>\n",
       "      <td>female</td>\n",
       "      <td>35.0</td>\n",
       "      <td>1</td>\n",
       "      <td>0</td>\n",
       "      <td>113803</td>\n",
       "      <td>53.1000</td>\n",
       "      <td>C123</td>\n",
       "      <td>S</td>\n",
       "    </tr>\n",
       "    <tr>\n",
       "      <th>4</th>\n",
       "      <td>5</td>\n",
       "      <td>0</td>\n",
       "      <td>3</td>\n",
       "      <td>Allen, Mr. William Henry</td>\n",
       "      <td>male</td>\n",
       "      <td>35.0</td>\n",
       "      <td>0</td>\n",
       "      <td>0</td>\n",
       "      <td>373450</td>\n",
       "      <td>8.0500</td>\n",
       "      <td>NaN</td>\n",
       "      <td>S</td>\n",
       "    </tr>\n",
       "  </tbody>\n",
       "</table>\n",
       "</div>"
      ],
      "text/plain": [
       "   PassengerId  Survived  Pclass  \\\n",
       "0            1         0       3   \n",
       "1            2         1       1   \n",
       "2            3         1       3   \n",
       "3            4         1       1   \n",
       "4            5         0       3   \n",
       "\n",
       "                                                Name     Sex   Age  SibSp  \\\n",
       "0                            Braund, Mr. Owen Harris    male  22.0      1   \n",
       "1  Cumings, Mrs. John Bradley (Florence Briggs Th...  female  38.0      1   \n",
       "2                             Heikkinen, Miss. Laina  female  26.0      0   \n",
       "3       Futrelle, Mrs. Jacques Heath (Lily May Peel)  female  35.0      1   \n",
       "4                           Allen, Mr. William Henry    male  35.0      0   \n",
       "\n",
       "   Parch            Ticket     Fare Cabin Embarked  \n",
       "0      0         A/5 21171   7.2500   NaN        S  \n",
       "1      0          PC 17599  71.2833   C85        C  \n",
       "2      0  STON/O2. 3101282   7.9250   NaN        S  \n",
       "3      0            113803  53.1000  C123        S  \n",
       "4      0            373450   8.0500   NaN        S  "
      ]
     },
     "execution_count": 2,
     "metadata": {},
     "output_type": "execute_result"
    }
   ],
   "source": [
    "train = pd.read_csv('../input/titanic/train.csv')\n",
    "\n",
    "print(train.shape)\n",
    "train.head()"
   ]
  },
  {
   "cell_type": "markdown",
   "metadata": {
    "papermill": {
     "duration": 0.025227,
     "end_time": "2021-03-05T04:54:40.156178",
     "exception": false,
     "start_time": "2021-03-05T04:54:40.130951",
     "status": "completed"
    },
    "tags": []
   },
   "source": [
    "・PassengerId：乗客ID<br>\n",
    "・Survived：生存したかどうか（0：助からない、1：助かる）<br>\n",
    "・Pclass – チケットのクラス（1：上層クラス、2：中級クラス、3：下層クラス）<br>\n",
    "・Name：乗客の名前<br>\n",
    "・Sex：性別<br>\n",
    "・Age：年齢<br>\n",
    "・SibSp：船に同乗している兄弟・配偶者の数<br>\n",
    "・Parch：船に同乗している親・子供の数<br>\n",
    "・Ticket：チケット番号<br>\n",
    "・Fare：料金<br>\n",
    "・Cabin：客室番号<br>\n",
    "・Embarked：船に乗った港（C：Cherbourg、Q：Queenstown、S：Southampton）<br>"
   ]
  },
  {
   "cell_type": "code",
   "execution_count": 3,
   "metadata": {
    "execution": {
     "iopub.execute_input": "2021-03-05T04:54:40.219015Z",
     "iopub.status.busy": "2021-03-05T04:54:40.218195Z",
     "iopub.status.idle": "2021-03-05T04:54:40.232494Z",
     "shell.execute_reply": "2021-03-05T04:54:40.233179Z"
    },
    "papermill": {
     "duration": 0.050843,
     "end_time": "2021-03-05T04:54:40.233371",
     "exception": false,
     "start_time": "2021-03-05T04:54:40.182528",
     "status": "completed"
    },
    "tags": []
   },
   "outputs": [
    {
     "name": "stdout",
     "output_type": "stream",
     "text": [
      "<class 'pandas.core.frame.DataFrame'>\n",
      "RangeIndex: 891 entries, 0 to 890\n",
      "Data columns (total 12 columns):\n",
      " #   Column       Non-Null Count  Dtype  \n",
      "---  ------       --------------  -----  \n",
      " 0   PassengerId  891 non-null    int64  \n",
      " 1   Survived     891 non-null    int64  \n",
      " 2   Pclass       891 non-null    int64  \n",
      " 3   Name         891 non-null    object \n",
      " 4   Sex          891 non-null    object \n",
      " 5   Age          714 non-null    float64\n",
      " 6   SibSp        891 non-null    int64  \n",
      " 7   Parch        891 non-null    int64  \n",
      " 8   Ticket       891 non-null    object \n",
      " 9   Fare         891 non-null    float64\n",
      " 10  Cabin        204 non-null    object \n",
      " 11  Embarked     889 non-null    object \n",
      "dtypes: float64(2), int64(5), object(5)\n",
      "memory usage: 83.7+ KB\n"
     ]
    }
   ],
   "source": [
    "train.info()"
   ]
  },
  {
   "cell_type": "code",
   "execution_count": 4,
   "metadata": {
    "execution": {
     "iopub.execute_input": "2021-03-05T04:54:40.290392Z",
     "iopub.status.busy": "2021-03-05T04:54:40.289561Z",
     "iopub.status.idle": "2021-03-05T04:54:40.316590Z",
     "shell.execute_reply": "2021-03-05T04:54:40.317092Z"
    },
    "papermill": {
     "duration": 0.058269,
     "end_time": "2021-03-05T04:54:40.317286",
     "exception": false,
     "start_time": "2021-03-05T04:54:40.259017",
     "status": "completed"
    },
    "tags": []
   },
   "outputs": [
    {
     "name": "stdout",
     "output_type": "stream",
     "text": [
      "(418, 11)\n"
     ]
    },
    {
     "data": {
      "text/html": [
       "<div>\n",
       "<style scoped>\n",
       "    .dataframe tbody tr th:only-of-type {\n",
       "        vertical-align: middle;\n",
       "    }\n",
       "\n",
       "    .dataframe tbody tr th {\n",
       "        vertical-align: top;\n",
       "    }\n",
       "\n",
       "    .dataframe thead th {\n",
       "        text-align: right;\n",
       "    }\n",
       "</style>\n",
       "<table border=\"1\" class=\"dataframe\">\n",
       "  <thead>\n",
       "    <tr style=\"text-align: right;\">\n",
       "      <th></th>\n",
       "      <th>PassengerId</th>\n",
       "      <th>Pclass</th>\n",
       "      <th>Name</th>\n",
       "      <th>Sex</th>\n",
       "      <th>Age</th>\n",
       "      <th>SibSp</th>\n",
       "      <th>Parch</th>\n",
       "      <th>Ticket</th>\n",
       "      <th>Fare</th>\n",
       "      <th>Cabin</th>\n",
       "      <th>Embarked</th>\n",
       "    </tr>\n",
       "  </thead>\n",
       "  <tbody>\n",
       "    <tr>\n",
       "      <th>0</th>\n",
       "      <td>892</td>\n",
       "      <td>3</td>\n",
       "      <td>Kelly, Mr. James</td>\n",
       "      <td>male</td>\n",
       "      <td>34.5</td>\n",
       "      <td>0</td>\n",
       "      <td>0</td>\n",
       "      <td>330911</td>\n",
       "      <td>7.8292</td>\n",
       "      <td>NaN</td>\n",
       "      <td>Q</td>\n",
       "    </tr>\n",
       "    <tr>\n",
       "      <th>1</th>\n",
       "      <td>893</td>\n",
       "      <td>3</td>\n",
       "      <td>Wilkes, Mrs. James (Ellen Needs)</td>\n",
       "      <td>female</td>\n",
       "      <td>47.0</td>\n",
       "      <td>1</td>\n",
       "      <td>0</td>\n",
       "      <td>363272</td>\n",
       "      <td>7.0000</td>\n",
       "      <td>NaN</td>\n",
       "      <td>S</td>\n",
       "    </tr>\n",
       "    <tr>\n",
       "      <th>2</th>\n",
       "      <td>894</td>\n",
       "      <td>2</td>\n",
       "      <td>Myles, Mr. Thomas Francis</td>\n",
       "      <td>male</td>\n",
       "      <td>62.0</td>\n",
       "      <td>0</td>\n",
       "      <td>0</td>\n",
       "      <td>240276</td>\n",
       "      <td>9.6875</td>\n",
       "      <td>NaN</td>\n",
       "      <td>Q</td>\n",
       "    </tr>\n",
       "    <tr>\n",
       "      <th>3</th>\n",
       "      <td>895</td>\n",
       "      <td>3</td>\n",
       "      <td>Wirz, Mr. Albert</td>\n",
       "      <td>male</td>\n",
       "      <td>27.0</td>\n",
       "      <td>0</td>\n",
       "      <td>0</td>\n",
       "      <td>315154</td>\n",
       "      <td>8.6625</td>\n",
       "      <td>NaN</td>\n",
       "      <td>S</td>\n",
       "    </tr>\n",
       "    <tr>\n",
       "      <th>4</th>\n",
       "      <td>896</td>\n",
       "      <td>3</td>\n",
       "      <td>Hirvonen, Mrs. Alexander (Helga E Lindqvist)</td>\n",
       "      <td>female</td>\n",
       "      <td>22.0</td>\n",
       "      <td>1</td>\n",
       "      <td>1</td>\n",
       "      <td>3101298</td>\n",
       "      <td>12.2875</td>\n",
       "      <td>NaN</td>\n",
       "      <td>S</td>\n",
       "    </tr>\n",
       "  </tbody>\n",
       "</table>\n",
       "</div>"
      ],
      "text/plain": [
       "   PassengerId  Pclass                                          Name     Sex  \\\n",
       "0          892       3                              Kelly, Mr. James    male   \n",
       "1          893       3              Wilkes, Mrs. James (Ellen Needs)  female   \n",
       "2          894       2                     Myles, Mr. Thomas Francis    male   \n",
       "3          895       3                              Wirz, Mr. Albert    male   \n",
       "4          896       3  Hirvonen, Mrs. Alexander (Helga E Lindqvist)  female   \n",
       "\n",
       "    Age  SibSp  Parch   Ticket     Fare Cabin Embarked  \n",
       "0  34.5      0      0   330911   7.8292   NaN        Q  \n",
       "1  47.0      1      0   363272   7.0000   NaN        S  \n",
       "2  62.0      0      0   240276   9.6875   NaN        Q  \n",
       "3  27.0      0      0   315154   8.6625   NaN        S  \n",
       "4  22.0      1      1  3101298  12.2875   NaN        S  "
      ]
     },
     "execution_count": 4,
     "metadata": {},
     "output_type": "execute_result"
    }
   ],
   "source": [
    "test = pd.read_csv('../input/titanic/test.csv')\n",
    "\n",
    "print(test.shape)\n",
    "test.head()"
   ]
  },
  {
   "cell_type": "code",
   "execution_count": 5,
   "metadata": {
    "execution": {
     "iopub.execute_input": "2021-03-05T04:54:40.377031Z",
     "iopub.status.busy": "2021-03-05T04:54:40.376270Z",
     "iopub.status.idle": "2021-03-05T04:54:40.394599Z",
     "shell.execute_reply": "2021-03-05T04:54:40.393898Z"
    },
    "papermill": {
     "duration": 0.048767,
     "end_time": "2021-03-05T04:54:40.394769",
     "exception": false,
     "start_time": "2021-03-05T04:54:40.346002",
     "status": "completed"
    },
    "tags": []
   },
   "outputs": [
    {
     "data": {
      "text/html": [
       "<div>\n",
       "<style scoped>\n",
       "    .dataframe tbody tr th:only-of-type {\n",
       "        vertical-align: middle;\n",
       "    }\n",
       "\n",
       "    .dataframe tbody tr th {\n",
       "        vertical-align: top;\n",
       "    }\n",
       "\n",
       "    .dataframe thead th {\n",
       "        text-align: right;\n",
       "    }\n",
       "</style>\n",
       "<table border=\"1\" class=\"dataframe\">\n",
       "  <thead>\n",
       "    <tr style=\"text-align: right;\">\n",
       "      <th></th>\n",
       "      <th>PassengerId</th>\n",
       "      <th>Survived</th>\n",
       "    </tr>\n",
       "  </thead>\n",
       "  <tbody>\n",
       "    <tr>\n",
       "      <th>0</th>\n",
       "      <td>892</td>\n",
       "      <td>0</td>\n",
       "    </tr>\n",
       "    <tr>\n",
       "      <th>1</th>\n",
       "      <td>893</td>\n",
       "      <td>1</td>\n",
       "    </tr>\n",
       "    <tr>\n",
       "      <th>2</th>\n",
       "      <td>894</td>\n",
       "      <td>0</td>\n",
       "    </tr>\n",
       "    <tr>\n",
       "      <th>3</th>\n",
       "      <td>895</td>\n",
       "      <td>0</td>\n",
       "    </tr>\n",
       "    <tr>\n",
       "      <th>4</th>\n",
       "      <td>896</td>\n",
       "      <td>1</td>\n",
       "    </tr>\n",
       "  </tbody>\n",
       "</table>\n",
       "</div>"
      ],
      "text/plain": [
       "   PassengerId  Survived\n",
       "0          892         0\n",
       "1          893         1\n",
       "2          894         0\n",
       "3          895         0\n",
       "4          896         1"
      ]
     },
     "execution_count": 5,
     "metadata": {},
     "output_type": "execute_result"
    }
   ],
   "source": [
    "submission = pd.read_csv('../input/titanic/gender_submission.csv')\n",
    "submission.head()"
   ]
  },
  {
   "cell_type": "markdown",
   "metadata": {
    "papermill": {
     "duration": 0.026844,
     "end_time": "2021-03-05T04:54:40.448864",
     "exception": false,
     "start_time": "2021-03-05T04:54:40.422020",
     "status": "completed"
    },
    "tags": []
   },
   "source": [
    "# Visualization"
   ]
  },
  {
   "cell_type": "code",
   "execution_count": 6,
   "metadata": {
    "execution": {
     "iopub.execute_input": "2021-03-05T04:54:40.507217Z",
     "iopub.status.busy": "2021-03-05T04:54:40.506555Z",
     "iopub.status.idle": "2021-03-05T04:54:40.510861Z",
     "shell.execute_reply": "2021-03-05T04:54:40.511314Z"
    },
    "papermill": {
     "duration": 0.034757,
     "end_time": "2021-03-05T04:54:40.511498",
     "exception": false,
     "start_time": "2021-03-05T04:54:40.476741",
     "status": "completed"
    },
    "tags": []
   },
   "outputs": [],
   "source": [
    "sns.set()"
   ]
  },
  {
   "cell_type": "code",
   "execution_count": 7,
   "metadata": {
    "execution": {
     "iopub.execute_input": "2021-03-05T04:54:40.569406Z",
     "iopub.status.busy": "2021-03-05T04:54:40.568694Z",
     "iopub.status.idle": "2021-03-05T04:54:40.888244Z",
     "shell.execute_reply": "2021-03-05T04:54:40.887022Z"
    },
    "papermill": {
     "duration": 0.349686,
     "end_time": "2021-03-05T04:54:40.888415",
     "exception": false,
     "start_time": "2021-03-05T04:54:40.538729",
     "status": "completed"
    },
    "tags": []
   },
   "outputs": [
    {
     "data": {
      "image/png": "[encoded data removed]",
      "text/plain": [
       "<Figure size 576x360 with 2 Axes>"
      ]
     },
     "metadata": {},
     "output_type": "display_data"
    }
   ],
   "source": [
    "figure ,ax = plt.subplots(1,2,figsize=(8,5))\n",
    "\n",
    "train['Survived'].value_counts().plot.pie(explode=[0,0.1], autopct='%1.1f%%', ax=ax[0], shadow=True)\n",
    "ax[0].set_title('Survived')\n",
    "ax[0].set_ylabel('')\n",
    "\n",
    "sns.countplot(x='Survived', data=train, ax=ax[1])\n",
    "ax[1].set_title('Survived')\n",
    "\n",
    "plt.show()"
   ]
  },
  {
   "cell_type": "code",
   "execution_count": 8,
   "metadata": {
    "execution": {
     "iopub.execute_input": "2021-03-05T04:54:40.978912Z",
     "iopub.status.busy": "2021-03-05T04:54:40.971684Z",
     "iopub.status.idle": "2021-03-05T04:54:41.571086Z",
     "shell.execute_reply": "2021-03-05T04:54:41.570449Z"
    },
    "papermill": {
     "duration": 0.654296,
     "end_time": "2021-03-05T04:54:41.571259",
     "exception": false,
     "start_time": "2021-03-05T04:54:40.916963",
     "status": "completed"
    },
    "tags": []
   },
   "outputs": [
    {
     "data": {
      "image/png": "[encoded data removed]",
      "text/plain": [
       "<Figure size 576x504 with 2 Axes>"
      ]
     },
     "metadata": {},
     "output_type": "display_data"
    }
   ],
   "source": [
    "def correlation_heatmap(df):\n",
    "    fig, ax = plt.subplots(figsize =(8, 7))\n",
    "    colormap = sns.diverging_palette(220, 10, as_cmap = True)\n",
    "    \n",
    "    fig = sns.heatmap(\n",
    "        df.corr(), \n",
    "        cmap = colormap,\n",
    "        square=True, \n",
    "        cbar_kws={'shrink':.9 }, \n",
    "        ax=ax,\n",
    "        annot=True, \n",
    "        linewidths=0.1,vmax=1.0, linecolor='white',\n",
    "        annot_kws={'fontsize':12 }\n",
    "    )\n",
    "    \n",
    "    plt.title('Correlation of Features', y=1.05, size=15)\n",
    "\n",
    "correlation_heatmap(train)"
   ]
  },
  {
   "cell_type": "code",
   "execution_count": 9,
   "metadata": {
    "execution": {
     "iopub.execute_input": "2021-03-05T04:54:41.638216Z",
     "iopub.status.busy": "2021-03-05T04:54:41.637181Z",
     "iopub.status.idle": "2021-03-05T04:54:50.591923Z",
     "shell.execute_reply": "2021-03-05T04:54:50.592452Z"
    },
    "papermill": {
     "duration": 8.990434,
     "end_time": "2021-03-05T04:54:50.592658",
     "exception": false,
     "start_time": "2021-03-05T04:54:41.602224",
     "status": "completed"
    },
    "tags": []
   },
   "outputs": [
    {
     "data": {
      "text/plain": [
       "<seaborn.axisgrid.PairGrid at 0x7f41d41d7b50>"
      ]
     },
     "execution_count": 9,
     "metadata": {},
     "output_type": "execute_result"
    },
    {
     "data": {
      "image/png": "[encoded data removed]",
      "text/plain": [
       "<Figure size 493.55x432 with 42 Axes>"
      ]
     },
     "metadata": {},
     "output_type": "display_data"
    }
   ],
   "source": [
    "pp = sns.pairplot(train, hue = 'Survived', palette = 'deep', height=1, aspect=1, diag_kind = 'kde', diag_kws=dict(shade=True), plot_kws=dict(s=10))\n",
    "pp.set(xticklabels=[])"
   ]
  },
  {
   "cell_type": "code",
   "execution_count": 10,
   "metadata": {
    "execution": {
     "iopub.execute_input": "2021-03-05T04:54:50.665940Z",
     "iopub.status.busy": "2021-03-05T04:54:50.664983Z",
     "iopub.status.idle": "2021-03-05T04:54:50.921101Z",
     "shell.execute_reply": "2021-03-05T04:54:50.920473Z"
    },
    "papermill": {
     "duration": 0.293698,
     "end_time": "2021-03-05T04:54:50.921275",
     "exception": false,
     "start_time": "2021-03-05T04:54:50.627577",
     "status": "completed"
    },
    "tags": []
   },
   "outputs": [
    {
     "data": {
      "image/png": "[encoded data removed]",
      "text/plain": [
       "<Figure size 576x360 with 2 Axes>"
      ]
     },
     "metadata": {},
     "output_type": "display_data"
    }
   ],
   "source": [
    "figure ,ax = plt.subplots(1,2,figsize=(8,5))\n",
    "\n",
    "train['Sex'].value_counts().plot.pie(explode=[0,0.1], autopct='%1.1f%%', ax=ax[0], shadow=True)\n",
    "ax[0].set_title('Sex')\n",
    "ax[0].set_ylabel('')\n",
    "\n",
    "sns.countplot(x='Sex', data=train, ax=ax[1])\n",
    "ax[1].set_title('Sex')\n",
    "\n",
    "plt.show()"
   ]
  },
  {
   "cell_type": "code",
   "execution_count": 11,
   "metadata": {
    "execution": {
     "iopub.execute_input": "2021-03-05T04:54:51.026515Z",
     "iopub.status.busy": "2021-03-05T04:54:51.025352Z",
     "iopub.status.idle": "2021-03-05T04:54:51.196230Z",
     "shell.execute_reply": "2021-03-05T04:54:51.196736Z"
    },
    "papermill": {
     "duration": 0.231724,
     "end_time": "2021-03-05T04:54:51.196946",
     "exception": false,
     "start_time": "2021-03-05T04:54:50.965222",
     "status": "completed"
    },
    "tags": []
   },
   "outputs": [
    {
     "data": {
      "text/plain": [
       "<AxesSubplot:xlabel='Sex', ylabel='count'>"
      ]
     },
     "execution_count": 11,
     "metadata": {},
     "output_type": "execute_result"
    },
    {
     "data": {
      "image/png": "[encoded data removed]",
      "text/plain": [
       "<Figure size 432x288 with 1 Axes>"
      ]
     },
     "metadata": {},
     "output_type": "display_data"
    }
   ],
   "source": [
    "sns.countplot(x='Sex', data=train, hue='Survived')"
   ]
  },
  {
   "cell_type": "code",
   "execution_count": 12,
   "metadata": {
    "execution": {
     "iopub.execute_input": "2021-03-05T04:54:51.282733Z",
     "iopub.status.busy": "2021-03-05T04:54:51.280491Z",
     "iopub.status.idle": "2021-03-05T04:54:51.569567Z",
     "shell.execute_reply": "2021-03-05T04:54:51.568916Z"
    },
    "papermill": {
     "duration": 0.334492,
     "end_time": "2021-03-05T04:54:51.569728",
     "exception": false,
     "start_time": "2021-03-05T04:54:51.235236",
     "status": "completed"
    },
    "tags": []
   },
   "outputs": [
    {
     "data": {
      "text/plain": [
       "<AxesSubplot:xlabel='Age_rank', ylabel='count'>"
      ]
     },
     "execution_count": 12,
     "metadata": {},
     "output_type": "execute_result"
    },
    {
     "data": {
      "image/png": "[encoded data removed]",
      "text/plain": [
       "<Figure size 432x288 with 1 Axes>"
      ]
     },
     "metadata": {},
     "output_type": "display_data"
    }
   ],
   "source": [
    "train['Age_rank'] = pd.Categorical(np.floor(train['Age']/10)*10)\n",
    "\n",
    "sns.countplot(x='Age_rank', data=train, hue='Survived')"
   ]
  },
  {
   "cell_type": "code",
   "execution_count": 13,
   "metadata": {
    "execution": {
     "iopub.execute_input": "2021-03-05T04:54:51.657190Z",
     "iopub.status.busy": "2021-03-05T04:54:51.656103Z",
     "iopub.status.idle": "2021-03-05T04:54:51.853863Z",
     "shell.execute_reply": "2021-03-05T04:54:51.853004Z"
    },
    "papermill": {
     "duration": 0.246295,
     "end_time": "2021-03-05T04:54:51.854027",
     "exception": false,
     "start_time": "2021-03-05T04:54:51.607732",
     "status": "completed"
    },
    "tags": []
   },
   "outputs": [
    {
     "data": {
      "text/plain": [
       "<AxesSubplot:xlabel='Pclass', ylabel='count'>"
      ]
     },
     "execution_count": 13,
     "metadata": {},
     "output_type": "execute_result"
    },
    {
     "data": {
      "image/png": "[encoded data removed]",
      "text/plain": [
       "<Figure size 432x288 with 1 Axes>"
      ]
     },
     "metadata": {},
     "output_type": "display_data"
    }
   ],
   "source": [
    "sns.countplot(x='Pclass', data=train, hue='Survived')"
   ]
  },
  {
   "cell_type": "code",
   "execution_count": 14,
   "metadata": {
    "execution": {
     "iopub.execute_input": "2021-03-05T04:54:51.939923Z",
     "iopub.status.busy": "2021-03-05T04:54:51.939221Z",
     "iopub.status.idle": "2021-03-05T04:54:52.205399Z",
     "shell.execute_reply": "2021-03-05T04:54:52.204716Z"
    },
    "papermill": {
     "duration": 0.311815,
     "end_time": "2021-03-05T04:54:52.205569",
     "exception": false,
     "start_time": "2021-03-05T04:54:51.893754",
     "status": "completed"
    },
    "tags": []
   },
   "outputs": [
    {
     "data": {
      "text/plain": [
       "<AxesSubplot:xlabel='SibSp', ylabel='count'>"
      ]
     },
     "execution_count": 14,
     "metadata": {},
     "output_type": "execute_result"
    },
    {
     "data": {
      "image/png": "[encoded data removed]",
      "text/plain": [
       "<Figure size 432x288 with 1 Axes>"
      ]
     },
     "metadata": {},
     "output_type": "display_data"
    }
   ],
   "source": [
    "sns.countplot(x='SibSp', data=train, hue='Survived')"
   ]
  },
  {
   "cell_type": "code",
   "execution_count": 15,
   "metadata": {
    "execution": {
     "iopub.execute_input": "2021-03-05T04:54:52.292859Z",
     "iopub.status.busy": "2021-03-05T04:54:52.292114Z",
     "iopub.status.idle": "2021-03-05T04:54:52.538133Z",
     "shell.execute_reply": "2021-03-05T04:54:52.537427Z"
    },
    "papermill": {
     "duration": 0.292432,
     "end_time": "2021-03-05T04:54:52.538303",
     "exception": false,
     "start_time": "2021-03-05T04:54:52.245871",
     "status": "completed"
    },
    "tags": []
   },
   "outputs": [
    {
     "data": {
      "text/plain": [
       "<AxesSubplot:xlabel='Parch', ylabel='count'>"
      ]
     },
     "execution_count": 15,
     "metadata": {},
     "output_type": "execute_result"
    },
    {
     "data": {
      "image/png": "[encoded data removed]",
      "text/plain": [
       "<Figure size 432x288 with 1 Axes>"
      ]
     },
     "metadata": {},
     "output_type": "display_data"
    }
   ],
   "source": [
    "sns.countplot(x='Parch', data=train, hue='Survived')"
   ]
  },
  {
   "cell_type": "code",
   "execution_count": 16,
   "metadata": {
    "execution": {
     "iopub.execute_input": "2021-03-05T04:54:52.631148Z",
     "iopub.status.busy": "2021-03-05T04:54:52.629836Z",
     "iopub.status.idle": "2021-03-05T04:54:52.826727Z",
     "shell.execute_reply": "2021-03-05T04:54:52.826116Z"
    },
    "papermill": {
     "duration": 0.247068,
     "end_time": "2021-03-05T04:54:52.826884",
     "exception": false,
     "start_time": "2021-03-05T04:54:52.579816",
     "status": "completed"
    },
    "tags": []
   },
   "outputs": [
    {
     "data": {
      "text/plain": [
       "<AxesSubplot:xlabel='Embarked', ylabel='count'>"
      ]
     },
     "execution_count": 16,
     "metadata": {},
     "output_type": "execute_result"
    },
    {
     "data": {
      "image/png": "[encoded data removed]",
      "text/plain": [
       "<Figure size 432x288 with 1 Axes>"
      ]
     },
     "metadata": {},
     "output_type": "display_data"
    }
   ],
   "source": [
    "sns.countplot(x='Embarked', data=train, hue='Survived')"
   ]
  },
  {
   "cell_type": "markdown",
   "metadata": {
    "papermill": {
     "duration": 0.042184,
     "end_time": "2021-03-05T04:54:52.911533",
     "exception": false,
     "start_time": "2021-03-05T04:54:52.869349",
     "status": "completed"
    },
    "tags": []
   },
   "source": [
    "# Feature Engineering"
   ]
  },
  {
   "cell_type": "code",
   "execution_count": 17,
   "metadata": {
    "execution": {
     "iopub.execute_input": "2021-03-05T04:54:53.006746Z",
     "iopub.status.busy": "2021-03-05T04:54:53.005658Z",
     "iopub.status.idle": "2021-03-05T04:54:53.171522Z",
     "shell.execute_reply": "2021-03-05T04:54:53.170967Z"
    },
    "papermill": {
     "duration": 0.217883,
     "end_time": "2021-03-05T04:54:53.171716",
     "exception": false,
     "start_time": "2021-03-05T04:54:52.953833",
     "status": "completed"
    },
    "tags": []
   },
   "outputs": [
    {
     "data": {
      "text/plain": [
       "<AxesSubplot:xlabel='Pclass_high', ylabel='count'>"
      ]
     },
     "execution_count": 17,
     "metadata": {},
     "output_type": "execute_result"
    },
    {
     "data": {
      "image/png": "[encoded data removed]",
      "text/plain": [
       "<Figure size 432x288 with 1 Axes>"
      ]
     },
     "metadata": {},
     "output_type": "display_data"
    }
   ],
   "source": [
    "train['Pclass_high'] = 0\n",
    "train.loc[train['Pclass'] == 1, 'Pclass_high'] = 1\n",
    "\n",
    "sns.countplot(x='Pclass_high', data=train, hue='Survived')"
   ]
  },
  {
   "cell_type": "code",
   "execution_count": 18,
   "metadata": {
    "execution": {
     "iopub.execute_input": "2021-03-05T04:54:53.269303Z",
     "iopub.status.busy": "2021-03-05T04:54:53.267977Z",
     "iopub.status.idle": "2021-03-05T04:54:53.557477Z",
     "shell.execute_reply": "2021-03-05T04:54:53.556842Z"
    },
    "papermill": {
     "duration": 0.341889,
     "end_time": "2021-03-05T04:54:53.557664",
     "exception": false,
     "start_time": "2021-03-05T04:54:53.215775",
     "status": "completed"
    },
    "tags": []
   },
   "outputs": [
    {
     "data": {
      "text/plain": [
       "<AxesSubplot:xlabel='Family_size', ylabel='count'>"
      ]
     },
     "execution_count": 18,
     "metadata": {},
     "output_type": "execute_result"
    },
    {
     "data": {
      "image/png": "[encoded data removed]",
      "text/plain": [
       "<Figure size 432x288 with 1 Axes>"
      ]
     },
     "metadata": {},
     "output_type": "display_data"
    }
   ],
   "source": [
    "train['Family_size'] = train['SibSp'] + train['Parch'] + 1\n",
    "\n",
    "sns.countplot(x='Family_size', data=train, hue='Survived')"
   ]
  },
  {
   "cell_type": "code",
   "execution_count": 19,
   "metadata": {
    "execution": {
     "iopub.execute_input": "2021-03-05T04:54:53.659471Z",
     "iopub.status.busy": "2021-03-05T04:54:53.656001Z",
     "iopub.status.idle": "2021-03-05T04:54:53.821334Z",
     "shell.execute_reply": "2021-03-05T04:54:53.820729Z"
    },
    "papermill": {
     "duration": 0.219178,
     "end_time": "2021-03-05T04:54:53.821494",
     "exception": false,
     "start_time": "2021-03-05T04:54:53.602316",
     "status": "completed"
    },
    "tags": []
   },
   "outputs": [
    {
     "data": {
      "text/plain": [
       "<AxesSubplot:xlabel='Embarked_C', ylabel='count'>"
      ]
     },
     "execution_count": 19,
     "metadata": {},
     "output_type": "execute_result"
    },
    {
     "data": {
      "image/png": "[encoded data removed]",
      "text/plain": [
       "<Figure size 432x288 with 1 Axes>"
      ]
     },
     "metadata": {},
     "output_type": "display_data"
    }
   ],
   "source": [
    "def Embarked_C_transform(x):\n",
    "    if x == 'C':\n",
    "        y = 1\n",
    "    else:\n",
    "        y = 0\n",
    "    return y\n",
    "\n",
    "train['Embarked_C'] = train['Embarked'].apply(lambda x: Embarked_C_transform(x))\n",
    "\n",
    "sns.countplot(x='Embarked_C', data=train, hue='Survived')"
   ]
  },
  {
   "cell_type": "markdown",
   "metadata": {
    "papermill": {
     "duration": 0.047045,
     "end_time": "2021-03-05T04:54:53.915606",
     "exception": false,
     "start_time": "2021-03-05T04:54:53.868561",
     "status": "completed"
    },
    "tags": []
   },
   "source": [
    "# Preprocess"
   ]
  },
  {
   "cell_type": "code",
   "execution_count": 20,
   "metadata": {
    "execution": {
     "iopub.execute_input": "2021-03-05T04:54:54.018811Z",
     "iopub.status.busy": "2021-03-05T04:54:54.017562Z",
     "iopub.status.idle": "2021-03-05T04:54:54.021393Z",
     "shell.execute_reply": "2021-03-05T04:54:54.020725Z"
    },
    "papermill": {
     "duration": 0.058881,
     "end_time": "2021-03-05T04:54:54.021566",
     "exception": false,
     "start_time": "2021-03-05T04:54:53.962685",
     "status": "completed"
    },
    "tags": []
   },
   "outputs": [],
   "source": [
    "def Sex_transform(x):\n",
    "    if x == 'male':\n",
    "        y = 0\n",
    "    else:\n",
    "        y = 1\n",
    "    return y\n",
    "\n",
    "train['Sex'] = train['Sex'].apply(lambda x: Sex_transform(x))"
   ]
  },
  {
   "cell_type": "code",
   "execution_count": 21,
   "metadata": {
    "execution": {
     "iopub.execute_input": "2021-03-05T04:54:54.124903Z",
     "iopub.status.busy": "2021-03-05T04:54:54.123879Z",
     "iopub.status.idle": "2021-03-05T04:54:54.126985Z",
     "shell.execute_reply": "2021-03-05T04:54:54.126423Z"
    },
    "papermill": {
     "duration": 0.058287,
     "end_time": "2021-03-05T04:54:54.127145",
     "exception": false,
     "start_time": "2021-03-05T04:54:54.068858",
     "status": "completed"
    },
    "tags": []
   },
   "outputs": [],
   "source": [
    "def Embarked_transform(x):\n",
    "    if x == 'C':\n",
    "        y = 0\n",
    "    elif x == 'Q':\n",
    "        y = 1\n",
    "    else:\n",
    "        y = 2\n",
    "\n",
    "    return y\n",
    "\n",
    "train['Embarked'] = train['Embarked'].apply(lambda x: Embarked_transform(x))"
   ]
  },
  {
   "cell_type": "code",
   "execution_count": 22,
   "metadata": {
    "execution": {
     "iopub.execute_input": "2021-03-05T04:54:54.228790Z",
     "iopub.status.busy": "2021-03-05T04:54:54.227746Z",
     "iopub.status.idle": "2021-03-05T04:54:54.230975Z",
     "shell.execute_reply": "2021-03-05T04:54:54.230321Z"
    },
    "papermill": {
     "duration": 0.055309,
     "end_time": "2021-03-05T04:54:54.231148",
     "exception": false,
     "start_time": "2021-03-05T04:54:54.175839",
     "status": "completed"
    },
    "tags": []
   },
   "outputs": [],
   "source": [
    "features = [\n",
    "    'Pclass',\n",
    "    'Sex',\n",
    "    'Age',\n",
    "    'SibSp',\n",
    "    'Parch',\n",
    "    'Fare',\n",
    "    'Embarked',\n",
    "    'Pclass_high',\n",
    "    'Family_size',\n",
    "    'Embarked_C'\n",
    "]\n",
    "\n",
    "target = 'Survived'"
   ]
  },
  {
   "cell_type": "code",
   "execution_count": 23,
   "metadata": {
    "execution": {
     "iopub.execute_input": "2021-03-05T04:54:54.343396Z",
     "iopub.status.busy": "2021-03-05T04:54:54.331375Z",
     "iopub.status.idle": "2021-03-05T04:54:54.348225Z",
     "shell.execute_reply": "2021-03-05T04:54:54.347636Z"
    },
    "papermill": {
     "duration": 0.069918,
     "end_time": "2021-03-05T04:54:54.348384",
     "exception": false,
     "start_time": "2021-03-05T04:54:54.278466",
     "status": "completed"
    },
    "tags": []
   },
   "outputs": [
    {
     "name": "stdout",
     "output_type": "stream",
     "text": [
      "<class 'pandas.core.frame.DataFrame'>\n",
      "RangeIndex: 891 entries, 0 to 890\n",
      "Data columns (total 10 columns):\n",
      " #   Column       Non-Null Count  Dtype  \n",
      "---  ------       --------------  -----  \n",
      " 0   Pclass       891 non-null    int64  \n",
      " 1   Sex          891 non-null    int64  \n",
      " 2   Age          891 non-null    float64\n",
      " 3   SibSp        891 non-null    int64  \n",
      " 4   Parch        891 non-null    int64  \n",
      " 5   Fare         891 non-null    float64\n",
      " 6   Embarked     891 non-null    int64  \n",
      " 7   Pclass_high  891 non-null    int64  \n",
      " 8   Family_size  891 non-null    int64  \n",
      " 9   Embarked_C   891 non-null    int64  \n",
      "dtypes: float64(2), int64(8)\n",
      "memory usage: 69.7 KB\n"
     ]
    }
   ],
   "source": [
    "X_train = train[features].fillna(-999)\n",
    "y_train = train[target]\n",
    "\n",
    "X_train.info()"
   ]
  },
  {
   "cell_type": "code",
   "execution_count": 24,
   "metadata": {
    "execution": {
     "iopub.execute_input": "2021-03-05T04:54:54.592335Z",
     "iopub.status.busy": "2021-03-05T04:54:54.591252Z",
     "iopub.status.idle": "2021-03-05T04:54:54.595267Z",
     "shell.execute_reply": "2021-03-05T04:54:54.594578Z"
    },
    "papermill": {
     "duration": 0.199343,
     "end_time": "2021-03-05T04:54:54.595422",
     "exception": false,
     "start_time": "2021-03-05T04:54:54.396079",
     "status": "completed"
    },
    "tags": []
   },
   "outputs": [
    {
     "data": {
      "text/plain": [
       "4617"
      ]
     },
     "execution_count": 24,
     "metadata": {},
     "output_type": "execute_result"
    }
   ],
   "source": [
    "del(train)\n",
    "gc.collect()"
   ]
  },
  {
   "cell_type": "markdown",
   "metadata": {
    "papermill": {
     "duration": 0.047123,
     "end_time": "2021-03-05T04:54:54.689775",
     "exception": false,
     "start_time": "2021-03-05T04:54:54.642652",
     "status": "completed"
    },
    "tags": []
   },
   "source": [
    "# Modeling"
   ]
  },
  {
   "cell_type": "code",
   "execution_count": 25,
   "metadata": {
    "execution": {
     "iopub.execute_input": "2021-03-05T04:54:54.793901Z",
     "iopub.status.busy": "2021-03-05T04:54:54.793041Z",
     "iopub.status.idle": "2021-03-05T04:54:54.798043Z",
     "shell.execute_reply": "2021-03-05T04:54:54.798638Z"
    },
    "papermill": {
     "duration": 0.061332,
     "end_time": "2021-03-05T04:54:54.798825",
     "exception": false,
     "start_time": "2021-03-05T04:54:54.737493",
     "status": "completed"
    },
    "tags": []
   },
   "outputs": [
    {
     "name": "stdout",
     "output_type": "stream",
     "text": [
      "(712, 10)\n",
      "(179,)\n",
      "(712, 10)\n",
      "(179,)\n"
     ]
    }
   ],
   "source": [
    "X_tr, X_val, y_tr, y_val = train_test_split(X_train, y_train, test_size=0.2, random_state=666)\n",
    "\n",
    "print(X_tr.shape)\n",
    "print(y_val.shape)\n",
    "print(X_tr.shape)\n",
    "print(y_val.shape)"
   ]
  },
  {
   "cell_type": "code",
   "execution_count": 26,
   "metadata": {
    "execution": {
     "iopub.execute_input": "2021-03-05T04:54:54.903369Z",
     "iopub.status.busy": "2021-03-05T04:54:54.902119Z",
     "iopub.status.idle": "2021-03-05T04:54:54.907092Z",
     "shell.execute_reply": "2021-03-05T04:54:54.906569Z"
    },
    "papermill": {
     "duration": 0.060253,
     "end_time": "2021-03-05T04:54:54.907257",
     "exception": false,
     "start_time": "2021-03-05T04:54:54.847004",
     "status": "completed"
    },
    "tags": []
   },
   "outputs": [
    {
     "data": {
      "text/plain": [
       "\"\\ndef create_model(trial):\\n    num_leaves = trial.suggest_int('num_leaves', 2, 31)\\n    n_estimators = trial.suggest_int('n_estimators', 50, 300)\\n    learning_rate = trial.suggest_uniform('learning_rate', 0.0001, 0.99)\\n    max_depth = trial.suggest_int('max_depth', 3, 8)\\n    min_child_samples = trial.suggest_int('min_child_samples', 100, 1200)\\n    min_data_in_leaf = trial.suggest_int('min_data_in_leaf', 5, 90)\\n    bagging_freq = trial.suggest_int('bagging_freq', 1, 7)\\n    bagging_fraction = trial.suggest_uniform('bagging_fraction', 0.0001, 1.0)\\n    feature_fraction = trial.suggest_uniform('feature_fraction', 0.0001, 1.0)\\n    subsample = trial.suggest_uniform('subsample', 0.1, 1.0)\\n    colsample_bytree = trial.suggest_uniform('colsample_bytree', 0.1, 1.0)\\n    \\n    model = lgb.LGBMClassifier(\\n        num_leaves=num_leaves,\\n        n_estimators=n_estimators,\\n        learning_rate=learning_rate,\\n        max_depth=max_depth, \\n        min_child_samples=min_child_samples, \\n        min_data_in_leaf=min_data_in_leaf,\\n        bagging_freq=bagging_freq,\\n        bagging_fraction=bagging_fraction,\\n        feature_fraction=feature_fraction,\\n        subsample=subsample,\\n        colsample_bytree=colsample_bytree,\\n        random_state=666)\\n        \\n    return model\\n\\ndef objective(trial):\\n    model = create_model(trial)\\n    model.fit(X_tr, y_tr)\\n    y_proba = model.predict_proba(X_val)[:,1]\\n    score = roc_auc_score(y_val, y_proba)\\n    return score\\n\\nstudy = optuna.create_study(direction='maximize')\\nstudy.optimize(objective, n_trials=40)\\nparams = study.best_params\\n\\nprint(params)\\n\\n\""
      ]
     },
     "execution_count": 26,
     "metadata": {},
     "output_type": "execute_result"
    }
   ],
   "source": [
    "'''\n",
    "def create_model(trial):\n",
    "    num_leaves = trial.suggest_int('num_leaves', 2, 31)\n",
    "    n_estimators = trial.suggest_int('n_estimators', 50, 300)\n",
    "    learning_rate = trial.suggest_uniform('learning_rate', 0.0001, 0.99)\n",
    "    max_depth = trial.suggest_int('max_depth', 3, 8)\n",
    "    min_child_samples = trial.suggest_int('min_child_samples', 100, 1200)\n",
    "    min_data_in_leaf = trial.suggest_int('min_data_in_leaf', 5, 90)\n",
    "    bagging_freq = trial.suggest_int('bagging_freq', 1, 7)\n",
    "    bagging_fraction = trial.suggest_uniform('bagging_fraction', 0.0001, 1.0)\n",
    "    feature_fraction = trial.suggest_uniform('feature_fraction', 0.0001, 1.0)\n",
    "    subsample = trial.suggest_uniform('subsample', 0.1, 1.0)\n",
    "    colsample_bytree = trial.suggest_uniform('colsample_bytree', 0.1, 1.0)\n",
    "    \n",
    "    model = lgb.LGBMClassifier(\n",
    "        num_leaves=num_leaves,\n",
    "        n_estimators=n_estimators,\n",
    "        learning_rate=learning_rate,\n",
    "        max_depth=max_depth, \n",
    "        min_child_samples=min_child_samples, \n",
    "        min_data_in_leaf=min_data_in_leaf,\n",
    "        bagging_freq=bagging_freq,\n",
    "        bagging_fraction=bagging_fraction,\n",
    "        feature_fraction=feature_fraction,\n",
    "        subsample=subsample,\n",
    "        colsample_bytree=colsample_bytree,\n",
    "        random_state=666)\n",
    "        \n",
    "    return model\n",
    "\n",
    "def objective(trial):\n",
    "    model = create_model(trial)\n",
    "    model.fit(X_tr, y_tr)\n",
    "    y_proba = model.predict_proba(X_val)[:,1]\n",
    "    score = roc_auc_score(y_val, y_proba)\n",
    "    return score\n",
    "\n",
    "study = optuna.create_study(direction='maximize')\n",
    "study.optimize(objective, n_trials=40)\n",
    "params = study.best_params\n",
    "\n",
    "print(params)\n",
    "\n",
    "'''"
   ]
  },
  {
   "cell_type": "code",
   "execution_count": 27,
   "metadata": {
    "execution": {
     "iopub.execute_input": "2021-03-05T04:54:55.013645Z",
     "iopub.status.busy": "2021-03-05T04:54:55.012793Z",
     "iopub.status.idle": "2021-03-05T04:54:55.016067Z",
     "shell.execute_reply": "2021-03-05T04:54:55.015519Z"
    },
    "papermill": {
     "duration": 0.059698,
     "end_time": "2021-03-05T04:54:55.016221",
     "exception": false,
     "start_time": "2021-03-05T04:54:54.956523",
     "status": "completed"
    },
    "tags": []
   },
   "outputs": [],
   "source": [
    "params = {'num_leaves': 2,\n",
    "          'n_estimators': 130,\n",
    "          'learning_rate': 0.5296027742301195,\n",
    "          'max_depth': 5,\n",
    "          'min_child_samples': 813,\n",
    "          'min_data_in_leaf': 18,\n",
    "          'bagging_freq': 6,\n",
    "          'bagging_fraction': 0.8054340854017729,\n",
    "          'feature_fraction': 0.9420584896659971,\n",
    "          'subsample': 0.20243845857908754, \n",
    "          'colsample_bytree': 0.6437211091498366,\n",
    "          'random_state': 666}"
   ]
  },
  {
   "cell_type": "code",
   "execution_count": 28,
   "metadata": {
    "execution": {
     "iopub.execute_input": "2021-03-05T04:54:55.125016Z",
     "iopub.status.busy": "2021-03-05T04:54:55.124319Z",
     "iopub.status.idle": "2021-03-05T04:54:55.284355Z",
     "shell.execute_reply": "2021-03-05T04:54:55.285373Z"
    },
    "papermill": {
     "duration": 0.220007,
     "end_time": "2021-03-05T04:54:55.285625",
     "exception": false,
     "start_time": "2021-03-05T04:54:55.065618",
     "status": "completed"
    },
    "tags": []
   },
   "outputs": [
    {
     "name": "stdout",
     "output_type": "stream",
     "text": [
      "[LightGBM] [Warning] bagging_fraction is set=0.8054340854017729, subsample=0.20243845857908754 will be ignored. Current value: bagging_fraction=0.8054340854017729\n",
      "[LightGBM] [Warning] feature_fraction is set=0.9420584896659971, colsample_bytree=0.6437211091498366 will be ignored. Current value: feature_fraction=0.9420584896659971\n",
      "[LightGBM] [Warning] bagging_freq is set=6, subsample_freq=0 will be ignored. Current value: bagging_freq=6\n",
      "[LightGBM] [Warning] min_data_in_leaf is set=18, min_child_samples=813 will be ignored. Current value: min_data_in_leaf=18\n",
      "AUC:  0.8969855832241154\n",
      "CPU times: user 425 ms, sys: 3.14 ms, total: 429 ms\n",
      "Wall time: 160 ms\n"
     ]
    }
   ],
   "source": [
    "%%time\n",
    "\n",
    "cls = lgb.LGBMClassifier(**params)\n",
    "cls.fit(X_train, y_train)\n",
    "\n",
    "y_proba = cls.predict_proba(X_val)[:,1]\n",
    "\n",
    "print('AUC: ', roc_auc_score(y_val, y_proba))"
   ]
  },
  {
   "cell_type": "code",
   "execution_count": 29,
   "metadata": {
    "execution": {
     "iopub.execute_input": "2021-03-05T04:54:55.392999Z",
     "iopub.status.busy": "2021-03-05T04:54:55.391993Z",
     "iopub.status.idle": "2021-03-05T04:54:55.665385Z",
     "shell.execute_reply": "2021-03-05T04:54:55.665873Z"
    },
    "papermill": {
     "duration": 0.328769,
     "end_time": "2021-03-05T04:54:55.666070",
     "exception": false,
     "start_time": "2021-03-05T04:54:55.337301",
     "status": "completed"
    },
    "tags": []
   },
   "outputs": [
    {
     "data": {
      "image/png": "[encoded data removed]",
      "text/plain": [
       "<Figure size 720x720 with 1 Axes>"
      ]
     },
     "metadata": {},
     "output_type": "display_data"
    }
   ],
   "source": [
    "fig,ax = plt.subplots(figsize=(10,10))\n",
    "lgb.plot_importance(cls, ax=ax,importance_type='gain',max_num_features=9)\n",
    "plt.show()"
   ]
  },
  {
   "cell_type": "markdown",
   "metadata": {
    "papermill": {
     "duration": 0.056002,
     "end_time": "2021-03-05T04:54:55.772460",
     "exception": false,
     "start_time": "2021-03-05T04:54:55.716458",
     "status": "completed"
    },
    "tags": []
   },
   "source": [
    "# Submit"
   ]
  },
  {
   "cell_type": "code",
   "execution_count": 30,
   "metadata": {
    "execution": {
     "iopub.execute_input": "2021-03-05T04:54:55.879938Z",
     "iopub.status.busy": "2021-03-05T04:54:55.878872Z",
     "iopub.status.idle": "2021-03-05T04:54:55.907436Z",
     "shell.execute_reply": "2021-03-05T04:54:55.907932Z"
    },
    "papermill": {
     "duration": 0.083665,
     "end_time": "2021-03-05T04:54:55.908124",
     "exception": false,
     "start_time": "2021-03-05T04:54:55.824459",
     "status": "completed"
    },
    "tags": []
   },
   "outputs": [
    {
     "name": "stdout",
     "output_type": "stream",
     "text": [
      "(418, 14)\n"
     ]
    },
    {
     "data": {
      "text/html": [
       "<div>\n",
       "<style scoped>\n",
       "    .dataframe tbody tr th:only-of-type {\n",
       "        vertical-align: middle;\n",
       "    }\n",
       "\n",
       "    .dataframe tbody tr th {\n",
       "        vertical-align: top;\n",
       "    }\n",
       "\n",
       "    .dataframe thead th {\n",
       "        text-align: right;\n",
       "    }\n",
       "</style>\n",
       "<table border=\"1\" class=\"dataframe\">\n",
       "  <thead>\n",
       "    <tr style=\"text-align: right;\">\n",
       "      <th></th>\n",
       "      <th>PassengerId</th>\n",
       "      <th>Pclass</th>\n",
       "      <th>Name</th>\n",
       "      <th>Sex</th>\n",
       "      <th>Age</th>\n",
       "      <th>SibSp</th>\n",
       "      <th>Parch</th>\n",
       "      <th>Ticket</th>\n",
       "      <th>Fare</th>\n",
       "      <th>Cabin</th>\n",
       "      <th>Embarked</th>\n",
       "      <th>Pclass_high</th>\n",
       "      <th>Family_size</th>\n",
       "      <th>Embarked_C</th>\n",
       "    </tr>\n",
       "  </thead>\n",
       "  <tbody>\n",
       "    <tr>\n",
       "      <th>0</th>\n",
       "      <td>892</td>\n",
       "      <td>3</td>\n",
       "      <td>Kelly, Mr. James</td>\n",
       "      <td>0</td>\n",
       "      <td>34.5</td>\n",
       "      <td>0</td>\n",
       "      <td>0</td>\n",
       "      <td>330911</td>\n",
       "      <td>7.8292</td>\n",
       "      <td>NaN</td>\n",
       "      <td>1</td>\n",
       "      <td>0</td>\n",
       "      <td>1</td>\n",
       "      <td>0</td>\n",
       "    </tr>\n",
       "    <tr>\n",
       "      <th>1</th>\n",
       "      <td>893</td>\n",
       "      <td>3</td>\n",
       "      <td>Wilkes, Mrs. James (Ellen Needs)</td>\n",
       "      <td>1</td>\n",
       "      <td>47.0</td>\n",
       "      <td>1</td>\n",
       "      <td>0</td>\n",
       "      <td>363272</td>\n",
       "      <td>7.0000</td>\n",
       "      <td>NaN</td>\n",
       "      <td>2</td>\n",
       "      <td>0</td>\n",
       "      <td>2</td>\n",
       "      <td>0</td>\n",
       "    </tr>\n",
       "    <tr>\n",
       "      <th>2</th>\n",
       "      <td>894</td>\n",
       "      <td>2</td>\n",
       "      <td>Myles, Mr. Thomas Francis</td>\n",
       "      <td>0</td>\n",
       "      <td>62.0</td>\n",
       "      <td>0</td>\n",
       "      <td>0</td>\n",
       "      <td>240276</td>\n",
       "      <td>9.6875</td>\n",
       "      <td>NaN</td>\n",
       "      <td>1</td>\n",
       "      <td>0</td>\n",
       "      <td>1</td>\n",
       "      <td>0</td>\n",
       "    </tr>\n",
       "    <tr>\n",
       "      <th>3</th>\n",
       "      <td>895</td>\n",
       "      <td>3</td>\n",
       "      <td>Wirz, Mr. Albert</td>\n",
       "      <td>0</td>\n",
       "      <td>27.0</td>\n",
       "      <td>0</td>\n",
       "      <td>0</td>\n",
       "      <td>315154</td>\n",
       "      <td>8.6625</td>\n",
       "      <td>NaN</td>\n",
       "      <td>2</td>\n",
       "      <td>0</td>\n",
       "      <td>1</td>\n",
       "      <td>0</td>\n",
       "    </tr>\n",
       "    <tr>\n",
       "      <th>4</th>\n",
       "      <td>896</td>\n",
       "      <td>3</td>\n",
       "      <td>Hirvonen, Mrs. Alexander (Helga E Lindqvist)</td>\n",
       "      <td>1</td>\n",
       "      <td>22.0</td>\n",
       "      <td>1</td>\n",
       "      <td>1</td>\n",
       "      <td>3101298</td>\n",
       "      <td>12.2875</td>\n",
       "      <td>NaN</td>\n",
       "      <td>2</td>\n",
       "      <td>0</td>\n",
       "      <td>3</td>\n",
       "      <td>0</td>\n",
       "    </tr>\n",
       "  </tbody>\n",
       "</table>\n",
       "</div>"
      ],
      "text/plain": [
       "   PassengerId  Pclass                                          Name  Sex  \\\n",
       "0          892       3                              Kelly, Mr. James    0   \n",
       "1          893       3              Wilkes, Mrs. James (Ellen Needs)    1   \n",
       "2          894       2                     Myles, Mr. Thomas Francis    0   \n",
       "3          895       3                              Wirz, Mr. Albert    0   \n",
       "4          896       3  Hirvonen, Mrs. Alexander (Helga E Lindqvist)    1   \n",
       "\n",
       "    Age  SibSp  Parch   Ticket     Fare Cabin  Embarked  Pclass_high  \\\n",
       "0  34.5      0      0   330911   7.8292   NaN         1            0   \n",
       "1  47.0      1      0   363272   7.0000   NaN         2            0   \n",
       "2  62.0      0      0   240276   9.6875   NaN         1            0   \n",
       "3  27.0      0      0   315154   8.6625   NaN         2            0   \n",
       "4  22.0      1      1  3101298  12.2875   NaN         2            0   \n",
       "\n",
       "   Family_size  Embarked_C  \n",
       "0            1           0  \n",
       "1            2           0  \n",
       "2            1           0  \n",
       "3            1           0  \n",
       "4            3           0  "
      ]
     },
     "execution_count": 30,
     "metadata": {},
     "output_type": "execute_result"
    }
   ],
   "source": [
    "test['Pclass_high'] = 0\n",
    "test.loc[test['Pclass'] == 1, 'Pclass_high'] = 1\n",
    "test['Family_size'] = test['SibSp'] + test['Parch'] + 1\n",
    "test['Sex'] = test['Sex'].apply(lambda x: Sex_transform(x))\n",
    "test['Embarked'] = test['Embarked'].apply(lambda x: Embarked_transform(x))\n",
    "test['Embarked_C'] = test['Embarked'].apply(lambda x: Embarked_C_transform(x))\n",
    "\n",
    "print(test.shape)\n",
    "test.head()"
   ]
  },
  {
   "cell_type": "code",
   "execution_count": 31,
   "metadata": {
    "execution": {
     "iopub.execute_input": "2021-03-05T04:54:56.021955Z",
     "iopub.status.busy": "2021-03-05T04:54:56.020851Z",
     "iopub.status.idle": "2021-03-05T04:54:56.034125Z",
     "shell.execute_reply": "2021-03-05T04:54:56.034611Z"
    },
    "papermill": {
     "duration": 0.07378,
     "end_time": "2021-03-05T04:54:56.034809",
     "exception": false,
     "start_time": "2021-03-05T04:54:55.961029",
     "status": "completed"
    },
    "tags": []
   },
   "outputs": [
    {
     "name": "stdout",
     "output_type": "stream",
     "text": [
      "<class 'pandas.core.frame.DataFrame'>\n",
      "RangeIndex: 418 entries, 0 to 417\n",
      "Data columns (total 10 columns):\n",
      " #   Column       Non-Null Count  Dtype  \n",
      "---  ------       --------------  -----  \n",
      " 0   Pclass       418 non-null    int64  \n",
      " 1   Sex          418 non-null    int64  \n",
      " 2   Age          418 non-null    float64\n",
      " 3   SibSp        418 non-null    int64  \n",
      " 4   Parch        418 non-null    int64  \n",
      " 5   Fare         418 non-null    float64\n",
      " 6   Embarked     418 non-null    int64  \n",
      " 7   Pclass_high  418 non-null    int64  \n",
      " 8   Family_size  418 non-null    int64  \n",
      " 9   Embarked_C   418 non-null    int64  \n",
      "dtypes: float64(2), int64(8)\n",
      "memory usage: 32.8 KB\n"
     ]
    }
   ],
   "source": [
    "X_test = test[features].fillna(-999)\n",
    "\n",
    "X_test.info()"
   ]
  },
  {
   "cell_type": "code",
   "execution_count": 32,
   "metadata": {
    "execution": {
     "iopub.execute_input": "2021-03-05T04:54:56.146490Z",
     "iopub.status.busy": "2021-03-05T04:54:56.145397Z",
     "iopub.status.idle": "2021-03-05T04:54:56.159198Z",
     "shell.execute_reply": "2021-03-05T04:54:56.159765Z"
    },
    "papermill": {
     "duration": 0.07174,
     "end_time": "2021-03-05T04:54:56.160005",
     "exception": false,
     "start_time": "2021-03-05T04:54:56.088265",
     "status": "completed"
    },
    "tags": []
   },
   "outputs": [
    {
     "name": "stdout",
     "output_type": "stream",
     "text": [
      "[0 0 0 0 1 0 1 0 1 0]\n"
     ]
    }
   ],
   "source": [
    "y_pred = cls.predict(X_test)\n",
    "print(y_pred[:10])"
   ]
  },
  {
   "cell_type": "code",
   "execution_count": 33,
   "metadata": {
    "execution": {
     "iopub.execute_input": "2021-03-05T04:54:56.277642Z",
     "iopub.status.busy": "2021-03-05T04:54:56.276729Z",
     "iopub.status.idle": "2021-03-05T04:54:56.281792Z",
     "shell.execute_reply": "2021-03-05T04:54:56.281249Z"
    },
    "papermill": {
     "duration": 0.067534,
     "end_time": "2021-03-05T04:54:56.281940",
     "exception": false,
     "start_time": "2021-03-05T04:54:56.214406",
     "status": "completed"
    },
    "tags": []
   },
   "outputs": [
    {
     "data": {
      "text/html": [
       "<div>\n",
       "<style scoped>\n",
       "    .dataframe tbody tr th:only-of-type {\n",
       "        vertical-align: middle;\n",
       "    }\n",
       "\n",
       "    .dataframe tbody tr th {\n",
       "        vertical-align: top;\n",
       "    }\n",
       "\n",
       "    .dataframe thead th {\n",
       "        text-align: right;\n",
       "    }\n",
       "</style>\n",
       "<table border=\"1\" class=\"dataframe\">\n",
       "  <thead>\n",
       "    <tr style=\"text-align: right;\">\n",
       "      <th></th>\n",
       "      <th>Survived</th>\n",
       "    </tr>\n",
       "    <tr>\n",
       "      <th>PassengerId</th>\n",
       "      <th></th>\n",
       "    </tr>\n",
       "  </thead>\n",
       "  <tbody>\n",
       "    <tr>\n",
       "      <th>892</th>\n",
       "      <td>0</td>\n",
       "    </tr>\n",
       "    <tr>\n",
       "      <th>893</th>\n",
       "      <td>0</td>\n",
       "    </tr>\n",
       "    <tr>\n",
       "      <th>894</th>\n",
       "      <td>0</td>\n",
       "    </tr>\n",
       "    <tr>\n",
       "      <th>895</th>\n",
       "      <td>0</td>\n",
       "    </tr>\n",
       "    <tr>\n",
       "      <th>896</th>\n",
       "      <td>1</td>\n",
       "    </tr>\n",
       "    <tr>\n",
       "      <th>897</th>\n",
       "      <td>0</td>\n",
       "    </tr>\n",
       "    <tr>\n",
       "      <th>898</th>\n",
       "      <td>1</td>\n",
       "    </tr>\n",
       "    <tr>\n",
       "      <th>899</th>\n",
       "      <td>0</td>\n",
       "    </tr>\n",
       "    <tr>\n",
       "      <th>900</th>\n",
       "      <td>1</td>\n",
       "    </tr>\n",
       "    <tr>\n",
       "      <th>901</th>\n",
       "      <td>0</td>\n",
       "    </tr>\n",
       "  </tbody>\n",
       "</table>\n",
       "</div>"
      ],
      "text/plain": [
       "             Survived\n",
       "PassengerId          \n",
       "892                 0\n",
       "893                 0\n",
       "894                 0\n",
       "895                 0\n",
       "896                 1\n",
       "897                 0\n",
       "898                 1\n",
       "899                 0\n",
       "900                 1\n",
       "901                 0"
      ]
     },
     "execution_count": 33,
     "metadata": {},
     "output_type": "execute_result"
    }
   ],
   "source": [
    "submit = pd.DataFrame(y_pred, index=test['PassengerId'], columns=['Survived'])\n",
    "submit.head(10)"
   ]
  },
  {
   "cell_type": "code",
   "execution_count": 34,
   "metadata": {
    "execution": {
     "iopub.execute_input": "2021-03-05T04:54:56.395882Z",
     "iopub.status.busy": "2021-03-05T04:54:56.395184Z",
     "iopub.status.idle": "2021-03-05T04:54:56.402763Z",
     "shell.execute_reply": "2021-03-05T04:54:56.403286Z"
    },
    "papermill": {
     "duration": 0.06818,
     "end_time": "2021-03-05T04:54:56.403487",
     "exception": false,
     "start_time": "2021-03-05T04:54:56.335307",
     "status": "completed"
    },
    "tags": []
   },
   "outputs": [],
   "source": [
    "submit.to_csv('titanic_submit.csv')"
   ]
  }
 ],
 "metadata": {
  "kernelspec": {
   "display_name": "Python 3",
   "language": "python",
   "name": "python3"
  },
  "language_info": {
   "codemirror_mode": {
    "name": "ipython",
    "version": 3
   },
   "file_extension": ".py",
   "mimetype": "text/x-python",
   "name": "python",
   "nbconvert_exporter": "python",
   "pygments_lexer": "ipython3",
   "version": "3.7.9"
  },
  "papermill": {
   "default_parameters": {},
   "duration": 26.977952,
   "end_time": "2021-03-05T04:54:58.343258",
   "environment_variables": {},
   "exception": null,
   "input_path": "__notebook__.ipynb",
   "output_path": "__notebook__.ipynb",
   "parameters": {},
   "start_time": "2021-03-05T04:54:31.365306",
   "version": "2.2.2"
  }
 },
 "nbformat": 4,
 "nbformat_minor": 4
}
