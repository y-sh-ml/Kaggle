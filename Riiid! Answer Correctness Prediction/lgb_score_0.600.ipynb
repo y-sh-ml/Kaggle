{
 "cells": [
  {
   "cell_type": "code",
   "execution_count": 1,
   "metadata": {
    "_cell_guid": "b1076dfc-b9ad-4769-8c92-a6c4dae69d19",
    "_uuid": "8f2839f25d086af736a60e9eeb907d3b93b6e0e5",
    "execution": {
     "iopub.execute_input": "2021-01-07T13:32:31.060801Z",
     "iopub.status.busy": "2021-01-07T13:32:31.059669Z",
     "iopub.status.idle": "2021-01-07T13:32:53.997812Z",
     "shell.execute_reply": "2021-01-07T13:32:53.998379Z"
    },
    "papermill": {
     "duration": 22.987959,
     "end_time": "2021-01-07T13:32:53.998642",
     "exception": false,
     "start_time": "2021-01-07T13:32:31.010683",
     "status": "completed"
    },
    "tags": []
   },
   "outputs": [
    {
     "name": "stdout",
     "output_type": "stream",
     "text": [
      "/kaggle/input/riiid-test-answer-prediction/example_sample_submission.csv\n",
      "/kaggle/input/riiid-test-answer-prediction/example_test.csv\n",
      "/kaggle/input/riiid-test-answer-prediction/questions.csv\n",
      "/kaggle/input/riiid-test-answer-prediction/train.csv\n",
      "/kaggle/input/riiid-test-answer-prediction/lectures.csv\n",
      "/kaggle/input/riiid-test-answer-prediction/riiideducation/competition.cpython-37m-x86_64-linux-gnu.so\n",
      "/kaggle/input/riiid-test-answer-prediction/riiideducation/__init__.py\n"
     ]
    }
   ],
   "source": [
    "# This Python 3 environment comes with many helpful analytics libraries installed\n",
    "# It is defined by the kaggle/python Docker image: https://github.com/kaggle/docker-python\n",
    "# For example, here's several helpful packages to load\n",
    "\n",
    "import numpy as np # linear algebra\n",
    "import pandas as pd # data processing, CSV file I/O (e.g. pd.read_csv)\n",
    "\n",
    "# Input data files are available in the read-only \"../input/\" directory\n",
    "# For example, running this (by clicking run or pressing Shift+Enter) will list all files under the input directory\n",
    "\n",
    "import os\n",
    "for dirname, _, filenames in os.walk('/kaggle/input'):\n",
    "    for filename in filenames:\n",
    "        print(os.path.join(dirname, filename))\n",
    "\n",
    "# You can write up to 20GB to the current directory (/kaggle/working/) that gets preserved as output when you create a version using \"Save & Run All\" \n",
    "# You can also write temporary files to /kaggle/temp/, but they won't be saved outside of the current session\n",
    "\n",
    "!pip install ../input/python-datatable/datatable-0.11.0-cp37-cp37m-manylinux2010_x86_64.whl > /dev/null 2>&1"
   ]
  },
  {
   "cell_type": "code",
   "execution_count": 2,
   "metadata": {
    "_cell_guid": "79c7e3d0-c299-4dcb-8224-4455121ee9b0",
    "_uuid": "d629ff2d2480ee46fbb7e2d37f6b5fab8052498a",
    "execution": {
     "iopub.execute_input": "2021-01-07T13:32:54.085688Z",
     "iopub.status.busy": "2021-01-07T13:32:54.084867Z",
     "iopub.status.idle": "2021-01-07T13:32:56.220668Z",
     "shell.execute_reply": "2021-01-07T13:32:56.219950Z"
    },
    "papermill": {
     "duration": 2.181458,
     "end_time": "2021-01-07T13:32:56.220787",
     "exception": false,
     "start_time": "2021-01-07T13:32:54.039329",
     "status": "completed"
    },
    "tags": []
   },
   "outputs": [
    {
     "data": {
      "text/html": [
       "<style type='text/css'>\n",
       ".datatable table.frame { margin-bottom: 0; }\n",
       ".datatable table.frame thead { border-bottom: none; }\n",
       ".datatable table.frame tr.coltypes td {  color: #FFFFFF;  line-height: 6px;  padding: 0 0.5em;}\n",
       ".datatable .bool    { background: #DDDD99; }\n",
       ".datatable .object  { background: #565656; }\n",
       ".datatable .int     { background: #5D9E5D; }\n",
       ".datatable .float   { background: #4040CC; }\n",
       ".datatable .str     { background: #CC4040; }\n",
       ".datatable .row_index {  background: var(--jp-border-color3);  border-right: 1px solid var(--jp-border-color0);  color: var(--jp-ui-font-color3);  font-size: 9px;}\n",
       ".datatable .frame tr.coltypes .row_index {  background: var(--jp-border-color0);}\n",
       ".datatable th:nth-child(2) { padding-left: 12px; }\n",
       ".datatable .hellipsis {  color: var(--jp-cell-editor-border-color);}\n",
       ".datatable .vellipsis {  background: var(--jp-layout-color0);  color: var(--jp-cell-editor-border-color);}\n",
       ".datatable .na {  color: var(--jp-cell-editor-border-color);  font-size: 80%;}\n",
       ".datatable .footer { font-size: 9px; }\n",
       ".datatable .frame_dimensions {  background: var(--jp-border-color3);  border-top: 1px solid var(--jp-border-color0);  color: var(--jp-ui-font-color3);  display: inline-block;  opacity: 0.6;  padding: 1px 10px 1px 5px;}\n",
       "</style>\n"
      ],
      "text/plain": [
       "<IPython.core.display.HTML object>"
      ]
     },
     "metadata": {},
     "output_type": "display_data"
    }
   ],
   "source": [
    "import gc\n",
    "import random\n",
    "import joblib\n",
    "import optuna\n",
    "import datatable as dt\n",
    "import lightgbm as lgb\n",
    "import riiideducation\n",
    "import matplotlib.pyplot as plt\n",
    "\n",
    "from collections import defaultdict\n",
    "from sklearn.preprocessing import LabelEncoder\n",
    "from sklearn.model_selection import train_test_split\n",
    "from sklearn.metrics import roc_auc_score\n",
    "\n",
    "_ = np.seterr(divide='ignore', invalid='ignore')"
   ]
  },
  {
   "cell_type": "markdown",
   "metadata": {
    "papermill": {
     "duration": 0.035045,
     "end_time": "2021-01-07T13:32:56.291743",
     "exception": false,
     "start_time": "2021-01-07T13:32:56.256698",
     "status": "completed"
    },
    "tags": []
   },
   "source": [
    "# Preprocess"
   ]
  },
  {
   "cell_type": "markdown",
   "metadata": {
    "papermill": {
     "duration": 0.035394,
     "end_time": "2021-01-07T13:32:56.362944",
     "exception": false,
     "start_time": "2021-01-07T13:32:56.327550",
     "status": "completed"
    },
    "tags": []
   },
   "source": [
    "df表示をすると、メモリの残容量が減ってしまうので気を付ける必要がある。"
   ]
  },
  {
   "cell_type": "code",
   "execution_count": 3,
   "metadata": {
    "execution": {
     "iopub.execute_input": "2021-01-07T13:32:56.444303Z",
     "iopub.status.busy": "2021-01-07T13:32:56.443586Z",
     "iopub.status.idle": "2021-01-07T13:35:27.380986Z",
     "shell.execute_reply": "2021-01-07T13:35:27.381582Z"
    },
    "papermill": {
     "duration": 150.983344,
     "end_time": "2021-01-07T13:35:27.381745",
     "exception": false,
     "start_time": "2021-01-07T13:32:56.398401",
     "status": "completed"
    },
    "tags": []
   },
   "outputs": [
    {
     "name": "stdout",
     "output_type": "stream",
     "text": [
      "CPU times: user 2min 2s, sys: 4.21 s, total: 2min 6s\n",
      "Wall time: 2min 30s\n"
     ]
    }
   ],
   "source": [
    "%%time\n",
    "\n",
    "data_types_dict = {\n",
    "    'timestamp': 'int64',\n",
    "    'user_id': 'int32', \n",
    "    'content_id': 'int16', \n",
    "    'content_type_id':'int8', \n",
    "    'task_container_id': 'int16',\n",
    "    'answered_correctly': 'int8', \n",
    "    'prior_question_elapsed_time': 'float32', \n",
    "    'prior_question_had_explanation': 'boolean'\n",
    "}\n",
    "target = 'answered_correctly'\n",
    "\n",
    "# train_df = dt.fread('../input/riiid-test-answer-prediction/train.csv', columns=set(data_types_dict.keys())).to_pandas()\n",
    "\n",
    "train_df = pd.read_csv('/kaggle/input/riiid-test-answer-prediction/train.csv', usecols = data_types_dict.keys(), dtype=data_types_dict, nrows=50*(10**6))\n",
    "\n",
    "default_features = [col for col in train_df.columns if col != 'answered_correctly']\n",
    "\n",
    "# print(default_features)\n",
    "# print(train_df.shape)\n",
    "# train_df.head()"
   ]
  },
  {
   "cell_type": "markdown",
   "metadata": {
    "papermill": {
     "duration": 0.03525,
     "end_time": "2021-01-07T13:35:27.453548",
     "exception": false,
     "start_time": "2021-01-07T13:35:27.418298",
     "status": "completed"
    },
    "tags": []
   },
   "source": [
    "test_dfには目的変数（answered_correctly）が含まれないため、特徴量のみで前処理すること。\n",
    "\n",
    "※前処理でanswered_correctlyを使用すると、最後のtest_dfの処理ができなくなってしまう。"
   ]
  },
  {
   "cell_type": "code",
   "execution_count": 4,
   "metadata": {
    "execution": {
     "iopub.execute_input": "2021-01-07T13:35:27.530095Z",
     "iopub.status.busy": "2021-01-07T13:35:27.529204Z",
     "iopub.status.idle": "2021-01-07T13:35:27.532033Z",
     "shell.execute_reply": "2021-01-07T13:35:27.532533Z"
    },
    "papermill": {
     "duration": 0.043243,
     "end_time": "2021-01-07T13:35:27.532672",
     "exception": false,
     "start_time": "2021-01-07T13:35:27.489429",
     "status": "completed"
    },
    "tags": []
   },
   "outputs": [],
   "source": [
    "# lectures_df = pd.read_csv('/kaggle/input/riiid-test-answer-prediction/lectures.csv')\n",
    "\n",
    "# print(lectures_df.shape)\n",
    "# lectures_df.head()"
   ]
  },
  {
   "cell_type": "code",
   "execution_count": 5,
   "metadata": {
    "execution": {
     "iopub.execute_input": "2021-01-07T13:35:27.609147Z",
     "iopub.status.busy": "2021-01-07T13:35:27.608481Z",
     "iopub.status.idle": "2021-01-07T13:35:27.611714Z",
     "shell.execute_reply": "2021-01-07T13:35:27.612215Z"
    },
    "papermill": {
     "duration": 0.042963,
     "end_time": "2021-01-07T13:35:27.612357",
     "exception": false,
     "start_time": "2021-01-07T13:35:27.569394",
     "status": "completed"
    },
    "tags": []
   },
   "outputs": [],
   "source": [
    "# lectures_df['type_of'] = lectures_df['type_of'].replace('solving question', 'solving_question')\n",
    "\n",
    "# lectures_df = pd.get_dummies(lectures_df, columns=['part', 'type_of'])\n",
    "\n",
    "# part_lectures_columns = [column for column in lectures_df.columns if column.startswith('part')]\n",
    "# types_of_lectures_columns = [column for column in lectures_df.columns if column.startswith('type_of_')]\n",
    "\n",
    "# print(part_lectures_columns)\n",
    "# print(types_of_lectures_columns)\n",
    "\n",
    "# lectures_df.head()"
   ]
  },
  {
   "cell_type": "code",
   "execution_count": 6,
   "metadata": {
    "execution": {
     "iopub.execute_input": "2021-01-07T13:35:27.691773Z",
     "iopub.status.busy": "2021-01-07T13:35:27.691118Z",
     "iopub.status.idle": "2021-01-07T13:35:27.694550Z",
     "shell.execute_reply": "2021-01-07T13:35:27.695110Z"
    },
    "papermill": {
     "duration": 0.046105,
     "end_time": "2021-01-07T13:35:27.695286",
     "exception": false,
     "start_time": "2021-01-07T13:35:27.649181",
     "status": "completed"
    },
    "tags": []
   },
   "outputs": [],
   "source": [
    "# train_lectures = train_df[train_df.content_type_id == True].merge(lectures_df, left_on='content_id', right_on='lecture_id', how='left')\n",
    "\n",
    "# print(train_lectures.shape)\n",
    "# train_lectures.head()"
   ]
  },
  {
   "cell_type": "code",
   "execution_count": 7,
   "metadata": {
    "execution": {
     "iopub.execute_input": "2021-01-07T13:35:27.777926Z",
     "iopub.status.busy": "2021-01-07T13:35:27.777254Z",
     "iopub.status.idle": "2021-01-07T13:35:27.780288Z",
     "shell.execute_reply": "2021-01-07T13:35:27.780762Z"
    },
    "papermill": {
     "duration": 0.045546,
     "end_time": "2021-01-07T13:35:27.780937",
     "exception": false,
     "start_time": "2021-01-07T13:35:27.735391",
     "status": "completed"
    },
    "tags": []
   },
   "outputs": [],
   "source": [
    "# user_lecture_stats_part = train_lectures.groupby('user_id',as_index = False)[part_lectures_columns + types_of_lectures_columns].sum()\n",
    "\n",
    "# print(user_lecture_stats_part.shape)\n",
    "# user_lecture_stats_part.head()"
   ]
  },
  {
   "cell_type": "code",
   "execution_count": 8,
   "metadata": {
    "execution": {
     "iopub.execute_input": "2021-01-07T13:35:27.860453Z",
     "iopub.status.busy": "2021-01-07T13:35:27.859793Z",
     "iopub.status.idle": "2021-01-07T13:35:27.863805Z",
     "shell.execute_reply": "2021-01-07T13:35:27.864275Z"
    },
    "papermill": {
     "duration": 0.043787,
     "end_time": "2021-01-07T13:35:27.864423",
     "exception": false,
     "start_time": "2021-01-07T13:35:27.820636",
     "status": "completed"
    },
    "tags": []
   },
   "outputs": [],
   "source": [
    "# lecturedata_types_dict = {   \n",
    "    # 'user_id': 'int32', \n",
    "    # 'part_1': 'int8',\n",
    "    # 'part_2': 'int8',\n",
    "    # 'part_3': 'int8',\n",
    "    # 'part_4': 'int8',\n",
    "    # 'part_5': 'int8',\n",
    "    # 'part_6': 'int8',\n",
    "    # 'part_7': 'int8',\n",
    "    # 'type_of_concept': 'int8',\n",
    "    # 'type_of_intention': 'int8',\n",
    "    # 'type_of_solving_question': 'int8',\n",
    "    #'type_of_starter': 'int8'}\n",
    "\n",
    "# user_lecture_stats_part = user_lecture_stats_part.astype(lecturedata_types_dict)\n",
    "\n",
    "# for column in user_lecture_stats_part.columns:\n",
    "    # if(column !='user_id'):\n",
    "        # user_lecture_stats_part[column] = (user_lecture_stats_part[column] > 0).astype('int8')\n",
    "        \n",
    "# print(user_lecture_stats_part.shape)\n",
    "# user_lecture_stats_part.head()"
   ]
  },
  {
   "cell_type": "code",
   "execution_count": 9,
   "metadata": {
    "execution": {
     "iopub.execute_input": "2021-01-07T13:35:27.941806Z",
     "iopub.status.busy": "2021-01-07T13:35:27.941157Z",
     "iopub.status.idle": "2021-01-07T13:35:27.944051Z",
     "shell.execute_reply": "2021-01-07T13:35:27.944544Z"
    },
    "papermill": {
     "duration": 0.042827,
     "end_time": "2021-01-07T13:35:27.944722",
     "exception": false,
     "start_time": "2021-01-07T13:35:27.901895",
     "status": "completed"
    },
    "tags": []
   },
   "outputs": [],
   "source": [
    "# del(train_lectures)\n",
    "# gc.collect()"
   ]
  },
  {
   "cell_type": "code",
   "execution_count": 10,
   "metadata": {
    "execution": {
     "iopub.execute_input": "2021-01-07T13:35:28.021541Z",
     "iopub.status.busy": "2021-01-07T13:35:28.020855Z",
     "iopub.status.idle": "2021-01-07T13:35:28.023973Z",
     "shell.execute_reply": "2021-01-07T13:35:28.024507Z"
    },
    "papermill": {
     "duration": 0.043189,
     "end_time": "2021-01-07T13:35:28.024651",
     "exception": false,
     "start_time": "2021-01-07T13:35:27.981462",
     "status": "completed"
    },
    "tags": []
   },
   "outputs": [],
   "source": [
    "# user_lecture_agg = train_df.groupby('user_id')['content_type_id'].agg(['sum', 'count'])\n",
    "# user_lecture_agg = user_lecture_agg.astype('int16')\n",
    "\n",
    "# print(user_lecture_agg.shape)\n",
    "# user_lecture_agg.head()"
   ]
  },
  {
   "cell_type": "code",
   "execution_count": 11,
   "metadata": {
    "execution": {
     "iopub.execute_input": "2021-01-07T13:35:28.106352Z",
     "iopub.status.busy": "2021-01-07T13:35:28.105664Z",
     "iopub.status.idle": "2021-01-07T13:35:34.945592Z",
     "shell.execute_reply": "2021-01-07T13:35:34.944926Z"
    },
    "papermill": {
     "duration": 6.879392,
     "end_time": "2021-01-07T13:35:34.945713",
     "exception": false,
     "start_time": "2021-01-07T13:35:28.066321",
     "status": "completed"
    },
    "tags": []
   },
   "outputs": [],
   "source": [
    "cum = train_df.groupby('user_id')['content_type_id'].agg(['cumsum', 'cumcount'])\n",
    "cum['cumcount'] = cum['cumcount'] + 1\n",
    "\n",
    "# print(cum.shape)\n",
    "# cum.head()"
   ]
  },
  {
   "cell_type": "code",
   "execution_count": 12,
   "metadata": {
    "execution": {
     "iopub.execute_input": "2021-01-07T13:35:35.031383Z",
     "iopub.status.busy": "2021-01-07T13:35:35.030260Z",
     "iopub.status.idle": "2021-01-07T13:35:37.571046Z",
     "shell.execute_reply": "2021-01-07T13:35:37.570368Z"
    },
    "papermill": {
     "duration": 2.587915,
     "end_time": "2021-01-07T13:35:37.571181",
     "exception": false,
     "start_time": "2021-01-07T13:35:34.983266",
     "status": "completed"
    },
    "tags": []
   },
   "outputs": [],
   "source": [
    "train_df['user_interaction_count'] = cum['cumcount'] \n",
    "train_df['user_interaction_timestamp_mean'] = train_df['timestamp'] / cum['cumcount'] \n",
    "train_df['user_lecture_sum'] = cum['cumsum'] \n",
    "train_df['user_lecture_lv'] = cum['cumsum'] / cum['cumcount']\n",
    "\n",
    "train_df['user_lecture_lv'] = train_df['user_lecture_lv'].astype('float16')\n",
    "train_df['user_lecture_sum'] = train_df['user_lecture_sum'].astype('int16')\n",
    "train_df['user_interaction_count'] = train_df['user_interaction_count'].astype('int16')\n",
    "train_df['user_interaction_timestamp_mean'] = train_df['user_interaction_timestamp_mean'] / (1000*3600)\n",
    "train_df['user_interaction_timestamp_mean'] = train_df['user_interaction_timestamp_mean'].astype('float32')\n",
    "\n",
    "# print(train_df.shape)\n",
    "# train_df.head()"
   ]
  },
  {
   "cell_type": "code",
   "execution_count": 13,
   "metadata": {
    "execution": {
     "iopub.execute_input": "2021-01-07T13:35:37.760532Z",
     "iopub.status.busy": "2021-01-07T13:35:37.759705Z",
     "iopub.status.idle": "2021-01-07T13:35:37.766379Z",
     "shell.execute_reply": "2021-01-07T13:35:37.765580Z"
    },
    "papermill": {
     "duration": 0.158046,
     "end_time": "2021-01-07T13:35:37.766578",
     "exception": false,
     "start_time": "2021-01-07T13:35:37.608532",
     "status": "completed"
    },
    "tags": []
   },
   "outputs": [
    {
     "data": {
      "text/plain": [
       "84"
      ]
     },
     "execution_count": 13,
     "metadata": {},
     "output_type": "execute_result"
    }
   ],
   "source": [
    "del cum\n",
    "gc.collect()"
   ]
  },
  {
   "cell_type": "code",
   "execution_count": 14,
   "metadata": {
    "execution": {
     "iopub.execute_input": "2021-01-07T13:35:37.854478Z",
     "iopub.status.busy": "2021-01-07T13:35:37.853807Z",
     "iopub.status.idle": "2021-01-07T13:35:45.373063Z",
     "shell.execute_reply": "2021-01-07T13:35:45.373624Z"
    },
    "papermill": {
     "duration": 7.565706,
     "end_time": "2021-01-07T13:35:45.373783",
     "exception": false,
     "start_time": "2021-01-07T13:35:37.808077",
     "status": "completed"
    },
    "tags": []
   },
   "outputs": [],
   "source": [
    "train_df['prior_question_had_explanation'].fillna(False, inplace=True)\n",
    "\n",
    "train_df = train_df.astype(data_types_dict)\n",
    "train_df = train_df[train_df[target] != -1].reset_index(drop=True)\n",
    "\n",
    "# print(train_df.shape)\n",
    "# train_df.head()"
   ]
  },
  {
   "cell_type": "code",
   "execution_count": 15,
   "metadata": {
    "execution": {
     "iopub.execute_input": "2021-01-07T13:35:45.452431Z",
     "iopub.status.busy": "2021-01-07T13:35:45.451708Z",
     "iopub.status.idle": "2021-01-07T13:35:45.455022Z",
     "shell.execute_reply": "2021-01-07T13:35:45.455598Z"
    },
    "papermill": {
     "duration": 0.044246,
     "end_time": "2021-01-07T13:35:45.455737",
     "exception": false,
     "start_time": "2021-01-07T13:35:45.411491",
     "status": "completed"
    },
    "tags": []
   },
   "outputs": [],
   "source": [
    "# content_explation_agg = train_df[[\"content_id\",\"prior_question_had_explanation\",target]].groupby([\"content_id\",\"prior_question_had_explanation\"])[target].agg(['mean'])\n",
    "\n",
    "# print(content_explation_agg.shape)\n",
    "# content_explation_agg.head()"
   ]
  },
  {
   "cell_type": "code",
   "execution_count": 16,
   "metadata": {
    "execution": {
     "iopub.execute_input": "2021-01-07T13:35:45.535227Z",
     "iopub.status.busy": "2021-01-07T13:35:45.534478Z",
     "iopub.status.idle": "2021-01-07T13:35:45.537958Z",
     "shell.execute_reply": "2021-01-07T13:35:45.538512Z"
    },
    "papermill": {
     "duration": 0.044977,
     "end_time": "2021-01-07T13:35:45.538648",
     "exception": false,
     "start_time": "2021-01-07T13:35:45.493671",
     "status": "completed"
    },
    "tags": []
   },
   "outputs": [],
   "source": [
    "# content_explation_agg = content_explation_agg.unstack()\n",
    "# content_explation_agg = content_explation_agg.reset_index()\n",
    "# content_explation_agg.columns = ['content_id', 'content_explation_false_mean','content_explation_true_mean']\n",
    "\n",
    "# content_explation_agg['content_id'] = content_explation_agg['content_id'].astype('int16')\n",
    "# content_explation_agg['content_explation_false_mean'] = content_explation_agg['content_explation_false_mean'].astype('float16')\n",
    "# content_explation_agg['content_explation_true_mean'] = content_explation_agg['content_explation_true_mean'].astype('float16')\n",
    "\n",
    "# print(content_explation_agg.shape)\n",
    "# content_explation_agg.head()"
   ]
  },
  {
   "cell_type": "code",
   "execution_count": 17,
   "metadata": {
    "execution": {
     "iopub.execute_input": "2021-01-07T13:35:45.617826Z",
     "iopub.status.busy": "2021-01-07T13:35:45.617104Z",
     "iopub.status.idle": "2021-01-07T13:36:20.737229Z",
     "shell.execute_reply": "2021-01-07T13:36:20.737788Z"
    },
    "papermill": {
     "duration": 35.161535,
     "end_time": "2021-01-07T13:36:20.737954",
     "exception": false,
     "start_time": "2021-01-07T13:35:45.576419",
     "status": "completed"
    },
    "tags": []
   },
   "outputs": [],
   "source": [
    "train_df[\"attempt_no\"] = 1\n",
    "train_df[\"attempt_no\"] = train_df[\"attempt_no\"].astype('int8')\n",
    "\n",
    "attempt_no_agg = train_df.groupby([\"user_id\",\"content_id\"])[\"attempt_no\"].agg(['sum']).astype('int8')\n",
    "\n",
    "# print(attempt_no_agg.shape)\n",
    "# attempt_no_agg.head()"
   ]
  },
  {
   "cell_type": "code",
   "execution_count": 18,
   "metadata": {
    "execution": {
     "iopub.execute_input": "2021-01-07T13:36:20.820056Z",
     "iopub.status.busy": "2021-01-07T13:36:20.819385Z",
     "iopub.status.idle": "2021-01-07T13:36:49.706790Z",
     "shell.execute_reply": "2021-01-07T13:36:49.707391Z"
    },
    "papermill": {
     "duration": 28.929969,
     "end_time": "2021-01-07T13:36:49.707565",
     "exception": false,
     "start_time": "2021-01-07T13:36:20.777596",
     "status": "completed"
    },
    "tags": []
   },
   "outputs": [],
   "source": [
    "train_df[\"attempt_no\"] = train_df[[\"user_id\",\"content_id\",'attempt_no']].groupby([\"user_id\",\"content_id\"])[\"attempt_no\"].cumsum()\n",
    "attempt_no_agg = attempt_no_agg[attempt_no_agg['sum'] >1]\n",
    "\n",
    "prior_question_elapsed_time_mean = train_df['prior_question_elapsed_time'].mean()\n",
    "train_df['prior_question_elapsed_time'].fillna(prior_question_elapsed_time_mean, inplace=True)\n",
    "\n",
    "# print(train_df.shape)\n",
    "# train_df.head()"
   ]
  },
  {
   "cell_type": "code",
   "execution_count": 19,
   "metadata": {
    "execution": {
     "iopub.execute_input": "2021-01-07T13:36:50.243467Z",
     "iopub.status.busy": "2021-01-07T13:36:50.242344Z",
     "iopub.status.idle": "2021-01-07T13:36:51.561172Z",
     "shell.execute_reply": "2021-01-07T13:36:51.560461Z"
    },
    "papermill": {
     "duration": 1.81425,
     "end_time": "2021-01-07T13:36:51.561319",
     "exception": false,
     "start_time": "2021-01-07T13:36:49.747069",
     "status": "completed"
    },
    "tags": []
   },
   "outputs": [],
   "source": [
    "max_timestamp_u = train_df[['user_id','timestamp']].groupby(['user_id'])['timestamp'].agg(['max']).reset_index()\n",
    "max_timestamp_u.columns = ['user_id', 'max_time_stamp']\n",
    "max_timestamp_u['user_id'] = max_timestamp_u.user_id.astype('int32')\n",
    "\n",
    "# print(max_timestamp_u.shape)\n",
    "# max_timestamp_u.head()"
   ]
  },
  {
   "cell_type": "code",
   "execution_count": 20,
   "metadata": {
    "execution": {
     "iopub.execute_input": "2021-01-07T13:36:51.647505Z",
     "iopub.status.busy": "2021-01-07T13:36:51.646770Z",
     "iopub.status.idle": "2021-01-07T13:36:53.998765Z",
     "shell.execute_reply": "2021-01-07T13:36:53.998201Z"
    },
    "papermill": {
     "duration": 2.39741,
     "end_time": "2021-01-07T13:36:53.998893",
     "exception": false,
     "start_time": "2021-01-07T13:36:51.601483",
     "status": "completed"
    },
    "tags": []
   },
   "outputs": [],
   "source": [
    "train_df['lagtime'] = train_df.groupby('user_id')['timestamp'].shift()\n",
    "\n",
    "# print(train_df.shape)\n",
    "# train_df.head()"
   ]
  },
  {
   "cell_type": "code",
   "execution_count": 21,
   "metadata": {
    "execution": {
     "iopub.execute_input": "2021-01-07T13:36:54.466525Z",
     "iopub.status.busy": "2021-01-07T13:36:54.465664Z",
     "iopub.status.idle": "2021-01-07T13:36:55.589168Z",
     "shell.execute_reply": "2021-01-07T13:36:55.588463Z"
    },
    "papermill": {
     "duration": 1.549988,
     "end_time": "2021-01-07T13:36:55.589292",
     "exception": false,
     "start_time": "2021-01-07T13:36:54.039304",
     "status": "completed"
    },
    "tags": []
   },
   "outputs": [],
   "source": [
    "max_timestamp_u2 = train_df[['user_id','lagtime']].groupby(['user_id'])['lagtime'].agg(['max']).reset_index()\n",
    "max_timestamp_u2.columns = ['user_id', 'max_time_stamp2']\n",
    "max_timestamp_u2['user_id'] = max_timestamp_u2.user_id.astype('int32')\n",
    "\n",
    "# print(max_timestamp_u2.shape)\n",
    "# max_timestamp_u2.head()"
   ]
  },
  {
   "cell_type": "code",
   "execution_count": 22,
   "metadata": {
    "execution": {
     "iopub.execute_input": "2021-01-07T13:36:55.679069Z",
     "iopub.status.busy": "2021-01-07T13:36:55.677766Z",
     "iopub.status.idle": "2021-01-07T13:36:56.962915Z",
     "shell.execute_reply": "2021-01-07T13:36:56.962117Z"
    },
    "papermill": {
     "duration": 1.333184,
     "end_time": "2021-01-07T13:36:56.963061",
     "exception": false,
     "start_time": "2021-01-07T13:36:55.629877",
     "status": "completed"
    },
    "tags": []
   },
   "outputs": [],
   "source": [
    "train_df['lagtime'] = train_df['timestamp'] - train_df['lagtime']\n",
    "\n",
    "lagtime_mean = train_df['lagtime'].mean()\n",
    "train_df['lagtime'].fillna(lagtime_mean, inplace=True)\n",
    "\n",
    "train_df['lagtime'] = train_df['lagtime']/(1000*3600)\n",
    "train_df['lagtime'] = train_df['lagtime'].astype('float32')\n",
    "\n",
    "# print(train_df.shape)\n",
    "# train_df.head()"
   ]
  },
  {
   "cell_type": "code",
   "execution_count": 23,
   "metadata": {
    "execution": {
     "iopub.execute_input": "2021-01-07T13:36:57.046492Z",
     "iopub.status.busy": "2021-01-07T13:36:57.045468Z",
     "iopub.status.idle": "2021-01-07T13:36:59.507715Z",
     "shell.execute_reply": "2021-01-07T13:36:59.508232Z"
    },
    "papermill": {
     "duration": 2.506733,
     "end_time": "2021-01-07T13:36:59.508443",
     "exception": false,
     "start_time": "2021-01-07T13:36:57.001710",
     "status": "completed"
    },
    "tags": []
   },
   "outputs": [],
   "source": [
    "train_df['lagtime2'] = train_df.groupby('user_id')['timestamp'].shift(2)\n",
    "\n",
    "# print(train_df.shape)\n",
    "# train_df.head()"
   ]
  },
  {
   "cell_type": "code",
   "execution_count": 24,
   "metadata": {
    "execution": {
     "iopub.execute_input": "2021-01-07T13:36:59.592140Z",
     "iopub.status.busy": "2021-01-07T13:36:59.591069Z",
     "iopub.status.idle": "2021-01-07T13:37:02.306673Z",
     "shell.execute_reply": "2021-01-07T13:37:02.306110Z"
    },
    "papermill": {
     "duration": 2.759146,
     "end_time": "2021-01-07T13:37:02.306799",
     "exception": false,
     "start_time": "2021-01-07T13:36:59.547653",
     "status": "completed"
    },
    "tags": []
   },
   "outputs": [],
   "source": [
    "max_timestamp_u3 = train_df[['user_id','lagtime2']].groupby(['user_id']).agg(['max']).reset_index()\n",
    "max_timestamp_u3.columns = ['user_id', 'max_time_stamp3']\n",
    "max_timestamp_u3['user_id'] = max_timestamp_u3.user_id.astype('int32')\n",
    "\n",
    "# print(max_timestamp_u3.shape)\n",
    "# max_timestamp_u3.head()"
   ]
  },
  {
   "cell_type": "code",
   "execution_count": 25,
   "metadata": {
    "execution": {
     "iopub.execute_input": "2021-01-07T13:37:02.403965Z",
     "iopub.status.busy": "2021-01-07T13:37:02.402666Z",
     "iopub.status.idle": "2021-01-07T13:37:03.699021Z",
     "shell.execute_reply": "2021-01-07T13:37:03.699529Z"
    },
    "papermill": {
     "duration": 1.353791,
     "end_time": "2021-01-07T13:37:03.699705",
     "exception": false,
     "start_time": "2021-01-07T13:37:02.345914",
     "status": "completed"
    },
    "tags": []
   },
   "outputs": [],
   "source": [
    "train_df['lagtime2'] = train_df['timestamp']-train_df['lagtime2']\n",
    "\n",
    "lagtime_mean2 = train_df['lagtime2'].mean()\n",
    "train_df['lagtime2'].fillna(lagtime_mean2, inplace=True)\n",
    "\n",
    "train_df['lagtime2'] = train_df['lagtime2']/(1000*3600)\n",
    "train_df['lagtime2'] = train_df['lagtime2'].astype('float32')\n",
    "\n",
    "# print(train_df.shape)\n",
    "# train_df.head()"
   ]
  },
  {
   "cell_type": "code",
   "execution_count": 26,
   "metadata": {
    "execution": {
     "iopub.execute_input": "2021-01-07T13:37:03.785170Z",
     "iopub.status.busy": "2021-01-07T13:37:03.784098Z",
     "iopub.status.idle": "2021-01-07T13:37:07.544215Z",
     "shell.execute_reply": "2021-01-07T13:37:07.543397Z"
    },
    "papermill": {
     "duration": 3.803937,
     "end_time": "2021-01-07T13:37:07.544356",
     "exception": false,
     "start_time": "2021-01-07T13:37:03.740419",
     "status": "completed"
    },
    "tags": []
   },
   "outputs": [],
   "source": [
    "train_df['lagtime3'] = train_df.groupby('user_id')['timestamp'].shift(3)\n",
    "train_df['lagtime3'] = train_df['timestamp'] - train_df['lagtime3']\n",
    "\n",
    "lagtime_mean3 = train_df['lagtime3'].mean()\n",
    "train_df['lagtime3'].fillna(lagtime_mean3, inplace=True)\n",
    "\n",
    "train_df['lagtime3'] = train_df['lagtime3']/(1000*3600)\n",
    "train_df['lagtime3'] = train_df['lagtime3'].astype('float32')\n",
    "\n",
    "# print(train_df.shape)\n",
    "# train_df.head()"
   ]
  },
  {
   "cell_type": "code",
   "execution_count": 27,
   "metadata": {
    "execution": {
     "iopub.execute_input": "2021-01-07T13:37:07.642915Z",
     "iopub.status.busy": "2021-01-07T13:37:07.641681Z",
     "iopub.status.idle": "2021-01-07T13:37:08.279375Z",
     "shell.execute_reply": "2021-01-07T13:37:08.278636Z"
    },
    "papermill": {
     "duration": 0.694047,
     "end_time": "2021-01-07T13:37:08.279499",
     "exception": false,
     "start_time": "2021-01-07T13:37:07.585452",
     "status": "completed"
    },
    "tags": []
   },
   "outputs": [],
   "source": [
    "train_df['timestamp'] = train_df['timestamp']/(1000*3600)\n",
    "train_df['timestamp'] = train_df['timestamp'].astype('float16')"
   ]
  },
  {
   "cell_type": "markdown",
   "metadata": {
    "papermill": {
     "duration": 0.038769,
     "end_time": "2021-01-07T13:37:08.358312",
     "exception": false,
     "start_time": "2021-01-07T13:37:08.319543",
     "status": "completed"
    },
    "tags": []
   },
   "source": [
    "各user_idのグループごとに、最後の1行を抽出する。"
   ]
  },
  {
   "cell_type": "code",
   "execution_count": 28,
   "metadata": {
    "execution": {
     "iopub.execute_input": "2021-01-07T13:37:08.443156Z",
     "iopub.status.busy": "2021-01-07T13:37:08.442435Z",
     "iopub.status.idle": "2021-01-07T13:37:13.930334Z",
     "shell.execute_reply": "2021-01-07T13:37:13.930944Z"
    },
    "papermill": {
     "duration": 5.533868,
     "end_time": "2021-01-07T13:37:13.931163",
     "exception": false,
     "start_time": "2021-01-07T13:37:08.397295",
     "status": "completed"
    },
    "tags": []
   },
   "outputs": [],
   "source": [
    "user_prior_question_elapsed_time = train_df[['user_id','prior_question_elapsed_time']].groupby(['user_id']).tail(1)\n",
    "user_prior_question_elapsed_time.columns = ['user_id', 'prior_question_elapsed_time']\n",
    "\n",
    "# print(train_df['user_id'].nunique())\n",
    "# print(user_prior_question_elapsed_time.shape)\n",
    "# user_prior_question_elapsed_time.head()"
   ]
  },
  {
   "cell_type": "code",
   "execution_count": 29,
   "metadata": {
    "execution": {
     "iopub.execute_input": "2021-01-07T13:37:14.023998Z",
     "iopub.status.busy": "2021-01-07T13:37:14.023218Z",
     "iopub.status.idle": "2021-01-07T13:37:16.788670Z",
     "shell.execute_reply": "2021-01-07T13:37:16.788046Z"
    },
    "papermill": {
     "duration": 2.814975,
     "end_time": "2021-01-07T13:37:16.788826",
     "exception": false,
     "start_time": "2021-01-07T13:37:13.973851",
     "status": "completed"
    },
    "tags": []
   },
   "outputs": [],
   "source": [
    "train_df['delta_prior_question_elapsed_time'] = train_df.groupby('user_id')['prior_question_elapsed_time'].shift()\n",
    "train_df['delta_prior_question_elapsed_time'] = train_df['prior_question_elapsed_time'] - train_df['delta_prior_question_elapsed_time']\n",
    "\n",
    "delta_prior_question_elapsed_time_mean = train_df['delta_prior_question_elapsed_time'].mean()\n",
    "train_df['delta_prior_question_elapsed_time'].fillna(delta_prior_question_elapsed_time_mean, inplace=True)\n",
    "\n",
    "train_df['delta_prior_question_elapsed_time'] = train_df['delta_prior_question_elapsed_time'].astype('int32')"
   ]
  },
  {
   "cell_type": "code",
   "execution_count": 30,
   "metadata": {
    "execution": {
     "iopub.execute_input": "2021-01-07T13:37:16.874274Z",
     "iopub.status.busy": "2021-01-07T13:37:16.873564Z",
     "iopub.status.idle": "2021-01-07T13:37:19.075783Z",
     "shell.execute_reply": "2021-01-07T13:37:19.076344Z"
    },
    "papermill": {
     "duration": 2.246094,
     "end_time": "2021-01-07T13:37:19.076534",
     "exception": false,
     "start_time": "2021-01-07T13:37:16.830440",
     "status": "completed"
    },
    "tags": []
   },
   "outputs": [],
   "source": [
    "train_df['prior_question_had_explanation'] = train_df['prior_question_had_explanation'].astype('int8')\n",
    "\n",
    "explanation_agg = train_df.groupby('user_id')['prior_question_had_explanation'].agg(['sum', 'count'])\n",
    "explanation_agg = explanation_agg.astype('int16')"
   ]
  },
  {
   "cell_type": "code",
   "execution_count": 31,
   "metadata": {
    "execution": {
     "iopub.execute_input": "2021-01-07T13:37:19.160687Z",
     "iopub.status.busy": "2021-01-07T13:37:19.160044Z",
     "iopub.status.idle": "2021-01-07T13:37:26.808255Z",
     "shell.execute_reply": "2021-01-07T13:37:26.807188Z"
    },
    "papermill": {
     "duration": 7.691332,
     "end_time": "2021-01-07T13:37:26.808461",
     "exception": false,
     "start_time": "2021-01-07T13:37:19.117129",
     "status": "completed"
    },
    "tags": []
   },
   "outputs": [
    {
     "data": {
      "text/plain": [
       "166"
      ]
     },
     "execution_count": 31,
     "metadata": {},
     "output_type": "execute_result"
    }
   ],
   "source": [
    "cum = train_df.groupby('user_id')['prior_question_had_explanation'].agg(['cumsum', 'cumcount'])\n",
    "cum['cumcount'] = cum['cumcount'] + 1\n",
    "\n",
    "train_df['explanation_mean'] = cum['cumsum'] / cum['cumcount']\n",
    "train_df['explanation_true_count'] = cum['cumsum'] \n",
    "train_df['explanation_false_count'] =  cum['cumcount'] - cum['cumsum']\n",
    "\n",
    "del cum\n",
    "gc.collect()"
   ]
  },
  {
   "cell_type": "code",
   "execution_count": 32,
   "metadata": {
    "execution": {
     "iopub.execute_input": "2021-01-07T13:37:26.894626Z",
     "iopub.status.busy": "2021-01-07T13:37:26.893545Z",
     "iopub.status.idle": "2021-01-07T13:37:26.897183Z",
     "shell.execute_reply": "2021-01-07T13:37:26.896594Z"
    },
    "papermill": {
     "duration": 0.048046,
     "end_time": "2021-01-07T13:37:26.897321",
     "exception": false,
     "start_time": "2021-01-07T13:37:26.849275",
     "status": "completed"
    },
    "tags": []
   },
   "outputs": [],
   "source": [
    "# content_elapsed_time_agg = train_df.groupby('content_id')['prior_question_elapsed_time'].agg(['mean'])\n",
    "# content_had_explanation_agg = train_df.groupby('content_id')['prior_question_had_explanation'].agg(['mean'])"
   ]
  },
  {
   "cell_type": "code",
   "execution_count": 33,
   "metadata": {
    "execution": {
     "iopub.execute_input": "2021-01-07T13:37:26.984547Z",
     "iopub.status.busy": "2021-01-07T13:37:26.983371Z",
     "iopub.status.idle": "2021-01-07T13:37:26.986881Z",
     "shell.execute_reply": "2021-01-07T13:37:26.987490Z"
    },
    "papermill": {
     "duration": 0.048533,
     "end_time": "2021-01-07T13:37:26.987649",
     "exception": false,
     "start_time": "2021-01-07T13:37:26.939116",
     "status": "completed"
    },
    "tags": []
   },
   "outputs": [],
   "source": [
    "# questions_df = pd.read_csv('../input/riiid-test-answer-prediction/questions.csv', usecols=[0, 1,3,4], dtype={'question_id': 'int16','bundle_id': 'int16', 'part': 'int8','tags': 'str'})\n",
    "\n",
    "# print(questions_df.shape)\n",
    "# questions_df.head()"
   ]
  },
  {
   "cell_type": "code",
   "execution_count": 34,
   "metadata": {
    "execution": {
     "iopub.execute_input": "2021-01-07T13:37:27.077589Z",
     "iopub.status.busy": "2021-01-07T13:37:27.076645Z",
     "iopub.status.idle": "2021-01-07T13:37:27.080282Z",
     "shell.execute_reply": "2021-01-07T13:37:27.079606Z"
    },
    "papermill": {
     "duration": 0.050161,
     "end_time": "2021-01-07T13:37:27.080411",
     "exception": false,
     "start_time": "2021-01-07T13:37:27.030250",
     "status": "completed"
    },
    "tags": []
   },
   "outputs": [],
   "source": [
    "# bundle_agg = questions_df.groupby('bundle_id')['question_id'].agg(['count'])\n",
    "\n",
    "# print(bundle_agg.shape)\n",
    "# bundle_agg.head()"
   ]
  },
  {
   "cell_type": "code",
   "execution_count": 35,
   "metadata": {
    "execution": {
     "iopub.execute_input": "2021-01-07T13:37:27.168336Z",
     "iopub.status.busy": "2021-01-07T13:37:27.167510Z",
     "iopub.status.idle": "2021-01-07T13:37:27.171438Z",
     "shell.execute_reply": "2021-01-07T13:37:27.170876Z"
    },
    "papermill": {
     "duration": 0.049645,
     "end_time": "2021-01-07T13:37:27.171549",
     "exception": false,
     "start_time": "2021-01-07T13:37:27.121904",
     "status": "completed"
    },
    "tags": []
   },
   "outputs": [],
   "source": [
    "# questions_df['content_sub_bundle'] = questions_df['bundle_id'].map(bundle_agg['count']).astype('int8')\n",
    "# questions_df['tags'].fillna('188', inplace=True)\n",
    "\n",
    "# print(questions_df.shape)\n",
    "# questions_df.head()"
   ]
  },
  {
   "cell_type": "code",
   "execution_count": 36,
   "metadata": {
    "execution": {
     "iopub.execute_input": "2021-01-07T13:37:27.258792Z",
     "iopub.status.busy": "2021-01-07T13:37:27.257756Z",
     "iopub.status.idle": "2021-01-07T13:37:27.262571Z",
     "shell.execute_reply": "2021-01-07T13:37:27.261940Z"
    },
    "papermill": {
     "duration": 0.050537,
     "end_time": "2021-01-07T13:37:27.262681",
     "exception": false,
     "start_time": "2021-01-07T13:37:27.212144",
     "status": "completed"
    },
    "tags": []
   },
   "outputs": [
    {
     "data": {
      "text/plain": [
       "'\\ndef gettags(tags,num):\\n    tags_splits = tags.split(\" \")\\n    result = \\'\\' \\n    \\n    for t in tags_splits:\\n        x = int(t)\\n        if(x < 32*(num+1) and x >= 32*num):\\n            result = result +\\' \\'+ t\\n    return result\\n    \\n'"
      ]
     },
     "execution_count": 36,
     "metadata": {},
     "output_type": "execute_result"
    }
   ],
   "source": [
    "'''\n",
    "def gettags(tags,num):\n",
    "    tags_splits = tags.split(\" \")\n",
    "    result = '' \n",
    "    \n",
    "    for t in tags_splits:\n",
    "        x = int(t)\n",
    "        if(x < 32*(num+1) and x >= 32*num):\n",
    "            result = result +' '+ t\n",
    "    return result\n",
    "    \n",
    "'''"
   ]
  },
  {
   "cell_type": "code",
   "execution_count": 37,
   "metadata": {
    "execution": {
     "iopub.execute_input": "2021-01-07T13:37:27.351822Z",
     "iopub.status.busy": "2021-01-07T13:37:27.350843Z",
     "iopub.status.idle": "2021-01-07T13:37:27.355775Z",
     "shell.execute_reply": "2021-01-07T13:37:27.355219Z"
    },
    "papermill": {
     "duration": 0.051076,
     "end_time": "2021-01-07T13:37:27.355899",
     "exception": false,
     "start_time": "2021-01-07T13:37:27.304823",
     "status": "completed"
    },
    "tags": []
   },
   "outputs": [
    {
     "data": {
      "text/plain": [
       "'\\nfor num in range(0,6):\\n    questions_df[\"tags\" + str(num)] = questions_df[\"tags\"].apply(lambda row: gettags(row,num))\\n    \\n    le = LabelEncoder()\\n    le.fit(np.unique(questions_df[\\'tags\\' + str(num)].values))\\n    \\n    questions_df[\\'tags\\' + str(num)] = questions_df[[\\'tags\\' + str(num)]].apply(le.transform)\\n    \\n# print(questions_df.shape)\\n# questions_df.head()\\n\\n'"
      ]
     },
     "execution_count": 37,
     "metadata": {},
     "output_type": "execute_result"
    }
   ],
   "source": [
    "'''\n",
    "for num in range(0,6):\n",
    "    questions_df[\"tags\" + str(num)] = questions_df[\"tags\"].apply(lambda row: gettags(row,num))\n",
    "    \n",
    "    le = LabelEncoder()\n",
    "    le.fit(np.unique(questions_df['tags' + str(num)].values))\n",
    "    \n",
    "    questions_df['tags' + str(num)] = questions_df[['tags' + str(num)]].apply(le.transform)\n",
    "    \n",
    "# print(questions_df.shape)\n",
    "# questions_df.head()\n",
    "\n",
    "'''"
   ]
  },
  {
   "cell_type": "code",
   "execution_count": 38,
   "metadata": {
    "execution": {
     "iopub.execute_input": "2021-01-07T13:37:27.445669Z",
     "iopub.status.busy": "2021-01-07T13:37:27.444903Z",
     "iopub.status.idle": "2021-01-07T13:37:27.447912Z",
     "shell.execute_reply": "2021-01-07T13:37:27.448567Z"
    },
    "papermill": {
     "duration": 0.050746,
     "end_time": "2021-01-07T13:37:27.448712",
     "exception": false,
     "start_time": "2021-01-07T13:37:27.397966",
     "status": "completed"
    },
    "tags": []
   },
   "outputs": [
    {
     "data": {
      "text/plain": [
       "\"\\nquestions_df_dict = {   \\n    'tags0': 'int8',\\n    'tags1': 'int8',\\n    'tags2': 'int8',\\n    'tags3': 'int8',\\n    'tags4': 'int8',\\n    'tags5': 'int8',\\n}\\n\\nquestions_df = questions_df.astype(questions_df_dict)\\nquestions_df.drop(columns=['tags'], inplace=True)\\n\\nquestions_df['part_bundle_id'] = questions_df['part']*100000 + questions_df['bundle_id']\\nquestions_df['part_bundle_id'] = questions_df['part_bundle_id'].astype('int32')\\n\\nquestions_df.rename(columns={'question_id':'content_id'}, inplace=True)\\n\\n# print(questions_df.shape)\\n# questions_df.head()\\n\\n\""
      ]
     },
     "execution_count": 38,
     "metadata": {},
     "output_type": "execute_result"
    }
   ],
   "source": [
    "'''\n",
    "questions_df_dict = {   \n",
    "    'tags0': 'int8',\n",
    "    'tags1': 'int8',\n",
    "    'tags2': 'int8',\n",
    "    'tags3': 'int8',\n",
    "    'tags4': 'int8',\n",
    "    'tags5': 'int8',\n",
    "}\n",
    "\n",
    "questions_df = questions_df.astype(questions_df_dict)\n",
    "questions_df.drop(columns=['tags'], inplace=True)\n",
    "\n",
    "questions_df['part_bundle_id'] = questions_df['part']*100000 + questions_df['bundle_id']\n",
    "questions_df['part_bundle_id'] = questions_df['part_bundle_id'].astype('int32')\n",
    "\n",
    "questions_df.rename(columns={'question_id':'content_id'}, inplace=True)\n",
    "\n",
    "# print(questions_df.shape)\n",
    "# questions_df.head()\n",
    "\n",
    "'''"
   ]
  },
  {
   "cell_type": "code",
   "execution_count": 39,
   "metadata": {
    "execution": {
     "iopub.execute_input": "2021-01-07T13:37:27.541098Z",
     "iopub.status.busy": "2021-01-07T13:37:27.540388Z",
     "iopub.status.idle": "2021-01-07T13:37:27.544082Z",
     "shell.execute_reply": "2021-01-07T13:37:27.544580Z"
    },
    "papermill": {
     "duration": 0.052289,
     "end_time": "2021-01-07T13:37:27.544716",
     "exception": false,
     "start_time": "2021-01-07T13:37:27.492427",
     "status": "completed"
    },
    "tags": []
   },
   "outputs": [],
   "source": [
    "# questions_df = pd.merge(questions_df, content_explation_agg, on='content_id', how='left',right_index=True)\n",
    "\n",
    "# print(questions_df.shape)\n",
    "# questions_df.head()"
   ]
  },
  {
   "cell_type": "markdown",
   "metadata": {
    "papermill": {
     "duration": 0.042092,
     "end_time": "2021-01-07T13:37:27.629213",
     "exception": false,
     "start_time": "2021-01-07T13:37:27.587121",
     "status": "completed"
    },
    "tags": []
   },
   "source": [
    "content_explain_aggには、answered_correctlyを含んだ処理をしているため<br>\n",
    "これ以上進めたとしても、最後のtest_dfの処理ができない。"
   ]
  },
  {
   "cell_type": "code",
   "execution_count": 40,
   "metadata": {
    "execution": {
     "iopub.execute_input": "2021-01-07T13:37:27.717673Z",
     "iopub.status.busy": "2021-01-07T13:37:27.717026Z",
     "iopub.status.idle": "2021-01-07T13:38:27.256944Z",
     "shell.execute_reply": "2021-01-07T13:38:27.256224Z"
    },
    "papermill": {
     "duration": 59.585735,
     "end_time": "2021-01-07T13:38:27.257133",
     "exception": false,
     "start_time": "2021-01-07T13:37:27.671398",
     "status": "completed"
    },
    "tags": []
   },
   "outputs": [
    {
     "name": "stdout",
     "output_type": "stream",
     "text": [
      "timestamp                            float16\n",
      "user_id                                int32\n",
      "content_id                             int16\n",
      "content_type_id                         int8\n",
      "task_container_id                      int16\n",
      "answered_correctly                      int8\n",
      "prior_question_elapsed_time          float32\n",
      "prior_question_had_explanation          int8\n",
      "user_interaction_count                 int16\n",
      "user_interaction_timestamp_mean      float32\n",
      "user_lecture_sum                       int16\n",
      "user_lecture_lv                      float16\n",
      "attempt_no                              int8\n",
      "lagtime                              float32\n",
      "lagtime2                             float32\n",
      "lagtime3                             float32\n",
      "delta_prior_question_elapsed_time      int32\n",
      "explanation_mean                     float64\n",
      "explanation_true_count                 int64\n",
      "explanation_false_count                int64\n",
      "mean_user_accuracy                   float64\n",
      "questions_answered                   float64\n",
      "std_user_accuracy                    float64\n",
      "median_user_accuracy                 float64\n",
      "skew_user_accuracy                   float64\n",
      "mean_accuracy                        float64\n",
      "question_asked                         int64\n",
      "std_accuracy                         float64\n",
      "median_accuracy                      float64\n",
      "skew_accuracy                        float64\n",
      "dtype: object\n",
      "(4903178, 30)\n"
     ]
    },
    {
     "data": {
      "text/html": [
       "<div>\n",
       "<style scoped>\n",
       "    .dataframe tbody tr th:only-of-type {\n",
       "        vertical-align: middle;\n",
       "    }\n",
       "\n",
       "    .dataframe tbody tr th {\n",
       "        vertical-align: top;\n",
       "    }\n",
       "\n",
       "    .dataframe thead th {\n",
       "        text-align: right;\n",
       "    }\n",
       "</style>\n",
       "<table border=\"1\" class=\"dataframe\">\n",
       "  <thead>\n",
       "    <tr style=\"text-align: right;\">\n",
       "      <th></th>\n",
       "      <th>timestamp</th>\n",
       "      <th>user_id</th>\n",
       "      <th>content_id</th>\n",
       "      <th>content_type_id</th>\n",
       "      <th>task_container_id</th>\n",
       "      <th>answered_correctly</th>\n",
       "      <th>prior_question_elapsed_time</th>\n",
       "      <th>prior_question_had_explanation</th>\n",
       "      <th>user_interaction_count</th>\n",
       "      <th>user_interaction_timestamp_mean</th>\n",
       "      <th>...</th>\n",
       "      <th>mean_user_accuracy</th>\n",
       "      <th>questions_answered</th>\n",
       "      <th>std_user_accuracy</th>\n",
       "      <th>median_user_accuracy</th>\n",
       "      <th>skew_user_accuracy</th>\n",
       "      <th>mean_accuracy</th>\n",
       "      <th>question_asked</th>\n",
       "      <th>std_accuracy</th>\n",
       "      <th>median_accuracy</th>\n",
       "      <th>skew_accuracy</th>\n",
       "    </tr>\n",
       "  </thead>\n",
       "  <tbody>\n",
       "    <tr>\n",
       "      <th>0</th>\n",
       "      <td>39.50000</td>\n",
       "      <td>952250704</td>\n",
       "      <td>4434</td>\n",
       "      <td>0</td>\n",
       "      <td>32</td>\n",
       "      <td>0</td>\n",
       "      <td>12000.0</td>\n",
       "      <td>1</td>\n",
       "      <td>33</td>\n",
       "      <td>1.197112</td>\n",
       "      <td>...</td>\n",
       "      <td>0.483871</td>\n",
       "      <td>31.0</td>\n",
       "      <td>0.508001</td>\n",
       "      <td>0.0</td>\n",
       "      <td>0.067879</td>\n",
       "      <td>0.445108</td>\n",
       "      <td>10721</td>\n",
       "      <td>0.497001</td>\n",
       "      <td>0.0</td>\n",
       "      <td>0.220935</td>\n",
       "    </tr>\n",
       "    <tr>\n",
       "      <th>1</th>\n",
       "      <td>39.53125</td>\n",
       "      <td>952250704</td>\n",
       "      <td>408</td>\n",
       "      <td>0</td>\n",
       "      <td>33</td>\n",
       "      <td>0</td>\n",
       "      <td>22000.0</td>\n",
       "      <td>1</td>\n",
       "      <td>34</td>\n",
       "      <td>1.162406</td>\n",
       "      <td>...</td>\n",
       "      <td>0.483871</td>\n",
       "      <td>31.0</td>\n",
       "      <td>0.508001</td>\n",
       "      <td>0.0</td>\n",
       "      <td>0.067879</td>\n",
       "      <td>0.864004</td>\n",
       "      <td>3581</td>\n",
       "      <td>0.342832</td>\n",
       "      <td>1.0</td>\n",
       "      <td>-2.124704</td>\n",
       "    </tr>\n",
       "    <tr>\n",
       "      <th>2</th>\n",
       "      <td>39.53125</td>\n",
       "      <td>952250704</td>\n",
       "      <td>10687</td>\n",
       "      <td>0</td>\n",
       "      <td>34</td>\n",
       "      <td>0</td>\n",
       "      <td>16000.0</td>\n",
       "      <td>1</td>\n",
       "      <td>35</td>\n",
       "      <td>1.129377</td>\n",
       "      <td>...</td>\n",
       "      <td>0.483871</td>\n",
       "      <td>31.0</td>\n",
       "      <td>0.508001</td>\n",
       "      <td>0.0</td>\n",
       "      <td>0.067879</td>\n",
       "      <td>0.858635</td>\n",
       "      <td>55530</td>\n",
       "      <td>0.348401</td>\n",
       "      <td>1.0</td>\n",
       "      <td>-2.058823</td>\n",
       "    </tr>\n",
       "    <tr>\n",
       "      <th>3</th>\n",
       "      <td>39.53125</td>\n",
       "      <td>952250704</td>\n",
       "      <td>553</td>\n",
       "      <td>0</td>\n",
       "      <td>35</td>\n",
       "      <td>0</td>\n",
       "      <td>17000.0</td>\n",
       "      <td>1</td>\n",
       "      <td>36</td>\n",
       "      <td>1.098188</td>\n",
       "      <td>...</td>\n",
       "      <td>0.483871</td>\n",
       "      <td>31.0</td>\n",
       "      <td>0.508001</td>\n",
       "      <td>0.0</td>\n",
       "      <td>0.067879</td>\n",
       "      <td>0.658204</td>\n",
       "      <td>18394</td>\n",
       "      <td>0.474325</td>\n",
       "      <td>1.0</td>\n",
       "      <td>-0.667142</td>\n",
       "    </tr>\n",
       "    <tr>\n",
       "      <th>4</th>\n",
       "      <td>39.53125</td>\n",
       "      <td>952250704</td>\n",
       "      <td>402</td>\n",
       "      <td>0</td>\n",
       "      <td>38</td>\n",
       "      <td>1</td>\n",
       "      <td>15000.0</td>\n",
       "      <td>1</td>\n",
       "      <td>38</td>\n",
       "      <td>1.040685</td>\n",
       "      <td>...</td>\n",
       "      <td>0.483871</td>\n",
       "      <td>31.0</td>\n",
       "      <td>0.508001</td>\n",
       "      <td>0.0</td>\n",
       "      <td>0.067879</td>\n",
       "      <td>0.527622</td>\n",
       "      <td>12092</td>\n",
       "      <td>0.499257</td>\n",
       "      <td>1.0</td>\n",
       "      <td>-0.110669</td>\n",
       "    </tr>\n",
       "  </tbody>\n",
       "</table>\n",
       "<p>5 rows × 30 columns</p>\n",
       "</div>"
      ],
      "text/plain": [
       "   timestamp    user_id  content_id  content_type_id  task_container_id  \\\n",
       "0   39.50000  952250704        4434                0                 32   \n",
       "1   39.53125  952250704         408                0                 33   \n",
       "2   39.53125  952250704       10687                0                 34   \n",
       "3   39.53125  952250704         553                0                 35   \n",
       "4   39.53125  952250704         402                0                 38   \n",
       "\n",
       "   answered_correctly  prior_question_elapsed_time  \\\n",
       "0                   0                      12000.0   \n",
       "1                   0                      22000.0   \n",
       "2                   0                      16000.0   \n",
       "3                   0                      17000.0   \n",
       "4                   1                      15000.0   \n",
       "\n",
       "   prior_question_had_explanation  user_interaction_count  \\\n",
       "0                               1                      33   \n",
       "1                               1                      34   \n",
       "2                               1                      35   \n",
       "3                               1                      36   \n",
       "4                               1                      38   \n",
       "\n",
       "   user_interaction_timestamp_mean  ...  mean_user_accuracy  \\\n",
       "0                         1.197112  ...            0.483871   \n",
       "1                         1.162406  ...            0.483871   \n",
       "2                         1.129377  ...            0.483871   \n",
       "3                         1.098188  ...            0.483871   \n",
       "4                         1.040685  ...            0.483871   \n",
       "\n",
       "   questions_answered  std_user_accuracy  median_user_accuracy  \\\n",
       "0                31.0           0.508001                   0.0   \n",
       "1                31.0           0.508001                   0.0   \n",
       "2                31.0           0.508001                   0.0   \n",
       "3                31.0           0.508001                   0.0   \n",
       "4                31.0           0.508001                   0.0   \n",
       "\n",
       "   skew_user_accuracy  mean_accuracy  question_asked  std_accuracy  \\\n",
       "0            0.067879       0.445108           10721      0.497001   \n",
       "1            0.067879       0.864004            3581      0.342832   \n",
       "2            0.067879       0.858635           55530      0.348401   \n",
       "3            0.067879       0.658204           18394      0.474325   \n",
       "4            0.067879       0.527622           12092      0.499257   \n",
       "\n",
       "   median_accuracy  skew_accuracy  \n",
       "0              0.0       0.220935  \n",
       "1              1.0      -2.124704  \n",
       "2              1.0      -2.058823  \n",
       "3              1.0      -0.667142  \n",
       "4              1.0      -0.110669  \n",
       "\n",
       "[5 rows x 30 columns]"
      ]
     },
     "execution_count": 40,
     "metadata": {},
     "output_type": "execute_result"
    }
   ],
   "source": [
    "features_df = train_df.iloc[:int(9/10 * len(train_df))]\n",
    "train_df = train_df.iloc[int(9/10 * len(train_df)):]\n",
    "\n",
    "train_questions_only_df = features_df[features_df['answered_correctly']!=-1]\n",
    "grouped_by_user_df = train_questions_only_df.groupby('user_id')\n",
    "user_answers_df = grouped_by_user_df.agg({'answered_correctly': ['mean', 'count','std','median','skew']}).copy()\n",
    "user_answers_df.columns = ['mean_user_accuracy', \n",
    "                           'questions_answered', \n",
    "                           'std_user_accuracy', \n",
    "                           'median_user_accuracy', \n",
    "                           'skew_user_accuracy']\n",
    "\n",
    "grouped_by_content_df = train_questions_only_df.groupby('content_id')\n",
    "content_answers_df = grouped_by_content_df.agg({'answered_correctly': ['mean', 'count','std','median','skew']}).copy()\n",
    "content_answers_df.columns = ['mean_accuracy', \n",
    "                              'question_asked', \n",
    "                              'std_accuracy', \n",
    "                              'median_accuracy', \n",
    "                              'skew_accuracy']\n",
    "\n",
    "del features_df\n",
    "del grouped_by_user_df\n",
    "del grouped_by_content_df\n",
    "\n",
    "\n",
    "train_df = train_df.merge(user_answers_df, how='left', on='user_id')\n",
    "train_df = train_df.merge(content_answers_df, how='left', on='content_id')\n",
    "\n",
    "print(train_df.dtypes)\n",
    "print(train_df.shape)\n",
    "train_df.head()"
   ]
  },
  {
   "cell_type": "markdown",
   "metadata": {
    "papermill": {
     "duration": 0.047434,
     "end_time": "2021-01-07T13:38:27.351557",
     "exception": false,
     "start_time": "2021-01-07T13:38:27.304123",
     "status": "completed"
    },
    "tags": []
   },
   "source": [
    "# Modeling"
   ]
  },
  {
   "cell_type": "code",
   "execution_count": 41,
   "metadata": {
    "execution": {
     "iopub.execute_input": "2021-01-07T13:38:27.453560Z",
     "iopub.status.busy": "2021-01-07T13:38:27.452791Z",
     "iopub.status.idle": "2021-01-07T13:38:29.365244Z",
     "shell.execute_reply": "2021-01-07T13:38:29.364583Z"
    },
    "papermill": {
     "duration": 1.968294,
     "end_time": "2021-01-07T13:38:29.365410",
     "exception": false,
     "start_time": "2021-01-07T13:38:27.397116",
     "status": "completed"
    },
    "tags": []
   },
   "outputs": [
    {
     "name": "stdout",
     "output_type": "stream",
     "text": [
      "features: 25\n",
      "timestamp                            0\n",
      "user_id                              0\n",
      "content_id                           0\n",
      "content_type_id                      0\n",
      "task_container_id                    0\n",
      "answered_correctly                   0\n",
      "prior_question_elapsed_time          0\n",
      "prior_question_had_explanation       0\n",
      "user_interaction_count               0\n",
      "user_interaction_timestamp_mean      0\n",
      "user_lecture_sum                     0\n",
      "user_lecture_lv                      0\n",
      "attempt_no                           0\n",
      "lagtime                              0\n",
      "lagtime2                             0\n",
      "lagtime3                             0\n",
      "delta_prior_question_elapsed_time    0\n",
      "explanation_mean                     0\n",
      "explanation_true_count               0\n",
      "explanation_false_count              0\n",
      "mean_user_accuracy                   0\n",
      "questions_answered                   0\n",
      "std_user_accuracy                    0\n",
      "median_user_accuracy                 0\n",
      "skew_user_accuracy                   0\n",
      "mean_accuracy                        0\n",
      "question_asked                       0\n",
      "std_accuracy                         0\n",
      "median_accuracy                      0\n",
      "skew_accuracy                        0\n",
      "dtype: int64\n"
     ]
    }
   ],
   "source": [
    "train_df['prior_question_had_explanation'] = train_df['prior_question_had_explanation'].astype(int)\n",
    "\n",
    "features = ['timestamp',\n",
    "            'prior_question_elapsed_time',\n",
    "            'prior_question_had_explanation',\n",
    "            'user_interaction_count',\n",
    "            'user_interaction_timestamp_mean',\n",
    "            'user_lecture_sum',\n",
    "            'user_lecture_lv',\n",
    "            'attempt_no',\n",
    "            'lagtime',\n",
    "            'lagtime2',\n",
    "            'lagtime3',\n",
    "            'delta_prior_question_elapsed_time',\n",
    "            'explanation_mean',\n",
    "            'explanation_true_count',\n",
    "            'explanation_false_count',\n",
    "            'mean_user_accuracy',\n",
    "            'questions_answered',\n",
    "            'std_user_accuracy',\n",
    "            'median_user_accuracy',\n",
    "            'skew_user_accuracy',\n",
    "            'mean_accuracy',\n",
    "            'question_asked',\n",
    "            'std_accuracy',\n",
    "            'median_accuracy',\n",
    "            'skew_accuracy']\n",
    "\n",
    "target = 'answered_correctly'\n",
    "\n",
    "train_df = train_df.fillna(value=0.5)\n",
    "\n",
    "print('features:', len(features))\n",
    "print(train_df.isnull().sum())"
   ]
  },
  {
   "cell_type": "code",
   "execution_count": 42,
   "metadata": {
    "execution": {
     "iopub.execute_input": "2021-01-07T13:38:29.462934Z",
     "iopub.status.busy": "2021-01-07T13:38:29.462267Z",
     "iopub.status.idle": "2021-01-07T13:38:30.791993Z",
     "shell.execute_reply": "2021-01-07T13:38:30.791356Z"
    },
    "papermill": {
     "duration": 1.381482,
     "end_time": "2021-01-07T13:38:30.792133",
     "exception": false,
     "start_time": "2021-01-07T13:38:29.410651",
     "status": "completed"
    },
    "tags": []
   },
   "outputs": [],
   "source": [
    "# train_df, test_df = train_test_split(train_df, random_state=666, test_size=0.2)\n",
    "\n",
    "test_df = train_df.groupby('user_id').tail(6)\n",
    "train_df.drop(test_df.index, inplace=True)"
   ]
  },
  {
   "cell_type": "code",
   "execution_count": 43,
   "metadata": {
    "execution": {
     "iopub.execute_input": "2021-01-07T13:38:30.892710Z",
     "iopub.status.busy": "2021-01-07T13:38:30.891505Z",
     "iopub.status.idle": "2021-01-07T13:38:30.899380Z",
     "shell.execute_reply": "2021-01-07T13:38:30.898582Z"
    },
    "papermill": {
     "duration": 0.062202,
     "end_time": "2021-01-07T13:38:30.899512",
     "exception": false,
     "start_time": "2021-01-07T13:38:30.837310",
     "status": "completed"
    },
    "tags": []
   },
   "outputs": [
    {
     "data": {
      "text/plain": [
       "'\\ndef create_model(trial):\\n    num_leaves = trial.suggest_int(\"num_leaves\", 2, 31)\\n    n_estimators = trial.suggest_int(\"n_estimators\", 50, 300)\\n    max_depth = trial.suggest_int(\\'max_depth\\', 3, 8)\\n    min_child_samples = trial.suggest_int(\\'min_child_samples\\', 100, 1200)\\n    learning_rate = trial.suggest_uniform(\\'learning_rate\\', 0.0001, 0.99)\\n    min_data_in_leaf = trial.suggest_int(\\'min_data_in_leaf\\', 5, 90)\\n    bagging_fraction = trial.suggest_uniform(\\'bagging_fraction\\', 0.0001, 1.0)\\n    feature_fraction = trial.suggest_uniform(\\'feature_fraction\\', 0.0001, 1.0)\\n    \\n    model = lgb.LGBMClassifier(\\n        num_leaves=num_leaves,\\n        n_estimators=n_estimators, \\n        max_depth=max_depth, \\n        min_child_samples=min_child_samples, \\n        min_data_in_leaf=min_data_in_leaf,\\n        learning_rate=learning_rate,\\n        feature_fraction=feature_fraction,\\n        random_state=666\\n    )\\n    return model\\n    \\ndef objective(trial):\\n    model = create_model(trial)\\n    model.fit(train_df[features], train_df[target])\\n    score = roc_auc_score(\\n        test_df[target].values, \\n        model.predict_proba(test_df[features])[:,1]\\n    )\\n    return score\\n    \\nstudy = optuna.create_study(direction=\"maximize\")\\nstudy.optimize(objective, n_trials=70)\\nparams = study.best_params\\n\\nprint(params)\\n\\n'"
      ]
     },
     "execution_count": 43,
     "metadata": {},
     "output_type": "execute_result"
    }
   ],
   "source": [
    "'''\n",
    "def create_model(trial):\n",
    "    num_leaves = trial.suggest_int(\"num_leaves\", 2, 31)\n",
    "    n_estimators = trial.suggest_int(\"n_estimators\", 50, 300)\n",
    "    max_depth = trial.suggest_int('max_depth', 3, 8)\n",
    "    min_child_samples = trial.suggest_int('min_child_samples', 100, 1200)\n",
    "    learning_rate = trial.suggest_uniform('learning_rate', 0.0001, 0.99)\n",
    "    min_data_in_leaf = trial.suggest_int('min_data_in_leaf', 5, 90)\n",
    "    bagging_fraction = trial.suggest_uniform('bagging_fraction', 0.0001, 1.0)\n",
    "    feature_fraction = trial.suggest_uniform('feature_fraction', 0.0001, 1.0)\n",
    "    \n",
    "    model = lgb.LGBMClassifier(\n",
    "        num_leaves=num_leaves,\n",
    "        n_estimators=n_estimators, \n",
    "        max_depth=max_depth, \n",
    "        min_child_samples=min_child_samples, \n",
    "        min_data_in_leaf=min_data_in_leaf,\n",
    "        learning_rate=learning_rate,\n",
    "        feature_fraction=feature_fraction,\n",
    "        random_state=666\n",
    "    )\n",
    "    return model\n",
    "    \n",
    "def objective(trial):\n",
    "    model = create_model(trial)\n",
    "    model.fit(train_df[features], train_df[target])\n",
    "    score = roc_auc_score(\n",
    "        test_df[target].values, \n",
    "        model.predict_proba(test_df[features])[:,1]\n",
    "    )\n",
    "    return score\n",
    "    \n",
    "study = optuna.create_study(direction=\"maximize\")\n",
    "study.optimize(objective, n_trials=70)\n",
    "params = study.best_params\n",
    "\n",
    "print(params)\n",
    "\n",
    "'''"
   ]
  },
  {
   "cell_type": "code",
   "execution_count": 44,
   "metadata": {
    "execution": {
     "iopub.execute_input": "2021-01-07T13:38:31.004583Z",
     "iopub.status.busy": "2021-01-07T13:38:31.003740Z",
     "iopub.status.idle": "2021-01-07T13:38:31.008838Z",
     "shell.execute_reply": "2021-01-07T13:38:31.007923Z"
    },
    "papermill": {
     "duration": 0.057426,
     "end_time": "2021-01-07T13:38:31.008985",
     "exception": false,
     "start_time": "2021-01-07T13:38:30.951559",
     "status": "completed"
    },
    "tags": []
   },
   "outputs": [
    {
     "data": {
      "text/plain": [
       "\"\\nparams = {'num_leaves': 19,\\n          'n_estimators': 253,\\n          'max_depth': 7,\\n          'min_child_samples': 917,\\n          'learning_rate': 0.08837048153511577,\\n          'min_data_in_leaf': 5,\\n          'bagging_fraction': 0.14076488112326396,\\n          'feature_fraction': 0.5982015442187711}\\n          \\n\""
      ]
     },
     "execution_count": 44,
     "metadata": {},
     "output_type": "execute_result"
    }
   ],
   "source": [
    "# 10**6\n",
    "\n",
    "'''\n",
    "params = {'num_leaves': 19,\n",
    "          'n_estimators': 253,\n",
    "          'max_depth': 7,\n",
    "          'min_child_samples': 917,\n",
    "          'learning_rate': 0.08837048153511577,\n",
    "          'min_data_in_leaf': 5,\n",
    "          'bagging_fraction': 0.14076488112326396,\n",
    "          'feature_fraction': 0.5982015442187711}\n",
    "          \n",
    "'''"
   ]
  },
  {
   "cell_type": "code",
   "execution_count": 45,
   "metadata": {
    "execution": {
     "iopub.execute_input": "2021-01-07T13:38:31.111837Z",
     "iopub.status.busy": "2021-01-07T13:38:31.111173Z",
     "iopub.status.idle": "2021-01-07T13:38:31.114682Z",
     "shell.execute_reply": "2021-01-07T13:38:31.114108Z"
    },
    "papermill": {
     "duration": 0.056847,
     "end_time": "2021-01-07T13:38:31.114796",
     "exception": false,
     "start_time": "2021-01-07T13:38:31.057949",
     "status": "completed"
    },
    "tags": []
   },
   "outputs": [],
   "source": [
    "# 50*(10**6)\n",
    "\n",
    "params = {'num_leaves': 20,\n",
    "          'n_estimators': 248,\n",
    "          'max_depth': 5,\n",
    "          'min_child_samples': 746,\n",
    "          'learning_rate': 0.7807865357938443,\n",
    "          'min_data_in_leaf': 70,\n",
    "          'bagging_fraction': 0.35616414641610444,\n",
    "          'feature_fraction': 0.7300985638944109}"
   ]
  },
  {
   "cell_type": "code",
   "execution_count": 46,
   "metadata": {
    "execution": {
     "iopub.execute_input": "2021-01-07T13:38:31.221531Z",
     "iopub.status.busy": "2021-01-07T13:38:31.220811Z",
     "iopub.status.idle": "2021-01-07T13:39:47.684249Z",
     "shell.execute_reply": "2021-01-07T13:39:47.684775Z"
    },
    "papermill": {
     "duration": 76.52228,
     "end_time": "2021-01-07T13:39:47.684924",
     "exception": false,
     "start_time": "2021-01-07T13:38:31.162644",
     "status": "completed"
    },
    "tags": []
   },
   "outputs": [
    {
     "name": "stdout",
     "output_type": "stream",
     "text": [
      "LGB score:  0.7242878516964628\n"
     ]
    },
    {
     "data": {
      "image/png": "[encoded data removed]",
      "text/plain": [
       "<Figure size 1080x1080 with 1 Axes>"
      ]
     },
     "metadata": {
      "needs_background": "light"
     },
     "output_type": "display_data"
    }
   ],
   "source": [
    "model = lgb.LGBMClassifier(**params)\n",
    "model.fit(train_df[features], train_df[target])\n",
    "\n",
    "print('LGB score: ', roc_auc_score(test_df[target].values, model.predict_proba(test_df[features])[:,1]))\n",
    "\n",
    "fig,ax = plt.subplots(figsize=(15,15))\n",
    "lgb.plot_importance(model, ax=ax,importance_type='gain',max_num_features=50)\n",
    "plt.show()"
   ]
  },
  {
   "cell_type": "code",
   "execution_count": 47,
   "metadata": {
    "execution": {
     "iopub.execute_input": "2021-01-07T13:39:47.786412Z",
     "iopub.status.busy": "2021-01-07T13:39:47.785773Z",
     "iopub.status.idle": "2021-01-07T13:39:47.790298Z",
     "shell.execute_reply": "2021-01-07T13:39:47.789766Z"
    },
    "papermill": {
     "duration": 0.056341,
     "end_time": "2021-01-07T13:39:47.790419",
     "exception": false,
     "start_time": "2021-01-07T13:39:47.734078",
     "status": "completed"
    },
    "tags": []
   },
   "outputs": [],
   "source": [
    "# test_df = pd.read_csv(\"/kaggle/input/riiid-test-answer-prediction/example_test.csv\")\n",
    "\n",
    "# print(test_df.dtypes)\n",
    "# print(test_df.shape)\n",
    "# test_df.head()"
   ]
  },
  {
   "cell_type": "code",
   "execution_count": 48,
   "metadata": {
    "execution": {
     "iopub.execute_input": "2021-01-07T13:39:47.895029Z",
     "iopub.status.busy": "2021-01-07T13:39:47.894118Z",
     "iopub.status.idle": "2021-01-07T13:39:47.896680Z",
     "shell.execute_reply": "2021-01-07T13:39:47.897208Z"
    },
    "papermill": {
     "duration": 0.05766,
     "end_time": "2021-01-07T13:39:47.897378",
     "exception": false,
     "start_time": "2021-01-07T13:39:47.839718",
     "status": "completed"
    },
    "tags": []
   },
   "outputs": [],
   "source": [
    "env = riiideducation.make_env()\n",
    "iter_test = env.iter_test()"
   ]
  },
  {
   "cell_type": "code",
   "execution_count": 49,
   "metadata": {
    "execution": {
     "iopub.execute_input": "2021-01-07T13:39:48.003375Z",
     "iopub.status.busy": "2021-01-07T13:39:48.002598Z",
     "iopub.status.idle": "2021-01-07T13:39:48.005956Z",
     "shell.execute_reply": "2021-01-07T13:39:48.005430Z"
    },
    "papermill": {
     "duration": 0.059189,
     "end_time": "2021-01-07T13:39:48.006098",
     "exception": false,
     "start_time": "2021-01-07T13:39:47.946909",
     "status": "completed"
    },
    "tags": []
   },
   "outputs": [],
   "source": [
    "data_types_dict = {'timestamp': 'int64',\n",
    "                   'user_id': 'int32',\n",
    "                   'content_id': 'int16',\n",
    "                   'content_type_id': 'int8',\n",
    "                   'task_container_id': 'int16',\n",
    "                   'prior_question_elapsed_time': 'float32',\n",
    "                   'prior_question_had_explanation': 'boolean'}\n",
    "\n",
    "# submit(+ row_id)\n",
    "default_features = ['row_id',\n",
    "                    'timestamp',\n",
    "                    'user_id',\n",
    "                    'content_id',\n",
    "                    'content_type_id',\n",
    "                    'task_container_id',\n",
    "                    'prior_question_elapsed_time',\n",
    "                    'prior_question_had_explanation']\n",
    "\n",
    "# print(default_features)\n",
    "# print(data_types_dict)"
   ]
  },
  {
   "cell_type": "code",
   "execution_count": 50,
   "metadata": {
    "execution": {
     "iopub.execute_input": "2021-01-07T13:39:48.126499Z",
     "iopub.status.busy": "2021-01-07T13:39:48.121153Z",
     "iopub.status.idle": "2021-01-07T13:39:49.796661Z",
     "shell.execute_reply": "2021-01-07T13:39:49.795855Z"
    },
    "papermill": {
     "duration": 1.73968,
     "end_time": "2021-01-07T13:39:49.796798",
     "exception": false,
     "start_time": "2021-01-07T13:39:48.057118",
     "status": "completed"
    },
    "tags": []
   },
   "outputs": [],
   "source": [
    "for (test_df, sample_prediction_df) in iter_test:\n",
    "    \n",
    "    test_df = test_df[default_features]\n",
    "    \n",
    "    # test_lectures = test_df[test_df.content_type_id == True].merge(lectures_df, left_on='content_id', right_on='lecture_id', how='left')\n",
    "    # user_lecture_stats_part = test_lectures.groupby('user_id',as_index = False)[part_lectures_columns + types_of_lectures_columns].sum()\n",
    "    \n",
    "    # del(lectures_df)\n",
    "    # del(test_lectures)\n",
    "    # gc.collect()\n",
    "    \n",
    "    user_lecture_agg = test_df.groupby('user_id')['content_type_id'].agg(['sum', 'count'])\n",
    "    user_lecture_agg = user_lecture_agg.astype('int16')\n",
    "    \n",
    "    cum = test_df.groupby('user_id')['content_type_id'].agg(['cumsum', 'cumcount'])\n",
    "    cum['cumcount'] = cum['cumcount'] + 1\n",
    "    \n",
    "    test_df['user_interaction_count'] = cum['cumcount'] \n",
    "    test_df['user_interaction_timestamp_mean'] = test_df['timestamp'] / cum['cumcount'] \n",
    "    test_df['user_lecture_sum'] = cum['cumsum'] \n",
    "    test_df['user_lecture_lv'] = cum['cumsum'] / cum['cumcount']\n",
    "\n",
    "    test_df['user_lecture_lv'] = test_df['user_lecture_lv'].astype('float16')\n",
    "    test_df['user_lecture_sum'] = test_df['user_lecture_sum'].astype('int16')\n",
    "    test_df['user_interaction_count'] = test_df['user_interaction_count'].astype('int16')\n",
    "    test_df['user_interaction_timestamp_mean'] = test_df['user_interaction_timestamp_mean'] / (1000*3600)\n",
    "    test_df['user_interaction_timestamp_mean'] = test_df['user_interaction_timestamp_mean'].astype('float32')\n",
    "    \n",
    "    del cum\n",
    "    gc.collect()\n",
    "    \n",
    "    test_df['prior_question_had_explanation'].fillna(False, inplace=True)\n",
    "    test_df = test_df.astype(data_types_dict)\n",
    "    # test_df = test_df[test_df[target] != -1].reset_index(drop=True)\n",
    "    \n",
    "    # content_explation_agg = test_df[[\"content_id\",\"prior_question_had_explanation\",target]].groupby([\"content_id\",\"prior_question_had_explanation\"])[target].agg(['mean'])\n",
    "    \n",
    "    # content_explation_agg = content_explation_agg.unstack()\n",
    "    # content_explation_agg = content_explation_agg.reset_index()\n",
    "    # content_explation_agg.columns = ['content_id', 'content_explation_false_mean','content_explation_true_mean']\n",
    "\n",
    "    # content_explation_agg['content_id'] = content_explation_agg['content_id'].astype('int16')\n",
    "    # content_explation_agg['content_explation_false_mean'] = content_explation_agg['content_explation_false_mean'].astype('float16')\n",
    "    # content_explation_agg['content_explation_true_mean'] = content_explation_agg['content_explation_true_mean'].astype('float16')\n",
    "    \n",
    "    test_df[\"attempt_no\"] = 1\n",
    "    test_df[\"attempt_no\"] = test_df[\"attempt_no\"].astype('int8')\n",
    "    attempt_no_agg = test_df.groupby([\"user_id\",\"content_id\"])[\"attempt_no\"].agg(['sum']).astype('int8')\n",
    "    \n",
    "    test_df[\"attempt_no\"] = test_df[[\"user_id\",\"content_id\",'attempt_no']].groupby([\"user_id\",\"content_id\"])[\"attempt_no\"].cumsum()\n",
    "    attempt_no_agg = attempt_no_agg[attempt_no_agg['sum'] > 1]\n",
    "    prior_question_elapsed_time_mean = test_df['prior_question_elapsed_time'].mean()\n",
    "    test_df['prior_question_elapsed_time'].fillna(prior_question_elapsed_time_mean, inplace=True)\n",
    "    \n",
    "    max_timestamp_u = test_df[['user_id','timestamp']].groupby(['user_id'])['timestamp'].agg(['max']).reset_index()\n",
    "    max_timestamp_u.columns = ['user_id', 'max_time_stamp']\n",
    "    max_timestamp_u['user_id'] = max_timestamp_u['user_id'].astype('int32')\n",
    "    \n",
    "    test_df['lagtime'] = test_df.groupby('user_id')['timestamp'].shift()\n",
    "    \n",
    "    max_timestamp_u2 = test_df[['user_id','lagtime']].groupby(['user_id'])['lagtime'].agg(['max']).reset_index()\n",
    "    max_timestamp_u2.columns = ['user_id', 'max_time_stamp2']\n",
    "    max_timestamp_u2['user_id'] = max_timestamp_u2['user_id'].astype('int32')\n",
    "    \n",
    "    test_df['lagtime'] = test_df['timestamp'] - test_df['lagtime']\n",
    "\n",
    "    lagtime_mean = test_df['lagtime'].mean()\n",
    "    test_df['lagtime'].fillna(lagtime_mean, inplace=True)\n",
    "\n",
    "    test_df['lagtime'] = test_df['lagtime'] / (1000*3600)\n",
    "    test_df['lagtime'] = test_df['lagtime'].astype('float32')\n",
    "    \n",
    "    test_df['lagtime2'] = test_df.groupby('user_id')['timestamp'].shift(2)\n",
    "    \n",
    "    max_timestamp_u3 = test_df[['user_id','lagtime2']].groupby(['user_id']).agg(['max']).reset_index()\n",
    "    max_timestamp_u3.columns = ['user_id', 'max_time_stamp3']\n",
    "    max_timestamp_u3['user_id'] = max_timestamp_u3['user_id'].astype('int32')\n",
    "    \n",
    "    test_df['lagtime2'] = test_df['timestamp'] - test_df['lagtime2']\n",
    "\n",
    "    lagtime_mean2 = test_df['lagtime2'].mean()\n",
    "    test_df['lagtime2'].fillna(lagtime_mean2, inplace=True)\n",
    "\n",
    "    test_df['lagtime2'] = test_df['lagtime2'] / (1000*3600)\n",
    "    test_df['lagtime2'] = test_df['lagtime2'].astype('float32')\n",
    "    \n",
    "    test_df['lagtime3'] = test_df.groupby('user_id')['timestamp'].shift(3)\n",
    "    test_df['lagtime3'] = test_df['timestamp'] - test_df['lagtime3']\n",
    "\n",
    "    lagtime_mean3 = test_df['lagtime3'].mean()\n",
    "    test_df['lagtime3'].fillna(lagtime_mean3, inplace=True)\n",
    "\n",
    "    test_df['lagtime3'] = test_df['lagtime3'] / (1000*3600)\n",
    "    test_df['lagtime3'] = test_df['lagtime3'].astype('float32')\n",
    "    \n",
    "    test_df['timestamp'] = test_df['timestamp'] / (1000*3600)\n",
    "    test_df['timestamp'] = test_df['timestamp'].astype('float16')\n",
    "    \n",
    "    user_prior_question_elapsed_time = test_df[['user_id','prior_question_elapsed_time']].groupby(['user_id']).tail(1)\n",
    "    user_prior_question_elapsed_time.columns = ['user_id', 'prior_question_elapsed_time']\n",
    "    \n",
    "    test_df['delta_prior_question_elapsed_time'] = test_df.groupby('user_id')['prior_question_elapsed_time'].shift()\n",
    "    test_df['delta_prior_question_elapsed_time'] = test_df['prior_question_elapsed_time'] - test_df['delta_prior_question_elapsed_time']\n",
    "\n",
    "    delta_prior_question_elapsed_time_mean = test_df['delta_prior_question_elapsed_time'].mean()\n",
    "    test_df['delta_prior_question_elapsed_time'].fillna(delta_prior_question_elapsed_time_mean, inplace=True)\n",
    "\n",
    "    test_df['delta_prior_question_elapsed_time'] = train_df['delta_prior_question_elapsed_time'].astype('int32')\n",
    "    \n",
    "    test_df['prior_question_had_explanation'] = test_df['prior_question_had_explanation'].astype('int8')\n",
    "\n",
    "    explanation_agg = test_df.groupby('user_id')['prior_question_had_explanation'].agg(['sum', 'count'])\n",
    "    explanation_agg = explanation_agg.astype('int16')\n",
    "    \n",
    "    cum = test_df.groupby('user_id')['prior_question_had_explanation'].agg(['cumsum', 'cumcount'])\n",
    "    cum['cumcount'] = cum['cumcount'] + 1\n",
    "\n",
    "    test_df['explanation_mean'] = cum['cumsum'] / cum['cumcount']\n",
    "    test_df['explanation_true_count'] = cum['cumsum'] \n",
    "    test_df['explanation_false_count'] =  cum['cumcount'] - cum['cumsum']\n",
    "    \n",
    "    test_df['prior_question_had_explanation'] = test_df['prior_question_had_explanation'].astype(int)\n",
    "    \n",
    "    test_df = test_df.merge(user_answers_df, how='left', on='user_id')\n",
    "    test_df = test_df.merge(content_answers_df, how='left', on='content_id')\n",
    "    test_df.fillna(0.5, inplace=True)\n",
    "    \n",
    "    # target\n",
    "    test_df[target] = 1\n",
    "    test_df[target] = model.predict(test_df[features])\n",
    "    \n",
    "    # submit_data\n",
    "    env.predict(test_df.loc[test_df['content_type_id'] == 0, ['row_id', 'answered_correctly']])"
   ]
  }
 ],
 "metadata": {
  "kernelspec": {
   "display_name": "Python 3",
   "language": "python",
   "name": "python3"
  },
  "language_info": {
   "codemirror_mode": {
    "name": "ipython",
    "version": 3
   },
   "file_extension": ".py",
   "mimetype": "text/x-python",
   "name": "python",
   "nbconvert_exporter": "python",
   "pygments_lexer": "ipython3",
   "version": "3.7.6"
  },
  "papermill": {
   "duration": 443.834897,
   "end_time": "2021-01-07T13:39:50.056459",
   "environment_variables": {},
   "exception": null,
   "input_path": "__notebook__.ipynb",
   "output_path": "__notebook__.ipynb",
   "parameters": {},
   "start_time": "2021-01-07T13:32:26.221562",
   "version": "2.1.0"
  }
 },
 "nbformat": 4,
 "nbformat_minor": 4
}
