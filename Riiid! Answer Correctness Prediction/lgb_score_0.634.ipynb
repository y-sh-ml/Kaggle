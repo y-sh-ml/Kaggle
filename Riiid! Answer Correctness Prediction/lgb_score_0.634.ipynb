{
 "cells": [
  {
   "cell_type": "code",
   "execution_count": 1,
   "metadata": {
    "_cell_guid": "b1076dfc-b9ad-4769-8c92-a6c4dae69d19",
    "_uuid": "8f2839f25d086af736a60e9eeb907d3b93b6e0e5",
    "execution": {
     "iopub.execute_input": "2020-12-09T12:53:17.955869Z",
     "iopub.status.busy": "2020-12-09T12:53:17.955119Z",
     "iopub.status.idle": "2020-12-09T12:53:17.980746Z",
     "shell.execute_reply": "2020-12-09T12:53:17.981385Z"
    },
    "papermill": {
     "duration": 0.050616,
     "end_time": "2020-12-09T12:53:17.981570",
     "exception": false,
     "start_time": "2020-12-09T12:53:17.930954",
     "status": "completed"
    },
    "tags": []
   },
   "outputs": [
    {
     "name": "stdout",
     "output_type": "stream",
     "text": [
      "/kaggle/input/riiid-test-answer-prediction/example_sample_submission.csv\n",
      "/kaggle/input/riiid-test-answer-prediction/example_test.csv\n",
      "/kaggle/input/riiid-test-answer-prediction/questions.csv\n",
      "/kaggle/input/riiid-test-answer-prediction/train.csv\n",
      "/kaggle/input/riiid-test-answer-prediction/lectures.csv\n",
      "/kaggle/input/riiid-test-answer-prediction/riiideducation/competition.cpython-37m-x86_64-linux-gnu.so\n",
      "/kaggle/input/riiid-test-answer-prediction/riiideducation/__init__.py\n"
     ]
    }
   ],
   "source": [
    "# This Python 3 environment comes with many helpful analytics libraries installed\n",
    "# It is defined by the kaggle/python Docker image: https://github.com/kaggle/docker-python\n",
    "# For example, here's several helpful packages to load\n",
    "\n",
    "import numpy as np # linear algebra\n",
    "import pandas as pd # data processing, CSV file I/O (e.g. pd.read_csv)\n",
    "\n",
    "# Input data files are available in the read-only \"../input/\" directory\n",
    "# For example, running this (by clicking run or pressing Shift+Enter) will list all files under the input directory\n",
    "\n",
    "import os\n",
    "for dirname, _, filenames in os.walk('/kaggle/input'):\n",
    "    for filename in filenames:\n",
    "        print(os.path.join(dirname, filename))\n",
    "\n",
    "# You can write up to 20GB to the current directory (/kaggle/working/) that gets preserved as output when you create a version using \"Save & Run All\" \n",
    "# You can also write temporary files to /kaggle/temp/, but they won't be saved outside of the current session"
   ]
  },
  {
   "cell_type": "code",
   "execution_count": 2,
   "metadata": {
    "execution": {
     "iopub.execute_input": "2020-12-09T12:53:18.019617Z",
     "iopub.status.busy": "2020-12-09T12:53:18.018805Z",
     "iopub.status.idle": "2020-12-09T12:53:20.146029Z",
     "shell.execute_reply": "2020-12-09T12:53:20.145319Z"
    },
    "papermill": {
     "duration": 2.148115,
     "end_time": "2020-12-09T12:53:20.146153",
     "exception": false,
     "start_time": "2020-12-09T12:53:17.998038",
     "status": "completed"
    },
    "tags": []
   },
   "outputs": [
    {
     "data": {
      "text/html": [
       "<style type='text/css'>\n",
       ".datatable table.frame { margin-bottom: 0; }\n",
       ".datatable table.frame thead { border-bottom: none; }\n",
       ".datatable table.frame tr.coltypes td {  color: #FFFFFF;  line-height: 6px;  padding: 0 0.5em;}\n",
       ".datatable .bool    { background: #DDDD99; }\n",
       ".datatable .object  { background: #565656; }\n",
       ".datatable .int     { background: #5D9E5D; }\n",
       ".datatable .float   { background: #4040CC; }\n",
       ".datatable .str     { background: #CC4040; }\n",
       ".datatable .row_index {  background: var(--jp-border-color3);  border-right: 1px solid var(--jp-border-color0);  color: var(--jp-ui-font-color3);  font-size: 9px;}\n",
       ".datatable .frame tr.coltypes .row_index {  background: var(--jp-border-color0);}\n",
       ".datatable th:nth-child(2) { padding-left: 12px; }\n",
       ".datatable .hellipsis {  color: var(--jp-cell-editor-border-color);}\n",
       ".datatable .vellipsis {  background: var(--jp-layout-color0);  color: var(--jp-cell-editor-border-color);}\n",
       ".datatable .na {  color: var(--jp-cell-editor-border-color);  font-size: 80%;}\n",
       ".datatable .footer { font-size: 9px; }\n",
       ".datatable .frame_dimensions {  background: var(--jp-border-color3);  border-top: 1px solid var(--jp-border-color0);  color: var(--jp-ui-font-color3);  display: inline-block;  opacity: 0.6;  padding: 1px 10px 1px 5px;}\n",
       ".datatable .frame thead tr.colnames {  background-image: url('data:image/png;base64,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');  background-repeat: repeat-x;  background-size: 14px;  height: 28px;}\n",
       "</style>\n"
      ],
      "text/plain": [
       "<IPython.core.display.HTML object>"
      ]
     },
     "metadata": {},
     "output_type": "display_data"
    }
   ],
   "source": [
    "from sklearn import preprocessing\n",
    "from sklearn.model_selection import train_test_split\n",
    "import optuna\n",
    "import lightgbm as lgb\n",
    "from sklearn.metrics import roc_auc_score"
   ]
  },
  {
   "cell_type": "code",
   "execution_count": 3,
   "metadata": {
    "execution": {
     "iopub.execute_input": "2020-12-09T12:53:20.186949Z",
     "iopub.status.busy": "2020-12-09T12:53:20.186146Z",
     "iopub.status.idle": "2020-12-09T12:53:20.252150Z",
     "shell.execute_reply": "2020-12-09T12:53:20.251401Z"
    },
    "papermill": {
     "duration": 0.088709,
     "end_time": "2020-12-09T12:53:20.252273",
     "exception": false,
     "start_time": "2020-12-09T12:53:20.163564",
     "status": "completed"
    },
    "tags": []
   },
   "outputs": [],
   "source": [
    "import riiideducation\n",
    "env = riiideducation.make_env()\n",
    "iter_test = env.iter_test()"
   ]
  },
  {
   "cell_type": "markdown",
   "metadata": {
    "papermill": {
     "duration": 0.016425,
     "end_time": "2020-12-09T12:53:20.285382",
     "exception": false,
     "start_time": "2020-12-09T12:53:20.268957",
     "status": "completed"
    },
    "tags": []
   },
   "source": [
    "# Data"
   ]
  },
  {
   "cell_type": "code",
   "execution_count": 4,
   "metadata": {
    "execution": {
     "iopub.execute_input": "2020-12-09T12:53:20.331441Z",
     "iopub.status.busy": "2020-12-09T12:53:20.330724Z",
     "iopub.status.idle": "2020-12-09T12:53:22.729355Z",
     "shell.execute_reply": "2020-12-09T12:53:22.728614Z"
    },
    "papermill": {
     "duration": 2.426742,
     "end_time": "2020-12-09T12:53:22.729481",
     "exception": false,
     "start_time": "2020-12-09T12:53:20.302739",
     "status": "completed"
    },
    "tags": []
   },
   "outputs": [
    {
     "name": "stdout",
     "output_type": "stream",
     "text": [
      "timestamp                           int64\n",
      "user_id                             int32\n",
      "content_id                          int16\n",
      "answered_correctly                   int8\n",
      "prior_question_elapsed_time       float16\n",
      "prior_question_had_explanation    boolean\n",
      "dtype: object\n",
      "(1000000, 6)\n"
     ]
    },
    {
     "data": {
      "text/html": [
       "<div>\n",
       "<style scoped>\n",
       "    .dataframe tbody tr th:only-of-type {\n",
       "        vertical-align: middle;\n",
       "    }\n",
       "\n",
       "    .dataframe tbody tr th {\n",
       "        vertical-align: top;\n",
       "    }\n",
       "\n",
       "    .dataframe thead th {\n",
       "        text-align: right;\n",
       "    }\n",
       "</style>\n",
       "<table border=\"1\" class=\"dataframe\">\n",
       "  <thead>\n",
       "    <tr style=\"text-align: right;\">\n",
       "      <th></th>\n",
       "      <th>timestamp</th>\n",
       "      <th>user_id</th>\n",
       "      <th>content_id</th>\n",
       "      <th>answered_correctly</th>\n",
       "      <th>prior_question_elapsed_time</th>\n",
       "      <th>prior_question_had_explanation</th>\n",
       "    </tr>\n",
       "    <tr>\n",
       "      <th>row_id</th>\n",
       "      <th></th>\n",
       "      <th></th>\n",
       "      <th></th>\n",
       "      <th></th>\n",
       "      <th></th>\n",
       "      <th></th>\n",
       "    </tr>\n",
       "  </thead>\n",
       "  <tbody>\n",
       "    <tr>\n",
       "      <th>0</th>\n",
       "      <td>0</td>\n",
       "      <td>115</td>\n",
       "      <td>5692</td>\n",
       "      <td>1</td>\n",
       "      <td>NaN</td>\n",
       "      <td>&lt;NA&gt;</td>\n",
       "    </tr>\n",
       "    <tr>\n",
       "      <th>1</th>\n",
       "      <td>56943</td>\n",
       "      <td>115</td>\n",
       "      <td>5716</td>\n",
       "      <td>1</td>\n",
       "      <td>36992.0</td>\n",
       "      <td>False</td>\n",
       "    </tr>\n",
       "    <tr>\n",
       "      <th>2</th>\n",
       "      <td>118363</td>\n",
       "      <td>115</td>\n",
       "      <td>128</td>\n",
       "      <td>1</td>\n",
       "      <td>55008.0</td>\n",
       "      <td>False</td>\n",
       "    </tr>\n",
       "    <tr>\n",
       "      <th>3</th>\n",
       "      <td>131167</td>\n",
       "      <td>115</td>\n",
       "      <td>7860</td>\n",
       "      <td>1</td>\n",
       "      <td>19008.0</td>\n",
       "      <td>False</td>\n",
       "    </tr>\n",
       "    <tr>\n",
       "      <th>4</th>\n",
       "      <td>137965</td>\n",
       "      <td>115</td>\n",
       "      <td>7922</td>\n",
       "      <td>1</td>\n",
       "      <td>11000.0</td>\n",
       "      <td>False</td>\n",
       "    </tr>\n",
       "  </tbody>\n",
       "</table>\n",
       "</div>"
      ],
      "text/plain": [
       "        timestamp  user_id  content_id  answered_correctly  \\\n",
       "row_id                                                       \n",
       "0               0      115        5692                   1   \n",
       "1           56943      115        5716                   1   \n",
       "2          118363      115         128                   1   \n",
       "3          131167      115        7860                   1   \n",
       "4          137965      115        7922                   1   \n",
       "\n",
       "        prior_question_elapsed_time  prior_question_had_explanation  \n",
       "row_id                                                               \n",
       "0                               NaN                            <NA>  \n",
       "1                           36992.0                           False  \n",
       "2                           55008.0                           False  \n",
       "3                           19008.0                           False  \n",
       "4                           11000.0                           False  "
      ]
     },
     "execution_count": 4,
     "metadata": {},
     "output_type": "execute_result"
    }
   ],
   "source": [
    "used_data_types_dict = {\n",
    "    'row_id': 'int32',\n",
    "    'timestamp': 'int64',\n",
    "    'user_id': 'int32',\n",
    "    'content_id': 'int16',\n",
    "    'answered_correctly': 'int8',\n",
    "    'prior_question_elapsed_time': 'float16',\n",
    "    'prior_question_had_explanation': 'boolean'\n",
    "}\n",
    "\n",
    "train_df = pd.read_csv('/kaggle/input/riiid-test-answer-prediction/train.csv',\n",
    "                       usecols = used_data_types_dict.keys(),\n",
    "                       dtype=used_data_types_dict,\n",
    "                       index_col = 0,\n",
    "                       nrows=10**6)\n",
    "\n",
    "print(train_df.dtypes)\n",
    "print(train_df.shape)\n",
    "train_df.head()"
   ]
  },
  {
   "cell_type": "code",
   "execution_count": 5,
   "metadata": {
    "execution": {
     "iopub.execute_input": "2020-12-09T12:53:22.772617Z",
     "iopub.status.busy": "2020-12-09T12:53:22.771829Z",
     "iopub.status.idle": "2020-12-09T12:53:22.799476Z",
     "shell.execute_reply": "2020-12-09T12:53:22.798625Z"
    },
    "papermill": {
     "duration": 0.052619,
     "end_time": "2020-12-09T12:53:22.799645",
     "exception": false,
     "start_time": "2020-12-09T12:53:22.747026",
     "status": "completed"
    },
    "tags": []
   },
   "outputs": [
    {
     "name": "stdout",
     "output_type": "stream",
     "text": [
      "(104, 11)\n"
     ]
    },
    {
     "data": {
      "text/html": [
       "<div>\n",
       "<style scoped>\n",
       "    .dataframe tbody tr th:only-of-type {\n",
       "        vertical-align: middle;\n",
       "    }\n",
       "\n",
       "    .dataframe tbody tr th {\n",
       "        vertical-align: top;\n",
       "    }\n",
       "\n",
       "    .dataframe thead th {\n",
       "        text-align: right;\n",
       "    }\n",
       "</style>\n",
       "<table border=\"1\" class=\"dataframe\">\n",
       "  <thead>\n",
       "    <tr style=\"text-align: right;\">\n",
       "      <th></th>\n",
       "      <th>row_id</th>\n",
       "      <th>group_num</th>\n",
       "      <th>timestamp</th>\n",
       "      <th>user_id</th>\n",
       "      <th>content_id</th>\n",
       "      <th>content_type_id</th>\n",
       "      <th>task_container_id</th>\n",
       "      <th>prior_question_elapsed_time</th>\n",
       "      <th>prior_question_had_explanation</th>\n",
       "      <th>prior_group_answers_correct</th>\n",
       "      <th>prior_group_responses</th>\n",
       "    </tr>\n",
       "  </thead>\n",
       "  <tbody>\n",
       "    <tr>\n",
       "      <th>0</th>\n",
       "      <td>0</td>\n",
       "      <td>0</td>\n",
       "      <td>0</td>\n",
       "      <td>275030867</td>\n",
       "      <td>5729</td>\n",
       "      <td>0</td>\n",
       "      <td>0</td>\n",
       "      <td>NaN</td>\n",
       "      <td>NaN</td>\n",
       "      <td>[]</td>\n",
       "      <td>[]</td>\n",
       "    </tr>\n",
       "    <tr>\n",
       "      <th>1</th>\n",
       "      <td>1</td>\n",
       "      <td>0</td>\n",
       "      <td>13309898705</td>\n",
       "      <td>554169193</td>\n",
       "      <td>12010</td>\n",
       "      <td>0</td>\n",
       "      <td>4427</td>\n",
       "      <td>19000.0</td>\n",
       "      <td>True</td>\n",
       "      <td>NaN</td>\n",
       "      <td>NaN</td>\n",
       "    </tr>\n",
       "    <tr>\n",
       "      <th>2</th>\n",
       "      <td>2</td>\n",
       "      <td>0</td>\n",
       "      <td>4213672059</td>\n",
       "      <td>1720860329</td>\n",
       "      <td>457</td>\n",
       "      <td>0</td>\n",
       "      <td>240</td>\n",
       "      <td>17000.0</td>\n",
       "      <td>True</td>\n",
       "      <td>NaN</td>\n",
       "      <td>NaN</td>\n",
       "    </tr>\n",
       "    <tr>\n",
       "      <th>3</th>\n",
       "      <td>3</td>\n",
       "      <td>0</td>\n",
       "      <td>62798072960</td>\n",
       "      <td>288641214</td>\n",
       "      <td>13262</td>\n",
       "      <td>0</td>\n",
       "      <td>266</td>\n",
       "      <td>23000.0</td>\n",
       "      <td>True</td>\n",
       "      <td>NaN</td>\n",
       "      <td>NaN</td>\n",
       "    </tr>\n",
       "    <tr>\n",
       "      <th>4</th>\n",
       "      <td>4</td>\n",
       "      <td>0</td>\n",
       "      <td>10585422061</td>\n",
       "      <td>1728340777</td>\n",
       "      <td>6119</td>\n",
       "      <td>0</td>\n",
       "      <td>162</td>\n",
       "      <td>72400.0</td>\n",
       "      <td>True</td>\n",
       "      <td>NaN</td>\n",
       "      <td>NaN</td>\n",
       "    </tr>\n",
       "  </tbody>\n",
       "</table>\n",
       "</div>"
      ],
      "text/plain": [
       "   row_id  group_num    timestamp     user_id  content_id  content_type_id  \\\n",
       "0       0          0            0   275030867        5729                0   \n",
       "1       1          0  13309898705   554169193       12010                0   \n",
       "2       2          0   4213672059  1720860329         457                0   \n",
       "3       3          0  62798072960   288641214       13262                0   \n",
       "4       4          0  10585422061  1728340777        6119                0   \n",
       "\n",
       "   task_container_id  prior_question_elapsed_time  \\\n",
       "0                  0                          NaN   \n",
       "1               4427                      19000.0   \n",
       "2                240                      17000.0   \n",
       "3                266                      23000.0   \n",
       "4                162                      72400.0   \n",
       "\n",
       "  prior_question_had_explanation prior_group_answers_correct  \\\n",
       "0                            NaN                          []   \n",
       "1                           True                         NaN   \n",
       "2                           True                         NaN   \n",
       "3                           True                         NaN   \n",
       "4                           True                         NaN   \n",
       "\n",
       "  prior_group_responses  \n",
       "0                    []  \n",
       "1                   NaN  \n",
       "2                   NaN  \n",
       "3                   NaN  \n",
       "4                   NaN  "
      ]
     },
     "execution_count": 5,
     "metadata": {},
     "output_type": "execute_result"
    }
   ],
   "source": [
    "test_df = pd.read_csv(\"/kaggle/input/riiid-test-answer-prediction/example_test.csv\")\n",
    "\n",
    "print(test_df.shape)\n",
    "test_df.head()"
   ]
  },
  {
   "cell_type": "code",
   "execution_count": 6,
   "metadata": {
    "execution": {
     "iopub.execute_input": "2020-12-09T12:53:22.853464Z",
     "iopub.status.busy": "2020-12-09T12:53:22.852462Z",
     "iopub.status.idle": "2020-12-09T12:53:22.867133Z",
     "shell.execute_reply": "2020-12-09T12:53:22.866522Z"
    },
    "papermill": {
     "duration": 0.040608,
     "end_time": "2020-12-09T12:53:22.867256",
     "exception": false,
     "start_time": "2020-12-09T12:53:22.826648",
     "status": "completed"
    },
    "tags": []
   },
   "outputs": [
    {
     "name": "stdout",
     "output_type": "stream",
     "text": [
      "(104, 3)\n"
     ]
    },
    {
     "data": {
      "text/html": [
       "<div>\n",
       "<style scoped>\n",
       "    .dataframe tbody tr th:only-of-type {\n",
       "        vertical-align: middle;\n",
       "    }\n",
       "\n",
       "    .dataframe tbody tr th {\n",
       "        vertical-align: top;\n",
       "    }\n",
       "\n",
       "    .dataframe thead th {\n",
       "        text-align: right;\n",
       "    }\n",
       "</style>\n",
       "<table border=\"1\" class=\"dataframe\">\n",
       "  <thead>\n",
       "    <tr style=\"text-align: right;\">\n",
       "      <th></th>\n",
       "      <th>row_id</th>\n",
       "      <th>answered_correctly</th>\n",
       "      <th>group_num</th>\n",
       "    </tr>\n",
       "  </thead>\n",
       "  <tbody>\n",
       "    <tr>\n",
       "      <th>0</th>\n",
       "      <td>0</td>\n",
       "      <td>0.5</td>\n",
       "      <td>0</td>\n",
       "    </tr>\n",
       "    <tr>\n",
       "      <th>1</th>\n",
       "      <td>1</td>\n",
       "      <td>0.5</td>\n",
       "      <td>0</td>\n",
       "    </tr>\n",
       "    <tr>\n",
       "      <th>2</th>\n",
       "      <td>2</td>\n",
       "      <td>0.5</td>\n",
       "      <td>0</td>\n",
       "    </tr>\n",
       "    <tr>\n",
       "      <th>3</th>\n",
       "      <td>3</td>\n",
       "      <td>0.5</td>\n",
       "      <td>0</td>\n",
       "    </tr>\n",
       "    <tr>\n",
       "      <th>4</th>\n",
       "      <td>4</td>\n",
       "      <td>0.5</td>\n",
       "      <td>0</td>\n",
       "    </tr>\n",
       "  </tbody>\n",
       "</table>\n",
       "</div>"
      ],
      "text/plain": [
       "   row_id  answered_correctly  group_num\n",
       "0       0                 0.5          0\n",
       "1       1                 0.5          0\n",
       "2       2                 0.5          0\n",
       "3       3                 0.5          0\n",
       "4       4                 0.5          0"
      ]
     },
     "execution_count": 6,
     "metadata": {},
     "output_type": "execute_result"
    }
   ],
   "source": [
    "submission_df = pd.read_csv(\"/kaggle/input/riiid-test-answer-prediction/example_sample_submission.csv\")\n",
    "\n",
    "print(submission_df.shape)\n",
    "submission_df.head()"
   ]
  },
  {
   "cell_type": "code",
   "execution_count": 7,
   "metadata": {
    "execution": {
     "iopub.execute_input": "2020-12-09T12:53:22.914875Z",
     "iopub.status.busy": "2020-12-09T12:53:22.914109Z",
     "iopub.status.idle": "2020-12-09T12:53:22.945576Z",
     "shell.execute_reply": "2020-12-09T12:53:22.944432Z"
    },
    "papermill": {
     "duration": 0.058346,
     "end_time": "2020-12-09T12:53:22.945737",
     "exception": false,
     "start_time": "2020-12-09T12:53:22.887391",
     "status": "completed"
    },
    "tags": []
   },
   "outputs": [
    {
     "name": "stdout",
     "output_type": "stream",
     "text": [
      "(13523, 5)\n"
     ]
    },
    {
     "data": {
      "text/html": [
       "<div>\n",
       "<style scoped>\n",
       "    .dataframe tbody tr th:only-of-type {\n",
       "        vertical-align: middle;\n",
       "    }\n",
       "\n",
       "    .dataframe tbody tr th {\n",
       "        vertical-align: top;\n",
       "    }\n",
       "\n",
       "    .dataframe thead th {\n",
       "        text-align: right;\n",
       "    }\n",
       "</style>\n",
       "<table border=\"1\" class=\"dataframe\">\n",
       "  <thead>\n",
       "    <tr style=\"text-align: right;\">\n",
       "      <th></th>\n",
       "      <th>question_id</th>\n",
       "      <th>bundle_id</th>\n",
       "      <th>correct_answer</th>\n",
       "      <th>part</th>\n",
       "      <th>tags</th>\n",
       "    </tr>\n",
       "  </thead>\n",
       "  <tbody>\n",
       "    <tr>\n",
       "      <th>0</th>\n",
       "      <td>0</td>\n",
       "      <td>0</td>\n",
       "      <td>0</td>\n",
       "      <td>1</td>\n",
       "      <td>51 131 162 38</td>\n",
       "    </tr>\n",
       "    <tr>\n",
       "      <th>1</th>\n",
       "      <td>1</td>\n",
       "      <td>1</td>\n",
       "      <td>1</td>\n",
       "      <td>1</td>\n",
       "      <td>131 36 81</td>\n",
       "    </tr>\n",
       "    <tr>\n",
       "      <th>2</th>\n",
       "      <td>2</td>\n",
       "      <td>2</td>\n",
       "      <td>0</td>\n",
       "      <td>1</td>\n",
       "      <td>131 101 162 92</td>\n",
       "    </tr>\n",
       "    <tr>\n",
       "      <th>3</th>\n",
       "      <td>3</td>\n",
       "      <td>3</td>\n",
       "      <td>0</td>\n",
       "      <td>1</td>\n",
       "      <td>131 149 162 29</td>\n",
       "    </tr>\n",
       "    <tr>\n",
       "      <th>4</th>\n",
       "      <td>4</td>\n",
       "      <td>4</td>\n",
       "      <td>3</td>\n",
       "      <td>1</td>\n",
       "      <td>131 5 162 38</td>\n",
       "    </tr>\n",
       "  </tbody>\n",
       "</table>\n",
       "</div>"
      ],
      "text/plain": [
       "   question_id  bundle_id  correct_answer  part            tags\n",
       "0            0          0               0     1   51 131 162 38\n",
       "1            1          1               1     1       131 36 81\n",
       "2            2          2               0     1  131 101 162 92\n",
       "3            3          3               0     1  131 149 162 29\n",
       "4            4          4               3     1    131 5 162 38"
      ]
     },
     "execution_count": 7,
     "metadata": {},
     "output_type": "execute_result"
    }
   ],
   "source": [
    "questions = pd.read_csv('/kaggle/input/riiid-test-answer-prediction/questions.csv')\n",
    "\n",
    "print(questions.shape)\n",
    "questions.head()"
   ]
  },
  {
   "cell_type": "code",
   "execution_count": 8,
   "metadata": {
    "execution": {
     "iopub.execute_input": "2020-12-09T12:53:22.994629Z",
     "iopub.status.busy": "2020-12-09T12:53:22.993907Z",
     "iopub.status.idle": "2020-12-09T12:53:23.012810Z",
     "shell.execute_reply": "2020-12-09T12:53:23.012203Z"
    },
    "papermill": {
     "duration": 0.046377,
     "end_time": "2020-12-09T12:53:23.012938",
     "exception": false,
     "start_time": "2020-12-09T12:53:22.966561",
     "status": "completed"
    },
    "tags": []
   },
   "outputs": [
    {
     "name": "stdout",
     "output_type": "stream",
     "text": [
      "(418, 4)\n"
     ]
    },
    {
     "data": {
      "text/html": [
       "<div>\n",
       "<style scoped>\n",
       "    .dataframe tbody tr th:only-of-type {\n",
       "        vertical-align: middle;\n",
       "    }\n",
       "\n",
       "    .dataframe tbody tr th {\n",
       "        vertical-align: top;\n",
       "    }\n",
       "\n",
       "    .dataframe thead th {\n",
       "        text-align: right;\n",
       "    }\n",
       "</style>\n",
       "<table border=\"1\" class=\"dataframe\">\n",
       "  <thead>\n",
       "    <tr style=\"text-align: right;\">\n",
       "      <th></th>\n",
       "      <th>lecture_id</th>\n",
       "      <th>tag</th>\n",
       "      <th>part</th>\n",
       "      <th>type_of</th>\n",
       "    </tr>\n",
       "  </thead>\n",
       "  <tbody>\n",
       "    <tr>\n",
       "      <th>0</th>\n",
       "      <td>89</td>\n",
       "      <td>159</td>\n",
       "      <td>5</td>\n",
       "      <td>concept</td>\n",
       "    </tr>\n",
       "    <tr>\n",
       "      <th>1</th>\n",
       "      <td>100</td>\n",
       "      <td>70</td>\n",
       "      <td>1</td>\n",
       "      <td>concept</td>\n",
       "    </tr>\n",
       "    <tr>\n",
       "      <th>2</th>\n",
       "      <td>185</td>\n",
       "      <td>45</td>\n",
       "      <td>6</td>\n",
       "      <td>concept</td>\n",
       "    </tr>\n",
       "    <tr>\n",
       "      <th>3</th>\n",
       "      <td>192</td>\n",
       "      <td>79</td>\n",
       "      <td>5</td>\n",
       "      <td>solving question</td>\n",
       "    </tr>\n",
       "    <tr>\n",
       "      <th>4</th>\n",
       "      <td>317</td>\n",
       "      <td>156</td>\n",
       "      <td>5</td>\n",
       "      <td>solving question</td>\n",
       "    </tr>\n",
       "  </tbody>\n",
       "</table>\n",
       "</div>"
      ],
      "text/plain": [
       "   lecture_id  tag  part           type_of\n",
       "0          89  159     5           concept\n",
       "1         100   70     1           concept\n",
       "2         185   45     6           concept\n",
       "3         192   79     5  solving question\n",
       "4         317  156     5  solving question"
      ]
     },
     "execution_count": 8,
     "metadata": {},
     "output_type": "execute_result"
    }
   ],
   "source": [
    "lectures = pd.read_csv('/kaggle/input/riiid-test-answer-prediction/lectures.csv')\n",
    "\n",
    "print(lectures.shape)\n",
    "lectures.head()"
   ]
  },
  {
   "cell_type": "markdown",
   "metadata": {
    "papermill": {
     "duration": 0.023765,
     "end_time": "2020-12-09T12:53:23.058988",
     "exception": false,
     "start_time": "2020-12-09T12:53:23.035223",
     "status": "completed"
    },
    "tags": []
   },
   "source": [
    "# Feature Engineering"
   ]
  },
  {
   "cell_type": "markdown",
   "metadata": {
    "papermill": {
     "duration": 0.020809,
     "end_time": "2020-12-09T12:53:23.101630",
     "exception": false,
     "start_time": "2020-12-09T12:53:23.080821",
     "status": "completed"
    },
    "tags": []
   },
   "source": [
    "### user_df"
   ]
  },
  {
   "cell_type": "code",
   "execution_count": 9,
   "metadata": {
    "execution": {
     "iopub.execute_input": "2020-12-09T12:53:23.155607Z",
     "iopub.status.busy": "2020-12-09T12:53:23.154738Z",
     "iopub.status.idle": "2020-12-09T12:53:23.389772Z",
     "shell.execute_reply": "2020-12-09T12:53:23.390403Z"
    },
    "papermill": {
     "duration": 0.266802,
     "end_time": "2020-12-09T12:53:23.390606",
     "exception": false,
     "start_time": "2020-12-09T12:53:23.123804",
     "status": "completed"
    },
    "tags": []
   },
   "outputs": [
    {
     "name": "stdout",
     "output_type": "stream",
     "text": [
      "(3824, 3)\n"
     ]
    },
    {
     "data": {
      "text/html": [
       "<div>\n",
       "<style scoped>\n",
       "    .dataframe tbody tr th:only-of-type {\n",
       "        vertical-align: middle;\n",
       "    }\n",
       "\n",
       "    .dataframe tbody tr th {\n",
       "        vertical-align: top;\n",
       "    }\n",
       "\n",
       "    .dataframe thead th {\n",
       "        text-align: right;\n",
       "    }\n",
       "</style>\n",
       "<table border=\"1\" class=\"dataframe\">\n",
       "  <thead>\n",
       "    <tr style=\"text-align: right;\">\n",
       "      <th></th>\n",
       "      <th>user_id</th>\n",
       "      <th>user_questions</th>\n",
       "      <th>user_mean</th>\n",
       "    </tr>\n",
       "  </thead>\n",
       "  <tbody>\n",
       "    <tr>\n",
       "      <th>0</th>\n",
       "      <td>115</td>\n",
       "      <td>46</td>\n",
       "      <td>0.695652</td>\n",
       "    </tr>\n",
       "    <tr>\n",
       "      <th>1</th>\n",
       "      <td>124</td>\n",
       "      <td>30</td>\n",
       "      <td>0.233333</td>\n",
       "    </tr>\n",
       "    <tr>\n",
       "      <th>2</th>\n",
       "      <td>2746</td>\n",
       "      <td>19</td>\n",
       "      <td>0.578947</td>\n",
       "    </tr>\n",
       "    <tr>\n",
       "      <th>3</th>\n",
       "      <td>5382</td>\n",
       "      <td>125</td>\n",
       "      <td>0.672000</td>\n",
       "    </tr>\n",
       "    <tr>\n",
       "      <th>4</th>\n",
       "      <td>8623</td>\n",
       "      <td>109</td>\n",
       "      <td>0.642202</td>\n",
       "    </tr>\n",
       "  </tbody>\n",
       "</table>\n",
       "</div>"
      ],
      "text/plain": [
       "   user_id  user_questions  user_mean\n",
       "0      115              46   0.695652\n",
       "1      124              30   0.233333\n",
       "2     2746              19   0.578947\n",
       "3     5382             125   0.672000\n",
       "4     8623             109   0.642202"
      ]
     },
     "execution_count": 9,
     "metadata": {},
     "output_type": "execute_result"
    }
   ],
   "source": [
    "user_df = train_df[train_df.answered_correctly != -1].groupby('user_id') \\\n",
    ".agg({'answered_correctly': ['count', 'mean']}).reset_index()\n",
    "\n",
    "user_df.columns = ['user_id', 'user_questions', 'user_mean']\n",
    "\n",
    "print(user_df.shape)\n",
    "user_df.head()"
   ]
  },
  {
   "cell_type": "code",
   "execution_count": 10,
   "metadata": {
    "execution": {
     "iopub.execute_input": "2020-12-09T12:53:23.446053Z",
     "iopub.status.busy": "2020-12-09T12:53:23.444754Z",
     "iopub.status.idle": "2020-12-09T12:53:23.532505Z",
     "shell.execute_reply": "2020-12-09T12:53:23.531954Z"
    },
    "papermill": {
     "duration": 0.118478,
     "end_time": "2020-12-09T12:53:23.532636",
     "exception": false,
     "start_time": "2020-12-09T12:53:23.414158",
     "status": "completed"
    },
    "tags": []
   },
   "outputs": [
    {
     "name": "stdout",
     "output_type": "stream",
     "text": [
      "(3824, 3)\n"
     ]
    },
    {
     "data": {
      "text/html": [
       "<div>\n",
       "<style scoped>\n",
       "    .dataframe tbody tr th:only-of-type {\n",
       "        vertical-align: middle;\n",
       "    }\n",
       "\n",
       "    .dataframe tbody tr th {\n",
       "        vertical-align: top;\n",
       "    }\n",
       "\n",
       "    .dataframe thead th {\n",
       "        text-align: right;\n",
       "    }\n",
       "</style>\n",
       "<table border=\"1\" class=\"dataframe\">\n",
       "  <thead>\n",
       "    <tr style=\"text-align: right;\">\n",
       "      <th></th>\n",
       "      <th>Lecture</th>\n",
       "      <th>Wrong</th>\n",
       "      <th>Right</th>\n",
       "    </tr>\n",
       "    <tr>\n",
       "      <th>user_id</th>\n",
       "      <th></th>\n",
       "      <th></th>\n",
       "      <th></th>\n",
       "    </tr>\n",
       "  </thead>\n",
       "  <tbody>\n",
       "    <tr>\n",
       "      <th>115</th>\n",
       "      <td>NaN</td>\n",
       "      <td>14.0</td>\n",
       "      <td>32.0</td>\n",
       "    </tr>\n",
       "    <tr>\n",
       "      <th>124</th>\n",
       "      <td>NaN</td>\n",
       "      <td>23.0</td>\n",
       "      <td>7.0</td>\n",
       "    </tr>\n",
       "    <tr>\n",
       "      <th>2746</th>\n",
       "      <td>1.0</td>\n",
       "      <td>8.0</td>\n",
       "      <td>11.0</td>\n",
       "    </tr>\n",
       "    <tr>\n",
       "      <th>5382</th>\n",
       "      <td>3.0</td>\n",
       "      <td>41.0</td>\n",
       "      <td>84.0</td>\n",
       "    </tr>\n",
       "    <tr>\n",
       "      <th>8623</th>\n",
       "      <td>3.0</td>\n",
       "      <td>39.0</td>\n",
       "      <td>70.0</td>\n",
       "    </tr>\n",
       "  </tbody>\n",
       "</table>\n",
       "</div>"
      ],
      "text/plain": [
       "         Lecture  Wrong  Right\n",
       "user_id                       \n",
       "115          NaN   14.0   32.0\n",
       "124          NaN   23.0    7.0\n",
       "2746         1.0    8.0   11.0\n",
       "5382         3.0   41.0   84.0\n",
       "8623         3.0   39.0   70.0"
      ]
     },
     "execution_count": 10,
     "metadata": {},
     "output_type": "execute_result"
    }
   ],
   "source": [
    "user_lect = train_df.groupby([\"user_id\", \"answered_correctly\"]).size().unstack()\n",
    "\n",
    "# columns:-1, 0, 1\n",
    "user_lect.columns = ['Lecture', 'Wrong', 'Right']\n",
    "\n",
    "print(user_lect.shape)\n",
    "user_lect.head()"
   ]
  },
  {
   "cell_type": "code",
   "execution_count": 11,
   "metadata": {
    "execution": {
     "iopub.execute_input": "2020-12-09T12:53:23.590375Z",
     "iopub.status.busy": "2020-12-09T12:53:23.587487Z",
     "iopub.status.idle": "2020-12-09T12:53:23.603764Z",
     "shell.execute_reply": "2020-12-09T12:53:23.603168Z"
    },
    "papermill": {
     "duration": 0.048877,
     "end_time": "2020-12-09T12:53:23.603908",
     "exception": false,
     "start_time": "2020-12-09T12:53:23.555031",
     "status": "completed"
    },
    "tags": []
   },
   "outputs": [
    {
     "name": "stdout",
     "output_type": "stream",
     "text": [
      "(3824, 2)\n"
     ]
    },
    {
     "data": {
      "text/html": [
       "<div>\n",
       "<style scoped>\n",
       "    .dataframe tbody tr th:only-of-type {\n",
       "        vertical-align: middle;\n",
       "    }\n",
       "\n",
       "    .dataframe tbody tr th {\n",
       "        vertical-align: top;\n",
       "    }\n",
       "\n",
       "    .dataframe thead th {\n",
       "        text-align: right;\n",
       "    }\n",
       "</style>\n",
       "<table border=\"1\" class=\"dataframe\">\n",
       "  <thead>\n",
       "    <tr style=\"text-align: right;\">\n",
       "      <th></th>\n",
       "      <th>user_id</th>\n",
       "      <th>watches_lecture</th>\n",
       "    </tr>\n",
       "  </thead>\n",
       "  <tbody>\n",
       "    <tr>\n",
       "      <th>0</th>\n",
       "      <td>115</td>\n",
       "      <td>0</td>\n",
       "    </tr>\n",
       "    <tr>\n",
       "      <th>1</th>\n",
       "      <td>124</td>\n",
       "      <td>0</td>\n",
       "    </tr>\n",
       "    <tr>\n",
       "      <th>2</th>\n",
       "      <td>2746</td>\n",
       "      <td>1</td>\n",
       "    </tr>\n",
       "    <tr>\n",
       "      <th>3</th>\n",
       "      <td>5382</td>\n",
       "      <td>1</td>\n",
       "    </tr>\n",
       "    <tr>\n",
       "      <th>4</th>\n",
       "      <td>8623</td>\n",
       "      <td>1</td>\n",
       "    </tr>\n",
       "  </tbody>\n",
       "</table>\n",
       "</div>"
      ],
      "text/plain": [
       "   user_id  watches_lecture\n",
       "0      115                0\n",
       "1      124                0\n",
       "2     2746                1\n",
       "3     5382                1\n",
       "4     8623                1"
      ]
     },
     "execution_count": 11,
     "metadata": {},
     "output_type": "execute_result"
    }
   ],
   "source": [
    "user_lect['Lecture'] = user_lect['Lecture'].fillna(0)\n",
    "user_lect = user_lect.astype('Int64')\n",
    "user_lect['watches_lecture'] = np.where(user_lect.Lecture > 0, 1, 0)\n",
    "user_lect = user_lect.reset_index()\n",
    "user_lect = user_lect[['user_id', 'watches_lecture']]\n",
    "\n",
    "print(user_lect.shape)\n",
    "user_lect.head()"
   ]
  },
  {
   "cell_type": "code",
   "execution_count": 12,
   "metadata": {
    "execution": {
     "iopub.execute_input": "2020-12-09T12:53:23.659911Z",
     "iopub.status.busy": "2020-12-09T12:53:23.658875Z",
     "iopub.status.idle": "2020-12-09T12:53:23.678357Z",
     "shell.execute_reply": "2020-12-09T12:53:23.677589Z"
    },
    "papermill": {
     "duration": 0.051099,
     "end_time": "2020-12-09T12:53:23.678483",
     "exception": false,
     "start_time": "2020-12-09T12:53:23.627384",
     "status": "completed"
    },
    "tags": []
   },
   "outputs": [
    {
     "name": "stdout",
     "output_type": "stream",
     "text": [
      "(3824, 4)\n"
     ]
    },
    {
     "data": {
      "text/html": [
       "<div>\n",
       "<style scoped>\n",
       "    .dataframe tbody tr th:only-of-type {\n",
       "        vertical-align: middle;\n",
       "    }\n",
       "\n",
       "    .dataframe tbody tr th {\n",
       "        vertical-align: top;\n",
       "    }\n",
       "\n",
       "    .dataframe thead th {\n",
       "        text-align: right;\n",
       "    }\n",
       "</style>\n",
       "<table border=\"1\" class=\"dataframe\">\n",
       "  <thead>\n",
       "    <tr style=\"text-align: right;\">\n",
       "      <th></th>\n",
       "      <th>user_id</th>\n",
       "      <th>user_questions</th>\n",
       "      <th>user_mean</th>\n",
       "      <th>watches_lecture</th>\n",
       "    </tr>\n",
       "  </thead>\n",
       "  <tbody>\n",
       "    <tr>\n",
       "      <th>0</th>\n",
       "      <td>115</td>\n",
       "      <td>46</td>\n",
       "      <td>0.695652</td>\n",
       "      <td>0</td>\n",
       "    </tr>\n",
       "    <tr>\n",
       "      <th>1</th>\n",
       "      <td>124</td>\n",
       "      <td>30</td>\n",
       "      <td>0.233333</td>\n",
       "      <td>0</td>\n",
       "    </tr>\n",
       "    <tr>\n",
       "      <th>2</th>\n",
       "      <td>2746</td>\n",
       "      <td>19</td>\n",
       "      <td>0.578947</td>\n",
       "      <td>1</td>\n",
       "    </tr>\n",
       "    <tr>\n",
       "      <th>3</th>\n",
       "      <td>5382</td>\n",
       "      <td>125</td>\n",
       "      <td>0.672000</td>\n",
       "      <td>1</td>\n",
       "    </tr>\n",
       "    <tr>\n",
       "      <th>4</th>\n",
       "      <td>8623</td>\n",
       "      <td>109</td>\n",
       "      <td>0.642202</td>\n",
       "      <td>1</td>\n",
       "    </tr>\n",
       "  </tbody>\n",
       "</table>\n",
       "</div>"
      ],
      "text/plain": [
       "   user_id  user_questions  user_mean  watches_lecture\n",
       "0      115              46   0.695652                0\n",
       "1      124              30   0.233333                0\n",
       "2     2746              19   0.578947                1\n",
       "3     5382             125   0.672000                1\n",
       "4     8623             109   0.642202                1"
      ]
     },
     "execution_count": 12,
     "metadata": {},
     "output_type": "execute_result"
    }
   ],
   "source": [
    "user_df = user_df.merge(user_lect, on = \"user_id\", how = \"left\")\n",
    "del user_lect\n",
    "\n",
    "print(user_df.shape)\n",
    "user_df.head()"
   ]
  },
  {
   "cell_type": "markdown",
   "metadata": {
    "papermill": {
     "duration": 0.026272,
     "end_time": "2020-12-09T12:53:23.728990",
     "exception": false,
     "start_time": "2020-12-09T12:53:23.702718",
     "status": "completed"
    },
    "tags": []
   },
   "source": [
    "### content_df"
   ]
  },
  {
   "cell_type": "code",
   "execution_count": 13,
   "metadata": {
    "execution": {
     "iopub.execute_input": "2020-12-09T12:53:23.785470Z",
     "iopub.status.busy": "2020-12-09T12:53:23.784724Z",
     "iopub.status.idle": "2020-12-09T12:53:23.965314Z",
     "shell.execute_reply": "2020-12-09T12:53:23.964633Z"
    },
    "papermill": {
     "duration": 0.211525,
     "end_time": "2020-12-09T12:53:23.965457",
     "exception": false,
     "start_time": "2020-12-09T12:53:23.753932",
     "status": "completed"
    },
    "tags": []
   },
   "outputs": [
    {
     "name": "stdout",
     "output_type": "stream",
     "text": [
      "(13076, 3)\n"
     ]
    },
    {
     "data": {
      "text/html": [
       "<div>\n",
       "<style scoped>\n",
       "    .dataframe tbody tr th:only-of-type {\n",
       "        vertical-align: middle;\n",
       "    }\n",
       "\n",
       "    .dataframe tbody tr th {\n",
       "        vertical-align: top;\n",
       "    }\n",
       "\n",
       "    .dataframe thead th {\n",
       "        text-align: right;\n",
       "    }\n",
       "</style>\n",
       "<table border=\"1\" class=\"dataframe\">\n",
       "  <thead>\n",
       "    <tr style=\"text-align: right;\">\n",
       "      <th></th>\n",
       "      <th>content_id</th>\n",
       "      <th>content_questions</th>\n",
       "      <th>content_mean</th>\n",
       "    </tr>\n",
       "  </thead>\n",
       "  <tbody>\n",
       "    <tr>\n",
       "      <th>0</th>\n",
       "      <td>0</td>\n",
       "      <td>73</td>\n",
       "      <td>0.863014</td>\n",
       "    </tr>\n",
       "    <tr>\n",
       "      <th>1</th>\n",
       "      <td>1</td>\n",
       "      <td>55</td>\n",
       "      <td>0.927273</td>\n",
       "    </tr>\n",
       "    <tr>\n",
       "      <th>2</th>\n",
       "      <td>2</td>\n",
       "      <td>444</td>\n",
       "      <td>0.560811</td>\n",
       "    </tr>\n",
       "    <tr>\n",
       "      <th>3</th>\n",
       "      <td>3</td>\n",
       "      <td>199</td>\n",
       "      <td>0.798995</td>\n",
       "    </tr>\n",
       "    <tr>\n",
       "      <th>4</th>\n",
       "      <td>4</td>\n",
       "      <td>307</td>\n",
       "      <td>0.602606</td>\n",
       "    </tr>\n",
       "  </tbody>\n",
       "</table>\n",
       "</div>"
      ],
      "text/plain": [
       "   content_id  content_questions  content_mean\n",
       "0           0                 73      0.863014\n",
       "1           1                 55      0.927273\n",
       "2           2                444      0.560811\n",
       "3           3                199      0.798995\n",
       "4           4                307      0.602606"
      ]
     },
     "execution_count": 13,
     "metadata": {},
     "output_type": "execute_result"
    }
   ],
   "source": [
    "content_df = train_df[train_df.answered_correctly != -1].groupby('content_id') \\\n",
    ".agg({'answered_correctly': ['count', 'mean']}).reset_index()\n",
    "\n",
    "content_df.columns = ['content_id', 'content_questions', 'content_mean']\n",
    "\n",
    "print(content_df.shape)\n",
    "content_df.head()"
   ]
  },
  {
   "cell_type": "markdown",
   "metadata": {
    "papermill": {
     "duration": 0.028664,
     "end_time": "2020-12-09T12:53:24.020311",
     "exception": false,
     "start_time": "2020-12-09T12:53:23.991647",
     "status": "completed"
    },
    "tags": []
   },
   "source": [
    "### train_df"
   ]
  },
  {
   "cell_type": "code",
   "execution_count": 14,
   "metadata": {
    "execution": {
     "iopub.execute_input": "2020-12-09T12:53:24.081729Z",
     "iopub.status.busy": "2020-12-09T12:53:24.080536Z",
     "iopub.status.idle": "2020-12-09T12:53:24.475497Z",
     "shell.execute_reply": "2020-12-09T12:53:24.475970Z"
    },
    "papermill": {
     "duration": 0.42903,
     "end_time": "2020-12-09T12:53:24.476124",
     "exception": false,
     "start_time": "2020-12-09T12:53:24.047094",
     "status": "completed"
    },
    "tags": []
   },
   "outputs": [
    {
     "name": "stdout",
     "output_type": "stream",
     "text": [
      "timestamp                             0\n",
      "user_id                               0\n",
      "content_id                            0\n",
      "answered_correctly                    0\n",
      "prior_question_elapsed_time       23723\n",
      "prior_question_had_explanation     3816\n",
      "user_questions                        0\n",
      "user_mean                             0\n",
      "watches_lecture                       0\n",
      "content_questions                 12319\n",
      "content_mean                      12319\n",
      "dtype: int64\n",
      "(1000000, 11)\n"
     ]
    },
    {
     "data": {
      "text/html": [
       "<div>\n",
       "<style scoped>\n",
       "    .dataframe tbody tr th:only-of-type {\n",
       "        vertical-align: middle;\n",
       "    }\n",
       "\n",
       "    .dataframe tbody tr th {\n",
       "        vertical-align: top;\n",
       "    }\n",
       "\n",
       "    .dataframe thead th {\n",
       "        text-align: right;\n",
       "    }\n",
       "</style>\n",
       "<table border=\"1\" class=\"dataframe\">\n",
       "  <thead>\n",
       "    <tr style=\"text-align: right;\">\n",
       "      <th></th>\n",
       "      <th>timestamp</th>\n",
       "      <th>user_id</th>\n",
       "      <th>content_id</th>\n",
       "      <th>answered_correctly</th>\n",
       "      <th>prior_question_elapsed_time</th>\n",
       "      <th>prior_question_had_explanation</th>\n",
       "      <th>user_questions</th>\n",
       "      <th>user_mean</th>\n",
       "      <th>watches_lecture</th>\n",
       "      <th>content_questions</th>\n",
       "      <th>content_mean</th>\n",
       "    </tr>\n",
       "  </thead>\n",
       "  <tbody>\n",
       "    <tr>\n",
       "      <th>0</th>\n",
       "      <td>0</td>\n",
       "      <td>115</td>\n",
       "      <td>5692</td>\n",
       "      <td>1</td>\n",
       "      <td>NaN</td>\n",
       "      <td>&lt;NA&gt;</td>\n",
       "      <td>46</td>\n",
       "      <td>0.695652</td>\n",
       "      <td>0</td>\n",
       "      <td>337.0</td>\n",
       "      <td>0.721068</td>\n",
       "    </tr>\n",
       "    <tr>\n",
       "      <th>1</th>\n",
       "      <td>56943</td>\n",
       "      <td>115</td>\n",
       "      <td>5716</td>\n",
       "      <td>1</td>\n",
       "      <td>36992.0</td>\n",
       "      <td>False</td>\n",
       "      <td>46</td>\n",
       "      <td>0.695652</td>\n",
       "      <td>0</td>\n",
       "      <td>242.0</td>\n",
       "      <td>0.768595</td>\n",
       "    </tr>\n",
       "    <tr>\n",
       "      <th>2</th>\n",
       "      <td>118363</td>\n",
       "      <td>115</td>\n",
       "      <td>128</td>\n",
       "      <td>1</td>\n",
       "      <td>55008.0</td>\n",
       "      <td>False</td>\n",
       "      <td>46</td>\n",
       "      <td>0.695652</td>\n",
       "      <td>0</td>\n",
       "      <td>181.0</td>\n",
       "      <td>0.961326</td>\n",
       "    </tr>\n",
       "    <tr>\n",
       "      <th>3</th>\n",
       "      <td>131167</td>\n",
       "      <td>115</td>\n",
       "      <td>7860</td>\n",
       "      <td>1</td>\n",
       "      <td>19008.0</td>\n",
       "      <td>False</td>\n",
       "      <td>46</td>\n",
       "      <td>0.695652</td>\n",
       "      <td>0</td>\n",
       "      <td>203.0</td>\n",
       "      <td>0.926108</td>\n",
       "    </tr>\n",
       "    <tr>\n",
       "      <th>4</th>\n",
       "      <td>137965</td>\n",
       "      <td>115</td>\n",
       "      <td>7922</td>\n",
       "      <td>1</td>\n",
       "      <td>11000.0</td>\n",
       "      <td>False</td>\n",
       "      <td>46</td>\n",
       "      <td>0.695652</td>\n",
       "      <td>0</td>\n",
       "      <td>171.0</td>\n",
       "      <td>0.959064</td>\n",
       "    </tr>\n",
       "  </tbody>\n",
       "</table>\n",
       "</div>"
      ],
      "text/plain": [
       "   timestamp  user_id  content_id  answered_correctly  \\\n",
       "0          0      115        5692                   1   \n",
       "1      56943      115        5716                   1   \n",
       "2     118363      115         128                   1   \n",
       "3     131167      115        7860                   1   \n",
       "4     137965      115        7922                   1   \n",
       "\n",
       "   prior_question_elapsed_time  prior_question_had_explanation  \\\n",
       "0                          NaN                            <NA>   \n",
       "1                      36992.0                           False   \n",
       "2                      55008.0                           False   \n",
       "3                      19008.0                           False   \n",
       "4                      11000.0                           False   \n",
       "\n",
       "   user_questions  user_mean  watches_lecture  content_questions  content_mean  \n",
       "0              46   0.695652                0              337.0      0.721068  \n",
       "1              46   0.695652                0              242.0      0.768595  \n",
       "2              46   0.695652                0              181.0      0.961326  \n",
       "3              46   0.695652                0              203.0      0.926108  \n",
       "4              46   0.695652                0              171.0      0.959064  "
      ]
     },
     "execution_count": 14,
     "metadata": {},
     "output_type": "execute_result"
    }
   ],
   "source": [
    "train_df = train_df.merge(user_df, on = \"user_id\", how = \"left\")\n",
    "train_df = train_df.merge(content_df, on = \"content_id\", how = \"left\")\n",
    "\n",
    "print(train_df.isnull().sum())\n",
    "print(train_df.shape)\n",
    "train_df.head()"
   ]
  },
  {
   "cell_type": "code",
   "execution_count": 15,
   "metadata": {
    "execution": {
     "iopub.execute_input": "2020-12-09T12:53:24.537684Z",
     "iopub.status.busy": "2020-12-09T12:53:24.536959Z",
     "iopub.status.idle": "2020-12-09T12:53:24.941388Z",
     "shell.execute_reply": "2020-12-09T12:53:24.941913Z"
    },
    "papermill": {
     "duration": 0.440201,
     "end_time": "2020-12-09T12:53:24.942076",
     "exception": false,
     "start_time": "2020-12-09T12:53:24.501875",
     "status": "completed"
    },
    "tags": []
   },
   "outputs": [
    {
     "name": "stdout",
     "output_type": "stream",
     "text": [
      "timestamp                           int64\n",
      "user_id                             int32\n",
      "content_id                          int16\n",
      "answered_correctly                   int8\n",
      "prior_question_elapsed_time       float16\n",
      "prior_question_had_explanation      int64\n",
      "user_questions                      int64\n",
      "user_mean                         float64\n",
      "watches_lecture                     int64\n",
      "content_questions                   int64\n",
      "content_mean                      float64\n",
      "dtype: object\n",
      "(980093, 11)\n",
      "total null: 0\n"
     ]
    },
    {
     "data": {
      "text/html": [
       "<div>\n",
       "<style scoped>\n",
       "    .dataframe tbody tr th:only-of-type {\n",
       "        vertical-align: middle;\n",
       "    }\n",
       "\n",
       "    .dataframe tbody tr th {\n",
       "        vertical-align: top;\n",
       "    }\n",
       "\n",
       "    .dataframe thead th {\n",
       "        text-align: right;\n",
       "    }\n",
       "</style>\n",
       "<table border=\"1\" class=\"dataframe\">\n",
       "  <thead>\n",
       "    <tr style=\"text-align: right;\">\n",
       "      <th></th>\n",
       "      <th>timestamp</th>\n",
       "      <th>user_id</th>\n",
       "      <th>content_id</th>\n",
       "      <th>answered_correctly</th>\n",
       "      <th>prior_question_elapsed_time</th>\n",
       "      <th>prior_question_had_explanation</th>\n",
       "      <th>user_questions</th>\n",
       "      <th>user_mean</th>\n",
       "      <th>watches_lecture</th>\n",
       "      <th>content_questions</th>\n",
       "      <th>content_mean</th>\n",
       "    </tr>\n",
       "  </thead>\n",
       "  <tbody>\n",
       "    <tr>\n",
       "      <th>0</th>\n",
       "      <td>0</td>\n",
       "      <td>115</td>\n",
       "      <td>5692</td>\n",
       "      <td>1</td>\n",
       "      <td>inf</td>\n",
       "      <td>0</td>\n",
       "      <td>46</td>\n",
       "      <td>0.695652</td>\n",
       "      <td>0</td>\n",
       "      <td>337</td>\n",
       "      <td>0.721068</td>\n",
       "    </tr>\n",
       "    <tr>\n",
       "      <th>1</th>\n",
       "      <td>56943</td>\n",
       "      <td>115</td>\n",
       "      <td>5716</td>\n",
       "      <td>1</td>\n",
       "      <td>36992.0</td>\n",
       "      <td>0</td>\n",
       "      <td>46</td>\n",
       "      <td>0.695652</td>\n",
       "      <td>0</td>\n",
       "      <td>242</td>\n",
       "      <td>0.768595</td>\n",
       "    </tr>\n",
       "    <tr>\n",
       "      <th>2</th>\n",
       "      <td>118363</td>\n",
       "      <td>115</td>\n",
       "      <td>128</td>\n",
       "      <td>1</td>\n",
       "      <td>55008.0</td>\n",
       "      <td>0</td>\n",
       "      <td>46</td>\n",
       "      <td>0.695652</td>\n",
       "      <td>0</td>\n",
       "      <td>181</td>\n",
       "      <td>0.961326</td>\n",
       "    </tr>\n",
       "    <tr>\n",
       "      <th>3</th>\n",
       "      <td>131167</td>\n",
       "      <td>115</td>\n",
       "      <td>7860</td>\n",
       "      <td>1</td>\n",
       "      <td>19008.0</td>\n",
       "      <td>0</td>\n",
       "      <td>46</td>\n",
       "      <td>0.695652</td>\n",
       "      <td>0</td>\n",
       "      <td>203</td>\n",
       "      <td>0.926108</td>\n",
       "    </tr>\n",
       "    <tr>\n",
       "      <th>4</th>\n",
       "      <td>137965</td>\n",
       "      <td>115</td>\n",
       "      <td>7922</td>\n",
       "      <td>1</td>\n",
       "      <td>11000.0</td>\n",
       "      <td>0</td>\n",
       "      <td>46</td>\n",
       "      <td>0.695652</td>\n",
       "      <td>0</td>\n",
       "      <td>171</td>\n",
       "      <td>0.959064</td>\n",
       "    </tr>\n",
       "  </tbody>\n",
       "</table>\n",
       "</div>"
      ],
      "text/plain": [
       "   timestamp  user_id  content_id  answered_correctly  \\\n",
       "0          0      115        5692                   1   \n",
       "1      56943      115        5716                   1   \n",
       "2     118363      115         128                   1   \n",
       "3     131167      115        7860                   1   \n",
       "4     137965      115        7922                   1   \n",
       "\n",
       "   prior_question_elapsed_time  prior_question_had_explanation  \\\n",
       "0                          inf                               0   \n",
       "1                      36992.0                               0   \n",
       "2                      55008.0                               0   \n",
       "3                      19008.0                               0   \n",
       "4                      11000.0                               0   \n",
       "\n",
       "   user_questions  user_mean  watches_lecture  content_questions  content_mean  \n",
       "0              46   0.695652                0                337      0.721068  \n",
       "1              46   0.695652                0                242      0.768595  \n",
       "2              46   0.695652                0                181      0.961326  \n",
       "3              46   0.695652                0                203      0.926108  \n",
       "4              46   0.695652                0                171      0.959064  "
      ]
     },
     "execution_count": 15,
     "metadata": {},
     "output_type": "execute_result"
    }
   ],
   "source": [
    "train_df = train_df[train_df.answered_correctly != -1]\n",
    "mean_prior = train_df.prior_question_elapsed_time.astype(\"float64\").mean()\n",
    "label_enc = preprocessing.LabelEncoder()\n",
    "\n",
    "train_df['content_questions'].fillna(0, inplace = True)\n",
    "train_df['content_mean'].fillna(0.5, inplace = True)\n",
    "train_df['user_questions'].fillna(0, inplace = True)\n",
    "train_df['user_mean'].fillna(0.5, inplace = True)\n",
    "train_df['prior_question_elapsed_time'].fillna(mean_prior, inplace = True)\n",
    "train_df['prior_question_had_explanation'].fillna(False, inplace = True)\n",
    "train_df['prior_question_had_explanation'] = label_enc.fit_transform(train_df['prior_question_had_explanation'])\n",
    "train_df[['content_questions', 'user_questions']] = train_df[['content_questions', 'user_questions']].astype(int)\n",
    "\n",
    "print(train_df.dtypes)\n",
    "print(train_df.shape)\n",
    "print('total null:', train_df.isnull().sum().sum())\n",
    "train_df.head()"
   ]
  },
  {
   "cell_type": "code",
   "execution_count": 16,
   "metadata": {
    "execution": {
     "iopub.execute_input": "2020-12-09T12:53:25.002610Z",
     "iopub.status.busy": "2020-12-09T12:53:25.001604Z",
     "iopub.status.idle": "2020-12-09T12:53:25.211661Z",
     "shell.execute_reply": "2020-12-09T12:53:25.211062Z"
    },
    "papermill": {
     "duration": 0.242799,
     "end_time": "2020-12-09T12:53:25.211777",
     "exception": false,
     "start_time": "2020-12-09T12:53:24.968978",
     "status": "completed"
    },
    "tags": []
   },
   "outputs": [
    {
     "name": "stdout",
     "output_type": "stream",
     "text": [
      "(784074, 11)\n",
      "(196019, 11)\n"
     ]
    }
   ],
   "source": [
    "train_df, test_df = train_test_split(train_df, random_state=666, test_size=0.2)\n",
    "\n",
    "print(train_df.shape)\n",
    "print(test_df.shape)"
   ]
  },
  {
   "cell_type": "code",
   "execution_count": 17,
   "metadata": {
    "execution": {
     "iopub.execute_input": "2020-12-09T12:53:25.274845Z",
     "iopub.status.busy": "2020-12-09T12:53:25.273877Z",
     "iopub.status.idle": "2020-12-09T12:53:25.277797Z",
     "shell.execute_reply": "2020-12-09T12:53:25.277110Z"
    },
    "papermill": {
     "duration": 0.038086,
     "end_time": "2020-12-09T12:53:25.277910",
     "exception": false,
     "start_time": "2020-12-09T12:53:25.239824",
     "status": "completed"
    },
    "tags": []
   },
   "outputs": [
    {
     "name": "stdout",
     "output_type": "stream",
     "text": [
      "['timestamp', 'user_id', 'content_id', 'prior_question_elapsed_time', 'prior_question_had_explanation', 'user_questions', 'user_mean', 'watches_lecture', 'content_questions', 'content_mean']\n",
      "answered_correctly\n"
     ]
    }
   ],
   "source": [
    "features = [col for col in train_df.columns if col != 'answered_correctly']\n",
    "target = 'answered_correctly'\n",
    "\n",
    "print(features)\n",
    "print(target)"
   ]
  },
  {
   "cell_type": "code",
   "execution_count": 18,
   "metadata": {
    "execution": {
     "iopub.execute_input": "2020-12-09T12:53:25.341784Z",
     "iopub.status.busy": "2020-12-09T12:53:25.341046Z",
     "iopub.status.idle": "2020-12-09T12:53:25.344186Z",
     "shell.execute_reply": "2020-12-09T12:53:25.343655Z"
    },
    "papermill": {
     "duration": 0.038589,
     "end_time": "2020-12-09T12:53:25.344318",
     "exception": false,
     "start_time": "2020-12-09T12:53:25.305729",
     "status": "completed"
    },
    "tags": []
   },
   "outputs": [],
   "source": [
    "def create_model(trial):\n",
    "    num_leaves = trial.suggest_int(\"num_leaves\", 2, 31)\n",
    "    n_estimators = trial.suggest_int(\"n_estimators\", 50, 300)\n",
    "    max_depth = trial.suggest_int('max_depth', 3, 8)\n",
    "    min_child_samples = trial.suggest_int('min_child_samples', 100, 1200)\n",
    "    learning_rate = trial.suggest_uniform('learning_rate', 0.0001, 0.99)\n",
    "    min_data_in_leaf = trial.suggest_int('min_data_in_leaf', 5, 90)\n",
    "    bagging_fraction = trial.suggest_uniform('bagging_fraction', 0.0001, 1.0)\n",
    "    feature_fraction = trial.suggest_uniform('feature_fraction', 0.0001, 1.0)\n",
    "    \n",
    "    model = lgb.LGBMClassifier(\n",
    "        num_leaves=num_leaves,\n",
    "        n_estimators=n_estimators, \n",
    "        max_depth=max_depth, \n",
    "        min_child_samples=min_child_samples, \n",
    "        min_data_in_leaf=min_data_in_leaf,\n",
    "        learning_rate=learning_rate,\n",
    "        feature_fraction=feature_fraction,\n",
    "        random_state=666\n",
    "    )\n",
    "    return model"
   ]
  },
  {
   "cell_type": "code",
   "execution_count": 19,
   "metadata": {
    "execution": {
     "iopub.execute_input": "2020-12-09T12:53:25.406924Z",
     "iopub.status.busy": "2020-12-09T12:53:25.406235Z",
     "iopub.status.idle": "2020-12-09T12:53:25.409312Z",
     "shell.execute_reply": "2020-12-09T12:53:25.408605Z"
    },
    "papermill": {
     "duration": 0.036905,
     "end_time": "2020-12-09T12:53:25.409476",
     "exception": false,
     "start_time": "2020-12-09T12:53:25.372571",
     "status": "completed"
    },
    "tags": []
   },
   "outputs": [],
   "source": [
    "def objective(trial):\n",
    "    model = create_model(trial)\n",
    "    model.fit(train_df[features], train_df[target])\n",
    "    score = roc_auc_score(\n",
    "        test_df[target].values, \n",
    "        model.predict_proba(test_df[features])[:,1]\n",
    "    )\n",
    "    return score"
   ]
  },
  {
   "cell_type": "code",
   "execution_count": 20,
   "metadata": {
    "execution": {
     "iopub.execute_input": "2020-12-09T12:53:25.471046Z",
     "iopub.status.busy": "2020-12-09T12:53:25.470057Z",
     "iopub.status.idle": "2020-12-09T13:02:04.065359Z",
     "shell.execute_reply": "2020-12-09T13:02:04.064441Z"
    },
    "papermill": {
     "duration": 518.628071,
     "end_time": "2020-12-09T13:02:04.065534",
     "exception": false,
     "start_time": "2020-12-09T12:53:25.437463",
     "status": "completed"
    },
    "tags": []
   },
   "outputs": [
    {
     "name": "stderr",
     "output_type": "stream",
     "text": [
      "\u001b[32m[I 2020-12-09 12:53:25,468]\u001b[0m A new study created in memory with name: no-name-2bb90b79-d80f-44e1-afe4-24efc772ce0c\u001b[0m\n",
      "\u001b[32m[I 2020-12-09 12:53:32,587]\u001b[0m Trial 0 finished with value: 0.7696863988599271 and parameters: {'num_leaves': 14, 'n_estimators': 245, 'max_depth': 6, 'min_child_samples': 985, 'learning_rate': 0.36574233989391514, 'min_data_in_leaf': 12, 'bagging_fraction': 0.25925829671865075, 'feature_fraction': 0.09066806100586555}. Best is trial 0 with value: 0.7696863988599271.\u001b[0m\n",
      "\u001b[32m[I 2020-12-09 12:53:34,673]\u001b[0m Trial 1 finished with value: 0.7656221225059533 and parameters: {'num_leaves': 8, 'n_estimators': 50, 'max_depth': 8, 'min_child_samples': 975, 'learning_rate': 0.3712704291326219, 'min_data_in_leaf': 34, 'bagging_fraction': 0.9345243397365558, 'feature_fraction': 0.00570701920229568}. Best is trial 0 with value: 0.7696863988599271.\u001b[0m\n",
      "\u001b[32m[I 2020-12-09 12:53:40,151]\u001b[0m Trial 2 finished with value: 0.7705530583273168 and parameters: {'num_leaves': 19, 'n_estimators': 121, 'max_depth': 7, 'min_child_samples': 1165, 'learning_rate': 0.2665021827890933, 'min_data_in_leaf': 63, 'bagging_fraction': 0.8559853468439047, 'feature_fraction': 0.9812980204972799}. Best is trial 2 with value: 0.7705530583273168.\u001b[0m\n",
      "\u001b[32m[I 2020-12-09 12:53:47,821]\u001b[0m Trial 3 finished with value: 0.7693263761566489 and parameters: {'num_leaves': 27, 'n_estimators': 206, 'max_depth': 4, 'min_child_samples': 1195, 'learning_rate': 0.7331961285688922, 'min_data_in_leaf': 45, 'bagging_fraction': 0.7579642530479551, 'feature_fraction': 0.4936422988711366}. Best is trial 2 with value: 0.7705530583273168.\u001b[0m\n",
      "\u001b[32m[I 2020-12-09 12:53:53,656]\u001b[0m Trial 4 finished with value: 0.7691695270617206 and parameters: {'num_leaves': 13, 'n_estimators': 187, 'max_depth': 3, 'min_child_samples': 1148, 'learning_rate': 0.26919734563494235, 'min_data_in_leaf': 6, 'bagging_fraction': 0.40530954639902556, 'feature_fraction': 0.6763293606552816}. Best is trial 2 with value: 0.7705530583273168.\u001b[0m\n",
      "\u001b[32m[I 2020-12-09 12:54:01,240]\u001b[0m Trial 5 finished with value: 0.7686774936826842 and parameters: {'num_leaves': 23, 'n_estimators': 252, 'max_depth': 4, 'min_child_samples': 955, 'learning_rate': 0.9359121629321995, 'min_data_in_leaf': 54, 'bagging_fraction': 0.8792948778781491, 'feature_fraction': 0.027757437966851938}. Best is trial 2 with value: 0.7705530583273168.\u001b[0m\n",
      "\u001b[32m[I 2020-12-09 12:54:06,460]\u001b[0m Trial 6 finished with value: 0.769184619394309 and parameters: {'num_leaves': 26, 'n_estimators': 149, 'max_depth': 5, 'min_child_samples': 525, 'learning_rate': 0.791736785633977, 'min_data_in_leaf': 42, 'bagging_fraction': 0.9058005945151368, 'feature_fraction': 0.4342608502065765}. Best is trial 2 with value: 0.7705530583273168.\u001b[0m\n",
      "\u001b[32m[I 2020-12-09 12:54:13,563]\u001b[0m Trial 7 finished with value: 0.769501057522362 and parameters: {'num_leaves': 22, 'n_estimators': 233, 'max_depth': 5, 'min_child_samples': 293, 'learning_rate': 0.5283166755194431, 'min_data_in_leaf': 43, 'bagging_fraction': 0.8949903159792151, 'feature_fraction': 0.12200263233075292}. Best is trial 2 with value: 0.7705530583273168.\u001b[0m\n",
      "\u001b[32m[I 2020-12-09 12:54:22,630]\u001b[0m Trial 8 finished with value: 0.7698403221708006 and parameters: {'num_leaves': 21, 'n_estimators': 227, 'max_depth': 7, 'min_child_samples': 1180, 'learning_rate': 0.07773802459746108, 'min_data_in_leaf': 75, 'bagging_fraction': 0.02157546207177332, 'feature_fraction': 0.45827608326921715}. Best is trial 2 with value: 0.7705530583273168.\u001b[0m\n",
      "\u001b[32m[I 2020-12-09 12:54:30,470]\u001b[0m Trial 9 finished with value: 0.7718013694977391 and parameters: {'num_leaves': 22, 'n_estimators': 178, 'max_depth': 5, 'min_child_samples': 1150, 'learning_rate': 0.3900357056138438, 'min_data_in_leaf': 80, 'bagging_fraction': 0.9603814074312067, 'feature_fraction': 0.9435789070261125}. Best is trial 9 with value: 0.7718013694977391.\u001b[0m\n",
      "\u001b[32m[I 2020-12-09 12:54:42,220]\u001b[0m Trial 10 finished with value: 0.7633390068260711 and parameters: {'num_leaves': 30, 'n_estimators': 297, 'max_depth': 3, 'min_child_samples': 624, 'learning_rate': 0.01029034599038664, 'min_data_in_leaf': 88, 'bagging_fraction': 0.6641878921444098, 'feature_fraction': 0.9816891311372272}. Best is trial 9 with value: 0.7718013694977391.\u001b[0m\n",
      "\u001b[32m[I 2020-12-09 12:54:47,616]\u001b[0m Trial 11 finished with value: 0.7699305830268388 and parameters: {'num_leaves': 18, 'n_estimators': 109, 'max_depth': 7, 'min_child_samples': 816, 'learning_rate': 0.18244328425374196, 'min_data_in_leaf': 69, 'bagging_fraction': 0.5961022462191922, 'feature_fraction': 0.9839588823648516}. Best is trial 9 with value: 0.7718013694977391.\u001b[0m\n",
      "\u001b[32m[I 2020-12-09 12:54:52,417]\u001b[0m Trial 12 finished with value: 0.770073030899885 and parameters: {'num_leaves': 17, 'n_estimators': 132, 'max_depth': 6, 'min_child_samples': 1199, 'learning_rate': 0.5316874654039409, 'min_data_in_leaf': 68, 'bagging_fraction': 0.7525781959202706, 'feature_fraction': 0.7814611868179873}. Best is trial 9 with value: 0.7718013694977391.\u001b[0m\n",
      "\u001b[32m[I 2020-12-09 12:54:55,272]\u001b[0m Trial 13 finished with value: 0.7680858048994043 and parameters: {'num_leaves': 8, 'n_estimators': 71, 'max_depth': 8, 'min_child_samples': 152, 'learning_rate': 0.40832078534685096, 'min_data_in_leaf': 80, 'bagging_fraction': 0.994751978957266, 'feature_fraction': 0.8318263617258834}. Best is trial 9 with value: 0.7718013694977391.\u001b[0m\n",
      "\u001b[32m[I 2020-12-09 12:54:58,315]\u001b[0m Trial 14 finished with value: 0.763405419925565 and parameters: {'num_leaves': 2, 'n_estimators': 96, 'max_depth': 7, 'min_child_samples': 796, 'learning_rate': 0.19573009307926081, 'min_data_in_leaf': 58, 'bagging_fraction': 0.36333866793331804, 'feature_fraction': 0.9933875772966971}. Best is trial 9 with value: 0.7718013694977391.\u001b[0m\n",
      "\u001b[32m[I 2020-12-09 12:55:05,594]\u001b[0m Trial 15 finished with value: 0.7687642290782912 and parameters: {'num_leaves': 30, 'n_estimators': 175, 'max_depth': 6, 'min_child_samples': 1075, 'learning_rate': 0.6463269087332231, 'min_data_in_leaf': 86, 'bagging_fraction': 0.7786430526818864, 'feature_fraction': 0.8335217180132939}. Best is trial 9 with value: 0.7718013694977391.\u001b[0m\n",
      "\u001b[32m[I 2020-12-09 12:55:10,782]\u001b[0m Trial 16 finished with value: 0.7698254924614256 and parameters: {'num_leaves': 19, 'n_estimators': 155, 'max_depth': 4, 'min_child_samples': 795, 'learning_rate': 0.2689165776910764, 'min_data_in_leaf': 62, 'bagging_fraction': 0.9988093658640962, 'feature_fraction': 0.2759587725982606}. Best is trial 9 with value: 0.7718013694977391.\u001b[0m\n",
      "\u001b[32m[I 2020-12-09 12:55:16,448]\u001b[0m Trial 17 finished with value: 0.7685741541104562 and parameters: {'num_leaves': 25, 'n_estimators': 123, 'max_depth': 5, 'min_child_samples': 466, 'learning_rate': 0.0769833310054559, 'min_data_in_leaf': 25, 'bagging_fraction': 0.575193414392581, 'feature_fraction': 0.652905327605044}. Best is trial 9 with value: 0.7718013694977391.\u001b[0m\n",
      "\u001b[32m[I 2020-12-09 12:55:19,983]\u001b[0m Trial 18 finished with value: 0.7697137515800394 and parameters: {'num_leaves': 14, 'n_estimators': 82, 'max_depth': 7, 'min_child_samples': 1070, 'learning_rate': 0.42968749136056505, 'min_data_in_leaf': 76, 'bagging_fraction': 0.0566817172948465, 'feature_fraction': 0.9300059714355295}. Best is trial 9 with value: 0.7718013694977391.\u001b[0m\n",
      "\u001b[32m[I 2020-12-09 12:55:28,041]\u001b[0m Trial 19 finished with value: 0.7703469928291661 and parameters: {'num_leaves': 10, 'n_estimators': 285, 'max_depth': 8, 'min_child_samples': 919, 'learning_rate': 0.5841794632933098, 'min_data_in_leaf': 66, 'bagging_fraction': 0.8175457777918264, 'feature_fraction': 0.638428893465758}. Best is trial 9 with value: 0.7718013694977391.\u001b[0m\n",
      "\u001b[32m[I 2020-12-09 12:55:34,825]\u001b[0m Trial 20 finished with value: 0.7711218132393226 and parameters: {'num_leaves': 21, 'n_estimators': 151, 'max_depth': 6, 'min_child_samples': 1075, 'learning_rate': 0.2797901158239451, 'min_data_in_leaf': 52, 'bagging_fraction': 0.999677497817222, 'feature_fraction': 0.8758317753030371}. Best is trial 9 with value: 0.7718013694977391.\u001b[0m\n",
      "\u001b[32m[I 2020-12-09 12:55:41,502]\u001b[0m Trial 21 finished with value: 0.7714359946513117 and parameters: {'num_leaves': 20, 'n_estimators': 150, 'max_depth': 6, 'min_child_samples': 1075, 'learning_rate': 0.2843180021492331, 'min_data_in_leaf': 53, 'bagging_fraction': 0.9887367091066466, 'feature_fraction': 0.8836850508310212}. Best is trial 9 with value: 0.7718013694977391.\u001b[0m\n",
      "\u001b[32m[I 2020-12-09 12:55:48,293]\u001b[0m Trial 22 finished with value: 0.7710141195723124 and parameters: {'num_leaves': 23, 'n_estimators': 154, 'max_depth': 6, 'min_child_samples': 1094, 'learning_rate': 0.18714020946052387, 'min_data_in_leaf': 33, 'bagging_fraction': 0.9599546713641263, 'feature_fraction': 0.888613448306187}. Best is trial 9 with value: 0.7718013694977391.\u001b[0m\n",
      "\u001b[32m[I 2020-12-09 12:55:55,010]\u001b[0m Trial 23 finished with value: 0.771312489143118 and parameters: {'num_leaves': 20, 'n_estimators': 190, 'max_depth': 5, 'min_child_samples': 840, 'learning_rate': 0.3205378396065615, 'min_data_in_leaf': 54, 'bagging_fraction': 0.9892143620402493, 'feature_fraction': 0.7426180503880382}. Best is trial 9 with value: 0.7718013694977391.\u001b[0m\n",
      "\u001b[32m[I 2020-12-09 12:56:02,990]\u001b[0m Trial 24 finished with value: 0.7709478464583769 and parameters: {'num_leaves': 28, 'n_estimators': 201, 'max_depth': 5, 'min_child_samples': 871, 'learning_rate': 0.4441029484306257, 'min_data_in_leaf': 51, 'bagging_fraction': 0.15738733476577854, 'feature_fraction': 0.7587705370575626}. Best is trial 9 with value: 0.7718013694977391.\u001b[0m\n",
      "\u001b[32m[I 2020-12-09 12:56:09,454]\u001b[0m Trial 25 finished with value: 0.7705265926404391 and parameters: {'num_leaves': 16, 'n_estimators': 180, 'max_depth': 5, 'min_child_samples': 667, 'learning_rate': 0.3378718036826526, 'min_data_in_leaf': 34, 'bagging_fraction': 0.6866186545902307, 'feature_fraction': 0.7226690573126727}. Best is trial 9 with value: 0.7718013694977391.\u001b[0m\n",
      "\u001b[32m[I 2020-12-09 12:56:16,706]\u001b[0m Trial 26 finished with value: 0.7691281032451787 and parameters: {'num_leaves': 24, 'n_estimators': 205, 'max_depth': 4, 'min_child_samples': 707, 'learning_rate': 0.106964804048889, 'min_data_in_leaf': 58, 'bagging_fraction': 0.981869508656408, 'feature_fraction': 0.5841370718390776}. Best is trial 9 with value: 0.7718013694977391.\u001b[0m\n",
      "\u001b[32m[I 2020-12-09 12:56:22,552]\u001b[0m Trial 27 finished with value: 0.770428759109594 and parameters: {'num_leaves': 20, 'n_estimators': 167, 'max_depth': 5, 'min_child_samples': 1037, 'learning_rate': 0.45786595987509343, 'min_data_in_leaf': 21, 'bagging_fraction': 0.6890855416224769, 'feature_fraction': 0.5612551015581315}. Best is trial 9 with value: 0.7718013694977391.\u001b[0m\n",
      "\u001b[32m[I 2020-12-09 12:56:30,045]\u001b[0m Trial 28 finished with value: 0.7711876366818564 and parameters: {'num_leaves': 16, 'n_estimators': 192, 'max_depth': 4, 'min_child_samples': 857, 'learning_rate': 0.6246409842668889, 'min_data_in_leaf': 81, 'bagging_fraction': 0.8278028274721978, 'feature_fraction': 0.9182717931367401}. Best is trial 9 with value: 0.7718013694977391.\u001b[0m\n",
      "\u001b[32m[I 2020-12-09 12:56:38,926]\u001b[0m Trial 29 finished with value: 0.7710881596232224 and parameters: {'num_leaves': 12, 'n_estimators': 262, 'max_depth': 6, 'min_child_samples': 738, 'learning_rate': 0.3402238173281594, 'min_data_in_leaf': 73, 'bagging_fraction': 0.9266512189910865, 'feature_fraction': 0.8040147782554783}. Best is trial 9 with value: 0.7718013694977391.\u001b[0m\n",
      "\u001b[32m[I 2020-12-09 12:56:44,337]\u001b[0m Trial 30 finished with value: 0.7702243299252526 and parameters: {'num_leaves': 15, 'n_estimators': 136, 'max_depth': 5, 'min_child_samples': 999, 'learning_rate': 0.32932399269758716, 'min_data_in_leaf': 39, 'bagging_fraction': 0.45260174511695916, 'feature_fraction': 0.34296776174306126}. Best is trial 9 with value: 0.7718013694977391.\u001b[0m\n",
      "\u001b[32m[I 2020-12-09 12:56:52,836]\u001b[0m Trial 31 finished with value: 0.7705187432007281 and parameters: {'num_leaves': 17, 'n_estimators': 217, 'max_depth': 4, 'min_child_samples': 914, 'learning_rate': 0.6631407831109036, 'min_data_in_leaf': 82, 'bagging_fraction': 0.8217896928737158, 'feature_fraction': 0.9151349361477168}. Best is trial 9 with value: 0.7718013694977391.\u001b[0m\n",
      "\u001b[32m[I 2020-12-09 12:57:00,094]\u001b[0m Trial 32 finished with value: 0.7711519707089411 and parameters: {'num_leaves': 20, 'n_estimators': 192, 'max_depth': 4, 'min_child_samples': 860, 'learning_rate': 0.4901514570461954, 'min_data_in_leaf': 81, 'bagging_fraction': 0.9968992820561029, 'feature_fraction': 0.930840071690861}. Best is trial 9 with value: 0.7718013694977391.\u001b[0m\n",
      "\u001b[32m[I 2020-12-09 12:57:06,046]\u001b[0m Trial 33 finished with value: 0.7700618449373068 and parameters: {'num_leaves': 18, 'n_estimators': 168, 'max_depth': 3, 'min_child_samples': 987, 'learning_rate': 0.5957042998476662, 'min_data_in_leaf': 58, 'bagging_fraction': 0.9187283318954413, 'feature_fraction': 0.8518975647128739}. Best is trial 9 with value: 0.7718013694977391.\u001b[0m\n",
      "\u001b[32m[I 2020-12-09 12:57:12,858]\u001b[0m Trial 34 finished with value: 0.7676295162172679 and parameters: {'num_leaves': 15, 'n_estimators': 191, 'max_depth': 6, 'min_child_samples': 584, 'learning_rate': 0.8359213645348798, 'min_data_in_leaf': 90, 'bagging_fraction': 0.8634801318552829, 'feature_fraction': 0.7169959058679244}. Best is trial 9 with value: 0.7718013694977391.\u001b[0m\n",
      "\u001b[32m[I 2020-12-09 12:57:19,920]\u001b[0m Trial 35 finished with value: 0.770949280608993 and parameters: {'num_leaves': 11, 'n_estimators': 215, 'max_depth': 5, 'min_child_samples': 1134, 'learning_rate': 0.38565869776470885, 'min_data_in_leaf': 49, 'bagging_fraction': 0.82655135998653, 'feature_fraction': 0.9381091059973575}. Best is trial 9 with value: 0.7718013694977391.\u001b[0m\n",
      "\u001b[32m[I 2020-12-09 12:57:26,079]\u001b[0m Trial 36 finished with value: 0.7709272020523444 and parameters: {'num_leaves': 22, 'n_estimators': 166, 'max_depth': 4, 'min_child_samples': 923, 'learning_rate': 0.3030368018183637, 'min_data_in_leaf': 64, 'bagging_fraction': 0.956366476535569, 'feature_fraction': 0.7523927303287957}. Best is trial 9 with value: 0.7718013694977391.\u001b[0m\n",
      "\u001b[32m[I 2020-12-09 12:57:34,954]\u001b[0m Trial 37 finished with value: 0.77115577419386 and parameters: {'num_leaves': 28, 'n_estimators': 238, 'max_depth': 4, 'min_child_samples': 744, 'learning_rate': 0.2279634346263087, 'min_data_in_leaf': 72, 'bagging_fraction': 0.7421521942038268, 'feature_fraction': 0.881620356693327}. Best is trial 9 with value: 0.7718013694977391.\u001b[0m\n",
      "\u001b[32m[I 2020-12-09 12:57:40,530]\u001b[0m Trial 38 finished with value: 0.7696385845451886 and parameters: {'num_leaves': 25, 'n_estimators': 140, 'max_depth': 3, 'min_child_samples': 989, 'learning_rate': 0.7200628878017524, 'min_data_in_leaf': 84, 'bagging_fraction': 0.8759332304078619, 'feature_fraction': 0.6950283504403617}. Best is trial 9 with value: 0.7718013694977391.\u001b[0m\n",
      "\u001b[32m[I 2020-12-09 12:57:47,829]\u001b[0m Trial 39 finished with value: 0.7713270018381626 and parameters: {'num_leaves': 19, 'n_estimators': 186, 'max_depth': 5, 'min_child_samples': 849, 'learning_rate': 0.3857585692419304, 'min_data_in_leaf': 46, 'bagging_fraction': 0.28977414718534505, 'feature_fraction': 0.7936262321810048}. Best is trial 9 with value: 0.7718013694977391.\u001b[0m\n",
      "\u001b[32m[I 2020-12-09 12:57:55,429]\u001b[0m Trial 40 finished with value: 0.7711538376983398 and parameters: {'num_leaves': 23, 'n_estimators': 222, 'max_depth': 6, 'min_child_samples': 1144, 'learning_rate': 0.36100465354097483, 'min_data_in_leaf': 47, 'bagging_fraction': 0.30248414554483066, 'feature_fraction': 0.6088613509568325}. Best is trial 9 with value: 0.7718013694977391.\u001b[0m\n",
      "\u001b[32m[I 2020-12-09 12:58:01,947]\u001b[0m Trial 41 finished with value: 0.7706404654245897 and parameters: {'num_leaves': 19, 'n_estimators': 183, 'max_depth': 5, 'min_child_samples': 851, 'learning_rate': 0.48695184487869037, 'min_data_in_leaf': 38, 'bagging_fraction': 0.22370863362922105, 'feature_fraction': 0.8329946849456294}. Best is trial 9 with value: 0.7718013694977391.\u001b[0m\n",
      "\u001b[32m[I 2020-12-09 12:58:09,732]\u001b[0m Trial 42 finished with value: 0.7706571090490838 and parameters: {'num_leaves': 21, 'n_estimators': 200, 'max_depth': 5, 'min_child_samples': 948, 'learning_rate': 0.5606177210165325, 'min_data_in_leaf': 54, 'bagging_fraction': 0.12335144715017068, 'feature_fraction': 0.9664042886683907}. Best is trial 9 with value: 0.7718013694977391.\u001b[0m\n",
      "\u001b[32m[I 2020-12-09 12:58:16,346]\u001b[0m Trial 43 finished with value: 0.7711114493841618 and parameters: {'num_leaves': 18, 'n_estimators': 164, 'max_depth': 5, 'min_child_samples': 1029, 'learning_rate': 0.393314942160426, 'min_data_in_leaf': 44, 'bagging_fraction': 0.33441704927540983, 'feature_fraction': 0.7938768306287813}. Best is trial 9 with value: 0.7718013694977391.\u001b[0m\n",
      "\u001b[32m[I 2020-12-09 12:58:23,832]\u001b[0m Trial 44 finished with value: 0.770900123463461 and parameters: {'num_leaves': 16, 'n_estimators': 189, 'max_depth': 4, 'min_child_samples': 756, 'learning_rate': 0.23455189293341253, 'min_data_in_leaf': 78, 'bagging_fraction': 0.4766741779239143, 'feature_fraction': 0.9946529890258873}. Best is trial 9 with value: 0.7718013694977391.\u001b[0m\n",
      "\u001b[32m[I 2020-12-09 12:58:32,408]\u001b[0m Trial 45 finished with value: 0.7708417521764701 and parameters: {'num_leaves': 20, 'n_estimators': 248, 'max_depth': 6, 'min_child_samples': 867, 'learning_rate': 0.14617524485040828, 'min_data_in_leaf': 61, 'bagging_fraction': 0.24386133389463377, 'feature_fraction': 0.5273488022409448}. Best is trial 9 with value: 0.7718013694977391.\u001b[0m\n",
      "\u001b[32m[I 2020-12-09 12:58:40,613]\u001b[0m Trial 46 finished with value: 0.7708658622699588 and parameters: {'num_leaves': 22, 'n_estimators': 209, 'max_depth': 5, 'min_child_samples': 659, 'learning_rate': 0.5123311456894577, 'min_data_in_leaf': 28, 'bagging_fraction': 0.9326642903148761, 'feature_fraction': 0.8825969575903079}. Best is trial 9 with value: 0.7718013694977391.\u001b[0m\n",
      "\u001b[32m[I 2020-12-09 12:58:48,018]\u001b[0m Trial 47 finished with value: 0.770544892045037 and parameters: {'num_leaves': 13, 'n_estimators': 175, 'max_depth': 4, 'min_child_samples': 468, 'learning_rate': 0.2929820059670033, 'min_data_in_leaf': 13, 'bagging_fraction': 0.6018872254529842, 'feature_fraction': 0.8019762307026582}. Best is trial 9 with value: 0.7718013694977391.\u001b[0m\n",
      "\u001b[32m[I 2020-12-09 12:58:53,471]\u001b[0m Trial 48 finished with value: 0.7707807002089732 and parameters: {'num_leaves': 19, 'n_estimators': 142, 'max_depth': 7, 'min_child_samples': 602, 'learning_rate': 0.23410500666771994, 'min_data_in_leaf': 39, 'bagging_fraction': 0.5378555964208886, 'feature_fraction': 0.7529996985083393}. Best is trial 9 with value: 0.7718013694977391.\u001b[0m\n",
      "\u001b[32m[I 2020-12-09 12:58:58,117]\u001b[0m Trial 49 finished with value: 0.7696928380238595 and parameters: {'num_leaves': 17, 'n_estimators': 122, 'max_depth': 6, 'min_child_samples': 1193, 'learning_rate': 0.6262387236693023, 'min_data_in_leaf': 47, 'bagging_fraction': 0.4122338816750982, 'feature_fraction': 0.9557683703598228}. Best is trial 9 with value: 0.7718013694977391.\u001b[0m\n",
      "\u001b[32m[I 2020-12-09 12:59:03,446]\u001b[0m Trial 50 finished with value: 0.7667937223918377 and parameters: {'num_leaves': 3, 'n_estimators': 195, 'max_depth': 5, 'min_child_samples': 821, 'learning_rate': 0.4043736955461875, 'min_data_in_leaf': 70, 'bagging_fraction': 0.8905374009023246, 'feature_fraction': 0.8387036199028589}. Best is trial 9 with value: 0.7718013694977391.\u001b[0m\n",
      "\u001b[32m[I 2020-12-09 12:59:11,906]\u001b[0m Trial 51 finished with value: 0.7715101517290037 and parameters: {'num_leaves': 28, 'n_estimators': 228, 'max_depth': 4, 'min_child_samples': 769, 'learning_rate': 0.23368535477619448, 'min_data_in_leaf': 72, 'bagging_fraction': 0.7218368843458188, 'feature_fraction': 0.8887423514502533}. Best is trial 9 with value: 0.7718013694977391.\u001b[0m\n",
      "\u001b[32m[I 2020-12-09 12:59:21,181]\u001b[0m Trial 52 finished with value: 0.770229702508011 and parameters: {'num_leaves': 27, 'n_estimators': 261, 'max_depth': 3, 'min_child_samples': 807, 'learning_rate': 0.31599483124265265, 'min_data_in_leaf': 87, 'bagging_fraction': 0.7694885566141131, 'feature_fraction': 0.9049765517400281}. Best is trial 9 with value: 0.7718013694977391.\u001b[0m\n",
      "\u001b[32m[I 2020-12-09 12:59:29,948]\u001b[0m Trial 53 finished with value: 0.7719042628910479 and parameters: {'num_leaves': 24, 'n_estimators': 235, 'max_depth': 4, 'min_child_samples': 699, 'learning_rate': 0.36264935081127747, 'min_data_in_leaf': 76, 'bagging_fraction': 0.8361863818107145, 'feature_fraction': 0.8572234499089182}. Best is trial 53 with value: 0.7719042628910479.\u001b[0m\n",
      "\u001b[32m[I 2020-12-09 12:59:38,973]\u001b[0m Trial 54 finished with value: 0.7716492443571877 and parameters: {'num_leaves': 27, 'n_estimators': 231, 'max_depth': 4, 'min_child_samples': 666, 'learning_rate': 0.36894370477444344, 'min_data_in_leaf': 76, 'bagging_fraction': 0.643742433942674, 'feature_fraction': 0.8579577572199675}. Best is trial 53 with value: 0.7719042628910479.\u001b[0m\n",
      "\u001b[32m[I 2020-12-09 12:59:47,531]\u001b[0m Trial 55 finished with value: 0.7702521318587361 and parameters: {'num_leaves': 26, 'n_estimators': 231, 'max_depth': 3, 'min_child_samples': 698, 'learning_rate': 0.3727577979648844, 'min_data_in_leaf': 75, 'bagging_fraction': 0.6505511041449192, 'feature_fraction': 0.9788571478604549}. Best is trial 53 with value: 0.7719042628910479.\u001b[0m\n",
      "\u001b[32m[I 2020-12-09 12:59:56,696]\u001b[0m Trial 56 finished with value: 0.7715537369340207 and parameters: {'num_leaves': 29, 'n_estimators': 242, 'max_depth': 4, 'min_child_samples': 493, 'learning_rate': 0.4498145667449715, 'min_data_in_leaf': 67, 'bagging_fraction': 0.7195245001778855, 'feature_fraction': 0.851174341219313}. Best is trial 53 with value: 0.7719042628910479.\u001b[0m\n",
      "\u001b[32m[I 2020-12-09 13:00:06,565]\u001b[0m Trial 57 finished with value: 0.7716746580626122 and parameters: {'num_leaves': 31, 'n_estimators': 276, 'max_depth': 4, 'min_child_samples': 276, 'learning_rate': 0.4494456544673831, 'min_data_in_leaf': 78, 'bagging_fraction': 0.7403487054287036, 'feature_fraction': 0.8647890337766619}. Best is trial 53 with value: 0.7719042628910479.\u001b[0m\n",
      "\u001b[32m[I 2020-12-09 13:00:16,584]\u001b[0m Trial 58 finished with value: 0.7711663280171532 and parameters: {'num_leaves': 31, 'n_estimators': 284, 'max_depth': 4, 'min_child_samples': 319, 'learning_rate': 0.43674180902621973, 'min_data_in_leaf': 78, 'bagging_fraction': 0.7157318890290919, 'feature_fraction': 0.8483514697681316}. Best is trial 53 with value: 0.7719042628910479.\u001b[0m\n",
      "\u001b[32m[I 2020-12-09 13:00:24,328]\u001b[0m Trial 59 finished with value: 0.7688395706227462 and parameters: {'num_leaves': 29, 'n_estimators': 267, 'max_depth': 3, 'min_child_samples': 104, 'learning_rate': 0.4563495816327253, 'min_data_in_leaf': 67, 'bagging_fraction': 0.6073169278106733, 'feature_fraction': 0.10682606686767876}. Best is trial 53 with value: 0.7719042628910479.\u001b[0m\n",
      "\u001b[32m[I 2020-12-09 13:00:33,720]\u001b[0m Trial 60 finished with value: 0.7708604769196016 and parameters: {'num_leaves': 31, 'n_estimators': 277, 'max_depth': 4, 'min_child_samples': 320, 'learning_rate': 0.525969647880901, 'min_data_in_leaf': 72, 'bagging_fraction': 0.7911632524336506, 'feature_fraction': 0.6794131318814195}. Best is trial 53 with value: 0.7719042628910479.\u001b[0m\n",
      "\u001b[32m[I 2020-12-09 13:00:43,768]\u001b[0m Trial 61 finished with value: 0.7716264667315537 and parameters: {'num_leaves': 29, 'n_estimators': 241, 'max_depth': 4, 'min_child_samples': 191, 'learning_rate': 0.25535148690810217, 'min_data_in_leaf': 77, 'bagging_fraction': 0.7220114970465855, 'feature_fraction': 0.8701217333455166}. Best is trial 53 with value: 0.7719042628910479.\u001b[0m\n",
      "\u001b[32m[I 2020-12-09 13:00:53,912]\u001b[0m Trial 62 finished with value: 0.770766996223955 and parameters: {'num_leaves': 29, 'n_estimators': 244, 'max_depth': 4, 'min_child_samples': 188, 'learning_rate': 0.15585489049077006, 'min_data_in_leaf': 84, 'bagging_fraction': 0.64152901242074, 'feature_fraction': 0.8617611790267572}. Best is trial 53 with value: 0.7719042628910479.\u001b[0m\n",
      "\u001b[32m[I 2020-12-09 13:01:03,469]\u001b[0m Trial 63 finished with value: 0.7715843474530155 and parameters: {'num_leaves': 27, 'n_estimators': 253, 'max_depth': 4, 'min_child_samples': 238, 'learning_rate': 0.25350947283654296, 'min_data_in_leaf': 77, 'bagging_fraction': 0.7265382082986035, 'feature_fraction': 0.999134091979328}. Best is trial 53 with value: 0.7719042628910479.\u001b[0m\n",
      "\u001b[32m[I 2020-12-09 13:01:13,077]\u001b[0m Trial 64 finished with value: 0.7713435086833114 and parameters: {'num_leaves': 26, 'n_estimators': 252, 'max_depth': 4, 'min_child_samples': 257, 'learning_rate': 0.42249915444290675, 'min_data_in_leaf': 77, 'bagging_fraction': 0.7231240975309153, 'feature_fraction': 0.9950331589632085}. Best is trial 53 with value: 0.7719042628910479.\u001b[0m\n",
      "\u001b[32m[I 2020-12-09 13:01:21,080]\u001b[0m Trial 65 finished with value: 0.7702139611462642 and parameters: {'num_leaves': 30, 'n_estimators': 238, 'max_depth': 3, 'min_child_samples': 371, 'learning_rate': 0.3484670800691919, 'min_data_in_leaf': 89, 'bagging_fraction': 0.5508255965413638, 'feature_fraction': 0.9417399040422189}. Best is trial 53 with value: 0.7719042628910479.\u001b[0m\n",
      "\u001b[32m[I 2020-12-09 13:01:32,072]\u001b[0m Trial 66 finished with value: 0.7718450307358121 and parameters: {'num_leaves': 27, 'n_estimators': 300, 'max_depth': 4, 'min_child_samples': 193, 'learning_rate': 0.264524296829876, 'min_data_in_leaf': 84, 'bagging_fraction': 0.6772070967843866, 'feature_fraction': 0.822172179597956}. Best is trial 53 with value: 0.7719042628910479.\u001b[0m\n",
      "\u001b[32m[I 2020-12-09 13:01:43,180]\u001b[0m Trial 67 finished with value: 0.7718583255851241 and parameters: {'num_leaves': 25, 'n_estimators': 298, 'max_depth': 4, 'min_child_samples': 203, 'learning_rate': 0.25206997963325617, 'min_data_in_leaf': 85, 'bagging_fraction': 0.7903234806086074, 'feature_fraction': 0.8191280556085021}. Best is trial 53 with value: 0.7719042628910479.\u001b[0m\n",
      "\u001b[32m[I 2020-12-09 13:01:53,914]\u001b[0m Trial 68 finished with value: 0.7713514576873928 and parameters: {'num_leaves': 25, 'n_estimators': 299, 'max_depth': 4, 'min_child_samples': 158, 'learning_rate': 0.18373909952378392, 'min_data_in_leaf': 86, 'bagging_fraction': 0.7985525412418891, 'feature_fraction': 0.819404433768061}. Best is trial 53 with value: 0.7719042628910479.\u001b[0m\n",
      "\u001b[32m[I 2020-12-09 13:02:03,989]\u001b[0m Trial 69 finished with value: 0.7673349775559545 and parameters: {'num_leaves': 24, 'n_estimators': 290, 'max_depth': 3, 'min_child_samples': 102, 'learning_rate': 0.06551158729583426, 'min_data_in_leaf': 83, 'bagging_fraction': 0.6834748498680316, 'feature_fraction': 0.7825335189189718}. Best is trial 53 with value: 0.7719042628910479.\u001b[0m\n"
     ]
    },
    {
     "name": "stdout",
     "output_type": "stream",
     "text": [
      "{'num_leaves': 24, 'n_estimators': 235, 'max_depth': 4, 'min_child_samples': 699, 'learning_rate': 0.36264935081127747, 'min_data_in_leaf': 76, 'bagging_fraction': 0.8361863818107145, 'feature_fraction': 0.8572234499089182}\n"
     ]
    }
   ],
   "source": [
    "study = optuna.create_study(direction=\"maximize\")\n",
    "study.optimize(objective, n_trials=70)\n",
    "params = study.best_params\n",
    "\n",
    "print(params)"
   ]
  },
  {
   "cell_type": "code",
   "execution_count": 21,
   "metadata": {
    "execution": {
     "iopub.execute_input": "2020-12-09T13:02:04.173414Z",
     "iopub.status.busy": "2020-12-09T13:02:04.172616Z",
     "iopub.status.idle": "2020-12-09T13:02:04.177368Z",
     "shell.execute_reply": "2020-12-09T13:02:04.176722Z"
    },
    "papermill": {
     "duration": 0.058774,
     "end_time": "2020-12-09T13:02:04.177485",
     "exception": false,
     "start_time": "2020-12-09T13:02:04.118711",
     "status": "completed"
    },
    "tags": []
   },
   "outputs": [
    {
     "data": {
      "text/plain": [
       "\"\\nparams = {\\n'num_leaves': 24,\\n'n_estimators': 299,\\n'max_depth': 5,\\n'min_child_samples': 189,\\n'learning_rate': 0.23952703210876622,\\n'min_data_in_leaf': 62,\\n'bagging_fraction': 0.3263951638326585,\\n'feature_fraction': 0.7424117808052549}\\n\\nscore: 0.7721987996629855\\n\""
      ]
     },
     "execution_count": 21,
     "metadata": {},
     "output_type": "execute_result"
    }
   ],
   "source": [
    "'''\n",
    "params = {\n",
    "'num_leaves': 24,\n",
    "'n_estimators': 299,\n",
    "'max_depth': 5,\n",
    "'min_child_samples': 189,\n",
    "'learning_rate': 0.23952703210876622,\n",
    "'min_data_in_leaf': 62,\n",
    "'bagging_fraction': 0.3263951638326585,\n",
    "'feature_fraction': 0.7424117808052549}\n",
    "\n",
    "score: 0.7721987996629855\n",
    "'''"
   ]
  },
  {
   "cell_type": "code",
   "execution_count": 22,
   "metadata": {
    "execution": {
     "iopub.execute_input": "2020-12-09T13:02:04.294186Z",
     "iopub.status.busy": "2020-12-09T13:02:04.293524Z",
     "iopub.status.idle": "2020-12-09T13:02:13.096349Z",
     "shell.execute_reply": "2020-12-09T13:02:13.097116Z"
    },
    "papermill": {
     "duration": 8.871073,
     "end_time": "2020-12-09T13:02:13.097351",
     "exception": false,
     "start_time": "2020-12-09T13:02:04.226278",
     "status": "completed"
    },
    "tags": []
   },
   "outputs": [
    {
     "name": "stdout",
     "output_type": "stream",
     "text": [
      "LGB score:  0.7716237705925194\n"
     ]
    }
   ],
   "source": [
    "model = lgb.LGBMClassifier(**params)\n",
    "\n",
    "model.fit(train_df[features], train_df[target])\n",
    "print('LGB score: ', roc_auc_score(test_df[target].values, model.predict_proba(test_df[features])[:,1]))"
   ]
  },
  {
   "cell_type": "code",
   "execution_count": 23,
   "metadata": {
    "execution": {
     "iopub.execute_input": "2020-12-09T13:02:13.245306Z",
     "iopub.status.busy": "2020-12-09T13:02:13.239928Z",
     "iopub.status.idle": "2020-12-09T13:02:13.698451Z",
     "shell.execute_reply": "2020-12-09T13:02:13.697846Z"
    },
    "papermill": {
     "duration": 0.52819,
     "end_time": "2020-12-09T13:02:13.698576",
     "exception": false,
     "start_time": "2020-12-09T13:02:13.170386",
     "status": "completed"
    },
    "tags": []
   },
   "outputs": [],
   "source": [
    "for (test_df, sample_prediction_df) in iter_test:\n",
    "    test_df = test_df.merge(user_df, on = \"user_id\", how = \"left\")\n",
    "    test_df = test_df.merge(content_df, on = \"content_id\", how = \"left\")\n",
    "    test_df['content_questions'].fillna(0, inplace = True)\n",
    "    test_df['content_mean'].fillna(0.5, inplace = True)\n",
    "    test_df['watches_lecture'].fillna(0, inplace = True)\n",
    "    test_df['user_questions'].fillna(0, inplace = True)\n",
    "    test_df['user_mean'].fillna(0.5, inplace = True)\n",
    "    test_df['prior_question_elapsed_time'].fillna(mean_prior, inplace = True)\n",
    "    test_df['prior_question_had_explanation'].fillna(False, inplace = True)\n",
    "    test_df['prior_question_had_explanation'] = label_enc.fit_transform(test_df['prior_question_had_explanation'])\n",
    "    test_df[['content_questions', 'user_questions']] = test_df[['content_questions', 'user_questions']].astype(int)\n",
    "    test_df['answered_correctly'] =  model.predict(test_df[features])\n",
    "    env.predict(test_df.loc[test_df['content_type_id'] == 0, ['row_id', 'answered_correctly']])"
   ]
  }
 ],
 "metadata": {
  "kernelspec": {
   "display_name": "Python 3",
   "language": "python",
   "name": "python3"
  },
  "language_info": {
   "codemirror_mode": {
    "name": "ipython",
    "version": 3
   },
   "file_extension": ".py",
   "mimetype": "text/x-python",
   "name": "python",
   "nbconvert_exporter": "python",
   "pygments_lexer": "ipython3",
   "version": "3.7.6"
  },
  "papermill": {
   "duration": 540.687447,
   "end_time": "2020-12-09T13:02:13.956009",
   "environment_variables": {},
   "exception": null,
   "input_path": "__notebook__.ipynb",
   "output_path": "__notebook__.ipynb",
   "parameters": {},
   "start_time": "2020-12-09T12:53:13.268562",
   "version": "2.1.0"
  }
 },
 "nbformat": 4,
 "nbformat_minor": 4
}
