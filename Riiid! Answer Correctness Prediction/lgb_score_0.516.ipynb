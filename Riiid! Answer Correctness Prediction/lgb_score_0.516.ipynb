{
 "cells": [
  {
   "cell_type": "code",
   "execution_count": 1,
   "metadata": {
    "_cell_guid": "b1076dfc-b9ad-4769-8c92-a6c4dae69d19",
    "_uuid": "8f2839f25d086af736a60e9eeb907d3b93b6e0e5",
    "execution": {
     "iopub.execute_input": "2021-01-07T03:38:54.486799Z",
     "iopub.status.busy": "2021-01-07T03:38:54.485633Z",
     "iopub.status.idle": "2021-01-07T03:39:17.374227Z",
     "shell.execute_reply": "2021-01-07T03:39:17.373462Z"
    },
    "papermill": {
     "duration": 22.954603,
     "end_time": "2021-01-07T03:39:17.374369",
     "exception": false,
     "start_time": "2021-01-07T03:38:54.419766",
     "status": "completed"
    },
    "tags": []
   },
   "outputs": [
    {
     "name": "stdout",
     "output_type": "stream",
     "text": [
      "/kaggle/input/riiid-test-answer-prediction/example_sample_submission.csv\n",
      "/kaggle/input/riiid-test-answer-prediction/example_test.csv\n",
      "/kaggle/input/riiid-test-answer-prediction/questions.csv\n",
      "/kaggle/input/riiid-test-answer-prediction/train.csv\n",
      "/kaggle/input/riiid-test-answer-prediction/lectures.csv\n",
      "/kaggle/input/riiid-test-answer-prediction/riiideducation/competition.cpython-37m-x86_64-linux-gnu.so\n",
      "/kaggle/input/riiid-test-answer-prediction/riiideducation/__init__.py\n"
     ]
    }
   ],
   "source": [
    "# This Python 3 environment comes with many helpful analytics libraries installed\n",
    "# It is defined by the kaggle/python Docker image: https://github.com/kaggle/docker-python\n",
    "# For example, here's several helpful packages to load\n",
    "\n",
    "import numpy as np # linear algebra\n",
    "import pandas as pd # data processing, CSV file I/O (e.g. pd.read_csv)\n",
    "\n",
    "# Input data files are available in the read-only \"../input/\" directory\n",
    "# For example, running this (by clicking run or pressing Shift+Enter) will list all files under the input directory\n",
    "\n",
    "import os\n",
    "for dirname, _, filenames in os.walk('/kaggle/input'):\n",
    "    for filename in filenames:\n",
    "        print(os.path.join(dirname, filename))\n",
    "\n",
    "# You can write up to 20GB to the current directory (/kaggle/working/) that gets preserved as output when you create a version using \"Save & Run All\" \n",
    "# You can also write temporary files to /kaggle/temp/, but they won't be saved outside of the current session\n",
    "\n",
    "!pip install ../input/python-datatable/datatable-0.11.0-cp37-cp37m-manylinux2010_x86_64.whl > /dev/null 2>&1"
   ]
  },
  {
   "cell_type": "code",
   "execution_count": 2,
   "metadata": {
    "_cell_guid": "79c7e3d0-c299-4dcb-8224-4455121ee9b0",
    "_uuid": "d629ff2d2480ee46fbb7e2d37f6b5fab8052498a",
    "execution": {
     "iopub.execute_input": "2021-01-07T03:39:17.488822Z",
     "iopub.status.busy": "2021-01-07T03:39:17.487826Z",
     "iopub.status.idle": "2021-01-07T03:39:19.882585Z",
     "shell.execute_reply": "2021-01-07T03:39:19.881888Z"
    },
    "papermill": {
     "duration": 2.455827,
     "end_time": "2021-01-07T03:39:19.882697",
     "exception": false,
     "start_time": "2021-01-07T03:39:17.426870",
     "status": "completed"
    },
    "tags": []
   },
   "outputs": [
    {
     "data": {
      "text/html": [
       "<style type='text/css'>\n",
       ".datatable table.frame { margin-bottom: 0; }\n",
       ".datatable table.frame thead { border-bottom: none; }\n",
       ".datatable table.frame tr.coltypes td {  color: #FFFFFF;  line-height: 6px;  padding: 0 0.5em;}\n",
       ".datatable .bool    { background: #DDDD99; }\n",
       ".datatable .object  { background: #565656; }\n",
       ".datatable .int     { background: #5D9E5D; }\n",
       ".datatable .float   { background: #4040CC; }\n",
       ".datatable .str     { background: #CC4040; }\n",
       ".datatable .row_index {  background: var(--jp-border-color3);  border-right: 1px solid var(--jp-border-color0);  color: var(--jp-ui-font-color3);  font-size: 9px;}\n",
       ".datatable .frame tr.coltypes .row_index {  background: var(--jp-border-color0);}\n",
       ".datatable th:nth-child(2) { padding-left: 12px; }\n",
       ".datatable .hellipsis {  color: var(--jp-cell-editor-border-color);}\n",
       ".datatable .vellipsis {  background: var(--jp-layout-color0);  color: var(--jp-cell-editor-border-color);}\n",
       ".datatable .na {  color: var(--jp-cell-editor-border-color);  font-size: 80%;}\n",
       ".datatable .footer { font-size: 9px; }\n",
       ".datatable .frame_dimensions {  background: var(--jp-border-color3);  border-top: 1px solid var(--jp-border-color0);  color: var(--jp-ui-font-color3);  display: inline-block;  opacity: 0.6;  padding: 1px 10px 1px 5px;}\n",
       "</style>\n"
      ],
      "text/plain": [
       "<IPython.core.display.HTML object>"
      ]
     },
     "metadata": {},
     "output_type": "display_data"
    }
   ],
   "source": [
    "import gc\n",
    "import random\n",
    "import joblib\n",
    "import optuna\n",
    "import datatable as dt\n",
    "import lightgbm as lgb\n",
    "import riiideducation\n",
    "import matplotlib.pyplot as plt\n",
    "\n",
    "from collections import defaultdict\n",
    "from sklearn.preprocessing import LabelEncoder\n",
    "from sklearn.model_selection import train_test_split\n",
    "from sklearn.metrics import roc_auc_score\n",
    "\n",
    "_ = np.seterr(divide='ignore', invalid='ignore')"
   ]
  },
  {
   "cell_type": "markdown",
   "metadata": {
    "papermill": {
     "duration": 0.035046,
     "end_time": "2021-01-07T03:39:19.952958",
     "exception": false,
     "start_time": "2021-01-07T03:39:19.917912",
     "status": "completed"
    },
    "tags": []
   },
   "source": [
    "# Preprocess"
   ]
  },
  {
   "cell_type": "markdown",
   "metadata": {
    "papermill": {
     "duration": 0.035398,
     "end_time": "2021-01-07T03:39:20.035667",
     "exception": false,
     "start_time": "2021-01-07T03:39:20.000269",
     "status": "completed"
    },
    "tags": []
   },
   "source": [
    "df表示をすると、メモリの残容量が減ってしまうので気を付ける必要がある。"
   ]
  },
  {
   "cell_type": "code",
   "execution_count": 3,
   "metadata": {
    "execution": {
     "iopub.execute_input": "2021-01-07T03:39:20.111755Z",
     "iopub.status.busy": "2021-01-07T03:39:20.110867Z",
     "iopub.status.idle": "2021-01-07T03:39:22.411775Z",
     "shell.execute_reply": "2021-01-07T03:39:22.410919Z"
    },
    "papermill": {
     "duration": 2.34008,
     "end_time": "2021-01-07T03:39:22.411912",
     "exception": false,
     "start_time": "2021-01-07T03:39:20.071832",
     "status": "completed"
    },
    "tags": []
   },
   "outputs": [
    {
     "name": "stdout",
     "output_type": "stream",
     "text": [
      "CPU times: user 1.81 s, sys: 63.2 ms, total: 1.88 s\n",
      "Wall time: 2.29 s\n"
     ]
    }
   ],
   "source": [
    "%%time\n",
    "\n",
    "data_types_dict = {\n",
    "    'timestamp': 'int64',\n",
    "    'user_id': 'int32', \n",
    "    'content_id': 'int16', \n",
    "    'content_type_id':'int8', \n",
    "    'task_container_id': 'int16',\n",
    "    'answered_correctly': 'int8', \n",
    "    'prior_question_elapsed_time': 'float32', \n",
    "    'prior_question_had_explanation': 'boolean'\n",
    "}\n",
    "target = 'answered_correctly'\n",
    "\n",
    "# train_df = dt.fread('../input/riiid-test-answer-prediction/train.csv', columns=set(data_types_dict.keys())).to_pandas()\n",
    "\n",
    "train_df = pd.read_csv('/kaggle/input/riiid-test-answer-prediction/train.csv', usecols = data_types_dict.keys(), dtype=data_types_dict, nrows=(10**6))\n",
    "\n",
    "default_features = [col for col in train_df.columns if col != 'answered_correctly']\n",
    "\n",
    "# print(default_features)\n",
    "# print(train_df.shape)\n",
    "# train_df.head()"
   ]
  },
  {
   "cell_type": "markdown",
   "metadata": {
    "papermill": {
     "duration": 0.034822,
     "end_time": "2021-01-07T03:39:22.481767",
     "exception": false,
     "start_time": "2021-01-07T03:39:22.446945",
     "status": "completed"
    },
    "tags": []
   },
   "source": [
    "test_dfには目的変数（answered_correctly）が含まれないため、特徴量のみで前処理すること。\n",
    "\n",
    "※前処理でanswered_correctlyを使用すると、最後のtest_dfの処理ができなくなってしまう。"
   ]
  },
  {
   "cell_type": "code",
   "execution_count": 4,
   "metadata": {
    "execution": {
     "iopub.execute_input": "2021-01-07T03:39:22.556833Z",
     "iopub.status.busy": "2021-01-07T03:39:22.556120Z",
     "iopub.status.idle": "2021-01-07T03:39:22.561220Z",
     "shell.execute_reply": "2021-01-07T03:39:22.560520Z"
    },
    "papermill": {
     "duration": 0.04488,
     "end_time": "2021-01-07T03:39:22.561362",
     "exception": false,
     "start_time": "2021-01-07T03:39:22.516482",
     "status": "completed"
    },
    "tags": []
   },
   "outputs": [],
   "source": [
    "# lectures_df = pd.read_csv('/kaggle/input/riiid-test-answer-prediction/lectures.csv')\n",
    "\n",
    "# print(lectures_df.shape)\n",
    "# lectures_df.head()"
   ]
  },
  {
   "cell_type": "code",
   "execution_count": 5,
   "metadata": {
    "execution": {
     "iopub.execute_input": "2021-01-07T03:39:22.638256Z",
     "iopub.status.busy": "2021-01-07T03:39:22.637490Z",
     "iopub.status.idle": "2021-01-07T03:39:22.643236Z",
     "shell.execute_reply": "2021-01-07T03:39:22.642455Z"
    },
    "papermill": {
     "duration": 0.046113,
     "end_time": "2021-01-07T03:39:22.643373",
     "exception": false,
     "start_time": "2021-01-07T03:39:22.597260",
     "status": "completed"
    },
    "tags": []
   },
   "outputs": [],
   "source": [
    "# lectures_df['type_of'] = lectures_df['type_of'].replace('solving question', 'solving_question')\n",
    "\n",
    "# lectures_df = pd.get_dummies(lectures_df, columns=['part', 'type_of'])\n",
    "\n",
    "# part_lectures_columns = [column for column in lectures_df.columns if column.startswith('part')]\n",
    "# types_of_lectures_columns = [column for column in lectures_df.columns if column.startswith('type_of_')]\n",
    "\n",
    "# print(part_lectures_columns)\n",
    "# print(types_of_lectures_columns)\n",
    "\n",
    "# lectures_df.head()"
   ]
  },
  {
   "cell_type": "code",
   "execution_count": 6,
   "metadata": {
    "execution": {
     "iopub.execute_input": "2021-01-07T03:39:22.754100Z",
     "iopub.status.busy": "2021-01-07T03:39:22.753452Z",
     "iopub.status.idle": "2021-01-07T03:39:22.755988Z",
     "shell.execute_reply": "2021-01-07T03:39:22.755360Z"
    },
    "papermill": {
     "duration": 0.059688,
     "end_time": "2021-01-07T03:39:22.756111",
     "exception": false,
     "start_time": "2021-01-07T03:39:22.696423",
     "status": "completed"
    },
    "tags": []
   },
   "outputs": [],
   "source": [
    "# train_lectures = train_df[train_df.content_type_id == True].merge(lectures_df, left_on='content_id', right_on='lecture_id', how='left')\n",
    "\n",
    "# print(train_lectures.shape)\n",
    "# train_lectures.head()"
   ]
  },
  {
   "cell_type": "code",
   "execution_count": 7,
   "metadata": {
    "execution": {
     "iopub.execute_input": "2021-01-07T03:39:22.833380Z",
     "iopub.status.busy": "2021-01-07T03:39:22.832732Z",
     "iopub.status.idle": "2021-01-07T03:39:22.837781Z",
     "shell.execute_reply": "2021-01-07T03:39:22.837187Z"
    },
    "papermill": {
     "duration": 0.045446,
     "end_time": "2021-01-07T03:39:22.837883",
     "exception": false,
     "start_time": "2021-01-07T03:39:22.792437",
     "status": "completed"
    },
    "tags": []
   },
   "outputs": [],
   "source": [
    "# user_lecture_stats_part = train_lectures.groupby('user_id',as_index = False)[part_lectures_columns + types_of_lectures_columns].sum()\n",
    "\n",
    "# print(user_lecture_stats_part.shape)\n",
    "# user_lecture_stats_part.head()"
   ]
  },
  {
   "cell_type": "code",
   "execution_count": 8,
   "metadata": {
    "execution": {
     "iopub.execute_input": "2021-01-07T03:39:22.915832Z",
     "iopub.status.busy": "2021-01-07T03:39:22.915216Z",
     "iopub.status.idle": "2021-01-07T03:39:22.919884Z",
     "shell.execute_reply": "2021-01-07T03:39:22.919316Z"
    },
    "papermill": {
     "duration": 0.046167,
     "end_time": "2021-01-07T03:39:22.920002",
     "exception": false,
     "start_time": "2021-01-07T03:39:22.873835",
     "status": "completed"
    },
    "tags": []
   },
   "outputs": [],
   "source": [
    "# lecturedata_types_dict = {   \n",
    "    # 'user_id': 'int32', \n",
    "    # 'part_1': 'int8',\n",
    "    # 'part_2': 'int8',\n",
    "    # 'part_3': 'int8',\n",
    "    # 'part_4': 'int8',\n",
    "    # 'part_5': 'int8',\n",
    "    # 'part_6': 'int8',\n",
    "    # 'part_7': 'int8',\n",
    "    # 'type_of_concept': 'int8',\n",
    "    # 'type_of_intention': 'int8',\n",
    "    # 'type_of_solving_question': 'int8',\n",
    "    #'type_of_starter': 'int8'}\n",
    "\n",
    "# user_lecture_stats_part = user_lecture_stats_part.astype(lecturedata_types_dict)\n",
    "\n",
    "# for column in user_lecture_stats_part.columns:\n",
    "    # if(column !='user_id'):\n",
    "        # user_lecture_stats_part[column] = (user_lecture_stats_part[column] > 0).astype('int8')\n",
    "        \n",
    "# print(user_lecture_stats_part.shape)\n",
    "# user_lecture_stats_part.head()"
   ]
  },
  {
   "cell_type": "code",
   "execution_count": 9,
   "metadata": {
    "execution": {
     "iopub.execute_input": "2021-01-07T03:39:22.998671Z",
     "iopub.status.busy": "2021-01-07T03:39:22.998049Z",
     "iopub.status.idle": "2021-01-07T03:39:23.002402Z",
     "shell.execute_reply": "2021-01-07T03:39:23.001822Z"
    },
    "papermill": {
     "duration": 0.045231,
     "end_time": "2021-01-07T03:39:23.002509",
     "exception": false,
     "start_time": "2021-01-07T03:39:22.957278",
     "status": "completed"
    },
    "tags": []
   },
   "outputs": [],
   "source": [
    "# del(train_lectures)\n",
    "# gc.collect()"
   ]
  },
  {
   "cell_type": "code",
   "execution_count": 10,
   "metadata": {
    "execution": {
     "iopub.execute_input": "2021-01-07T03:39:23.081415Z",
     "iopub.status.busy": "2021-01-07T03:39:23.080734Z",
     "iopub.status.idle": "2021-01-07T03:39:23.084496Z",
     "shell.execute_reply": "2021-01-07T03:39:23.083826Z"
    },
    "papermill": {
     "duration": 0.045509,
     "end_time": "2021-01-07T03:39:23.084656",
     "exception": false,
     "start_time": "2021-01-07T03:39:23.039147",
     "status": "completed"
    },
    "tags": []
   },
   "outputs": [],
   "source": [
    "# user_lecture_agg = train_df.groupby('user_id')['content_type_id'].agg(['sum', 'count'])\n",
    "# user_lecture_agg = user_lecture_agg.astype('int16')\n",
    "\n",
    "# print(user_lecture_agg.shape)\n",
    "# user_lecture_agg.head()"
   ]
  },
  {
   "cell_type": "code",
   "execution_count": 11,
   "metadata": {
    "execution": {
     "iopub.execute_input": "2021-01-07T03:39:23.171356Z",
     "iopub.status.busy": "2021-01-07T03:39:23.170708Z",
     "iopub.status.idle": "2021-01-07T03:39:23.300828Z",
     "shell.execute_reply": "2021-01-07T03:39:23.301349Z"
    },
    "papermill": {
     "duration": 0.180211,
     "end_time": "2021-01-07T03:39:23.301495",
     "exception": false,
     "start_time": "2021-01-07T03:39:23.121284",
     "status": "completed"
    },
    "tags": []
   },
   "outputs": [],
   "source": [
    "cum = train_df.groupby('user_id')['content_type_id'].agg(['cumsum', 'cumcount'])\n",
    "cum['cumcount'] = cum['cumcount'] + 1\n",
    "\n",
    "# print(cum.shape)\n",
    "# cum.head()"
   ]
  },
  {
   "cell_type": "code",
   "execution_count": 12,
   "metadata": {
    "execution": {
     "iopub.execute_input": "2021-01-07T03:39:23.384828Z",
     "iopub.status.busy": "2021-01-07T03:39:23.383377Z",
     "iopub.status.idle": "2021-01-07T03:39:23.428411Z",
     "shell.execute_reply": "2021-01-07T03:39:23.427804Z"
    },
    "papermill": {
     "duration": 0.089531,
     "end_time": "2021-01-07T03:39:23.428522",
     "exception": false,
     "start_time": "2021-01-07T03:39:23.338991",
     "status": "completed"
    },
    "tags": []
   },
   "outputs": [],
   "source": [
    "train_df['user_interaction_count'] = cum['cumcount'] \n",
    "train_df['user_interaction_timestamp_mean'] = train_df['timestamp'] / cum['cumcount'] \n",
    "train_df['user_lecture_sum'] = cum['cumsum'] \n",
    "train_df['user_lecture_lv'] = cum['cumsum'] / cum['cumcount']\n",
    "\n",
    "train_df['user_lecture_lv'] = train_df['user_lecture_lv'].astype('float16')\n",
    "train_df['user_lecture_sum'] = train_df['user_lecture_sum'].astype('int16')\n",
    "train_df['user_interaction_count'] = train_df['user_interaction_count'].astype('int16')\n",
    "train_df['user_interaction_timestamp_mean'] = train_df['user_interaction_timestamp_mean'] / (1000*3600)\n",
    "train_df['user_interaction_timestamp_mean'] = train_df['user_interaction_timestamp_mean'].astype('float32')\n",
    "\n",
    "# print(train_df.shape)\n",
    "# train_df.head()"
   ]
  },
  {
   "cell_type": "code",
   "execution_count": 13,
   "metadata": {
    "execution": {
     "iopub.execute_input": "2021-01-07T03:39:23.644822Z",
     "iopub.status.busy": "2021-01-07T03:39:23.644004Z",
     "iopub.status.idle": "2021-01-07T03:39:23.652111Z",
     "shell.execute_reply": "2021-01-07T03:39:23.651380Z"
    },
    "papermill": {
     "duration": 0.18661,
     "end_time": "2021-01-07T03:39:23.652268",
     "exception": false,
     "start_time": "2021-01-07T03:39:23.465658",
     "status": "completed"
    },
    "tags": []
   },
   "outputs": [
    {
     "data": {
      "text/plain": [
       "84"
      ]
     },
     "execution_count": 13,
     "metadata": {},
     "output_type": "execute_result"
    }
   ],
   "source": [
    "del cum\n",
    "gc.collect()"
   ]
  },
  {
   "cell_type": "code",
   "execution_count": 14,
   "metadata": {
    "execution": {
     "iopub.execute_input": "2021-01-07T03:39:23.772290Z",
     "iopub.status.busy": "2021-01-07T03:39:23.771120Z",
     "iopub.status.idle": "2021-01-07T03:39:23.854353Z",
     "shell.execute_reply": "2021-01-07T03:39:23.853580Z"
    },
    "papermill": {
     "duration": 0.145435,
     "end_time": "2021-01-07T03:39:23.854492",
     "exception": false,
     "start_time": "2021-01-07T03:39:23.709057",
     "status": "completed"
    },
    "tags": []
   },
   "outputs": [],
   "source": [
    "train_df['prior_question_had_explanation'].fillna(False, inplace=True)\n",
    "\n",
    "train_df = train_df.astype(data_types_dict)\n",
    "train_df = train_df[train_df[target] != -1].reset_index(drop=True)\n",
    "\n",
    "# print(train_df.shape)\n",
    "# train_df.head()"
   ]
  },
  {
   "cell_type": "code",
   "execution_count": 15,
   "metadata": {
    "execution": {
     "iopub.execute_input": "2021-01-07T03:39:23.971720Z",
     "iopub.status.busy": "2021-01-07T03:39:23.970967Z",
     "iopub.status.idle": "2021-01-07T03:39:23.976415Z",
     "shell.execute_reply": "2021-01-07T03:39:23.975784Z"
    },
    "papermill": {
     "duration": 0.06618,
     "end_time": "2021-01-07T03:39:23.976555",
     "exception": false,
     "start_time": "2021-01-07T03:39:23.910375",
     "status": "completed"
    },
    "tags": []
   },
   "outputs": [],
   "source": [
    "# content_explation_agg = train_df[[\"content_id\",\"prior_question_had_explanation\",target]].groupby([\"content_id\",\"prior_question_had_explanation\"])[target].agg(['mean'])\n",
    "\n",
    "# print(content_explation_agg.shape)\n",
    "# content_explation_agg.head()"
   ]
  },
  {
   "cell_type": "code",
   "execution_count": 16,
   "metadata": {
    "execution": {
     "iopub.execute_input": "2021-01-07T03:39:24.058701Z",
     "iopub.status.busy": "2021-01-07T03:39:24.057784Z",
     "iopub.status.idle": "2021-01-07T03:39:24.063941Z",
     "shell.execute_reply": "2021-01-07T03:39:24.063055Z"
    },
    "papermill": {
     "duration": 0.049387,
     "end_time": "2021-01-07T03:39:24.064079",
     "exception": false,
     "start_time": "2021-01-07T03:39:24.014692",
     "status": "completed"
    },
    "tags": []
   },
   "outputs": [],
   "source": [
    "# content_explation_agg = content_explation_agg.unstack()\n",
    "# content_explation_agg = content_explation_agg.reset_index()\n",
    "# content_explation_agg.columns = ['content_id', 'content_explation_false_mean','content_explation_true_mean']\n",
    "\n",
    "# content_explation_agg['content_id'] = content_explation_agg['content_id'].astype('int16')\n",
    "# content_explation_agg['content_explation_false_mean'] = content_explation_agg['content_explation_false_mean'].astype('float16')\n",
    "# content_explation_agg['content_explation_true_mean'] = content_explation_agg['content_explation_true_mean'].astype('float16')\n",
    "\n",
    "# print(content_explation_agg.shape)\n",
    "# content_explation_agg.head()"
   ]
  },
  {
   "cell_type": "code",
   "execution_count": 17,
   "metadata": {
    "execution": {
     "iopub.execute_input": "2021-01-07T03:39:24.184849Z",
     "iopub.status.busy": "2021-01-07T03:39:24.183709Z",
     "iopub.status.idle": "2021-01-07T03:39:24.709235Z",
     "shell.execute_reply": "2021-01-07T03:39:24.709873Z"
    },
    "papermill": {
     "duration": 0.58845,
     "end_time": "2021-01-07T03:39:24.710024",
     "exception": false,
     "start_time": "2021-01-07T03:39:24.121574",
     "status": "completed"
    },
    "tags": []
   },
   "outputs": [],
   "source": [
    "train_df[\"attempt_no\"] = 1\n",
    "train_df[\"attempt_no\"] = train_df[\"attempt_no\"].astype('int8')\n",
    "\n",
    "attempt_no_agg = train_df.groupby([\"user_id\",\"content_id\"])[\"attempt_no\"].agg(['sum']).astype('int8')\n",
    "\n",
    "# print(attempt_no_agg.shape)\n",
    "# attempt_no_agg.head()"
   ]
  },
  {
   "cell_type": "code",
   "execution_count": 18,
   "metadata": {
    "execution": {
     "iopub.execute_input": "2021-01-07T03:39:24.793687Z",
     "iopub.status.busy": "2021-01-07T03:39:24.792998Z",
     "iopub.status.idle": "2021-01-07T03:39:25.097637Z",
     "shell.execute_reply": "2021-01-07T03:39:25.098358Z"
    },
    "papermill": {
     "duration": 0.350574,
     "end_time": "2021-01-07T03:39:25.098508",
     "exception": false,
     "start_time": "2021-01-07T03:39:24.747934",
     "status": "completed"
    },
    "tags": []
   },
   "outputs": [],
   "source": [
    "train_df[\"attempt_no\"] = train_df[[\"user_id\",\"content_id\",'attempt_no']].groupby([\"user_id\",\"content_id\"])[\"attempt_no\"].cumsum()\n",
    "attempt_no_agg = attempt_no_agg[attempt_no_agg['sum'] >1]\n",
    "\n",
    "prior_question_elapsed_time_mean = train_df['prior_question_elapsed_time'].mean()\n",
    "train_df['prior_question_elapsed_time'].fillna(prior_question_elapsed_time_mean, inplace=True)\n",
    "\n",
    "# print(train_df.shape)\n",
    "# train_df.head()"
   ]
  },
  {
   "cell_type": "code",
   "execution_count": 19,
   "metadata": {
    "execution": {
     "iopub.execute_input": "2021-01-07T03:39:25.193674Z",
     "iopub.status.busy": "2021-01-07T03:39:25.192515Z",
     "iopub.status.idle": "2021-01-07T03:39:25.229700Z",
     "shell.execute_reply": "2021-01-07T03:39:25.228796Z"
    },
    "papermill": {
     "duration": 0.0914,
     "end_time": "2021-01-07T03:39:25.229834",
     "exception": false,
     "start_time": "2021-01-07T03:39:25.138434",
     "status": "completed"
    },
    "tags": []
   },
   "outputs": [],
   "source": [
    "max_timestamp_u = train_df[['user_id','timestamp']].groupby(['user_id'])['timestamp'].agg(['max']).reset_index()\n",
    "max_timestamp_u.columns = ['user_id', 'max_time_stamp']\n",
    "max_timestamp_u['user_id'] = max_timestamp_u.user_id.astype('int32')\n",
    "\n",
    "# print(max_timestamp_u.shape)\n",
    "# max_timestamp_u.head()"
   ]
  },
  {
   "cell_type": "code",
   "execution_count": 20,
   "metadata": {
    "execution": {
     "iopub.execute_input": "2021-01-07T03:39:25.350582Z",
     "iopub.status.busy": "2021-01-07T03:39:25.349547Z",
     "iopub.status.idle": "2021-01-07T03:39:25.389666Z",
     "shell.execute_reply": "2021-01-07T03:39:25.390360Z"
    },
    "papermill": {
     "duration": 0.103573,
     "end_time": "2021-01-07T03:39:25.390533",
     "exception": false,
     "start_time": "2021-01-07T03:39:25.286960",
     "status": "completed"
    },
    "tags": []
   },
   "outputs": [],
   "source": [
    "train_df['lagtime'] = train_df.groupby('user_id')['timestamp'].shift()\n",
    "\n",
    "# print(train_df.shape)\n",
    "# train_df.head()"
   ]
  },
  {
   "cell_type": "code",
   "execution_count": 21,
   "metadata": {
    "execution": {
     "iopub.execute_input": "2021-01-07T03:39:25.525747Z",
     "iopub.status.busy": "2021-01-07T03:39:25.524630Z",
     "iopub.status.idle": "2021-01-07T03:39:25.559876Z",
     "shell.execute_reply": "2021-01-07T03:39:25.559098Z"
    },
    "papermill": {
     "duration": 0.109086,
     "end_time": "2021-01-07T03:39:25.560009",
     "exception": false,
     "start_time": "2021-01-07T03:39:25.450923",
     "status": "completed"
    },
    "tags": []
   },
   "outputs": [],
   "source": [
    "max_timestamp_u2 = train_df[['user_id','lagtime']].groupby(['user_id'])['lagtime'].agg(['max']).reset_index()\n",
    "max_timestamp_u2.columns = ['user_id', 'max_time_stamp2']\n",
    "max_timestamp_u2['user_id'] = max_timestamp_u2.user_id.astype('int32')\n",
    "\n",
    "# print(max_timestamp_u2.shape)\n",
    "# max_timestamp_u2.head()"
   ]
  },
  {
   "cell_type": "code",
   "execution_count": 22,
   "metadata": {
    "execution": {
     "iopub.execute_input": "2021-01-07T03:39:25.683706Z",
     "iopub.status.busy": "2021-01-07T03:39:25.683033Z",
     "iopub.status.idle": "2021-01-07T03:39:25.701655Z",
     "shell.execute_reply": "2021-01-07T03:39:25.700523Z"
    },
    "papermill": {
     "duration": 0.084872,
     "end_time": "2021-01-07T03:39:25.701840",
     "exception": false,
     "start_time": "2021-01-07T03:39:25.616968",
     "status": "completed"
    },
    "tags": []
   },
   "outputs": [],
   "source": [
    "train_df['lagtime'] = train_df['timestamp'] - train_df['lagtime']\n",
    "\n",
    "lagtime_mean = train_df['lagtime'].mean()\n",
    "train_df['lagtime'].fillna(lagtime_mean, inplace=True)\n",
    "\n",
    "train_df['lagtime'] = train_df['lagtime']/(1000*3600)\n",
    "train_df['lagtime'] = train_df['lagtime'].astype('float32')\n",
    "\n",
    "# print(train_df.shape)\n",
    "# train_df.head()"
   ]
  },
  {
   "cell_type": "code",
   "execution_count": 23,
   "metadata": {
    "execution": {
     "iopub.execute_input": "2021-01-07T03:39:25.785072Z",
     "iopub.status.busy": "2021-01-07T03:39:25.784072Z",
     "iopub.status.idle": "2021-01-07T03:39:25.821667Z",
     "shell.execute_reply": "2021-01-07T03:39:25.822282Z"
    },
    "papermill": {
     "duration": 0.081861,
     "end_time": "2021-01-07T03:39:25.822492",
     "exception": false,
     "start_time": "2021-01-07T03:39:25.740631",
     "status": "completed"
    },
    "tags": []
   },
   "outputs": [],
   "source": [
    "train_df['lagtime2'] = train_df.groupby('user_id')['timestamp'].shift(2)\n",
    "\n",
    "# print(train_df.shape)\n",
    "# train_df.head()"
   ]
  },
  {
   "cell_type": "code",
   "execution_count": 24,
   "metadata": {
    "execution": {
     "iopub.execute_input": "2021-01-07T03:39:25.907031Z",
     "iopub.status.busy": "2021-01-07T03:39:25.906444Z",
     "iopub.status.idle": "2021-01-07T03:39:25.958967Z",
     "shell.execute_reply": "2021-01-07T03:39:25.958373Z"
    },
    "papermill": {
     "duration": 0.0972,
     "end_time": "2021-01-07T03:39:25.959091",
     "exception": false,
     "start_time": "2021-01-07T03:39:25.861891",
     "status": "completed"
    },
    "tags": []
   },
   "outputs": [],
   "source": [
    "max_timestamp_u3 = train_df[['user_id','lagtime2']].groupby(['user_id']).agg(['max']).reset_index()\n",
    "max_timestamp_u3.columns = ['user_id', 'max_time_stamp3']\n",
    "max_timestamp_u3['user_id'] = max_timestamp_u3.user_id.astype('int32')\n",
    "\n",
    "# print(max_timestamp_u3.shape)\n",
    "# max_timestamp_u3.head()"
   ]
  },
  {
   "cell_type": "code",
   "execution_count": 25,
   "metadata": {
    "execution": {
     "iopub.execute_input": "2021-01-07T03:39:26.047116Z",
     "iopub.status.busy": "2021-01-07T03:39:26.046141Z",
     "iopub.status.idle": "2021-01-07T03:39:26.064141Z",
     "shell.execute_reply": "2021-01-07T03:39:26.063536Z"
    },
    "papermill": {
     "duration": 0.06538,
     "end_time": "2021-01-07T03:39:26.064285",
     "exception": false,
     "start_time": "2021-01-07T03:39:25.998905",
     "status": "completed"
    },
    "tags": []
   },
   "outputs": [],
   "source": [
    "train_df['lagtime2'] = train_df['timestamp']-train_df['lagtime2']\n",
    "\n",
    "lagtime_mean2 = train_df['lagtime2'].mean()\n",
    "train_df['lagtime2'].fillna(lagtime_mean2, inplace=True)\n",
    "\n",
    "train_df['lagtime2'] = train_df['lagtime2']/(1000*3600)\n",
    "train_df['lagtime2'] = train_df['lagtime2'].astype('float32')\n",
    "\n",
    "# print(train_df.shape)\n",
    "# train_df.head()"
   ]
  },
  {
   "cell_type": "code",
   "execution_count": 26,
   "metadata": {
    "execution": {
     "iopub.execute_input": "2021-01-07T03:39:26.150191Z",
     "iopub.status.busy": "2021-01-07T03:39:26.149529Z",
     "iopub.status.idle": "2021-01-07T03:39:26.202336Z",
     "shell.execute_reply": "2021-01-07T03:39:26.201772Z"
    },
    "papermill": {
     "duration": 0.098827,
     "end_time": "2021-01-07T03:39:26.202450",
     "exception": false,
     "start_time": "2021-01-07T03:39:26.103623",
     "status": "completed"
    },
    "tags": []
   },
   "outputs": [],
   "source": [
    "train_df['lagtime3'] = train_df.groupby('user_id')['timestamp'].shift(3)\n",
    "train_df['lagtime3'] = train_df['timestamp'] - train_df['lagtime3']\n",
    "\n",
    "lagtime_mean3 = train_df['lagtime3'].mean()\n",
    "train_df['lagtime3'].fillna(lagtime_mean3, inplace=True)\n",
    "\n",
    "train_df['lagtime3'] = train_df['lagtime3']/(1000*3600)\n",
    "train_df['lagtime3'] = train_df['lagtime3'].astype('float32')\n",
    "\n",
    "# print(train_df.shape)\n",
    "# train_df.head()"
   ]
  },
  {
   "cell_type": "code",
   "execution_count": 27,
   "metadata": {
    "execution": {
     "iopub.execute_input": "2021-01-07T03:39:26.285140Z",
     "iopub.status.busy": "2021-01-07T03:39:26.284441Z",
     "iopub.status.idle": "2021-01-07T03:39:26.297636Z",
     "shell.execute_reply": "2021-01-07T03:39:26.296961Z"
    },
    "papermill": {
     "duration": 0.056862,
     "end_time": "2021-01-07T03:39:26.297746",
     "exception": false,
     "start_time": "2021-01-07T03:39:26.240884",
     "status": "completed"
    },
    "tags": []
   },
   "outputs": [],
   "source": [
    "train_df['timestamp'] = train_df['timestamp']/(1000*3600)\n",
    "train_df['timestamp'] = train_df['timestamp'].astype('float16')"
   ]
  },
  {
   "cell_type": "markdown",
   "metadata": {
    "papermill": {
     "duration": 0.038993,
     "end_time": "2021-01-07T03:39:26.376438",
     "exception": false,
     "start_time": "2021-01-07T03:39:26.337445",
     "status": "completed"
    },
    "tags": []
   },
   "source": [
    "各user_idのグループごとに、最後の1行を抽出する。"
   ]
  },
  {
   "cell_type": "code",
   "execution_count": 28,
   "metadata": {
    "execution": {
     "iopub.execute_input": "2021-01-07T03:39:26.461252Z",
     "iopub.status.busy": "2021-01-07T03:39:26.460582Z",
     "iopub.status.idle": "2021-01-07T03:39:26.524068Z",
     "shell.execute_reply": "2021-01-07T03:39:26.523491Z"
    },
    "papermill": {
     "duration": 0.108415,
     "end_time": "2021-01-07T03:39:26.524202",
     "exception": false,
     "start_time": "2021-01-07T03:39:26.415787",
     "status": "completed"
    },
    "tags": []
   },
   "outputs": [],
   "source": [
    "user_prior_question_elapsed_time = train_df[['user_id','prior_question_elapsed_time']].groupby(['user_id']).tail(1)\n",
    "user_prior_question_elapsed_time.columns = ['user_id', 'prior_question_elapsed_time']\n",
    "\n",
    "# print(train_df['user_id'].nunique())\n",
    "# print(user_prior_question_elapsed_time.shape)\n",
    "# user_prior_question_elapsed_time.head()"
   ]
  },
  {
   "cell_type": "code",
   "execution_count": 29,
   "metadata": {
    "execution": {
     "iopub.execute_input": "2021-01-07T03:39:26.609958Z",
     "iopub.status.busy": "2021-01-07T03:39:26.609125Z",
     "iopub.status.idle": "2021-01-07T03:39:26.655531Z",
     "shell.execute_reply": "2021-01-07T03:39:26.654929Z"
    },
    "papermill": {
     "duration": 0.092571,
     "end_time": "2021-01-07T03:39:26.655645",
     "exception": false,
     "start_time": "2021-01-07T03:39:26.563074",
     "status": "completed"
    },
    "tags": []
   },
   "outputs": [],
   "source": [
    "train_df['delta_prior_question_elapsed_time'] = train_df.groupby('user_id')['prior_question_elapsed_time'].shift()\n",
    "train_df['delta_prior_question_elapsed_time'] = train_df['prior_question_elapsed_time'] - train_df['delta_prior_question_elapsed_time']\n",
    "\n",
    "delta_prior_question_elapsed_time_mean = train_df['delta_prior_question_elapsed_time'].mean()\n",
    "train_df['delta_prior_question_elapsed_time'].fillna(delta_prior_question_elapsed_time_mean, inplace=True)\n",
    "\n",
    "train_df['delta_prior_question_elapsed_time'] = train_df['delta_prior_question_elapsed_time'].astype('int32')"
   ]
  },
  {
   "cell_type": "code",
   "execution_count": 30,
   "metadata": {
    "execution": {
     "iopub.execute_input": "2021-01-07T03:39:26.740964Z",
     "iopub.status.busy": "2021-01-07T03:39:26.740052Z",
     "iopub.status.idle": "2021-01-07T03:39:26.778285Z",
     "shell.execute_reply": "2021-01-07T03:39:26.777577Z"
    },
    "papermill": {
     "duration": 0.083251,
     "end_time": "2021-01-07T03:39:26.778396",
     "exception": false,
     "start_time": "2021-01-07T03:39:26.695145",
     "status": "completed"
    },
    "tags": []
   },
   "outputs": [],
   "source": [
    "train_df['prior_question_had_explanation'] = train_df['prior_question_had_explanation'].astype('int8')\n",
    "\n",
    "explanation_agg = train_df.groupby('user_id')['prior_question_had_explanation'].agg(['sum', 'count'])\n",
    "explanation_agg = explanation_agg.astype('int16')"
   ]
  },
  {
   "cell_type": "code",
   "execution_count": 31,
   "metadata": {
    "execution": {
     "iopub.execute_input": "2021-01-07T03:39:26.866934Z",
     "iopub.status.busy": "2021-01-07T03:39:26.865911Z",
     "iopub.status.idle": "2021-01-07T03:39:27.041298Z",
     "shell.execute_reply": "2021-01-07T03:39:27.041825Z"
    },
    "papermill": {
     "duration": 0.223474,
     "end_time": "2021-01-07T03:39:27.041957",
     "exception": false,
     "start_time": "2021-01-07T03:39:26.818483",
     "status": "completed"
    },
    "tags": []
   },
   "outputs": [
    {
     "data": {
      "text/plain": [
       "166"
      ]
     },
     "execution_count": 31,
     "metadata": {},
     "output_type": "execute_result"
    }
   ],
   "source": [
    "cum = train_df.groupby('user_id')['prior_question_had_explanation'].agg(['cumsum', 'cumcount'])\n",
    "cum['cumcount'] = cum['cumcount'] + 1\n",
    "\n",
    "train_df['explanation_mean'] = cum['cumsum'] / cum['cumcount']\n",
    "train_df['explanation_true_count'] = cum['cumsum'] \n",
    "train_df['explanation_false_count'] =  cum['cumcount'] - cum['cumsum']\n",
    "\n",
    "del cum\n",
    "gc.collect()"
   ]
  },
  {
   "cell_type": "code",
   "execution_count": 32,
   "metadata": {
    "execution": {
     "iopub.execute_input": "2021-01-07T03:39:27.128925Z",
     "iopub.status.busy": "2021-01-07T03:39:27.127981Z",
     "iopub.status.idle": "2021-01-07T03:39:27.217707Z",
     "shell.execute_reply": "2021-01-07T03:39:27.216931Z"
    },
    "papermill": {
     "duration": 0.135225,
     "end_time": "2021-01-07T03:39:27.217820",
     "exception": false,
     "start_time": "2021-01-07T03:39:27.082595",
     "status": "completed"
    },
    "tags": []
   },
   "outputs": [],
   "source": [
    "content_elapsed_time_agg = train_df.groupby('content_id')['prior_question_elapsed_time'].agg(['mean'])\n",
    "content_had_explanation_agg = train_df.groupby('content_id')['prior_question_had_explanation'].agg(['mean'])"
   ]
  },
  {
   "cell_type": "code",
   "execution_count": 33,
   "metadata": {
    "execution": {
     "iopub.execute_input": "2021-01-07T03:39:27.308632Z",
     "iopub.status.busy": "2021-01-07T03:39:27.307887Z",
     "iopub.status.idle": "2021-01-07T03:39:27.325694Z",
     "shell.execute_reply": "2021-01-07T03:39:27.325080Z"
    },
    "papermill": {
     "duration": 0.067374,
     "end_time": "2021-01-07T03:39:27.325808",
     "exception": false,
     "start_time": "2021-01-07T03:39:27.258434",
     "status": "completed"
    },
    "tags": []
   },
   "outputs": [],
   "source": [
    "questions_df = pd.read_csv('../input/riiid-test-answer-prediction/questions.csv', usecols=[0, 1,3,4], dtype={'question_id': 'int16','bundle_id': 'int16', 'part': 'int8','tags': 'str'})\n",
    "\n",
    "# print(questions_df.shape)\n",
    "# questions_df.head()"
   ]
  },
  {
   "cell_type": "code",
   "execution_count": 34,
   "metadata": {
    "execution": {
     "iopub.execute_input": "2021-01-07T03:39:27.413379Z",
     "iopub.status.busy": "2021-01-07T03:39:27.412662Z",
     "iopub.status.idle": "2021-01-07T03:39:27.424704Z",
     "shell.execute_reply": "2021-01-07T03:39:27.424108Z"
    },
    "papermill": {
     "duration": 0.058726,
     "end_time": "2021-01-07T03:39:27.424814",
     "exception": false,
     "start_time": "2021-01-07T03:39:27.366088",
     "status": "completed"
    },
    "tags": []
   },
   "outputs": [],
   "source": [
    "bundle_agg = questions_df.groupby('bundle_id')['question_id'].agg(['count'])\n",
    "\n",
    "# print(bundle_agg.shape)\n",
    "# bundle_agg.head()"
   ]
  },
  {
   "cell_type": "code",
   "execution_count": 35,
   "metadata": {
    "execution": {
     "iopub.execute_input": "2021-01-07T03:39:27.513657Z",
     "iopub.status.busy": "2021-01-07T03:39:27.512730Z",
     "iopub.status.idle": "2021-01-07T03:39:27.521332Z",
     "shell.execute_reply": "2021-01-07T03:39:27.520641Z"
    },
    "papermill": {
     "duration": 0.056438,
     "end_time": "2021-01-07T03:39:27.521440",
     "exception": false,
     "start_time": "2021-01-07T03:39:27.465002",
     "status": "completed"
    },
    "tags": []
   },
   "outputs": [],
   "source": [
    "questions_df['content_sub_bundle'] = questions_df['bundle_id'].map(bundle_agg['count']).astype('int8')\n",
    "questions_df['tags'].fillna('188', inplace=True)\n",
    "\n",
    "# print(questions_df.shape)\n",
    "# questions_df.head()"
   ]
  },
  {
   "cell_type": "code",
   "execution_count": 36,
   "metadata": {
    "execution": {
     "iopub.execute_input": "2021-01-07T03:39:27.611371Z",
     "iopub.status.busy": "2021-01-07T03:39:27.610664Z",
     "iopub.status.idle": "2021-01-07T03:39:27.615400Z",
     "shell.execute_reply": "2021-01-07T03:39:27.614672Z"
    },
    "papermill": {
     "duration": 0.05365,
     "end_time": "2021-01-07T03:39:27.615531",
     "exception": false,
     "start_time": "2021-01-07T03:39:27.561881",
     "status": "completed"
    },
    "tags": []
   },
   "outputs": [],
   "source": [
    "def gettags(tags,num):\n",
    "    tags_splits = tags.split(\" \")\n",
    "    result = '' \n",
    "    \n",
    "    for t in tags_splits:\n",
    "        x = int(t)\n",
    "        if(x < 32*(num+1) and x >= 32*num):\n",
    "            result = result +' '+ t\n",
    "    return result"
   ]
  },
  {
   "cell_type": "code",
   "execution_count": 37,
   "metadata": {
    "execution": {
     "iopub.execute_input": "2021-01-07T03:39:27.755375Z",
     "iopub.status.busy": "2021-01-07T03:39:27.750310Z",
     "iopub.status.idle": "2021-01-07T03:39:28.134990Z",
     "shell.execute_reply": "2021-01-07T03:39:28.134264Z"
    },
    "papermill": {
     "duration": 0.45872,
     "end_time": "2021-01-07T03:39:28.135136",
     "exception": false,
     "start_time": "2021-01-07T03:39:27.676416",
     "status": "completed"
    },
    "tags": []
   },
   "outputs": [],
   "source": [
    "for num in range(0,6):\n",
    "    questions_df[\"tags\" + str(num)] = questions_df[\"tags\"].apply(lambda row: gettags(row,num))\n",
    "    \n",
    "    le = LabelEncoder()\n",
    "    le.fit(np.unique(questions_df['tags' + str(num)].values))\n",
    "    \n",
    "    questions_df['tags' + str(num)] = questions_df[['tags' + str(num)]].apply(le.transform)\n",
    "    \n",
    "# print(questions_df.shape)\n",
    "# questions_df.head()"
   ]
  },
  {
   "cell_type": "code",
   "execution_count": 38,
   "metadata": {
    "execution": {
     "iopub.execute_input": "2021-01-07T03:39:28.272523Z",
     "iopub.status.busy": "2021-01-07T03:39:28.271870Z",
     "iopub.status.idle": "2021-01-07T03:39:28.277597Z",
     "shell.execute_reply": "2021-01-07T03:39:28.276945Z"
    },
    "papermill": {
     "duration": 0.080263,
     "end_time": "2021-01-07T03:39:28.277699",
     "exception": false,
     "start_time": "2021-01-07T03:39:28.197436",
     "status": "completed"
    },
    "tags": []
   },
   "outputs": [],
   "source": [
    "questions_df_dict = {   \n",
    "    'tags0': 'int8',\n",
    "    'tags1': 'int8',\n",
    "    'tags2': 'int8',\n",
    "    'tags3': 'int8',\n",
    "    'tags4': 'int8',\n",
    "    'tags5': 'int8',\n",
    "}\n",
    "\n",
    "questions_df = questions_df.astype(questions_df_dict)\n",
    "questions_df.drop(columns=['tags'], inplace=True)\n",
    "\n",
    "questions_df['part_bundle_id'] = questions_df['part']*100000 + questions_df['bundle_id']\n",
    "questions_df['part_bundle_id'] = questions_df['part_bundle_id'].astype('int32')\n",
    "\n",
    "questions_df.rename(columns={'question_id':'content_id'}, inplace=True)\n",
    "\n",
    "# print(questions_df.shape)\n",
    "# questions_df.head()"
   ]
  },
  {
   "cell_type": "code",
   "execution_count": 39,
   "metadata": {
    "execution": {
     "iopub.execute_input": "2021-01-07T03:39:28.364415Z",
     "iopub.status.busy": "2021-01-07T03:39:28.363761Z",
     "iopub.status.idle": "2021-01-07T03:39:28.369080Z",
     "shell.execute_reply": "2021-01-07T03:39:28.368536Z"
    },
    "papermill": {
     "duration": 0.050088,
     "end_time": "2021-01-07T03:39:28.369202",
     "exception": false,
     "start_time": "2021-01-07T03:39:28.319114",
     "status": "completed"
    },
    "tags": []
   },
   "outputs": [],
   "source": [
    "# questions_df = pd.merge(questions_df, content_explation_agg, on='content_id', how='left',right_index=True)\n",
    "\n",
    "# print(questions_df.shape)\n",
    "# questions_df.head()"
   ]
  },
  {
   "cell_type": "markdown",
   "metadata": {
    "papermill": {
     "duration": 0.040373,
     "end_time": "2021-01-07T03:39:28.450639",
     "exception": false,
     "start_time": "2021-01-07T03:39:28.410266",
     "status": "completed"
    },
    "tags": []
   },
   "source": [
    "content_explain_aggには、answered_correctlyを含んだ処理をしているため<br>\n",
    "これ以上進めたとしても、最後のtest_dfの処理ができない。"
   ]
  },
  {
   "cell_type": "markdown",
   "metadata": {
    "papermill": {
     "duration": 0.041114,
     "end_time": "2021-01-07T03:39:28.533082",
     "exception": false,
     "start_time": "2021-01-07T03:39:28.491968",
     "status": "completed"
    },
    "tags": []
   },
   "source": [
    "# Modeling"
   ]
  },
  {
   "cell_type": "code",
   "execution_count": 40,
   "metadata": {
    "execution": {
     "iopub.execute_input": "2021-01-07T03:39:28.623238Z",
     "iopub.status.busy": "2021-01-07T03:39:28.622561Z",
     "iopub.status.idle": "2021-01-07T03:39:28.800397Z",
     "shell.execute_reply": "2021-01-07T03:39:28.799486Z"
    },
    "papermill": {
     "duration": 0.225987,
     "end_time": "2021-01-07T03:39:28.800544",
     "exception": false,
     "start_time": "2021-01-07T03:39:28.574557",
     "status": "completed"
    },
    "tags": []
   },
   "outputs": [
    {
     "name": "stdout",
     "output_type": "stream",
     "text": [
      "['timestamp', 'prior_question_elapsed_time', 'prior_question_had_explanation', 'user_interaction_count', 'user_interaction_timestamp_mean', 'user_lecture_sum', 'user_lecture_lv', 'attempt_no', 'lagtime', 'lagtime2', 'lagtime3', 'delta_prior_question_elapsed_time', 'explanation_mean', 'explanation_true_count', 'explanation_false_count']\n",
      "timestamp                            float16\n",
      "user_id                                int32\n",
      "content_id                             int16\n",
      "content_type_id                         int8\n",
      "task_container_id                      int16\n",
      "answered_correctly                      int8\n",
      "prior_question_elapsed_time          float32\n",
      "prior_question_had_explanation         int64\n",
      "user_interaction_count                 int16\n",
      "user_interaction_timestamp_mean      float32\n",
      "user_lecture_sum                       int16\n",
      "user_lecture_lv                      float16\n",
      "attempt_no                              int8\n",
      "lagtime                              float32\n",
      "lagtime2                             float32\n",
      "lagtime3                             float32\n",
      "delta_prior_question_elapsed_time      int32\n",
      "explanation_mean                     float64\n",
      "explanation_true_count                 int64\n",
      "explanation_false_count                int64\n",
      "dtype: object\n"
     ]
    }
   ],
   "source": [
    "train_df['prior_question_had_explanation'] = train_df['prior_question_had_explanation'].astype(int)\n",
    "\n",
    "features = ['timestamp',\n",
    "            'prior_question_elapsed_time',\n",
    "            'prior_question_had_explanation',\n",
    "            'user_interaction_count',\n",
    "            'user_interaction_timestamp_mean',\n",
    "            'user_lecture_sum',\n",
    "            'user_lecture_lv',\n",
    "            'attempt_no',\n",
    "            'lagtime',\n",
    "            'lagtime2',\n",
    "            'lagtime3',\n",
    "            'delta_prior_question_elapsed_time',\n",
    "            'explanation_mean',\n",
    "            'explanation_true_count',\n",
    "            'explanation_false_count']\n",
    "\n",
    "target = 'answered_correctly'\n",
    "\n",
    "train_df, test_df = train_test_split(train_df, random_state=666, test_size=0.2)\n",
    "\n",
    "print(features)\n",
    "print(train_df.dtypes)\n",
    "# print(train_df.isnull().sum())"
   ]
  },
  {
   "cell_type": "code",
   "execution_count": 41,
   "metadata": {
    "execution": {
     "iopub.execute_input": "2021-01-07T03:39:28.933531Z",
     "iopub.status.busy": "2021-01-07T03:39:28.932416Z",
     "iopub.status.idle": "2021-01-07T03:39:28.938645Z",
     "shell.execute_reply": "2021-01-07T03:39:28.938061Z"
    },
    "papermill": {
     "duration": 0.074423,
     "end_time": "2021-01-07T03:39:28.938766",
     "exception": false,
     "start_time": "2021-01-07T03:39:28.864343",
     "status": "completed"
    },
    "tags": []
   },
   "outputs": [
    {
     "data": {
      "text/plain": [
       "'\\ndef create_model(trial):\\n    num_leaves = trial.suggest_int(\"num_leaves\", 2, 31)\\n    n_estimators = trial.suggest_int(\"n_estimators\", 50, 300)\\n    max_depth = trial.suggest_int(\\'max_depth\\', 3, 8)\\n    min_child_samples = trial.suggest_int(\\'min_child_samples\\', 100, 1200)\\n    learning_rate = trial.suggest_uniform(\\'learning_rate\\', 0.0001, 0.99)\\n    min_data_in_leaf = trial.suggest_int(\\'min_data_in_leaf\\', 5, 90)\\n    bagging_fraction = trial.suggest_uniform(\\'bagging_fraction\\', 0.0001, 1.0)\\n    feature_fraction = trial.suggest_uniform(\\'feature_fraction\\', 0.0001, 1.0)\\n    \\n    model = lgb.LGBMClassifier(\\n        num_leaves=num_leaves,\\n        n_estimators=n_estimators, \\n        max_depth=max_depth, \\n        min_child_samples=min_child_samples, \\n        min_data_in_leaf=min_data_in_leaf,\\n        learning_rate=learning_rate,\\n        feature_fraction=feature_fraction,\\n        random_state=666\\n    )\\n    return model\\n    \\ndef objective(trial):\\n    model = create_model(trial)\\n    model.fit(train_df[features], train_df[target])\\n    score = roc_auc_score(\\n        test_df[target].values, \\n        model.predict_proba(test_df[features])[:,1]\\n    )\\n    return score\\n    \\nstudy = optuna.create_study(direction=\"maximize\")\\nstudy.optimize(objective, n_trials=40)\\nparams = study.best_params\\n\\nprint(params)\\n\\n'"
      ]
     },
     "execution_count": 41,
     "metadata": {},
     "output_type": "execute_result"
    }
   ],
   "source": [
    "'''\n",
    "def create_model(trial):\n",
    "    num_leaves = trial.suggest_int(\"num_leaves\", 2, 31)\n",
    "    n_estimators = trial.suggest_int(\"n_estimators\", 50, 300)\n",
    "    max_depth = trial.suggest_int('max_depth', 3, 8)\n",
    "    min_child_samples = trial.suggest_int('min_child_samples', 100, 1200)\n",
    "    learning_rate = trial.suggest_uniform('learning_rate', 0.0001, 0.99)\n",
    "    min_data_in_leaf = trial.suggest_int('min_data_in_leaf', 5, 90)\n",
    "    bagging_fraction = trial.suggest_uniform('bagging_fraction', 0.0001, 1.0)\n",
    "    feature_fraction = trial.suggest_uniform('feature_fraction', 0.0001, 1.0)\n",
    "    \n",
    "    model = lgb.LGBMClassifier(\n",
    "        num_leaves=num_leaves,\n",
    "        n_estimators=n_estimators, \n",
    "        max_depth=max_depth, \n",
    "        min_child_samples=min_child_samples, \n",
    "        min_data_in_leaf=min_data_in_leaf,\n",
    "        learning_rate=learning_rate,\n",
    "        feature_fraction=feature_fraction,\n",
    "        random_state=666\n",
    "    )\n",
    "    return model\n",
    "    \n",
    "def objective(trial):\n",
    "    model = create_model(trial)\n",
    "    model.fit(train_df[features], train_df[target])\n",
    "    score = roc_auc_score(\n",
    "        test_df[target].values, \n",
    "        model.predict_proba(test_df[features])[:,1]\n",
    "    )\n",
    "    return score\n",
    "    \n",
    "study = optuna.create_study(direction=\"maximize\")\n",
    "study.optimize(objective, n_trials=40)\n",
    "params = study.best_params\n",
    "\n",
    "print(params)\n",
    "\n",
    "'''"
   ]
  },
  {
   "cell_type": "code",
   "execution_count": 42,
   "metadata": {
    "execution": {
     "iopub.execute_input": "2021-01-07T03:39:29.032533Z",
     "iopub.status.busy": "2021-01-07T03:39:29.031682Z",
     "iopub.status.idle": "2021-01-07T03:39:29.036555Z",
     "shell.execute_reply": "2021-01-07T03:39:29.035816Z"
    },
    "papermill": {
     "duration": 0.054282,
     "end_time": "2021-01-07T03:39:29.036669",
     "exception": false,
     "start_time": "2021-01-07T03:39:28.982387",
     "status": "completed"
    },
    "tags": []
   },
   "outputs": [],
   "source": [
    "# 10**6\n",
    "\n",
    "params = {'num_leaves': 29,\n",
    "          'n_estimators': 168,\n",
    "          'max_depth': 7,\n",
    "          'min_child_samples': 364,\n",
    "          'learning_rate': 0.24687267961130072,\n",
    "          'min_data_in_leaf': 77,\n",
    "          'bagging_fraction': 0.49559546556887074,\n",
    "          'feature_fraction': 0.6085328650398771\n",
    "         }"
   ]
  },
  {
   "cell_type": "code",
   "execution_count": 43,
   "metadata": {
    "execution": {
     "iopub.execute_input": "2021-01-07T03:39:29.129019Z",
     "iopub.status.busy": "2021-01-07T03:39:29.128153Z",
     "iopub.status.idle": "2021-01-07T03:39:29.135472Z",
     "shell.execute_reply": "2021-01-07T03:39:29.134856Z"
    },
    "papermill": {
     "duration": 0.054989,
     "end_time": "2021-01-07T03:39:29.135587",
     "exception": false,
     "start_time": "2021-01-07T03:39:29.080598",
     "status": "completed"
    },
    "tags": []
   },
   "outputs": [
    {
     "data": {
      "text/plain": [
       "\"\\nparams = {'num_leaves': 31,\\n          'n_estimators': 297,\\n          'max_depth': 8,\\n          'min_child_samples': 295,\\n          'learning_rate': 0.9768661701125526,\\n          'min_data_in_leaf': 46,\\n          'bagging_fraction': 0.0436713452300919,\\n          'feature_fraction': 0.4062930238066179\\n         }\\n         \\n\""
      ]
     },
     "execution_count": 43,
     "metadata": {},
     "output_type": "execute_result"
    }
   ],
   "source": [
    "# 50*(10**6)\n",
    "\n",
    "'''\n",
    "params = {'num_leaves': 31,\n",
    "          'n_estimators': 297,\n",
    "          'max_depth': 8,\n",
    "          'min_child_samples': 295,\n",
    "          'learning_rate': 0.9768661701125526,\n",
    "          'min_data_in_leaf': 46,\n",
    "          'bagging_fraction': 0.0436713452300919,\n",
    "          'feature_fraction': 0.4062930238066179\n",
    "         }\n",
    "         \n",
    "'''"
   ]
  },
  {
   "cell_type": "code",
   "execution_count": 44,
   "metadata": {
    "execution": {
     "iopub.execute_input": "2021-01-07T03:39:29.230002Z",
     "iopub.status.busy": "2021-01-07T03:39:29.229221Z",
     "iopub.status.idle": "2021-01-07T03:39:39.233690Z",
     "shell.execute_reply": "2021-01-07T03:39:39.233153Z"
    },
    "papermill": {
     "duration": 10.055156,
     "end_time": "2021-01-07T03:39:39.233800",
     "exception": false,
     "start_time": "2021-01-07T03:39:29.178644",
     "status": "completed"
    },
    "tags": []
   },
   "outputs": [
    {
     "name": "stdout",
     "output_type": "stream",
     "text": [
      "LGB score:  0.6684971440526508\n"
     ]
    },
    {
     "data": {
      "image/png": "[encoded data removed]",
      "text/plain": [
       "<Figure size 1080x1080 with 1 Axes>"
      ]
     },
     "metadata": {
      "needs_background": "light"
     },
     "output_type": "display_data"
    }
   ],
   "source": [
    "model = lgb.LGBMClassifier(**params)\n",
    "model.fit(train_df[features], train_df[target])\n",
    "\n",
    "print('LGB score: ', roc_auc_score(test_df[target].values, model.predict_proba(test_df[features])[:,1]))\n",
    "\n",
    "fig,ax = plt.subplots(figsize=(15,15))\n",
    "lgb.plot_importance(model, ax=ax,importance_type='gain',max_num_features=50)\n",
    "plt.show()"
   ]
  },
  {
   "cell_type": "code",
   "execution_count": 45,
   "metadata": {
    "execution": {
     "iopub.execute_input": "2021-01-07T03:39:39.329500Z",
     "iopub.status.busy": "2021-01-07T03:39:39.328838Z",
     "iopub.status.idle": "2021-01-07T03:39:39.332394Z",
     "shell.execute_reply": "2021-01-07T03:39:39.332966Z"
    },
    "papermill": {
     "duration": 0.053491,
     "end_time": "2021-01-07T03:39:39.333259",
     "exception": false,
     "start_time": "2021-01-07T03:39:39.279768",
     "status": "completed"
    },
    "tags": []
   },
   "outputs": [],
   "source": [
    "# test_df = pd.read_csv(\"/kaggle/input/riiid-test-answer-prediction/example_test.csv\")\n",
    "\n",
    "# print(test_df.dtypes)\n",
    "# print(test_df.shape)\n",
    "# test_df.head()"
   ]
  },
  {
   "cell_type": "code",
   "execution_count": 46,
   "metadata": {
    "execution": {
     "iopub.execute_input": "2021-01-07T03:39:39.429788Z",
     "iopub.status.busy": "2021-01-07T03:39:39.429026Z",
     "iopub.status.idle": "2021-01-07T03:39:39.430715Z",
     "shell.execute_reply": "2021-01-07T03:39:39.431360Z"
    },
    "papermill": {
     "duration": 0.05266,
     "end_time": "2021-01-07T03:39:39.431500",
     "exception": false,
     "start_time": "2021-01-07T03:39:39.378840",
     "status": "completed"
    },
    "tags": []
   },
   "outputs": [],
   "source": [
    "env = riiideducation.make_env()\n",
    "iter_test = env.iter_test()"
   ]
  },
  {
   "cell_type": "code",
   "execution_count": 47,
   "metadata": {
    "execution": {
     "iopub.execute_input": "2021-01-07T03:39:39.526089Z",
     "iopub.status.busy": "2021-01-07T03:39:39.525471Z",
     "iopub.status.idle": "2021-01-07T03:39:39.530972Z",
     "shell.execute_reply": "2021-01-07T03:39:39.531539Z"
    },
    "papermill": {
     "duration": 0.054475,
     "end_time": "2021-01-07T03:39:39.531690",
     "exception": false,
     "start_time": "2021-01-07T03:39:39.477215",
     "status": "completed"
    },
    "tags": []
   },
   "outputs": [],
   "source": [
    "data_types_dict = {'timestamp': 'int64',\n",
    "                   'user_id': 'int32',\n",
    "                   'content_id': 'int16',\n",
    "                   'content_type_id': 'int8',\n",
    "                   'task_container_id': 'int16',\n",
    "                   'prior_question_elapsed_time': 'float32',\n",
    "                   'prior_question_had_explanation': 'boolean'}\n",
    "\n",
    "# submit(+ row_id)\n",
    "default_features = ['row_id',\n",
    "                    'timestamp',\n",
    "                    'user_id',\n",
    "                    'content_id',\n",
    "                    'content_type_id',\n",
    "                    'task_container_id',\n",
    "                    'prior_question_elapsed_time',\n",
    "                    'prior_question_had_explanation']\n",
    "\n",
    "# print(default_features)\n",
    "# print(data_types_dict)"
   ]
  },
  {
   "cell_type": "code",
   "execution_count": 48,
   "metadata": {
    "execution": {
     "iopub.execute_input": "2021-01-07T03:39:39.628242Z",
     "iopub.status.busy": "2021-01-07T03:39:39.627544Z",
     "iopub.status.idle": "2021-01-07T03:39:40.736776Z",
     "shell.execute_reply": "2021-01-07T03:39:40.736240Z"
    },
    "papermill": {
     "duration": 1.158542,
     "end_time": "2021-01-07T03:39:40.736890",
     "exception": false,
     "start_time": "2021-01-07T03:39:39.578348",
     "status": "completed"
    },
    "tags": []
   },
   "outputs": [],
   "source": [
    "for (test_df, sample_prediction_df) in iter_test:\n",
    "    \n",
    "    test_df = test_df[default_features]\n",
    "    \n",
    "    # test_lectures = test_df[test_df.content_type_id == True].merge(lectures_df, left_on='content_id', right_on='lecture_id', how='left')\n",
    "    # user_lecture_stats_part = test_lectures.groupby('user_id',as_index = False)[part_lectures_columns + types_of_lectures_columns].sum()\n",
    "    \n",
    "    # del(lectures_df)\n",
    "    # del(test_lectures)\n",
    "    # gc.collect()\n",
    "    \n",
    "    user_lecture_agg = test_df.groupby('user_id')['content_type_id'].agg(['sum', 'count'])\n",
    "    user_lecture_agg = user_lecture_agg.astype('int16')\n",
    "    \n",
    "    cum = test_df.groupby('user_id')['content_type_id'].agg(['cumsum', 'cumcount'])\n",
    "    cum['cumcount'] = cum['cumcount'] + 1\n",
    "    \n",
    "    test_df['user_interaction_count'] = cum['cumcount'] \n",
    "    test_df['user_interaction_timestamp_mean'] = test_df['timestamp'] / cum['cumcount'] \n",
    "    test_df['user_lecture_sum'] = cum['cumsum'] \n",
    "    test_df['user_lecture_lv'] = cum['cumsum'] / cum['cumcount']\n",
    "\n",
    "    test_df['user_lecture_lv'] = test_df['user_lecture_lv'].astype('float16')\n",
    "    test_df['user_lecture_sum'] = test_df['user_lecture_sum'].astype('int16')\n",
    "    test_df['user_interaction_count'] = test_df['user_interaction_count'].astype('int16')\n",
    "    test_df['user_interaction_timestamp_mean'] = test_df['user_interaction_timestamp_mean'] / (1000*3600)\n",
    "    test_df['user_interaction_timestamp_mean'] = test_df['user_interaction_timestamp_mean'].astype('float32')\n",
    "    \n",
    "    del cum\n",
    "    gc.collect()\n",
    "    \n",
    "    test_df['prior_question_had_explanation'].fillna(False, inplace=True)\n",
    "    test_df = test_df.astype(data_types_dict)\n",
    "    # test_df = test_df[test_df[target] != -1].reset_index(drop=True)\n",
    "    \n",
    "    # content_explation_agg = test_df[[\"content_id\",\"prior_question_had_explanation\",target]].groupby([\"content_id\",\"prior_question_had_explanation\"])[target].agg(['mean'])\n",
    "    \n",
    "    # content_explation_agg = content_explation_agg.unstack()\n",
    "    # content_explation_agg = content_explation_agg.reset_index()\n",
    "    # content_explation_agg.columns = ['content_id', 'content_explation_false_mean','content_explation_true_mean']\n",
    "\n",
    "    # content_explation_agg['content_id'] = content_explation_agg['content_id'].astype('int16')\n",
    "    # content_explation_agg['content_explation_false_mean'] = content_explation_agg['content_explation_false_mean'].astype('float16')\n",
    "    # content_explation_agg['content_explation_true_mean'] = content_explation_agg['content_explation_true_mean'].astype('float16')\n",
    "    \n",
    "    test_df[\"attempt_no\"] = 1\n",
    "    test_df[\"attempt_no\"] = test_df[\"attempt_no\"].astype('int8')\n",
    "    attempt_no_agg = test_df.groupby([\"user_id\",\"content_id\"])[\"attempt_no\"].agg(['sum']).astype('int8')\n",
    "    \n",
    "    test_df[\"attempt_no\"] = test_df[[\"user_id\",\"content_id\",'attempt_no']].groupby([\"user_id\",\"content_id\"])[\"attempt_no\"].cumsum()\n",
    "    attempt_no_agg = attempt_no_agg[attempt_no_agg['sum'] > 1]\n",
    "    prior_question_elapsed_time_mean = test_df['prior_question_elapsed_time'].mean()\n",
    "    test_df['prior_question_elapsed_time'].fillna(prior_question_elapsed_time_mean, inplace=True)\n",
    "    \n",
    "    max_timestamp_u = test_df[['user_id','timestamp']].groupby(['user_id'])['timestamp'].agg(['max']).reset_index()\n",
    "    max_timestamp_u.columns = ['user_id', 'max_time_stamp']\n",
    "    max_timestamp_u['user_id'] = max_timestamp_u['user_id'].astype('int32')\n",
    "    \n",
    "    test_df['lagtime'] = test_df.groupby('user_id')['timestamp'].shift()\n",
    "    \n",
    "    max_timestamp_u2 = test_df[['user_id','lagtime']].groupby(['user_id'])['lagtime'].agg(['max']).reset_index()\n",
    "    max_timestamp_u2.columns = ['user_id', 'max_time_stamp2']\n",
    "    max_timestamp_u2['user_id'] = max_timestamp_u2['user_id'].astype('int32')\n",
    "    \n",
    "    test_df['lagtime'] = test_df['timestamp'] - test_df['lagtime']\n",
    "\n",
    "    lagtime_mean = test_df['lagtime'].mean()\n",
    "    test_df['lagtime'].fillna(lagtime_mean, inplace=True)\n",
    "\n",
    "    test_df['lagtime'] = test_df['lagtime'] / (1000*3600)\n",
    "    test_df['lagtime'] = test_df['lagtime'].astype('float32')\n",
    "    \n",
    "    test_df['lagtime2'] = test_df.groupby('user_id')['timestamp'].shift(2)\n",
    "    \n",
    "    max_timestamp_u3 = test_df[['user_id','lagtime2']].groupby(['user_id']).agg(['max']).reset_index()\n",
    "    max_timestamp_u3.columns = ['user_id', 'max_time_stamp3']\n",
    "    max_timestamp_u3['user_id'] = max_timestamp_u3['user_id'].astype('int32')\n",
    "    \n",
    "    test_df['lagtime2'] = test_df['timestamp'] - test_df['lagtime2']\n",
    "\n",
    "    lagtime_mean2 = test_df['lagtime2'].mean()\n",
    "    test_df['lagtime2'].fillna(lagtime_mean2, inplace=True)\n",
    "\n",
    "    test_df['lagtime2'] = test_df['lagtime2'] / (1000*3600)\n",
    "    test_df['lagtime2'] = test_df['lagtime2'].astype('float32')\n",
    "    \n",
    "    test_df['lagtime3'] = test_df.groupby('user_id')['timestamp'].shift(3)\n",
    "    test_df['lagtime3'] = test_df['timestamp'] - test_df['lagtime3']\n",
    "\n",
    "    lagtime_mean3 = test_df['lagtime3'].mean()\n",
    "    test_df['lagtime3'].fillna(lagtime_mean3, inplace=True)\n",
    "\n",
    "    test_df['lagtime3'] = test_df['lagtime3'] / (1000*3600)\n",
    "    test_df['lagtime3'] = test_df['lagtime3'].astype('float32')\n",
    "    \n",
    "    test_df['timestamp'] = test_df['timestamp'] / (1000*3600)\n",
    "    test_df['timestamp'] = test_df['timestamp'].astype('float16')\n",
    "    \n",
    "    user_prior_question_elapsed_time = test_df[['user_id','prior_question_elapsed_time']].groupby(['user_id']).tail(1)\n",
    "    user_prior_question_elapsed_time.columns = ['user_id', 'prior_question_elapsed_time']\n",
    "    \n",
    "    test_df['delta_prior_question_elapsed_time'] = test_df.groupby('user_id')['prior_question_elapsed_time'].shift()\n",
    "    test_df['delta_prior_question_elapsed_time'] = test_df['prior_question_elapsed_time'] - test_df['delta_prior_question_elapsed_time']\n",
    "\n",
    "    delta_prior_question_elapsed_time_mean = test_df['delta_prior_question_elapsed_time'].mean()\n",
    "    test_df['delta_prior_question_elapsed_time'].fillna(delta_prior_question_elapsed_time_mean, inplace=True)\n",
    "\n",
    "    test_df['delta_prior_question_elapsed_time'] = train_df['delta_prior_question_elapsed_time'].astype('int32')\n",
    "    \n",
    "    test_df['prior_question_had_explanation'] = test_df['prior_question_had_explanation'].astype('int8')\n",
    "\n",
    "    explanation_agg = test_df.groupby('user_id')['prior_question_had_explanation'].agg(['sum', 'count'])\n",
    "    explanation_agg = explanation_agg.astype('int16')\n",
    "    \n",
    "    cum = test_df.groupby('user_id')['prior_question_had_explanation'].agg(['cumsum', 'cumcount'])\n",
    "    cum['cumcount'] = cum['cumcount'] + 1\n",
    "\n",
    "    test_df['explanation_mean'] = cum['cumsum'] / cum['cumcount']\n",
    "    test_df['explanation_true_count'] = cum['cumsum'] \n",
    "    test_df['explanation_false_count'] =  cum['cumcount'] - cum['cumsum']\n",
    "    \n",
    "    test_df['prior_question_had_explanation'] = test_df['prior_question_had_explanation'].astype(int)\n",
    "    test_df.fillna(0.5, inplace=True)\n",
    "    \n",
    "    # target\n",
    "    test_df[target] = 1\n",
    "    test_df[target] = model.predict(test_df[features])\n",
    "    \n",
    "    # submit_data\n",
    "    env.predict(test_df.loc[test_df['content_type_id'] == 0, ['row_id', 'answered_correctly']])"
   ]
  }
 ],
 "metadata": {
  "kernelspec": {
   "display_name": "Python 3",
   "language": "python",
   "name": "python3"
  },
  "language_info": {
   "codemirror_mode": {
    "name": "ipython",
    "version": 3
   },
   "file_extension": ".py",
   "mimetype": "text/x-python",
   "name": "python",
   "nbconvert_exporter": "python",
   "pygments_lexer": "ipython3",
   "version": "3.7.6"
  },
  "papermill": {
   "duration": 53.060368,
   "end_time": "2021-01-07T03:39:41.844317",
   "environment_variables": {},
   "exception": null,
   "input_path": "__notebook__.ipynb",
   "output_path": "__notebook__.ipynb",
   "parameters": {},
   "start_time": "2021-01-07T03:38:48.783949",
   "version": "2.1.0"
  }
 },
 "nbformat": 4,
 "nbformat_minor": 4
}
