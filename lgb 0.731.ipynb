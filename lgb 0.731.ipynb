{
 "cells": [
  {
   "cell_type": "markdown",
   "id": "fleet-estate",
   "metadata": {
    "_cell_guid": "b1076dfc-b9ad-4769-8c92-a6c4dae69d19",
    "_uuid": "8f2839f25d086af736a60e9eeb907d3b93b6e0e5",
    "execution": {
     "iopub.execute_input": "2021-06-21T01:26:30.920482Z",
     "iopub.status.busy": "2021-06-21T01:26:30.920139Z",
     "iopub.status.idle": "2021-06-21T01:26:30.923979Z",
     "shell.execute_reply": "2021-06-21T01:26:30.923198Z",
     "shell.execute_reply.started": "2021-06-21T01:26:30.920457Z"
    },
    "papermill": {
     "duration": 0.040972,
     "end_time": "2021-07-27T01:01:58.994360",
     "exception": false,
     "start_time": "2021-07-27T01:01:58.953388",
     "status": "completed"
    },
    "tags": []
   },
   "source": [
    "# Overview"
   ]
  },
  {
   "cell_type": "markdown",
   "id": "aerial-individual",
   "metadata": {
    "papermill": {
     "duration": 0.032,
     "end_time": "2021-07-27T01:01:59.058371",
     "exception": false,
     "start_time": "2021-07-27T01:01:59.026371",
     "status": "completed"
    },
    "tags": []
   },
   "source": [
    "小学3年生から高校3年生のクラスで使用するテキストについて<br>\n",
    "各文章の複雑さを評価するアルゴリズムを構築する。"
   ]
  },
  {
   "cell_type": "markdown",
   "id": "boring-zimbabwe",
   "metadata": {
    "papermill": {
     "duration": 0.031803,
     "end_time": "2021-07-27T01:01:59.122584",
     "exception": false,
     "start_time": "2021-07-27T01:01:59.090781",
     "status": "completed"
    },
    "tags": []
   },
   "source": [
    "# Module"
   ]
  },
  {
   "cell_type": "code",
   "execution_count": 1,
   "id": "distributed-while",
   "metadata": {
    "execution": {
     "iopub.execute_input": "2021-07-27T01:01:59.201381Z",
     "iopub.status.busy": "2021-07-27T01:01:59.200708Z",
     "iopub.status.idle": "2021-07-27T01:02:03.590364Z",
     "shell.execute_reply": "2021-07-27T01:02:03.589682Z",
     "shell.execute_reply.started": "2021-07-27T00:43:04.849936Z"
    },
    "papermill": {
     "duration": 4.435743,
     "end_time": "2021-07-27T01:02:03.590539",
     "exception": false,
     "start_time": "2021-07-27T01:01:59.154796",
     "status": "completed"
    },
    "tags": []
   },
   "outputs": [
    {
     "data": {
      "text/html": [
       "<style type='text/css'>\n",
       ".datatable table.frame { margin-bottom: 0; }\n",
       ".datatable table.frame thead { border-bottom: none; }\n",
       ".datatable table.frame tr.coltypes td {  color: #FFFFFF;  line-height: 6px;  padding: 0 0.5em;}\n",
       ".datatable .bool    { background: #DDDD99; }\n",
       ".datatable .object  { background: #565656; }\n",
       ".datatable .int     { background: #5D9E5D; }\n",
       ".datatable .float   { background: #4040CC; }\n",
       ".datatable .str     { background: #CC4040; }\n",
       ".datatable .row_index {  background: var(--jp-border-color3);  border-right: 1px solid var(--jp-border-color0);  color: var(--jp-ui-font-color3);  font-size: 9px;}\n",
       ".datatable .frame tr.coltypes .row_index {  background: var(--jp-border-color0);}\n",
       ".datatable th:nth-child(2) { padding-left: 12px; }\n",
       ".datatable .hellipsis {  color: var(--jp-cell-editor-border-color);}\n",
       ".datatable .vellipsis {  background: var(--jp-layout-color0);  color: var(--jp-cell-editor-border-color);}\n",
       ".datatable .na {  color: var(--jp-cell-editor-border-color);  font-size: 80%;}\n",
       ".datatable .footer { font-size: 9px; }\n",
       ".datatable .frame_dimensions {  background: var(--jp-border-color3);  border-top: 1px solid var(--jp-border-color0);  color: var(--jp-ui-font-color3);  display: inline-block;  opacity: 0.6;  padding: 1px 10px 1px 5px;}\n",
       "</style>\n"
      ],
      "text/plain": [
       "<IPython.core.display.HTML object>"
      ]
     },
     "metadata": {},
     "output_type": "display_data"
    }
   ],
   "source": [
    "import gc\n",
    "import sys\n",
    "import scipy\n",
    "import optuna\n",
    "import datetime\n",
    "import warnings\n",
    "import matplotlib\n",
    "import transformers\n",
    "import numpy as np\n",
    "import pandas as pd\n",
    "import seaborn as sns\n",
    "import lightgbm as lgb\n",
    "import matplotlib.pyplot as plt\n",
    "\n",
    "from tqdm import tqdm\n",
    "from transformers import BertTokenizer,BertModel\n",
    "from sklearn.preprocessing import LabelEncoder\n",
    "from sklearn.preprocessing import LabelBinarizer\n",
    "from sklearn.model_selection import train_test_split\n",
    "from sklearn.metrics import mean_squared_error\n",
    "from pandas.api.types import is_datetime64_any_dtype as is_datetime\n",
    "from pandas.api.types import is_categorical_dtype\n",
    "from sklearn.feature_extraction.text import CountVectorizer, TfidfVectorizer"
   ]
  },
  {
   "cell_type": "markdown",
   "id": "cathedral-dependence",
   "metadata": {
    "papermill": {
     "duration": 0.033013,
     "end_time": "2021-07-27T01:02:03.657574",
     "exception": false,
     "start_time": "2021-07-27T01:02:03.624561",
     "status": "completed"
    },
    "tags": []
   },
   "source": [
    "# Datasets"
   ]
  },
  {
   "cell_type": "code",
   "execution_count": 2,
   "id": "activated-damages",
   "metadata": {
    "execution": {
     "iopub.execute_input": "2021-07-27T01:02:03.728679Z",
     "iopub.status.busy": "2021-07-27T01:02:03.728008Z",
     "iopub.status.idle": "2021-07-27T01:02:03.845122Z",
     "shell.execute_reply": "2021-07-27T01:02:03.845747Z",
     "shell.execute_reply.started": "2021-07-27T00:43:06.913389Z"
    },
    "papermill": {
     "duration": 0.155273,
     "end_time": "2021-07-27T01:02:03.845958",
     "exception": false,
     "start_time": "2021-07-27T01:02:03.690685",
     "status": "completed"
    },
    "tags": []
   },
   "outputs": [
    {
     "name": "stdout",
     "output_type": "stream",
     "text": [
      "(2834, 6)\n"
     ]
    },
    {
     "data": {
      "text/html": [
       "<div>\n",
       "<style scoped>\n",
       "    .dataframe tbody tr th:only-of-type {\n",
       "        vertical-align: middle;\n",
       "    }\n",
       "\n",
       "    .dataframe tbody tr th {\n",
       "        vertical-align: top;\n",
       "    }\n",
       "\n",
       "    .dataframe thead th {\n",
       "        text-align: right;\n",
       "    }\n",
       "</style>\n",
       "<table border=\"1\" class=\"dataframe\">\n",
       "  <thead>\n",
       "    <tr style=\"text-align: right;\">\n",
       "      <th></th>\n",
       "      <th>id</th>\n",
       "      <th>url_legal</th>\n",
       "      <th>license</th>\n",
       "      <th>excerpt</th>\n",
       "      <th>target</th>\n",
       "      <th>standard_error</th>\n",
       "    </tr>\n",
       "  </thead>\n",
       "  <tbody>\n",
       "    <tr>\n",
       "      <th>0</th>\n",
       "      <td>c12129c31</td>\n",
       "      <td>NaN</td>\n",
       "      <td>NaN</td>\n",
       "      <td>When the young people returned to the ballroom...</td>\n",
       "      <td>-0.340259</td>\n",
       "      <td>0.464009</td>\n",
       "    </tr>\n",
       "    <tr>\n",
       "      <th>1</th>\n",
       "      <td>85aa80a4c</td>\n",
       "      <td>NaN</td>\n",
       "      <td>NaN</td>\n",
       "      <td>All through dinner time, Mrs. Fayre was somewh...</td>\n",
       "      <td>-0.315372</td>\n",
       "      <td>0.480805</td>\n",
       "    </tr>\n",
       "    <tr>\n",
       "      <th>2</th>\n",
       "      <td>b69ac6792</td>\n",
       "      <td>NaN</td>\n",
       "      <td>NaN</td>\n",
       "      <td>As Roger had predicted, the snow departed as q...</td>\n",
       "      <td>-0.580118</td>\n",
       "      <td>0.476676</td>\n",
       "    </tr>\n",
       "    <tr>\n",
       "      <th>3</th>\n",
       "      <td>dd1000b26</td>\n",
       "      <td>NaN</td>\n",
       "      <td>NaN</td>\n",
       "      <td>And outside before the palace a great garden w...</td>\n",
       "      <td>-1.054013</td>\n",
       "      <td>0.450007</td>\n",
       "    </tr>\n",
       "    <tr>\n",
       "      <th>4</th>\n",
       "      <td>37c1b32fb</td>\n",
       "      <td>NaN</td>\n",
       "      <td>NaN</td>\n",
       "      <td>Once upon a time there were Three Bears who li...</td>\n",
       "      <td>0.247197</td>\n",
       "      <td>0.510845</td>\n",
       "    </tr>\n",
       "  </tbody>\n",
       "</table>\n",
       "</div>"
      ],
      "text/plain": [
       "          id url_legal license  \\\n",
       "0  c12129c31       NaN     NaN   \n",
       "1  85aa80a4c       NaN     NaN   \n",
       "2  b69ac6792       NaN     NaN   \n",
       "3  dd1000b26       NaN     NaN   \n",
       "4  37c1b32fb       NaN     NaN   \n",
       "\n",
       "                                             excerpt    target  standard_error  \n",
       "0  When the young people returned to the ballroom... -0.340259        0.464009  \n",
       "1  All through dinner time, Mrs. Fayre was somewh... -0.315372        0.480805  \n",
       "2  As Roger had predicted, the snow departed as q... -0.580118        0.476676  \n",
       "3  And outside before the palace a great garden w... -1.054013        0.450007  \n",
       "4  Once upon a time there were Three Bears who li...  0.247197        0.510845  "
      ]
     },
     "execution_count": 2,
     "metadata": {},
     "output_type": "execute_result"
    }
   ],
   "source": [
    "train = pd.read_csv('../input/commonlitreadabilityprize/train.csv')\n",
    "\n",
    "print(train.shape)\n",
    "train.head()"
   ]
  },
  {
   "cell_type": "markdown",
   "id": "korean-annex",
   "metadata": {
    "execution": {
     "iopub.execute_input": "2021-06-21T01:38:20.404929Z",
     "iopub.status.busy": "2021-06-21T01:38:20.404485Z",
     "iopub.status.idle": "2021-06-21T01:38:20.410707Z",
     "shell.execute_reply": "2021-06-21T01:38:20.409537Z",
     "shell.execute_reply.started": "2021-06-21T01:38:20.40489Z"
    },
    "papermill": {
     "duration": 0.033888,
     "end_time": "2021-07-27T01:02:03.913942",
     "exception": false,
     "start_time": "2021-07-27T01:02:03.880054",
     "status": "completed"
    },
    "tags": []
   },
   "source": [
    "学習データ<br>\n",
    "・id：各文章に紐づいたID<br>\n",
    "・url_legal：ソースのURL<br>\n",
    "・license：ソースのライセンス\n",
    "・excerpt：抜粋した文章<br>\n",
    "・target：文章読解における難易度<br>\n",
    "・standard_error：targetの標準誤差"
   ]
  },
  {
   "cell_type": "code",
   "execution_count": 3,
   "id": "engaging-mobile",
   "metadata": {
    "execution": {
     "iopub.execute_input": "2021-07-27T01:02:03.987247Z",
     "iopub.status.busy": "2021-07-27T01:02:03.986528Z",
     "iopub.status.idle": "2021-07-27T01:02:04.005310Z",
     "shell.execute_reply": "2021-07-27T01:02:04.004794Z",
     "shell.execute_reply.started": "2021-07-27T00:43:06.981946Z"
    },
    "papermill": {
     "duration": 0.057468,
     "end_time": "2021-07-27T01:02:04.005449",
     "exception": false,
     "start_time": "2021-07-27T01:02:03.947981",
     "status": "completed"
    },
    "tags": []
   },
   "outputs": [
    {
     "name": "stdout",
     "output_type": "stream",
     "text": [
      "(7, 4)\n"
     ]
    },
    {
     "data": {
      "text/html": [
       "<div>\n",
       "<style scoped>\n",
       "    .dataframe tbody tr th:only-of-type {\n",
       "        vertical-align: middle;\n",
       "    }\n",
       "\n",
       "    .dataframe tbody tr th {\n",
       "        vertical-align: top;\n",
       "    }\n",
       "\n",
       "    .dataframe thead th {\n",
       "        text-align: right;\n",
       "    }\n",
       "</style>\n",
       "<table border=\"1\" class=\"dataframe\">\n",
       "  <thead>\n",
       "    <tr style=\"text-align: right;\">\n",
       "      <th></th>\n",
       "      <th>id</th>\n",
       "      <th>url_legal</th>\n",
       "      <th>license</th>\n",
       "      <th>excerpt</th>\n",
       "    </tr>\n",
       "  </thead>\n",
       "  <tbody>\n",
       "    <tr>\n",
       "      <th>0</th>\n",
       "      <td>c0f722661</td>\n",
       "      <td>NaN</td>\n",
       "      <td>NaN</td>\n",
       "      <td>My hope lay in Jack's promise that he would ke...</td>\n",
       "    </tr>\n",
       "    <tr>\n",
       "      <th>1</th>\n",
       "      <td>f0953f0a5</td>\n",
       "      <td>NaN</td>\n",
       "      <td>NaN</td>\n",
       "      <td>Dotty continued to go to Mrs. Gray's every nig...</td>\n",
       "    </tr>\n",
       "    <tr>\n",
       "      <th>2</th>\n",
       "      <td>0df072751</td>\n",
       "      <td>NaN</td>\n",
       "      <td>NaN</td>\n",
       "      <td>It was a bright and cheerful scene that greete...</td>\n",
       "    </tr>\n",
       "    <tr>\n",
       "      <th>3</th>\n",
       "      <td>04caf4e0c</td>\n",
       "      <td>https://en.wikipedia.org/wiki/Cell_division</td>\n",
       "      <td>CC BY-SA 3.0</td>\n",
       "      <td>Cell division is the process by which a parent...</td>\n",
       "    </tr>\n",
       "    <tr>\n",
       "      <th>4</th>\n",
       "      <td>0e63f8bea</td>\n",
       "      <td>https://en.wikipedia.org/wiki/Debugging</td>\n",
       "      <td>CC BY-SA 3.0</td>\n",
       "      <td>Debugging is the process of finding and resolv...</td>\n",
       "    </tr>\n",
       "  </tbody>\n",
       "</table>\n",
       "</div>"
      ],
      "text/plain": [
       "          id                                    url_legal       license  \\\n",
       "0  c0f722661                                          NaN           NaN   \n",
       "1  f0953f0a5                                          NaN           NaN   \n",
       "2  0df072751                                          NaN           NaN   \n",
       "3  04caf4e0c  https://en.wikipedia.org/wiki/Cell_division  CC BY-SA 3.0   \n",
       "4  0e63f8bea      https://en.wikipedia.org/wiki/Debugging  CC BY-SA 3.0   \n",
       "\n",
       "                                             excerpt  \n",
       "0  My hope lay in Jack's promise that he would ke...  \n",
       "1  Dotty continued to go to Mrs. Gray's every nig...  \n",
       "2  It was a bright and cheerful scene that greete...  \n",
       "3  Cell division is the process by which a parent...  \n",
       "4  Debugging is the process of finding and resolv...  "
      ]
     },
     "execution_count": 3,
     "metadata": {},
     "output_type": "execute_result"
    }
   ],
   "source": [
    "test = pd.read_csv('../input/commonlitreadabilityprize/test.csv')\n",
    "\n",
    "print(test.shape)\n",
    "test.head()"
   ]
  },
  {
   "cell_type": "markdown",
   "id": "flush-snake",
   "metadata": {
    "papermill": {
     "duration": 0.03464,
     "end_time": "2021-07-27T01:02:04.074816",
     "exception": false,
     "start_time": "2021-07-27T01:02:04.040176",
     "status": "completed"
    },
    "tags": []
   },
   "source": [
    "テストデータ<br>\n",
    "・id：各文章に紐づいたID<br>\n",
    "・url_legal：ソースのURL<br>\n",
    "・license：ソースのライセンス<br>\n",
    "・excerpt：抜粋した文章<br>"
   ]
  },
  {
   "cell_type": "code",
   "execution_count": 4,
   "id": "critical-underwear",
   "metadata": {
    "execution": {
     "iopub.execute_input": "2021-07-27T01:02:04.146804Z",
     "iopub.status.busy": "2021-07-27T01:02:04.146177Z",
     "iopub.status.idle": "2021-07-27T01:02:04.165746Z",
     "shell.execute_reply": "2021-07-27T01:02:04.166246Z",
     "shell.execute_reply.started": "2021-07-27T00:43:07.000704Z"
    },
    "papermill": {
     "duration": 0.057225,
     "end_time": "2021-07-27T01:02:04.166422",
     "exception": false,
     "start_time": "2021-07-27T01:02:04.109197",
     "status": "completed"
    },
    "tags": []
   },
   "outputs": [
    {
     "name": "stdout",
     "output_type": "stream",
     "text": [
      "(7, 2)\n"
     ]
    },
    {
     "data": {
      "text/html": [
       "<div>\n",
       "<style scoped>\n",
       "    .dataframe tbody tr th:only-of-type {\n",
       "        vertical-align: middle;\n",
       "    }\n",
       "\n",
       "    .dataframe tbody tr th {\n",
       "        vertical-align: top;\n",
       "    }\n",
       "\n",
       "    .dataframe thead th {\n",
       "        text-align: right;\n",
       "    }\n",
       "</style>\n",
       "<table border=\"1\" class=\"dataframe\">\n",
       "  <thead>\n",
       "    <tr style=\"text-align: right;\">\n",
       "      <th></th>\n",
       "      <th>id</th>\n",
       "      <th>target</th>\n",
       "    </tr>\n",
       "  </thead>\n",
       "  <tbody>\n",
       "    <tr>\n",
       "      <th>0</th>\n",
       "      <td>c0f722661</td>\n",
       "      <td>0.0</td>\n",
       "    </tr>\n",
       "    <tr>\n",
       "      <th>1</th>\n",
       "      <td>f0953f0a5</td>\n",
       "      <td>0.0</td>\n",
       "    </tr>\n",
       "    <tr>\n",
       "      <th>2</th>\n",
       "      <td>0df072751</td>\n",
       "      <td>0.0</td>\n",
       "    </tr>\n",
       "    <tr>\n",
       "      <th>3</th>\n",
       "      <td>04caf4e0c</td>\n",
       "      <td>0.0</td>\n",
       "    </tr>\n",
       "    <tr>\n",
       "      <th>4</th>\n",
       "      <td>0e63f8bea</td>\n",
       "      <td>0.0</td>\n",
       "    </tr>\n",
       "  </tbody>\n",
       "</table>\n",
       "</div>"
      ],
      "text/plain": [
       "          id  target\n",
       "0  c0f722661     0.0\n",
       "1  f0953f0a5     0.0\n",
       "2  0df072751     0.0\n",
       "3  04caf4e0c     0.0\n",
       "4  0e63f8bea     0.0"
      ]
     },
     "execution_count": 4,
     "metadata": {},
     "output_type": "execute_result"
    }
   ],
   "source": [
    "submission = pd.read_csv('../input/commonlitreadabilityprize/sample_submission.csv')\n",
    "\n",
    "print(submission.shape)\n",
    "submission.head()"
   ]
  },
  {
   "cell_type": "markdown",
   "id": "typical-entry",
   "metadata": {
    "papermill": {
     "duration": 0.034937,
     "end_time": "2021-07-27T01:02:04.236503",
     "exception": false,
     "start_time": "2021-07-27T01:02:04.201566",
     "status": "completed"
    },
    "tags": []
   },
   "source": [
    "# Analytics"
   ]
  },
  {
   "cell_type": "code",
   "execution_count": 5,
   "id": "enclosed-hughes",
   "metadata": {
    "execution": {
     "iopub.execute_input": "2021-07-27T01:02:04.311696Z",
     "iopub.status.busy": "2021-07-27T01:02:04.310885Z",
     "iopub.status.idle": "2021-07-27T01:02:04.334089Z",
     "shell.execute_reply": "2021-07-27T01:02:04.333506Z",
     "shell.execute_reply.started": "2021-07-27T00:30:49.213072Z"
    },
    "papermill": {
     "duration": 0.062353,
     "end_time": "2021-07-27T01:02:04.334234",
     "exception": false,
     "start_time": "2021-07-27T01:02:04.271881",
     "status": "completed"
    },
    "tags": []
   },
   "outputs": [
    {
     "data": {
      "text/plain": [
       "id                2834\n",
       "url_legal          667\n",
       "license             15\n",
       "excerpt           2834\n",
       "target            2834\n",
       "standard_error    2834\n",
       "dtype: int64"
      ]
     },
     "execution_count": 5,
     "metadata": {},
     "output_type": "execute_result"
    }
   ],
   "source": [
    "train.nunique()"
   ]
  },
  {
   "cell_type": "code",
   "execution_count": 6,
   "id": "liked-movie",
   "metadata": {
    "execution": {
     "iopub.execute_input": "2021-07-27T01:02:04.415790Z",
     "iopub.status.busy": "2021-07-27T01:02:04.414811Z",
     "iopub.status.idle": "2021-07-27T01:02:04.418586Z",
     "shell.execute_reply": "2021-07-27T01:02:04.419111Z",
     "shell.execute_reply.started": "2021-07-27T00:30:49.237375Z"
    },
    "papermill": {
     "duration": 0.048199,
     "end_time": "2021-07-27T01:02:04.419282",
     "exception": false,
     "start_time": "2021-07-27T01:02:04.371083",
     "status": "completed"
    },
    "tags": []
   },
   "outputs": [
    {
     "data": {
      "text/plain": [
       "id                   0\n",
       "url_legal         2004\n",
       "license           2004\n",
       "excerpt              0\n",
       "target               0\n",
       "standard_error       0\n",
       "dtype: int64"
      ]
     },
     "execution_count": 6,
     "metadata": {},
     "output_type": "execute_result"
    }
   ],
   "source": [
    "train.isnull().sum()"
   ]
  },
  {
   "cell_type": "code",
   "execution_count": 7,
   "id": "occupied-tennis",
   "metadata": {
    "execution": {
     "iopub.execute_input": "2021-07-27T01:02:04.497956Z",
     "iopub.status.busy": "2021-07-27T01:02:04.497011Z",
     "iopub.status.idle": "2021-07-27T01:02:04.505466Z",
     "shell.execute_reply": "2021-07-27T01:02:04.505976Z",
     "shell.execute_reply.started": "2021-07-27T00:30:49.257744Z"
    },
    "papermill": {
     "duration": 0.050795,
     "end_time": "2021-07-27T01:02:04.506168",
     "exception": false,
     "start_time": "2021-07-27T01:02:04.455373",
     "status": "completed"
    },
    "tags": []
   },
   "outputs": [
    {
     "data": {
      "text/html": [
       "<div>\n",
       "<style scoped>\n",
       "    .dataframe tbody tr th:only-of-type {\n",
       "        vertical-align: middle;\n",
       "    }\n",
       "\n",
       "    .dataframe tbody tr th {\n",
       "        vertical-align: top;\n",
       "    }\n",
       "\n",
       "    .dataframe thead th {\n",
       "        text-align: right;\n",
       "    }\n",
       "</style>\n",
       "<table border=\"1\" class=\"dataframe\">\n",
       "  <thead>\n",
       "    <tr style=\"text-align: right;\">\n",
       "      <th></th>\n",
       "      <th>target</th>\n",
       "      <th>standard_error</th>\n",
       "    </tr>\n",
       "  </thead>\n",
       "  <tbody>\n",
       "    <tr>\n",
       "      <th>target</th>\n",
       "      <td>1.000000</td>\n",
       "      <td>-0.085981</td>\n",
       "    </tr>\n",
       "    <tr>\n",
       "      <th>standard_error</th>\n",
       "      <td>-0.085981</td>\n",
       "      <td>1.000000</td>\n",
       "    </tr>\n",
       "  </tbody>\n",
       "</table>\n",
       "</div>"
      ],
      "text/plain": [
       "                  target  standard_error\n",
       "target          1.000000       -0.085981\n",
       "standard_error -0.085981        1.000000"
      ]
     },
     "execution_count": 7,
     "metadata": {},
     "output_type": "execute_result"
    }
   ],
   "source": [
    "train.corr()"
   ]
  },
  {
   "cell_type": "markdown",
   "id": "front-monte",
   "metadata": {
    "papermill": {
     "duration": 0.036173,
     "end_time": "2021-07-27T01:02:04.582161",
     "exception": false,
     "start_time": "2021-07-27T01:02:04.545988",
     "status": "completed"
    },
    "tags": []
   },
   "source": [
    "# Visualization"
   ]
  },
  {
   "cell_type": "code",
   "execution_count": 8,
   "id": "blond-doctrine",
   "metadata": {
    "execution": {
     "iopub.execute_input": "2021-07-27T01:02:04.658921Z",
     "iopub.status.busy": "2021-07-27T01:02:04.658277Z",
     "iopub.status.idle": "2021-07-27T01:02:04.663804Z",
     "shell.execute_reply": "2021-07-27T01:02:04.663157Z",
     "shell.execute_reply.started": "2021-07-27T00:30:49.270674Z"
    },
    "papermill": {
     "duration": 0.045113,
     "end_time": "2021-07-27T01:02:04.663950",
     "exception": false,
     "start_time": "2021-07-27T01:02:04.618837",
     "status": "completed"
    },
    "tags": []
   },
   "outputs": [],
   "source": [
    "sns.set()"
   ]
  },
  {
   "cell_type": "code",
   "execution_count": 9,
   "id": "adjusted-underground",
   "metadata": {
    "execution": {
     "iopub.execute_input": "2021-07-27T01:02:04.757756Z",
     "iopub.status.busy": "2021-07-27T01:02:04.757087Z",
     "iopub.status.idle": "2021-07-27T01:02:05.034962Z",
     "shell.execute_reply": "2021-07-27T01:02:05.035450Z",
     "shell.execute_reply.started": "2021-07-27T00:30:49.283851Z"
    },
    "papermill": {
     "duration": 0.335035,
     "end_time": "2021-07-27T01:02:05.035625",
     "exception": false,
     "start_time": "2021-07-27T01:02:04.700590",
     "status": "completed"
    },
    "tags": []
   },
   "outputs": [
    {
     "data": {
      "image/png": "[encoded data removed]",
      "text/plain": [
       "<Figure size 576x288 with 1 Axes>"
      ]
     },
     "metadata": {},
     "output_type": "display_data"
    }
   ],
   "source": [
    "fig, ax = plt.subplots(1, 1, figsize=(8, 4))\n",
    "sns.histplot(train['target'], ax=ax)\n",
    "plt.show()"
   ]
  },
  {
   "cell_type": "code",
   "execution_count": 10,
   "id": "double-target",
   "metadata": {
    "execution": {
     "iopub.execute_input": "2021-07-27T01:02:05.134269Z",
     "iopub.status.busy": "2021-07-27T01:02:05.133454Z",
     "iopub.status.idle": "2021-07-27T01:02:05.590029Z",
     "shell.execute_reply": "2021-07-27T01:02:05.589469Z",
     "shell.execute_reply.started": "2021-07-27T00:30:49.730533Z"
    },
    "papermill": {
     "duration": 0.517376,
     "end_time": "2021-07-27T01:02:05.590165",
     "exception": false,
     "start_time": "2021-07-27T01:02:05.072789",
     "status": "completed"
    },
    "tags": []
   },
   "outputs": [
    {
     "data": {
      "image/png": "[encoded data removed]",
      "text/plain": [
       "<Figure size 576x288 with 1 Axes>"
      ]
     },
     "metadata": {},
     "output_type": "display_data"
    }
   ],
   "source": [
    "fig, ax = plt.subplots(1, 1, figsize=(8, 4))\n",
    "sns.histplot(train['standard_error'], ax=ax)\n",
    "plt.show()"
   ]
  },
  {
   "cell_type": "code",
   "execution_count": 11,
   "id": "representative-transparency",
   "metadata": {
    "execution": {
     "iopub.execute_input": "2021-07-27T01:02:05.701539Z",
     "iopub.status.busy": "2021-07-27T01:02:05.696724Z",
     "iopub.status.idle": "2021-07-27T01:02:08.776822Z",
     "shell.execute_reply": "2021-07-27T01:02:08.777365Z",
     "shell.execute_reply.started": "2021-07-27T00:30:50.219469Z"
    },
    "papermill": {
     "duration": 3.14952,
     "end_time": "2021-07-27T01:02:08.777537",
     "exception": false,
     "start_time": "2021-07-27T01:02:05.628017",
     "status": "completed"
    },
    "tags": []
   },
   "outputs": [
    {
     "data": {
      "image/png": "[encoded data removed]",
      "text/plain": [
       "<Figure size 576x288 with 1 Axes>"
      ]
     },
     "metadata": {},
     "output_type": "display_data"
    }
   ],
   "source": [
    "fig, ax = plt.subplots(1, 1, figsize=(8, 4))\n",
    "sns.scatterplot(x=train['target'], y=train['standard_error'], s=10)\n",
    "sns.kdeplot(x=train['target'], y=train['standard_error'], levels=5, color='red', linewidths=1)\n",
    "plt.ylim([0.4, 0.7])\n",
    "plt.show()"
   ]
  },
  {
   "cell_type": "code",
   "execution_count": 12,
   "id": "healthy-infection",
   "metadata": {
    "execution": {
     "iopub.execute_input": "2021-07-27T01:02:08.861925Z",
     "iopub.status.busy": "2021-07-27T01:02:08.861306Z",
     "iopub.status.idle": "2021-07-27T01:02:09.171959Z",
     "shell.execute_reply": "2021-07-27T01:02:09.172421Z",
     "shell.execute_reply.started": "2021-07-27T00:30:53.298505Z"
    },
    "papermill": {
     "duration": 0.35391,
     "end_time": "2021-07-27T01:02:09.172593",
     "exception": false,
     "start_time": "2021-07-27T01:02:08.818683",
     "status": "completed"
    },
    "tags": []
   },
   "outputs": [
    {
     "data": {
      "image/png": "[encoded data removed]",
      "text/plain": [
       "<Figure size 576x288 with 1 Axes>"
      ]
     },
     "metadata": {},
     "output_type": "display_data"
    }
   ],
   "source": [
    "plt.figure(figsize=(8, 4))\n",
    "sns.countplot(y=\"license\",data=train,linewidth=3)\n",
    "plt.show()"
   ]
  },
  {
   "cell_type": "code",
   "execution_count": 13,
   "id": "tender-easter",
   "metadata": {
    "execution": {
     "iopub.execute_input": "2021-07-27T01:02:09.258360Z",
     "iopub.status.busy": "2021-07-27T01:02:09.257742Z",
     "iopub.status.idle": "2021-07-27T01:02:09.301804Z",
     "shell.execute_reply": "2021-07-27T01:02:09.302304Z",
     "shell.execute_reply.started": "2021-07-27T00:30:53.624225Z"
    },
    "papermill": {
     "duration": 0.088543,
     "end_time": "2021-07-27T01:02:09.302477",
     "exception": false,
     "start_time": "2021-07-27T01:02:09.213934",
     "status": "completed"
    },
    "tags": []
   },
   "outputs": [],
   "source": [
    "train['excerpt_len'] = train['excerpt'].apply(lambda x : len(x))\n",
    "train['excerpt_word_count'] = train['excerpt'].apply(lambda x : len(x.split(' ')))\n",
    "\n",
    "test['excerpt_len'] = test['excerpt'].apply(lambda x : len(x))\n",
    "test['excerpt_word_count'] = test['excerpt'].apply(lambda x : len(x.split(' ')))"
   ]
  },
  {
   "cell_type": "code",
   "execution_count": 14,
   "id": "imperial-desktop",
   "metadata": {
    "execution": {
     "iopub.execute_input": "2021-07-27T01:02:09.389080Z",
     "iopub.status.busy": "2021-07-27T01:02:09.388394Z",
     "iopub.status.idle": "2021-07-27T01:02:09.667290Z",
     "shell.execute_reply": "2021-07-27T01:02:09.667722Z",
     "shell.execute_reply.started": "2021-07-27T00:30:53.672947Z"
    },
    "papermill": {
     "duration": 0.323789,
     "end_time": "2021-07-27T01:02:09.667925",
     "exception": false,
     "start_time": "2021-07-27T01:02:09.344136",
     "status": "completed"
    },
    "tags": []
   },
   "outputs": [
    {
     "data": {
      "image/png": "[encoded data removed]",
      "text/plain": [
       "<Figure size 576x288 with 1 Axes>"
      ]
     },
     "metadata": {},
     "output_type": "display_data"
    }
   ],
   "source": [
    "fig, ax = plt.subplots(1, 1, figsize=(8, 4))\n",
    "sns.histplot(train['excerpt_len'], ax=ax)\n",
    "plt.show()"
   ]
  },
  {
   "cell_type": "code",
   "execution_count": 15,
   "id": "amino-cooking",
   "metadata": {
    "execution": {
     "iopub.execute_input": "2021-07-27T01:02:09.756285Z",
     "iopub.status.busy": "2021-07-27T01:02:09.755640Z",
     "iopub.status.idle": "2021-07-27T01:02:10.026907Z",
     "shell.execute_reply": "2021-07-27T01:02:10.027368Z",
     "shell.execute_reply.started": "2021-07-27T00:30:53.951683Z"
    },
    "papermill": {
     "duration": 0.316931,
     "end_time": "2021-07-27T01:02:10.027535",
     "exception": false,
     "start_time": "2021-07-27T01:02:09.710604",
     "status": "completed"
    },
    "tags": []
   },
   "outputs": [
    {
     "data": {
      "image/png": "[encoded data removed]",
      "text/plain": [
       "<Figure size 576x288 with 1 Axes>"
      ]
     },
     "metadata": {},
     "output_type": "display_data"
    }
   ],
   "source": [
    "fig, ax = plt.subplots(1, 1, figsize=(8, 4))\n",
    "sns.histplot(train['excerpt_word_count'], ax=ax)\n",
    "plt.show()"
   ]
  },
  {
   "cell_type": "markdown",
   "id": "consolidated-supply",
   "metadata": {
    "papermill": {
     "duration": 0.043704,
     "end_time": "2021-07-27T01:02:10.114125",
     "exception": false,
     "start_time": "2021-07-27T01:02:10.070421",
     "status": "completed"
    },
    "tags": []
   },
   "source": [
    "# Preprocess"
   ]
  },
  {
   "cell_type": "code",
   "execution_count": 16,
   "id": "polished-multimedia",
   "metadata": {
    "execution": {
     "iopub.execute_input": "2021-07-27T01:02:10.212957Z",
     "iopub.status.busy": "2021-07-27T01:02:10.211974Z",
     "iopub.status.idle": "2021-07-27T01:02:10.215821Z",
     "shell.execute_reply": "2021-07-27T01:02:10.216251Z",
     "shell.execute_reply.started": "2021-07-27T00:30:54.234924Z"
    },
    "papermill": {
     "duration": 0.059028,
     "end_time": "2021-07-27T01:02:10.216411",
     "exception": false,
     "start_time": "2021-07-27T01:02:10.157383",
     "status": "completed"
    },
    "tags": []
   },
   "outputs": [
    {
     "data": {
      "text/html": [
       "<div>\n",
       "<style scoped>\n",
       "    .dataframe tbody tr th:only-of-type {\n",
       "        vertical-align: middle;\n",
       "    }\n",
       "\n",
       "    .dataframe tbody tr th {\n",
       "        vertical-align: top;\n",
       "    }\n",
       "\n",
       "    .dataframe thead th {\n",
       "        text-align: right;\n",
       "    }\n",
       "</style>\n",
       "<table border=\"1\" class=\"dataframe\">\n",
       "  <thead>\n",
       "    <tr style=\"text-align: right;\">\n",
       "      <th></th>\n",
       "      <th>id</th>\n",
       "      <th>url_legal</th>\n",
       "      <th>license</th>\n",
       "      <th>excerpt</th>\n",
       "      <th>excerpt_len</th>\n",
       "      <th>excerpt_word_count</th>\n",
       "    </tr>\n",
       "  </thead>\n",
       "  <tbody>\n",
       "    <tr>\n",
       "      <th>0</th>\n",
       "      <td>c0f722661</td>\n",
       "      <td>NaN</td>\n",
       "      <td>NaN</td>\n",
       "      <td>My hope lay in Jack's promise that he would ke...</td>\n",
       "      <td>772</td>\n",
       "      <td>147</td>\n",
       "    </tr>\n",
       "    <tr>\n",
       "      <th>1</th>\n",
       "      <td>f0953f0a5</td>\n",
       "      <td>NaN</td>\n",
       "      <td>NaN</td>\n",
       "      <td>Dotty continued to go to Mrs. Gray's every nig...</td>\n",
       "      <td>967</td>\n",
       "      <td>179</td>\n",
       "    </tr>\n",
       "    <tr>\n",
       "      <th>2</th>\n",
       "      <td>0df072751</td>\n",
       "      <td>NaN</td>\n",
       "      <td>NaN</td>\n",
       "      <td>It was a bright and cheerful scene that greete...</td>\n",
       "      <td>948</td>\n",
       "      <td>168</td>\n",
       "    </tr>\n",
       "    <tr>\n",
       "      <th>3</th>\n",
       "      <td>04caf4e0c</td>\n",
       "      <td>https://en.wikipedia.org/wiki/Cell_division</td>\n",
       "      <td>CC BY-SA 3.0</td>\n",
       "      <td>Cell division is the process by which a parent...</td>\n",
       "      <td>1144</td>\n",
       "      <td>179</td>\n",
       "    </tr>\n",
       "    <tr>\n",
       "      <th>4</th>\n",
       "      <td>0e63f8bea</td>\n",
       "      <td>https://en.wikipedia.org/wiki/Debugging</td>\n",
       "      <td>CC BY-SA 3.0</td>\n",
       "      <td>Debugging is the process of finding and resolv...</td>\n",
       "      <td>1094</td>\n",
       "      <td>167</td>\n",
       "    </tr>\n",
       "    <tr>\n",
       "      <th>5</th>\n",
       "      <td>12537fe78</td>\n",
       "      <td>NaN</td>\n",
       "      <td>NaN</td>\n",
       "      <td>To explain transitivity, let us look first at ...</td>\n",
       "      <td>823</td>\n",
       "      <td>148</td>\n",
       "    </tr>\n",
       "    <tr>\n",
       "      <th>6</th>\n",
       "      <td>965e592c0</td>\n",
       "      <td>https://www.africanstorybook.org/#</td>\n",
       "      <td>CC BY 4.0</td>\n",
       "      <td>Milka and John are playing in the garden. Her ...</td>\n",
       "      <td>894</td>\n",
       "      <td>161</td>\n",
       "    </tr>\n",
       "  </tbody>\n",
       "</table>\n",
       "</div>"
      ],
      "text/plain": [
       "          id                                    url_legal       license  \\\n",
       "0  c0f722661                                          NaN           NaN   \n",
       "1  f0953f0a5                                          NaN           NaN   \n",
       "2  0df072751                                          NaN           NaN   \n",
       "3  04caf4e0c  https://en.wikipedia.org/wiki/Cell_division  CC BY-SA 3.0   \n",
       "4  0e63f8bea      https://en.wikipedia.org/wiki/Debugging  CC BY-SA 3.0   \n",
       "5  12537fe78                                          NaN           NaN   \n",
       "6  965e592c0           https://www.africanstorybook.org/#     CC BY 4.0   \n",
       "\n",
       "                                             excerpt  excerpt_len  \\\n",
       "0  My hope lay in Jack's promise that he would ke...          772   \n",
       "1  Dotty continued to go to Mrs. Gray's every nig...          967   \n",
       "2  It was a bright and cheerful scene that greete...          948   \n",
       "3  Cell division is the process by which a parent...         1144   \n",
       "4  Debugging is the process of finding and resolv...         1094   \n",
       "5  To explain transitivity, let us look first at ...          823   \n",
       "6  Milka and John are playing in the garden. Her ...          894   \n",
       "\n",
       "   excerpt_word_count  \n",
       "0                 147  \n",
       "1                 179  \n",
       "2                 168  \n",
       "3                 179  \n",
       "4                 167  \n",
       "5                 148  \n",
       "6                 161  "
      ]
     },
     "execution_count": 16,
     "metadata": {},
     "output_type": "execute_result"
    }
   ],
   "source": [
    "test"
   ]
  },
  {
   "cell_type": "code",
   "execution_count": 17,
   "id": "juvenile-longitude",
   "metadata": {
    "execution": {
     "iopub.execute_input": "2021-07-27T01:02:10.309327Z",
     "iopub.status.busy": "2021-07-27T01:02:10.308636Z",
     "iopub.status.idle": "2021-07-27T01:02:10.313934Z",
     "shell.execute_reply": "2021-07-27T01:02:10.313341Z",
     "shell.execute_reply.started": "2021-07-27T00:30:54.250802Z"
    },
    "papermill": {
     "duration": 0.054207,
     "end_time": "2021-07-27T01:02:10.314063",
     "exception": false,
     "start_time": "2021-07-27T01:02:10.259856",
     "status": "completed"
    },
    "tags": []
   },
   "outputs": [],
   "source": [
    "target = train['target']\n",
    "train = train.drop(['url_legal', 'license', 'target', 'standard_error'], axis=1)\n",
    "test = test.drop(['url_legal', 'license'], axis=1)"
   ]
  },
  {
   "cell_type": "code",
   "execution_count": 18,
   "id": "purple-immigration",
   "metadata": {
    "execution": {
     "iopub.execute_input": "2021-07-27T01:02:10.406248Z",
     "iopub.status.busy": "2021-07-27T01:02:10.405575Z",
     "iopub.status.idle": "2021-07-27T01:02:10.408515Z",
     "shell.execute_reply": "2021-07-27T01:02:10.408037Z",
     "shell.execute_reply.started": "2021-07-27T00:30:54.263019Z"
    },
    "papermill": {
     "duration": 0.050913,
     "end_time": "2021-07-27T01:02:10.408648",
     "exception": false,
     "start_time": "2021-07-27T01:02:10.357735",
     "status": "completed"
    },
    "tags": []
   },
   "outputs": [],
   "source": [
    "train_row = train.shape[0]"
   ]
  },
  {
   "cell_type": "code",
   "execution_count": 19,
   "id": "integral-separate",
   "metadata": {
    "execution": {
     "iopub.execute_input": "2021-07-27T01:02:10.502541Z",
     "iopub.status.busy": "2021-07-27T01:02:10.501872Z",
     "iopub.status.idle": "2021-07-27T01:02:10.513575Z",
     "shell.execute_reply": "2021-07-27T01:02:10.513083Z",
     "shell.execute_reply.started": "2021-07-27T00:30:54.272894Z"
    },
    "papermill": {
     "duration": 0.060931,
     "end_time": "2021-07-27T01:02:10.513712",
     "exception": false,
     "start_time": "2021-07-27T01:02:10.452781",
     "status": "completed"
    },
    "tags": []
   },
   "outputs": [
    {
     "name": "stdout",
     "output_type": "stream",
     "text": [
      "(2841, 4)\n"
     ]
    },
    {
     "data": {
      "text/html": [
       "<div>\n",
       "<style scoped>\n",
       "    .dataframe tbody tr th:only-of-type {\n",
       "        vertical-align: middle;\n",
       "    }\n",
       "\n",
       "    .dataframe tbody tr th {\n",
       "        vertical-align: top;\n",
       "    }\n",
       "\n",
       "    .dataframe thead th {\n",
       "        text-align: right;\n",
       "    }\n",
       "</style>\n",
       "<table border=\"1\" class=\"dataframe\">\n",
       "  <thead>\n",
       "    <tr style=\"text-align: right;\">\n",
       "      <th></th>\n",
       "      <th>id</th>\n",
       "      <th>excerpt</th>\n",
       "      <th>excerpt_len</th>\n",
       "      <th>excerpt_word_count</th>\n",
       "    </tr>\n",
       "  </thead>\n",
       "  <tbody>\n",
       "    <tr>\n",
       "      <th>0</th>\n",
       "      <td>c12129c31</td>\n",
       "      <td>When the young people returned to the ballroom...</td>\n",
       "      <td>992</td>\n",
       "      <td>174</td>\n",
       "    </tr>\n",
       "    <tr>\n",
       "      <th>1</th>\n",
       "      <td>85aa80a4c</td>\n",
       "      <td>All through dinner time, Mrs. Fayre was somewh...</td>\n",
       "      <td>937</td>\n",
       "      <td>164</td>\n",
       "    </tr>\n",
       "    <tr>\n",
       "      <th>2</th>\n",
       "      <td>b69ac6792</td>\n",
       "      <td>As Roger had predicted, the snow departed as q...</td>\n",
       "      <td>908</td>\n",
       "      <td>162</td>\n",
       "    </tr>\n",
       "    <tr>\n",
       "      <th>3</th>\n",
       "      <td>dd1000b26</td>\n",
       "      <td>And outside before the palace a great garden w...</td>\n",
       "      <td>909</td>\n",
       "      <td>163</td>\n",
       "    </tr>\n",
       "    <tr>\n",
       "      <th>4</th>\n",
       "      <td>37c1b32fb</td>\n",
       "      <td>Once upon a time there were Three Bears who li...</td>\n",
       "      <td>723</td>\n",
       "      <td>147</td>\n",
       "    </tr>\n",
       "  </tbody>\n",
       "</table>\n",
       "</div>"
      ],
      "text/plain": [
       "          id                                            excerpt  excerpt_len  \\\n",
       "0  c12129c31  When the young people returned to the ballroom...          992   \n",
       "1  85aa80a4c  All through dinner time, Mrs. Fayre was somewh...          937   \n",
       "2  b69ac6792  As Roger had predicted, the snow departed as q...          908   \n",
       "3  dd1000b26  And outside before the palace a great garden w...          909   \n",
       "4  37c1b32fb  Once upon a time there were Three Bears who li...          723   \n",
       "\n",
       "   excerpt_word_count  \n",
       "0                 174  \n",
       "1                 164  \n",
       "2                 162  \n",
       "3                 163  \n",
       "4                 147  "
      ]
     },
     "execution_count": 19,
     "metadata": {},
     "output_type": "execute_result"
    }
   ],
   "source": [
    "X = pd.concat([train, test], axis=0)\n",
    "\n",
    "print(X.shape)\n",
    "X.head()"
   ]
  },
  {
   "cell_type": "code",
   "execution_count": 20,
   "id": "arctic-classroom",
   "metadata": {
    "execution": {
     "iopub.execute_input": "2021-07-27T01:02:10.625022Z",
     "iopub.status.busy": "2021-07-27T01:02:10.619393Z",
     "iopub.status.idle": "2021-07-27T01:02:10.635422Z",
     "shell.execute_reply": "2021-07-27T01:02:10.635921Z",
     "shell.execute_reply.started": "2021-07-27T00:30:54.297298Z"
    },
    "papermill": {
     "duration": 0.075757,
     "end_time": "2021-07-27T01:02:10.636092",
     "exception": false,
     "start_time": "2021-07-27T01:02:10.560335",
     "status": "completed"
    },
    "tags": []
   },
   "outputs": [
    {
     "data": {
      "text/plain": [
       "<2841x2841 sparse matrix of type '<class 'numpy.int64'>'\n",
       "\twith 2841 stored elements in Compressed Sparse Row format>"
      ]
     },
     "execution_count": 20,
     "metadata": {},
     "output_type": "execute_result"
    }
   ],
   "source": [
    "cv = CountVectorizer()\n",
    "\n",
    "id_data = cv.fit_transform(X['id'])\n",
    "id_data"
   ]
  },
  {
   "cell_type": "code",
   "execution_count": 21,
   "id": "scheduled-kentucky",
   "metadata": {
    "execution": {
     "iopub.execute_input": "2021-07-27T01:02:10.729636Z",
     "iopub.status.busy": "2021-07-27T01:02:10.728689Z",
     "iopub.status.idle": "2021-07-27T01:02:11.399440Z",
     "shell.execute_reply": "2021-07-27T01:02:11.399957Z",
     "shell.execute_reply.started": "2021-07-27T00:30:54.329723Z"
    },
    "papermill": {
     "duration": 0.719006,
     "end_time": "2021-07-27T01:02:11.400119",
     "exception": false,
     "start_time": "2021-07-27T01:02:10.681113",
     "status": "completed"
    },
    "tags": []
   },
   "outputs": [
    {
     "data": {
      "text/plain": [
       "<2841x26867 sparse matrix of type '<class 'numpy.float64'>'\n",
       "\twith 294991 stored elements in Compressed Sparse Row format>"
      ]
     },
     "execution_count": 21,
     "metadata": {},
     "output_type": "execute_result"
    }
   ],
   "source": [
    "tv = TfidfVectorizer()\n",
    "\n",
    "excerpt_data = tv.fit_transform(X['excerpt'])\n",
    "excerpt_data"
   ]
  },
  {
   "cell_type": "code",
   "execution_count": 22,
   "id": "robust-delight",
   "metadata": {
    "execution": {
     "iopub.execute_input": "2021-07-27T01:02:11.497141Z",
     "iopub.status.busy": "2021-07-27T01:02:11.496448Z",
     "iopub.status.idle": "2021-07-27T01:02:11.609246Z",
     "shell.execute_reply": "2021-07-27T01:02:11.608428Z",
     "shell.execute_reply.started": "2021-07-27T00:30:55.003345Z"
    },
    "papermill": {
     "duration": 0.164019,
     "end_time": "2021-07-27T01:02:11.609445",
     "exception": false,
     "start_time": "2021-07-27T01:02:11.445426",
     "status": "completed"
    },
    "tags": []
   },
   "outputs": [
    {
     "data": {
      "text/plain": [
       "<2841x522 sparse matrix of type '<class 'numpy.uint8'>'\n",
       "\twith 2841 stored elements in Compressed Sparse Row format>"
      ]
     },
     "execution_count": 22,
     "metadata": {},
     "output_type": "execute_result"
    }
   ],
   "source": [
    "len_data = scipy.sparse.csr_matrix(pd.get_dummies(X['excerpt_len'], sparse = True).values)\n",
    "len_data"
   ]
  },
  {
   "cell_type": "code",
   "execution_count": 23,
   "id": "current-williams",
   "metadata": {
    "execution": {
     "iopub.execute_input": "2021-07-27T01:02:11.716704Z",
     "iopub.status.busy": "2021-07-27T01:02:11.715789Z",
     "iopub.status.idle": "2021-07-27T01:02:11.737205Z",
     "shell.execute_reply": "2021-07-27T01:02:11.737651Z",
     "shell.execute_reply.started": "2021-07-27T00:30:55.111873Z"
    },
    "papermill": {
     "duration": 0.072966,
     "end_time": "2021-07-27T01:02:11.737836",
     "exception": false,
     "start_time": "2021-07-27T01:02:11.664870",
     "status": "completed"
    },
    "tags": []
   },
   "outputs": [
    {
     "data": {
      "text/plain": [
       "<2841x72 sparse matrix of type '<class 'numpy.uint8'>'\n",
       "\twith 2841 stored elements in Compressed Sparse Row format>"
      ]
     },
     "execution_count": 23,
     "metadata": {},
     "output_type": "execute_result"
    }
   ],
   "source": [
    "count_data = scipy.sparse.csr_matrix(pd.get_dummies(X['excerpt_word_count'], sparse = True).values)\n",
    "count_data"
   ]
  },
  {
   "cell_type": "code",
   "execution_count": 24,
   "id": "expressed-dimension",
   "metadata": {
    "execution": {
     "iopub.execute_input": "2021-07-27T01:02:11.833343Z",
     "iopub.status.busy": "2021-07-27T01:02:11.832716Z",
     "iopub.status.idle": "2021-07-27T01:02:11.861912Z",
     "shell.execute_reply": "2021-07-27T01:02:11.862392Z",
     "shell.execute_reply.started": "2021-07-27T00:30:55.136952Z"
    },
    "papermill": {
     "duration": 0.079121,
     "end_time": "2021-07-27T01:02:11.862554",
     "exception": false,
     "start_time": "2021-07-27T01:02:11.783433",
     "status": "completed"
    },
    "tags": []
   },
   "outputs": [
    {
     "data": {
      "text/plain": [
       "<2841x30302 sparse matrix of type '<class 'numpy.float64'>'\n",
       "\twith 303514 stored elements in Compressed Sparse Row format>"
      ]
     },
     "execution_count": 24,
     "metadata": {},
     "output_type": "execute_result"
    }
   ],
   "source": [
    "X_sparse = scipy.sparse.hstack((id_data, excerpt_data, len_data, count_data)).tocsr()\n",
    "X_sparse"
   ]
  },
  {
   "cell_type": "code",
   "execution_count": 25,
   "id": "applicable-marsh",
   "metadata": {
    "execution": {
     "iopub.execute_input": "2021-07-27T01:02:11.958545Z",
     "iopub.status.busy": "2021-07-27T01:02:11.957875Z",
     "iopub.status.idle": "2021-07-27T01:02:11.966791Z",
     "shell.execute_reply": "2021-07-27T01:02:11.967327Z",
     "shell.execute_reply.started": "2021-07-27T00:30:55.16886Z"
    },
    "papermill": {
     "duration": 0.058906,
     "end_time": "2021-07-27T01:02:11.967497",
     "exception": false,
     "start_time": "2021-07-27T01:02:11.908591",
     "status": "completed"
    },
    "tags": []
   },
   "outputs": [],
   "source": [
    "train = X_sparse[:train_row]\n",
    "test = X_sparse[train_row:]"
   ]
  },
  {
   "cell_type": "code",
   "execution_count": 26,
   "id": "loaded-rubber",
   "metadata": {
    "execution": {
     "iopub.execute_input": "2021-07-27T01:02:12.063842Z",
     "iopub.status.busy": "2021-07-27T01:02:12.063207Z",
     "iopub.status.idle": "2021-07-27T01:02:12.222859Z",
     "shell.execute_reply": "2021-07-27T01:02:12.222327Z",
     "shell.execute_reply.started": "2021-07-27T00:30:55.180205Z"
    },
    "papermill": {
     "duration": 0.209271,
     "end_time": "2021-07-27T01:02:12.223009",
     "exception": false,
     "start_time": "2021-07-27T01:02:12.013738",
     "status": "completed"
    },
    "tags": []
   },
   "outputs": [
    {
     "data": {
      "text/plain": [
       "26734"
      ]
     },
     "execution_count": 26,
     "metadata": {},
     "output_type": "execute_result"
    }
   ],
   "source": [
    "del X, X_sparse, id_data, excerpt_data, len_data, count_data, train_row, cv, tv\n",
    "gc.collect()"
   ]
  },
  {
   "cell_type": "markdown",
   "id": "polish-yahoo",
   "metadata": {
    "papermill": {
     "duration": 0.046138,
     "end_time": "2021-07-27T01:02:12.316675",
     "exception": false,
     "start_time": "2021-07-27T01:02:12.270537",
     "status": "completed"
    },
    "tags": []
   },
   "source": [
    "# Modeling"
   ]
  },
  {
   "cell_type": "code",
   "execution_count": 27,
   "id": "assigned-madonna",
   "metadata": {
    "execution": {
     "iopub.execute_input": "2021-07-27T01:02:12.415863Z",
     "iopub.status.busy": "2021-07-27T01:02:12.415146Z",
     "iopub.status.idle": "2021-07-27T01:02:12.419169Z",
     "shell.execute_reply": "2021-07-27T01:02:12.418566Z",
     "shell.execute_reply.started": "2021-07-27T00:32:45.887841Z"
    },
    "papermill": {
     "duration": 0.055946,
     "end_time": "2021-07-27T01:02:12.419312",
     "exception": false,
     "start_time": "2021-07-27T01:02:12.363366",
     "status": "completed"
    },
    "tags": []
   },
   "outputs": [
    {
     "data": {
      "text/plain": [
       "\"\\nX_tr, X_val, y_tr, y_val = train_test_split(train, target, test_size=0.2, random_state=666)\\n\\ndef create_model(trial):\\n    num_leaves = trial.suggest_int('num_leaves', 2, 30)\\n    n_estimators = trial.suggest_int('n_estimators', 50, 300)\\n    learning_rate = trial.suggest_uniform('learning_rate', 0.0001, 0.99)\\n    max_depth = trial.suggest_int('max_depth', 2, 10)\\n    min_child_samples = trial.suggest_int('min_child_samples', 100, 1200)\\n    min_data_in_leaf = trial.suggest_int('min_data_in_leaf', 5, 90)\\n    bagging_freq = trial.suggest_int('bagging_freq', 1, 7)\\n    bagging_fraction = trial.suggest_uniform('bagging_fraction', 0.0001, 1.0)\\n    feature_fraction = trial.suggest_uniform('feature_fraction', 0.0001, 1.0)\\n    subsample = trial.suggest_uniform('subsample', 0.1, 1.0)\\n    colsample_bytree = trial.suggest_uniform('colsample_bytree', 0.1, 1.0)\\n    \\n    model = lgb.LGBMRegressor(\\n        num_leaves=num_leaves,\\n        n_estimators=n_estimators,\\n        learning_rate=learning_rate,\\n        max_depth=max_depth, \\n        min_child_samples=min_child_samples, \\n        min_data_in_leaf=min_data_in_leaf,\\n        bagging_freq=bagging_freq,\\n        bagging_fraction=bagging_fraction,\\n        feature_fraction=feature_fraction,\\n        subsample=subsample,\\n        colsample_bytree=colsample_bytree,\\n        random_state=666)\\n    return model\\n\\ndef objective(trial):\\n    model = create_model(trial)\\n    model.fit(X_tr, y_tr)\\n    y_pred = model.predict(X_val)\\n    rsme = np.sqrt(mean_squared_error(y_pred, y_val))\\n    return rsme\\n\\nstudy = optuna.create_study(direction='minimize')\\nstudy.optimize(objective, n_trials=40)\\nparams = study.best_params\\nprint(params)\\n\""
      ]
     },
     "execution_count": 27,
     "metadata": {},
     "output_type": "execute_result"
    }
   ],
   "source": [
    "'''\n",
    "X_tr, X_val, y_tr, y_val = train_test_split(train, target, test_size=0.2, random_state=666)\n",
    "\n",
    "def create_model(trial):\n",
    "    num_leaves = trial.suggest_int('num_leaves', 2, 30)\n",
    "    n_estimators = trial.suggest_int('n_estimators', 50, 300)\n",
    "    learning_rate = trial.suggest_uniform('learning_rate', 0.0001, 0.99)\n",
    "    max_depth = trial.suggest_int('max_depth', 2, 10)\n",
    "    min_child_samples = trial.suggest_int('min_child_samples', 100, 1200)\n",
    "    min_data_in_leaf = trial.suggest_int('min_data_in_leaf', 5, 90)\n",
    "    bagging_freq = trial.suggest_int('bagging_freq', 1, 7)\n",
    "    bagging_fraction = trial.suggest_uniform('bagging_fraction', 0.0001, 1.0)\n",
    "    feature_fraction = trial.suggest_uniform('feature_fraction', 0.0001, 1.0)\n",
    "    subsample = trial.suggest_uniform('subsample', 0.1, 1.0)\n",
    "    colsample_bytree = trial.suggest_uniform('colsample_bytree', 0.1, 1.0)\n",
    "    \n",
    "    model = lgb.LGBMRegressor(\n",
    "        num_leaves=num_leaves,\n",
    "        n_estimators=n_estimators,\n",
    "        learning_rate=learning_rate,\n",
    "        max_depth=max_depth, \n",
    "        min_child_samples=min_child_samples, \n",
    "        min_data_in_leaf=min_data_in_leaf,\n",
    "        bagging_freq=bagging_freq,\n",
    "        bagging_fraction=bagging_fraction,\n",
    "        feature_fraction=feature_fraction,\n",
    "        subsample=subsample,\n",
    "        colsample_bytree=colsample_bytree,\n",
    "        random_state=666)\n",
    "    return model\n",
    "\n",
    "def objective(trial):\n",
    "    model = create_model(trial)\n",
    "    model.fit(X_tr, y_tr)\n",
    "    y_pred = model.predict(X_val)\n",
    "    rsme = np.sqrt(mean_squared_error(y_pred, y_val))\n",
    "    return rsme\n",
    "\n",
    "study = optuna.create_study(direction='minimize')\n",
    "study.optimize(objective, n_trials=40)\n",
    "params = study.best_params\n",
    "print(params)\n",
    "'''"
   ]
  },
  {
   "cell_type": "code",
   "execution_count": 28,
   "id": "driven-trainer",
   "metadata": {
    "execution": {
     "iopub.execute_input": "2021-07-27T01:02:12.518362Z",
     "iopub.status.busy": "2021-07-27T01:02:12.517733Z",
     "iopub.status.idle": "2021-07-27T01:02:12.520750Z",
     "shell.execute_reply": "2021-07-27T01:02:12.520225Z"
    },
    "papermill": {
     "duration": 0.054835,
     "end_time": "2021-07-27T01:02:12.520902",
     "exception": false,
     "start_time": "2021-07-27T01:02:12.466067",
     "status": "completed"
    },
    "tags": []
   },
   "outputs": [],
   "source": [
    "params = {'num_leaves': 12,\n",
    "          'n_estimators': 299,\n",
    "          'learning_rate': 0.12976125116082543,\n",
    "          'max_depth': 10,\n",
    "          'min_child_samples': 851,\n",
    "          'min_data_in_leaf': 5,\n",
    "          'bagging_freq': 2,\n",
    "          'bagging_fraction': 0.7828973350680036,\n",
    "          'feature_fraction': 0.21210793556709107,\n",
    "          'subsample': 0.9874364347245423,\n",
    "          'colsample_bytree': 0.5281379841297079,\n",
    "          'random_state': 666}"
   ]
  },
  {
   "cell_type": "code",
   "execution_count": 29,
   "id": "italian-campbell",
   "metadata": {
    "execution": {
     "iopub.execute_input": "2021-07-27T01:02:12.621212Z",
     "iopub.status.busy": "2021-07-27T01:02:12.620450Z",
     "iopub.status.idle": "2021-07-27T01:02:18.370578Z",
     "shell.execute_reply": "2021-07-27T01:02:18.370078Z",
     "shell.execute_reply.started": "2021-07-27T00:37:03.179322Z"
    },
    "papermill": {
     "duration": 5.80259,
     "end_time": "2021-07-27T01:02:18.370715",
     "exception": false,
     "start_time": "2021-07-27T01:02:12.568125",
     "status": "completed"
    },
    "tags": []
   },
   "outputs": [
    {
     "name": "stdout",
     "output_type": "stream",
     "text": [
      "[LightGBM] [Warning] bagging_fraction is set=0.7828973350680036, subsample=0.9874364347245423 will be ignored. Current value: bagging_fraction=0.7828973350680036\n",
      "[LightGBM] [Warning] feature_fraction is set=0.21210793556709107, colsample_bytree=0.5281379841297079 will be ignored. Current value: feature_fraction=0.21210793556709107\n",
      "[LightGBM] [Warning] bagging_freq is set=2, subsample_freq=0 will be ignored. Current value: bagging_freq=2\n",
      "[LightGBM] [Warning] min_data_in_leaf is set=5, min_child_samples=851 will be ignored. Current value: min_data_in_leaf=5\n"
     ]
    },
    {
     "data": {
      "text/plain": [
       "LGBMRegressor(bagging_fraction=0.7828973350680036, bagging_freq=2,\n",
       "              colsample_bytree=0.5281379841297079,\n",
       "              feature_fraction=0.21210793556709107,\n",
       "              learning_rate=0.12976125116082543, max_depth=10,\n",
       "              min_child_samples=851, min_data_in_leaf=5, n_estimators=299,\n",
       "              num_leaves=12, random_state=666, subsample=0.9874364347245423)"
      ]
     },
     "execution_count": 29,
     "metadata": {},
     "output_type": "execute_result"
    }
   ],
   "source": [
    "cls = lgb.LGBMRegressor(**params)\n",
    "cls.fit(train, target)"
   ]
  },
  {
   "cell_type": "code",
   "execution_count": 30,
   "id": "impossible-google",
   "metadata": {
    "execution": {
     "iopub.execute_input": "2021-07-27T01:02:18.612407Z",
     "iopub.status.busy": "2021-07-27T01:02:18.611482Z",
     "iopub.status.idle": "2021-07-27T01:02:18.615331Z",
     "shell.execute_reply": "2021-07-27T01:02:18.614723Z",
     "shell.execute_reply.started": "2021-07-27T00:37:20.812334Z"
    },
    "papermill": {
     "duration": 0.197333,
     "end_time": "2021-07-27T01:02:18.615470",
     "exception": false,
     "start_time": "2021-07-27T01:02:18.418137",
     "status": "completed"
    },
    "tags": []
   },
   "outputs": [
    {
     "data": {
      "text/plain": [
       "125"
      ]
     },
     "execution_count": 30,
     "metadata": {},
     "output_type": "execute_result"
    }
   ],
   "source": [
    "del train, target, params\n",
    "gc.collect()"
   ]
  },
  {
   "cell_type": "markdown",
   "id": "refined-consultancy",
   "metadata": {
    "papermill": {
     "duration": 0.047728,
     "end_time": "2021-07-27T01:02:18.711394",
     "exception": false,
     "start_time": "2021-07-27T01:02:18.663666",
     "status": "completed"
    },
    "tags": []
   },
   "source": [
    "# Submit"
   ]
  },
  {
   "cell_type": "code",
   "execution_count": 31,
   "id": "automotive-proposition",
   "metadata": {
    "execution": {
     "iopub.execute_input": "2021-07-27T01:02:18.812168Z",
     "iopub.status.busy": "2021-07-27T01:02:18.811433Z",
     "iopub.status.idle": "2021-07-27T01:02:18.815052Z",
     "shell.execute_reply": "2021-07-27T01:02:18.815538Z",
     "shell.execute_reply.started": "2021-07-27T00:37:57.915187Z"
    },
    "papermill": {
     "duration": 0.056453,
     "end_time": "2021-07-27T01:02:18.815699",
     "exception": false,
     "start_time": "2021-07-27T01:02:18.759246",
     "status": "completed"
    },
    "tags": []
   },
   "outputs": [],
   "source": [
    "prediction = cls.predict(test)"
   ]
  },
  {
   "cell_type": "code",
   "execution_count": 32,
   "id": "referenced-brass",
   "metadata": {
    "execution": {
     "iopub.execute_input": "2021-07-27T01:02:19.054520Z",
     "iopub.status.busy": "2021-07-27T01:02:19.053736Z",
     "iopub.status.idle": "2021-07-27T01:02:19.057509Z",
     "shell.execute_reply": "2021-07-27T01:02:19.056994Z",
     "shell.execute_reply.started": "2021-07-27T00:38:07.114053Z"
    },
    "papermill": {
     "duration": 0.193742,
     "end_time": "2021-07-27T01:02:19.057656",
     "exception": false,
     "start_time": "2021-07-27T01:02:18.863914",
     "status": "completed"
    },
    "tags": []
   },
   "outputs": [
    {
     "data": {
      "text/plain": [
       "48"
      ]
     },
     "execution_count": 32,
     "metadata": {},
     "output_type": "execute_result"
    }
   ],
   "source": [
    "del test\n",
    "gc.collect()"
   ]
  },
  {
   "cell_type": "code",
   "execution_count": 33,
   "id": "technological-clark",
   "metadata": {
    "execution": {
     "iopub.execute_input": "2021-07-27T01:02:19.167778Z",
     "iopub.status.busy": "2021-07-27T01:02:19.166725Z",
     "iopub.status.idle": "2021-07-27T01:02:19.170994Z",
     "shell.execute_reply": "2021-07-27T01:02:19.170319Z",
     "shell.execute_reply.started": "2021-07-27T00:39:14.458909Z"
    },
    "papermill": {
     "duration": 0.065203,
     "end_time": "2021-07-27T01:02:19.171141",
     "exception": false,
     "start_time": "2021-07-27T01:02:19.105938",
     "status": "completed"
    },
    "tags": []
   },
   "outputs": [
    {
     "data": {
      "text/html": [
       "<div>\n",
       "<style scoped>\n",
       "    .dataframe tbody tr th:only-of-type {\n",
       "        vertical-align: middle;\n",
       "    }\n",
       "\n",
       "    .dataframe tbody tr th {\n",
       "        vertical-align: top;\n",
       "    }\n",
       "\n",
       "    .dataframe thead th {\n",
       "        text-align: right;\n",
       "    }\n",
       "</style>\n",
       "<table border=\"1\" class=\"dataframe\">\n",
       "  <thead>\n",
       "    <tr style=\"text-align: right;\">\n",
       "      <th></th>\n",
       "      <th>id</th>\n",
       "      <th>target</th>\n",
       "    </tr>\n",
       "  </thead>\n",
       "  <tbody>\n",
       "    <tr>\n",
       "      <th>0</th>\n",
       "      <td>c0f722661</td>\n",
       "      <td>-1.680550</td>\n",
       "    </tr>\n",
       "    <tr>\n",
       "      <th>1</th>\n",
       "      <td>f0953f0a5</td>\n",
       "      <td>-0.320672</td>\n",
       "    </tr>\n",
       "    <tr>\n",
       "      <th>2</th>\n",
       "      <td>0df072751</td>\n",
       "      <td>-0.331057</td>\n",
       "    </tr>\n",
       "    <tr>\n",
       "      <th>3</th>\n",
       "      <td>04caf4e0c</td>\n",
       "      <td>-1.729285</td>\n",
       "    </tr>\n",
       "    <tr>\n",
       "      <th>4</th>\n",
       "      <td>0e63f8bea</td>\n",
       "      <td>-1.511802</td>\n",
       "    </tr>\n",
       "  </tbody>\n",
       "</table>\n",
       "</div>"
      ],
      "text/plain": [
       "          id    target\n",
       "0  c0f722661 -1.680550\n",
       "1  f0953f0a5 -0.320672\n",
       "2  0df072751 -0.331057\n",
       "3  04caf4e0c -1.729285\n",
       "4  0e63f8bea -1.511802"
      ]
     },
     "execution_count": 33,
     "metadata": {},
     "output_type": "execute_result"
    }
   ],
   "source": [
    "submit = pd.DataFrame(submission['id'], columns=['id'])\n",
    "submit['target'] = prediction\n",
    "\n",
    "submit.head()"
   ]
  },
  {
   "cell_type": "code",
   "execution_count": 34,
   "id": "uniform-vietnamese",
   "metadata": {
    "execution": {
     "iopub.execute_input": "2021-07-27T01:02:19.278050Z",
     "iopub.status.busy": "2021-07-27T01:02:19.277410Z",
     "iopub.status.idle": "2021-07-27T01:02:19.283847Z",
     "shell.execute_reply": "2021-07-27T01:02:19.283298Z"
    },
    "papermill": {
     "duration": 0.059551,
     "end_time": "2021-07-27T01:02:19.283982",
     "exception": false,
     "start_time": "2021-07-27T01:02:19.224431",
     "status": "completed"
    },
    "tags": []
   },
   "outputs": [],
   "source": [
    "submit.to_csv('./submission.csv', index=False)"
   ]
  }
 ],
 "metadata": {
  "kernelspec": {
   "display_name": "Python 3",
   "language": "python",
   "name": "python3"
  },
  "language_info": {
   "codemirror_mode": {
    "name": "ipython",
    "version": 3
   },
   "file_extension": ".py",
   "mimetype": "text/x-python",
   "name": "python",
   "nbconvert_exporter": "python",
   "pygments_lexer": "ipython3",
   "version": "3.7.10"
  },
  "papermill": {
   "default_parameters": {},
   "duration": 29.897815,
   "end_time": "2021-07-27T01:02:20.798541",
   "environment_variables": {},
   "exception": null,
   "input_path": "__notebook__.ipynb",
   "output_path": "__notebook__.ipynb",
   "parameters": {},
   "start_time": "2021-07-27T01:01:50.900726",
   "version": "2.3.3"
  }
 },
 "nbformat": 4,
 "nbformat_minor": 5
}
