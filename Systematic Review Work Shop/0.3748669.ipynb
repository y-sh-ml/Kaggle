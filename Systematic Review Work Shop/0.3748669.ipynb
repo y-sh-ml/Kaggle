{
 "cells": [
  {
   "cell_type": "markdown",
   "id": "548b774a",
   "metadata": {
    "_cell_guid": "b1076dfc-b9ad-4769-8c92-a6c4dae69d19",
    "_uuid": "8f2839f25d086af736a60e9eeb907d3b93b6e0e5",
    "execution": {
     "iopub.execute_input": "2021-08-04T06:43:19.939958Z",
     "iopub.status.busy": "2021-08-04T06:43:19.93961Z",
     "iopub.status.idle": "2021-08-04T06:43:19.945787Z",
     "shell.execute_reply": "2021-08-04T06:43:19.944672Z",
     "shell.execute_reply.started": "2021-08-04T06:43:19.939928Z"
    },
    "papermill": {
     "duration": 0.038961,
     "end_time": "2021-08-19T01:42:40.682713",
     "exception": false,
     "start_time": "2021-08-19T01:42:40.643752",
     "status": "completed"
    },
    "tags": []
   },
   "source": [
    "# Competition"
   ]
  },
  {
   "cell_type": "markdown",
   "id": "39e493eb",
   "metadata": {
    "papermill": {
     "duration": 0.037092,
     "end_time": "2021-08-19T01:42:40.758701",
     "exception": false,
     "start_time": "2021-08-19T01:42:40.721609",
     "status": "completed"
    },
    "tags": []
   },
   "source": [
    "・[Systematic Review Work Shop-Peer Support Group (SRWS-PSG)](https://signate.jp/competitions/471)"
   ]
  },
  {
   "cell_type": "markdown",
   "id": "2cfa835c",
   "metadata": {
    "papermill": {
     "duration": 0.038468,
     "end_time": "2021-08-19T01:42:40.834595",
     "exception": false,
     "start_time": "2021-08-19T01:42:40.796127",
     "status": "completed"
    },
    "tags": []
   },
   "source": [
    "# Evaluation"
   ]
  },
  {
   "cell_type": "markdown",
   "id": "26d6f60c",
   "metadata": {
    "papermill": {
     "duration": 0.037147,
     "end_time": "2021-08-19T01:42:40.909128",
     "exception": false,
     "start_time": "2021-08-19T01:42:40.871981",
     "status": "completed"
    },
    "tags": []
   },
   "source": [
    "$\\beta = 7$\n",
    "\n",
    "$\\text{FBetaScore} = \\frac{(1 + \\beta^{2}) \\cdot \\text{Precision} \\cdot \\text{Recall}}{\\beta^{2} \\cdot \\text{Precision} + \\text{Recall}}$"
   ]
  },
  {
   "cell_type": "markdown",
   "id": "26498bf9",
   "metadata": {
    "papermill": {
     "duration": 0.037034,
     "end_time": "2021-08-19T01:42:40.983444",
     "exception": false,
     "start_time": "2021-08-19T01:42:40.946410",
     "status": "completed"
    },
    "tags": []
   },
   "source": [
    "# Module"
   ]
  },
  {
   "cell_type": "code",
   "execution_count": 1,
   "id": "47f47e88",
   "metadata": {
    "execution": {
     "iopub.execute_input": "2021-08-19T01:42:41.073691Z",
     "iopub.status.busy": "2021-08-19T01:42:41.073008Z",
     "iopub.status.idle": "2021-08-19T01:42:44.146157Z",
     "shell.execute_reply": "2021-08-19T01:42:44.144964Z",
     "shell.execute_reply.started": "2021-08-19T01:15:55.126837Z"
    },
    "papermill": {
     "duration": 3.124158,
     "end_time": "2021-08-19T01:42:44.146347",
     "exception": false,
     "start_time": "2021-08-19T01:42:41.022189",
     "status": "completed"
    },
    "tags": []
   },
   "outputs": [
    {
     "data": {
      "text/html": [
       "<style type='text/css'>\n",
       ".datatable table.frame { margin-bottom: 0; }\n",
       ".datatable table.frame thead { border-bottom: none; }\n",
       ".datatable table.frame tr.coltypes td {  color: #FFFFFF;  line-height: 6px;  padding: 0 0.5em;}\n",
       ".datatable .bool    { background: #DDDD99; }\n",
       ".datatable .object  { background: #565656; }\n",
       ".datatable .int     { background: #5D9E5D; }\n",
       ".datatable .float   { background: #4040CC; }\n",
       ".datatable .str     { background: #CC4040; }\n",
       ".datatable .time    { background: #40CC40; }\n",
       ".datatable .row_index {  background: var(--jp-border-color3);  border-right: 1px solid var(--jp-border-color0);  color: var(--jp-ui-font-color3);  font-size: 9px;}\n",
       ".datatable .frame tbody td { text-align: left; }\n",
       ".datatable .frame tr.coltypes .row_index {  background: var(--jp-border-color0);}\n",
       ".datatable th:nth-child(2) { padding-left: 12px; }\n",
       ".datatable .hellipsis {  color: var(--jp-cell-editor-border-color);}\n",
       ".datatable .vellipsis {  background: var(--jp-layout-color0);  color: var(--jp-cell-editor-border-color);}\n",
       ".datatable .na {  color: var(--jp-cell-editor-border-color);  font-size: 80%;}\n",
       ".datatable .sp {  opacity: 0.25;}\n",
       ".datatable .footer { font-size: 9px; }\n",
       ".datatable .frame_dimensions {  background: var(--jp-border-color3);  border-top: 1px solid var(--jp-border-color0);  color: var(--jp-ui-font-color3);  display: inline-block;  opacity: 0.6;  padding: 1px 10px 1px 5px;}\n",
       "</style>\n"
      ],
      "text/plain": [
       "<IPython.core.display.HTML object>"
      ]
     },
     "metadata": {},
     "output_type": "display_data"
    }
   ],
   "source": [
    "import gc\n",
    "import scipy\n",
    "import optuna\n",
    "import matplotlib\n",
    "import numpy as np\n",
    "import pandas as pd\n",
    "import seaborn as sns\n",
    "import lightgbm as lgb\n",
    "import matplotlib.pyplot as plt\n",
    "\n",
    "from sklearn.metrics import log_loss\n",
    "from sklearn.preprocessing import LabelBinarizer\n",
    "from sklearn.model_selection import train_test_split\n",
    "from sklearn.feature_extraction.text import CountVectorizer, TfidfVectorizer"
   ]
  },
  {
   "cell_type": "markdown",
   "id": "dd3c1c7a",
   "metadata": {
    "papermill": {
     "duration": 0.038556,
     "end_time": "2021-08-19T01:42:44.223666",
     "exception": false,
     "start_time": "2021-08-19T01:42:44.185110",
     "status": "completed"
    },
    "tags": []
   },
   "source": [
    "# Datasets"
   ]
  },
  {
   "cell_type": "code",
   "execution_count": 2,
   "id": "244cc6cb",
   "metadata": {
    "execution": {
     "iopub.execute_input": "2021-08-19T01:42:44.305034Z",
     "iopub.status.busy": "2021-08-19T01:42:44.304324Z",
     "iopub.status.idle": "2021-08-19T01:42:45.336746Z",
     "shell.execute_reply": "2021-08-19T01:42:45.336106Z",
     "shell.execute_reply.started": "2021-08-19T01:15:58.420635Z"
    },
    "papermill": {
     "duration": 1.075283,
     "end_time": "2021-08-19T01:42:45.336882",
     "exception": false,
     "start_time": "2021-08-19T01:42:44.261599",
     "status": "completed"
    },
    "tags": []
   },
   "outputs": [
    {
     "name": "stdout",
     "output_type": "stream",
     "text": [
      "(27145, 4)\n"
     ]
    },
    {
     "data": {
      "text/html": [
       "<div>\n",
       "<style scoped>\n",
       "    .dataframe tbody tr th:only-of-type {\n",
       "        vertical-align: middle;\n",
       "    }\n",
       "\n",
       "    .dataframe tbody tr th {\n",
       "        vertical-align: top;\n",
       "    }\n",
       "\n",
       "    .dataframe thead th {\n",
       "        text-align: right;\n",
       "    }\n",
       "</style>\n",
       "<table border=\"1\" class=\"dataframe\">\n",
       "  <thead>\n",
       "    <tr style=\"text-align: right;\">\n",
       "      <th></th>\n",
       "      <th>id</th>\n",
       "      <th>title</th>\n",
       "      <th>abstract</th>\n",
       "      <th>judgement</th>\n",
       "    </tr>\n",
       "  </thead>\n",
       "  <tbody>\n",
       "    <tr>\n",
       "      <th>0</th>\n",
       "      <td>0</td>\n",
       "      <td>One-year age changes in MRI brain volumes in o...</td>\n",
       "      <td>Longitudinal studies indicate that declines in...</td>\n",
       "      <td>0</td>\n",
       "    </tr>\n",
       "    <tr>\n",
       "      <th>1</th>\n",
       "      <td>1</td>\n",
       "      <td>Supportive CSF biomarker evidence to enhance t...</td>\n",
       "      <td>The present study was undertaken to validate t...</td>\n",
       "      <td>0</td>\n",
       "    </tr>\n",
       "    <tr>\n",
       "      <th>2</th>\n",
       "      <td>2</td>\n",
       "      <td>Occurrence of basal ganglia germ cell tumors w...</td>\n",
       "      <td>Objective: To report a case series in which ba...</td>\n",
       "      <td>0</td>\n",
       "    </tr>\n",
       "    <tr>\n",
       "      <th>3</th>\n",
       "      <td>3</td>\n",
       "      <td>New developments in diagnosis and therapy of C...</td>\n",
       "      <td>The etiology and pathogenesis of idiopathic ch...</td>\n",
       "      <td>0</td>\n",
       "    </tr>\n",
       "    <tr>\n",
       "      <th>4</th>\n",
       "      <td>4</td>\n",
       "      <td>Prolonged shedding of SARS-CoV-2 in an elderly...</td>\n",
       "      <td>NaN</td>\n",
       "      <td>0</td>\n",
       "    </tr>\n",
       "    <tr>\n",
       "      <th>5</th>\n",
       "      <td>5</td>\n",
       "      <td>From bench to bedside: Molecular imaging in in...</td>\n",
       "      <td>Purpose of review Standard structural imaging ...</td>\n",
       "      <td>0</td>\n",
       "    </tr>\n",
       "    <tr>\n",
       "      <th>6</th>\n",
       "      <td>6</td>\n",
       "      <td>Left gonadal vein thrombosis in a patient with...</td>\n",
       "      <td>COVID-19 disease is a viral illness that predo...</td>\n",
       "      <td>0</td>\n",
       "    </tr>\n",
       "    <tr>\n",
       "      <th>7</th>\n",
       "      <td>7</td>\n",
       "      <td>Development and validation of a prediction mod...</td>\n",
       "      <td>OBJECTIVES: We aimed to develop and validate a...</td>\n",
       "      <td>0</td>\n",
       "    </tr>\n",
       "    <tr>\n",
       "      <th>8</th>\n",
       "      <td>8</td>\n",
       "      <td>Rehabilitation and Covid-19: the Cochrane Reha...</td>\n",
       "      <td>INTRODUCTION: This paper improves the methodol...</td>\n",
       "      <td>0</td>\n",
       "    </tr>\n",
       "    <tr>\n",
       "      <th>9</th>\n",
       "      <td>9</td>\n",
       "      <td>Slow gait in MCI is associated with ventricula...</td>\n",
       "      <td>Slow gait is ubiquitous among older adults and...</td>\n",
       "      <td>0</td>\n",
       "    </tr>\n",
       "  </tbody>\n",
       "</table>\n",
       "</div>"
      ],
      "text/plain": [
       "   id                                              title  \\\n",
       "0   0  One-year age changes in MRI brain volumes in o...   \n",
       "1   1  Supportive CSF biomarker evidence to enhance t...   \n",
       "2   2  Occurrence of basal ganglia germ cell tumors w...   \n",
       "3   3  New developments in diagnosis and therapy of C...   \n",
       "4   4  Prolonged shedding of SARS-CoV-2 in an elderly...   \n",
       "5   5  From bench to bedside: Molecular imaging in in...   \n",
       "6   6  Left gonadal vein thrombosis in a patient with...   \n",
       "7   7  Development and validation of a prediction mod...   \n",
       "8   8  Rehabilitation and Covid-19: the Cochrane Reha...   \n",
       "9   9  Slow gait in MCI is associated with ventricula...   \n",
       "\n",
       "                                            abstract  judgement  \n",
       "0  Longitudinal studies indicate that declines in...          0  \n",
       "1  The present study was undertaken to validate t...          0  \n",
       "2  Objective: To report a case series in which ba...          0  \n",
       "3  The etiology and pathogenesis of idiopathic ch...          0  \n",
       "4                                                NaN          0  \n",
       "5  Purpose of review Standard structural imaging ...          0  \n",
       "6  COVID-19 disease is a viral illness that predo...          0  \n",
       "7  OBJECTIVES: We aimed to develop and validate a...          0  \n",
       "8  INTRODUCTION: This paper improves the methodol...          0  \n",
       "9  Slow gait is ubiquitous among older adults and...          0  "
      ]
     },
     "execution_count": 2,
     "metadata": {},
     "output_type": "execute_result"
    }
   ],
   "source": [
    "train = pd.read_csv('../input/systematic/train.csv')\n",
    "\n",
    "print(train.shape)\n",
    "train.head(10)"
   ]
  },
  {
   "cell_type": "code",
   "execution_count": 3,
   "id": "7c5c9607",
   "metadata": {
    "execution": {
     "iopub.execute_input": "2021-08-19T01:42:45.419991Z",
     "iopub.status.busy": "2021-08-19T01:42:45.419366Z",
     "iopub.status.idle": "2021-08-19T01:42:46.920075Z",
     "shell.execute_reply": "2021-08-19T01:42:46.920596Z",
     "shell.execute_reply.started": "2021-08-19T01:15:59.354363Z"
    },
    "papermill": {
     "duration": 1.544416,
     "end_time": "2021-08-19T01:42:46.920783",
     "exception": false,
     "start_time": "2021-08-19T01:42:45.376367",
     "status": "completed"
    },
    "tags": []
   },
   "outputs": [
    {
     "name": "stdout",
     "output_type": "stream",
     "text": [
      "(40834, 3)\n"
     ]
    },
    {
     "data": {
      "text/html": [
       "<div>\n",
       "<style scoped>\n",
       "    .dataframe tbody tr th:only-of-type {\n",
       "        vertical-align: middle;\n",
       "    }\n",
       "\n",
       "    .dataframe tbody tr th {\n",
       "        vertical-align: top;\n",
       "    }\n",
       "\n",
       "    .dataframe thead th {\n",
       "        text-align: right;\n",
       "    }\n",
       "</style>\n",
       "<table border=\"1\" class=\"dataframe\">\n",
       "  <thead>\n",
       "    <tr style=\"text-align: right;\">\n",
       "      <th></th>\n",
       "      <th>id</th>\n",
       "      <th>title</th>\n",
       "      <th>abstract</th>\n",
       "    </tr>\n",
       "  </thead>\n",
       "  <tbody>\n",
       "    <tr>\n",
       "      <th>0</th>\n",
       "      <td>27145</td>\n",
       "      <td>Estimating the potential effects of COVID-19 p...</td>\n",
       "      <td>The objective of the paper is to analyse chang...</td>\n",
       "    </tr>\n",
       "    <tr>\n",
       "      <th>1</th>\n",
       "      <td>27146</td>\n",
       "      <td>Leukoerythroblastic reaction in a patient with...</td>\n",
       "      <td>NaN</td>\n",
       "    </tr>\n",
       "    <tr>\n",
       "      <th>2</th>\n",
       "      <td>27147</td>\n",
       "      <td>[15O]-water PET and intraoperative brain mappi...</td>\n",
       "      <td>[15O]-water PET was performed on 12 patients w...</td>\n",
       "    </tr>\n",
       "    <tr>\n",
       "      <th>3</th>\n",
       "      <td>27148</td>\n",
       "      <td>Adaptive image segmentation for robust measure...</td>\n",
       "      <td>We present a method that significantly improve...</td>\n",
       "    </tr>\n",
       "    <tr>\n",
       "      <th>4</th>\n",
       "      <td>27149</td>\n",
       "      <td>Comparison of Epidemiological Variations in CO...</td>\n",
       "      <td>The objective of this study is to compare the ...</td>\n",
       "    </tr>\n",
       "    <tr>\n",
       "      <th>5</th>\n",
       "      <td>27150</td>\n",
       "      <td>Anthraquinone Derivatives as an Immune Booster...</td>\n",
       "      <td>Anthraquinone derivatives are identified for t...</td>\n",
       "    </tr>\n",
       "    <tr>\n",
       "      <th>6</th>\n",
       "      <td>27151</td>\n",
       "      <td>Discriminatory and predictive capabilities of ...</td>\n",
       "      <td>BACKGROUND: Multiplex assays such as xMAP have...</td>\n",
       "    </tr>\n",
       "    <tr>\n",
       "      <th>7</th>\n",
       "      <td>27152</td>\n",
       "      <td>PET imaging of gliomas using novel tracers: A ...</td>\n",
       "      <td>NaN</td>\n",
       "    </tr>\n",
       "    <tr>\n",
       "      <th>8</th>\n",
       "      <td>27153</td>\n",
       "      <td>Symmetrical nail bed uptake on a (99m)Tc-HDP b...</td>\n",
       "      <td>NaN</td>\n",
       "    </tr>\n",
       "    <tr>\n",
       "      <th>9</th>\n",
       "      <td>27154</td>\n",
       "      <td>Automatic brain MR images diagnosis based on e...</td>\n",
       "      <td>A new automatic system to detect pathologies i...</td>\n",
       "    </tr>\n",
       "  </tbody>\n",
       "</table>\n",
       "</div>"
      ],
      "text/plain": [
       "      id                                              title  \\\n",
       "0  27145  Estimating the potential effects of COVID-19 p...   \n",
       "1  27146  Leukoerythroblastic reaction in a patient with...   \n",
       "2  27147  [15O]-water PET and intraoperative brain mappi...   \n",
       "3  27148  Adaptive image segmentation for robust measure...   \n",
       "4  27149  Comparison of Epidemiological Variations in CO...   \n",
       "5  27150  Anthraquinone Derivatives as an Immune Booster...   \n",
       "6  27151  Discriminatory and predictive capabilities of ...   \n",
       "7  27152  PET imaging of gliomas using novel tracers: A ...   \n",
       "8  27153  Symmetrical nail bed uptake on a (99m)Tc-HDP b...   \n",
       "9  27154  Automatic brain MR images diagnosis based on e...   \n",
       "\n",
       "                                            abstract  \n",
       "0  The objective of the paper is to analyse chang...  \n",
       "1                                                NaN  \n",
       "2  [15O]-water PET was performed on 12 patients w...  \n",
       "3  We present a method that significantly improve...  \n",
       "4  The objective of this study is to compare the ...  \n",
       "5  Anthraquinone derivatives are identified for t...  \n",
       "6  BACKGROUND: Multiplex assays such as xMAP have...  \n",
       "7                                                NaN  \n",
       "8                                                NaN  \n",
       "9  A new automatic system to detect pathologies i...  "
      ]
     },
     "execution_count": 3,
     "metadata": {},
     "output_type": "execute_result"
    }
   ],
   "source": [
    "test = pd.read_csv('../input/systematic/test.csv')\n",
    "\n",
    "print(test.shape)\n",
    "test.head(10)"
   ]
  },
  {
   "cell_type": "code",
   "execution_count": 4,
   "id": "3dba02d3",
   "metadata": {
    "execution": {
     "iopub.execute_input": "2021-08-19T01:42:47.005646Z",
     "iopub.status.busy": "2021-08-19T01:42:47.004937Z",
     "iopub.status.idle": "2021-08-19T01:42:47.038028Z",
     "shell.execute_reply": "2021-08-19T01:42:47.038532Z",
     "shell.execute_reply.started": "2021-08-19T01:16:00.697526Z"
    },
    "papermill": {
     "duration": 0.077903,
     "end_time": "2021-08-19T01:42:47.038711",
     "exception": false,
     "start_time": "2021-08-19T01:42:46.960808",
     "status": "completed"
    },
    "tags": []
   },
   "outputs": [
    {
     "name": "stdout",
     "output_type": "stream",
     "text": [
      "(40833, 2)\n"
     ]
    },
    {
     "data": {
      "text/html": [
       "<div>\n",
       "<style scoped>\n",
       "    .dataframe tbody tr th:only-of-type {\n",
       "        vertical-align: middle;\n",
       "    }\n",
       "\n",
       "    .dataframe tbody tr th {\n",
       "        vertical-align: top;\n",
       "    }\n",
       "\n",
       "    .dataframe thead th {\n",
       "        text-align: right;\n",
       "    }\n",
       "</style>\n",
       "<table border=\"1\" class=\"dataframe\">\n",
       "  <thead>\n",
       "    <tr style=\"text-align: right;\">\n",
       "      <th></th>\n",
       "      <th>27145</th>\n",
       "      <th>0</th>\n",
       "    </tr>\n",
       "  </thead>\n",
       "  <tbody>\n",
       "    <tr>\n",
       "      <th>0</th>\n",
       "      <td>27146</td>\n",
       "      <td>1</td>\n",
       "    </tr>\n",
       "    <tr>\n",
       "      <th>1</th>\n",
       "      <td>27147</td>\n",
       "      <td>1</td>\n",
       "    </tr>\n",
       "    <tr>\n",
       "      <th>2</th>\n",
       "      <td>27148</td>\n",
       "      <td>0</td>\n",
       "    </tr>\n",
       "    <tr>\n",
       "      <th>3</th>\n",
       "      <td>27149</td>\n",
       "      <td>1</td>\n",
       "    </tr>\n",
       "    <tr>\n",
       "      <th>4</th>\n",
       "      <td>27150</td>\n",
       "      <td>0</td>\n",
       "    </tr>\n",
       "    <tr>\n",
       "      <th>5</th>\n",
       "      <td>27151</td>\n",
       "      <td>1</td>\n",
       "    </tr>\n",
       "    <tr>\n",
       "      <th>6</th>\n",
       "      <td>27152</td>\n",
       "      <td>1</td>\n",
       "    </tr>\n",
       "    <tr>\n",
       "      <th>7</th>\n",
       "      <td>27153</td>\n",
       "      <td>1</td>\n",
       "    </tr>\n",
       "    <tr>\n",
       "      <th>8</th>\n",
       "      <td>27154</td>\n",
       "      <td>1</td>\n",
       "    </tr>\n",
       "    <tr>\n",
       "      <th>9</th>\n",
       "      <td>27155</td>\n",
       "      <td>0</td>\n",
       "    </tr>\n",
       "  </tbody>\n",
       "</table>\n",
       "</div>"
      ],
      "text/plain": [
       "   27145  0\n",
       "0  27146  1\n",
       "1  27147  1\n",
       "2  27148  0\n",
       "3  27149  1\n",
       "4  27150  0\n",
       "5  27151  1\n",
       "6  27152  1\n",
       "7  27153  1\n",
       "8  27154  1\n",
       "9  27155  0"
      ]
     },
     "execution_count": 4,
     "metadata": {},
     "output_type": "execute_result"
    }
   ],
   "source": [
    "submission = pd.read_csv('../input/systematic/sample_submit.csv')\n",
    "\n",
    "print(submission.shape)\n",
    "submission.head(10)"
   ]
  },
  {
   "cell_type": "markdown",
   "id": "378dd6c3",
   "metadata": {
    "papermill": {
     "duration": 0.040364,
     "end_time": "2021-08-19T01:42:47.120579",
     "exception": false,
     "start_time": "2021-08-19T01:42:47.080215",
     "status": "completed"
    },
    "tags": []
   },
   "source": [
    "# Analytics"
   ]
  },
  {
   "cell_type": "code",
   "execution_count": 5,
   "id": "f4dcdea7",
   "metadata": {
    "execution": {
     "iopub.execute_input": "2021-08-19T01:42:47.213635Z",
     "iopub.status.busy": "2021-08-19T01:42:47.212944Z",
     "iopub.status.idle": "2021-08-19T01:42:47.219740Z",
     "shell.execute_reply": "2021-08-19T01:42:47.219142Z",
     "shell.execute_reply.started": "2021-08-19T01:16:00.732135Z"
    },
    "papermill": {
     "duration": 0.058758,
     "end_time": "2021-08-19T01:42:47.219898",
     "exception": false,
     "start_time": "2021-08-19T01:42:47.161140",
     "status": "completed"
    },
    "tags": []
   },
   "outputs": [
    {
     "data": {
      "text/plain": [
       "id              0\n",
       "title           0\n",
       "abstract     4390\n",
       "judgement       0\n",
       "dtype: int64"
      ]
     },
     "execution_count": 5,
     "metadata": {},
     "output_type": "execute_result"
    }
   ],
   "source": [
    "train.isnull().sum()"
   ]
  },
  {
   "cell_type": "markdown",
   "id": "af4b813c",
   "metadata": {
    "papermill": {
     "duration": 0.040323,
     "end_time": "2021-08-19T01:42:47.302529",
     "exception": false,
     "start_time": "2021-08-19T01:42:47.262206",
     "status": "completed"
    },
    "tags": []
   },
   "source": [
    "# Feature Engineering"
   ]
  },
  {
   "cell_type": "code",
   "execution_count": 6,
   "id": "5af7c217",
   "metadata": {
    "execution": {
     "iopub.execute_input": "2021-08-19T01:42:47.389726Z",
     "iopub.status.busy": "2021-08-19T01:42:47.389005Z",
     "iopub.status.idle": "2021-08-19T01:42:47.392285Z",
     "shell.execute_reply": "2021-08-19T01:42:47.391645Z",
     "shell.execute_reply.started": "2021-08-19T01:16:00.754051Z"
    },
    "papermill": {
     "duration": 0.049095,
     "end_time": "2021-08-19T01:42:47.392451",
     "exception": false,
     "start_time": "2021-08-19T01:42:47.343356",
     "status": "completed"
    },
    "tags": []
   },
   "outputs": [],
   "source": [
    "sns.set()"
   ]
  },
  {
   "cell_type": "code",
   "execution_count": 7,
   "id": "ce5d0330",
   "metadata": {
    "execution": {
     "iopub.execute_input": "2021-08-19T01:42:47.499759Z",
     "iopub.status.busy": "2021-08-19T01:42:47.499040Z",
     "iopub.status.idle": "2021-08-19T01:42:47.806513Z",
     "shell.execute_reply": "2021-08-19T01:42:47.806960Z",
     "shell.execute_reply.started": "2021-08-19T01:16:00.763160Z"
    },
    "papermill": {
     "duration": 0.373354,
     "end_time": "2021-08-19T01:42:47.807129",
     "exception": false,
     "start_time": "2021-08-19T01:42:47.433775",
     "status": "completed"
    },
    "tags": []
   },
   "outputs": [
    {
     "data": {
      "image/png": "[encoded data removed]",
      "text/plain": [
       "<Figure size 864x360 with 2 Axes>"
      ]
     },
     "metadata": {},
     "output_type": "display_data"
    }
   ],
   "source": [
    "figure ,ax = plt.subplots(1, 2, figsize=(12,5))\n",
    "\n",
    "train['judgement'].value_counts().plot.pie(explode=[0,0.1],autopct='%1.1f%%', ax=ax[0], shadow=True)\n",
    "ax[0].set_title('judgement')\n",
    "ax[0].set_ylabel('')\n",
    "\n",
    "sns.countplot(x='judgement', data=train, ax=ax[1])\n",
    "ax[1].set_xlabel('')\n",
    "ax[1].set_ylabel('')\n",
    "ax[1].set_title('judgement')\n",
    "\n",
    "plt.show()"
   ]
  },
  {
   "cell_type": "code",
   "execution_count": 8,
   "id": "c9566b6f",
   "metadata": {
    "execution": {
     "iopub.execute_input": "2021-08-19T01:42:47.895411Z",
     "iopub.status.busy": "2021-08-19T01:42:47.894430Z",
     "iopub.status.idle": "2021-08-19T01:42:48.051807Z",
     "shell.execute_reply": "2021-08-19T01:42:48.052296Z",
     "shell.execute_reply.started": "2021-08-19T01:16:01.090900Z"
    },
    "papermill": {
     "duration": 0.203352,
     "end_time": "2021-08-19T01:42:48.052489",
     "exception": false,
     "start_time": "2021-08-19T01:42:47.849137",
     "status": "completed"
    },
    "tags": []
   },
   "outputs": [],
   "source": [
    "train['title_len'] = train['title'].apply(lambda x : len(x))\n",
    "train['title_word_count'] = train['title'].apply(lambda x : len(x.split(' ')))\n",
    "\n",
    "test['title_len'] = test['title'].apply(lambda x : len(x))\n",
    "test['title_word_count'] = test['title'].apply(lambda x : len(x.split(' ')))"
   ]
  },
  {
   "cell_type": "code",
   "execution_count": 9,
   "id": "934ca3a8",
   "metadata": {
    "execution": {
     "iopub.execute_input": "2021-08-19T01:42:48.141482Z",
     "iopub.status.busy": "2021-08-19T01:42:48.140512Z",
     "iopub.status.idle": "2021-08-19T01:42:48.624890Z",
     "shell.execute_reply": "2021-08-19T01:42:48.625394Z",
     "shell.execute_reply.started": "2021-08-19T01:16:01.252635Z"
    },
    "papermill": {
     "duration": 0.529722,
     "end_time": "2021-08-19T01:42:48.625581",
     "exception": false,
     "start_time": "2021-08-19T01:42:48.095859",
     "status": "completed"
    },
    "tags": []
   },
   "outputs": [
    {
     "data": {
      "image/png": "[encoded data removed]",
      "text/plain": [
       "<Figure size 576x288 with 1 Axes>"
      ]
     },
     "metadata": {},
     "output_type": "display_data"
    }
   ],
   "source": [
    "fig, ax = plt.subplots(1, 1, figsize=(8, 4))\n",
    "sns.histplot(train['title_len'], ax=ax)\n",
    "plt.show()"
   ]
  },
  {
   "cell_type": "code",
   "execution_count": 10,
   "id": "b5903d23",
   "metadata": {
    "execution": {
     "iopub.execute_input": "2021-08-19T01:42:48.714512Z",
     "iopub.status.busy": "2021-08-19T01:42:48.713541Z",
     "iopub.status.idle": "2021-08-19T01:42:49.406443Z",
     "shell.execute_reply": "2021-08-19T01:42:49.405737Z",
     "shell.execute_reply.started": "2021-08-19T01:16:01.741460Z"
    },
    "papermill": {
     "duration": 0.738214,
     "end_time": "2021-08-19T01:42:49.406581",
     "exception": false,
     "start_time": "2021-08-19T01:42:48.668367",
     "status": "completed"
    },
    "tags": []
   },
   "outputs": [
    {
     "data": {
      "text/plain": [
       "<seaborn.axisgrid.FacetGrid at 0x7f439dbb53d0>"
      ]
     },
     "execution_count": 10,
     "metadata": {},
     "output_type": "execute_result"
    },
    {
     "data": {
      "image/png": "[encoded data removed]",
      "text/plain": [
       "<Figure size 576x288 with 2 Axes>"
      ]
     },
     "metadata": {},
     "output_type": "display_data"
    }
   ],
   "source": [
    "grid = sns.FacetGrid(train, col='judgement', height=4, aspect=1)\n",
    "grid.map(plt.hist, 'title_len', bins=20)"
   ]
  },
  {
   "cell_type": "code",
   "execution_count": 11,
   "id": "8b164684",
   "metadata": {
    "execution": {
     "iopub.execute_input": "2021-08-19T01:42:49.520726Z",
     "iopub.status.busy": "2021-08-19T01:42:49.518770Z",
     "iopub.status.idle": "2021-08-19T01:42:50.066827Z",
     "shell.execute_reply": "2021-08-19T01:42:50.066237Z",
     "shell.execute_reply.started": "2021-08-19T01:16:02.619482Z"
    },
    "papermill": {
     "duration": 0.614511,
     "end_time": "2021-08-19T01:42:50.066967",
     "exception": false,
     "start_time": "2021-08-19T01:42:49.452456",
     "status": "completed"
    },
    "tags": []
   },
   "outputs": [
    {
     "data": {
      "image/png": "[encoded data removed]",
      "text/plain": [
       "<Figure size 576x288 with 1 Axes>"
      ]
     },
     "metadata": {},
     "output_type": "display_data"
    }
   ],
   "source": [
    "fig, ax = plt.subplots(1, 1, figsize=(8, 4))\n",
    "sns.histplot(train['title_word_count'], ax=ax)\n",
    "plt.show()"
   ]
  },
  {
   "cell_type": "code",
   "execution_count": 12,
   "id": "50dc3c55",
   "metadata": {
    "execution": {
     "iopub.execute_input": "2021-08-19T01:42:50.164498Z",
     "iopub.status.busy": "2021-08-19T01:42:50.163503Z",
     "iopub.status.idle": "2021-08-19T01:42:50.893871Z",
     "shell.execute_reply": "2021-08-19T01:42:50.894386Z",
     "shell.execute_reply.started": "2021-08-19T01:16:03.045990Z"
    },
    "papermill": {
     "duration": 0.782558,
     "end_time": "2021-08-19T01:42:50.894554",
     "exception": false,
     "start_time": "2021-08-19T01:42:50.111996",
     "status": "completed"
    },
    "tags": []
   },
   "outputs": [
    {
     "data": {
      "text/plain": [
       "<seaborn.axisgrid.FacetGrid at 0x7f439cdb8590>"
      ]
     },
     "execution_count": 12,
     "metadata": {},
     "output_type": "execute_result"
    },
    {
     "data": {
      "image/png": "[encoded data removed]",
      "text/plain": [
       "<Figure size 576x288 with 2 Axes>"
      ]
     },
     "metadata": {},
     "output_type": "display_data"
    }
   ],
   "source": [
    "grid = sns.FacetGrid(train, col='judgement', height=4, aspect=1)\n",
    "grid.map(plt.hist, 'title_word_count', bins=20)"
   ]
  },
  {
   "cell_type": "code",
   "execution_count": 13,
   "id": "17c93013",
   "metadata": {
    "execution": {
     "iopub.execute_input": "2021-08-19T01:42:51.000425Z",
     "iopub.status.busy": "2021-08-19T01:42:50.999658Z",
     "iopub.status.idle": "2021-08-19T01:42:51.015948Z",
     "shell.execute_reply": "2021-08-19T01:42:51.015254Z",
     "shell.execute_reply.started": "2021-08-19T01:16:03.824390Z"
    },
    "papermill": {
     "duration": 0.072921,
     "end_time": "2021-08-19T01:42:51.016090",
     "exception": false,
     "start_time": "2021-08-19T01:42:50.943169",
     "status": "completed"
    },
    "tags": []
   },
   "outputs": [],
   "source": [
    "train['abstract'] = train['abstract'].fillna('missing')\n",
    "test['abstract'] = test['abstract'].fillna('missing')"
   ]
  },
  {
   "cell_type": "code",
   "execution_count": 14,
   "id": "124e4b24",
   "metadata": {
    "execution": {
     "iopub.execute_input": "2021-08-19T01:42:51.153198Z",
     "iopub.status.busy": "2021-08-19T01:42:51.120309Z",
     "iopub.status.idle": "2021-08-19T01:42:52.078156Z",
     "shell.execute_reply": "2021-08-19T01:42:52.077451Z",
     "shell.execute_reply.started": "2021-08-19T01:16:03.846686Z"
    },
    "papermill": {
     "duration": 1.015821,
     "end_time": "2021-08-19T01:42:52.078312",
     "exception": false,
     "start_time": "2021-08-19T01:42:51.062491",
     "status": "completed"
    },
    "tags": []
   },
   "outputs": [],
   "source": [
    "train['abstract_len'] = train['abstract'].apply(lambda x : len(x))\n",
    "train['abstract_word_count'] = train['abstract'].apply(lambda x : len(x.split(' ')))\n",
    "\n",
    "test['abstract_len'] = test['abstract'].apply(lambda x : len(x))\n",
    "test['abstract_word_count'] = test['abstract'].apply(lambda x : len(x.split(' ')))"
   ]
  },
  {
   "cell_type": "code",
   "execution_count": 15,
   "id": "929b54bb",
   "metadata": {
    "execution": {
     "iopub.execute_input": "2021-08-19T01:42:52.219395Z",
     "iopub.status.busy": "2021-08-19T01:42:52.214271Z",
     "iopub.status.idle": "2021-08-19T01:42:52.675997Z",
     "shell.execute_reply": "2021-08-19T01:42:52.676649Z",
     "shell.execute_reply.started": "2021-08-19T01:16:04.788354Z"
    },
    "papermill": {
     "duration": 0.550336,
     "end_time": "2021-08-19T01:42:52.676819",
     "exception": false,
     "start_time": "2021-08-19T01:42:52.126483",
     "status": "completed"
    },
    "tags": []
   },
   "outputs": [
    {
     "data": {
      "image/png": "[encoded data removed]",
      "text/plain": [
       "<Figure size 576x288 with 1 Axes>"
      ]
     },
     "metadata": {},
     "output_type": "display_data"
    }
   ],
   "source": [
    "fig, ax = plt.subplots(1, 1, figsize=(8, 4))\n",
    "sns.histplot(train['abstract_len'], ax=ax)\n",
    "plt.show()"
   ]
  },
  {
   "cell_type": "code",
   "execution_count": 16,
   "id": "764b9891",
   "metadata": {
    "execution": {
     "iopub.execute_input": "2021-08-19T01:42:52.779431Z",
     "iopub.status.busy": "2021-08-19T01:42:52.778785Z",
     "iopub.status.idle": "2021-08-19T01:42:53.554649Z",
     "shell.execute_reply": "2021-08-19T01:42:53.553992Z",
     "shell.execute_reply.started": "2021-08-19T01:16:05.279226Z"
    },
    "papermill": {
     "duration": 0.828745,
     "end_time": "2021-08-19T01:42:53.554796",
     "exception": false,
     "start_time": "2021-08-19T01:42:52.726051",
     "status": "completed"
    },
    "tags": []
   },
   "outputs": [
    {
     "data": {
      "text/plain": [
       "<seaborn.axisgrid.FacetGrid at 0x7f439cd0c350>"
      ]
     },
     "execution_count": 16,
     "metadata": {},
     "output_type": "execute_result"
    },
    {
     "data": {
      "image/png": "[encoded data removed]",
      "text/plain": [
       "<Figure size 576x288 with 2 Axes>"
      ]
     },
     "metadata": {},
     "output_type": "display_data"
    }
   ],
   "source": [
    "grid = sns.FacetGrid(train, col='judgement', height=4, aspect=1)\n",
    "grid.map(plt.hist, 'abstract_len', bins=20)"
   ]
  },
  {
   "cell_type": "code",
   "execution_count": 17,
   "id": "d5ef477b",
   "metadata": {
    "execution": {
     "iopub.execute_input": "2021-08-19T01:42:53.657596Z",
     "iopub.status.busy": "2021-08-19T01:42:53.656971Z",
     "iopub.status.idle": "2021-08-19T01:42:54.233999Z",
     "shell.execute_reply": "2021-08-19T01:42:54.233399Z",
     "shell.execute_reply.started": "2021-08-19T01:16:06.030209Z"
    },
    "papermill": {
     "duration": 0.631178,
     "end_time": "2021-08-19T01:42:54.234233",
     "exception": false,
     "start_time": "2021-08-19T01:42:53.603055",
     "status": "completed"
    },
    "tags": []
   },
   "outputs": [
    {
     "data": {
      "image/png": "[encoded data removed]",
      "text/plain": [
       "<Figure size 576x288 with 1 Axes>"
      ]
     },
     "metadata": {},
     "output_type": "display_data"
    }
   ],
   "source": [
    "fig, ax = plt.subplots(1, 1, figsize=(8, 4))\n",
    "sns.histplot(train['abstract_word_count'], ax=ax)\n",
    "plt.show()"
   ]
  },
  {
   "cell_type": "code",
   "execution_count": 18,
   "id": "8255a3fd",
   "metadata": {
    "execution": {
     "iopub.execute_input": "2021-08-19T01:42:54.341632Z",
     "iopub.status.busy": "2021-08-19T01:42:54.340915Z",
     "iopub.status.idle": "2021-08-19T01:42:55.045870Z",
     "shell.execute_reply": "2021-08-19T01:42:55.045277Z",
     "shell.execute_reply.started": "2021-08-19T01:16:06.580175Z"
    },
    "papermill": {
     "duration": 0.760701,
     "end_time": "2021-08-19T01:42:55.046021",
     "exception": false,
     "start_time": "2021-08-19T01:42:54.285320",
     "status": "completed"
    },
    "tags": []
   },
   "outputs": [
    {
     "data": {
      "text/plain": [
       "<seaborn.axisgrid.FacetGrid at 0x7f439bd94fd0>"
      ]
     },
     "execution_count": 18,
     "metadata": {},
     "output_type": "execute_result"
    },
    {
     "data": {
      "image/png": "[encoded data removed]",
      "text/plain": [
       "<Figure size 576x288 with 2 Axes>"
      ]
     },
     "metadata": {},
     "output_type": "display_data"
    }
   ],
   "source": [
    "grid = sns.FacetGrid(train, col='judgement', height=4, aspect=1)\n",
    "grid.map(plt.hist, 'abstract_word_count', bins=20)"
   ]
  },
  {
   "cell_type": "markdown",
   "id": "af934122",
   "metadata": {
    "papermill": {
     "duration": 0.05054,
     "end_time": "2021-08-19T01:42:55.146829",
     "exception": false,
     "start_time": "2021-08-19T01:42:55.096289",
     "status": "completed"
    },
    "tags": []
   },
   "source": [
    "# Preprocess"
   ]
  },
  {
   "cell_type": "code",
   "execution_count": 19,
   "id": "741087eb",
   "metadata": {
    "execution": {
     "iopub.execute_input": "2021-08-19T01:42:55.256187Z",
     "iopub.status.busy": "2021-08-19T01:42:55.255531Z",
     "iopub.status.idle": "2021-08-19T01:42:55.259013Z",
     "shell.execute_reply": "2021-08-19T01:42:55.258427Z",
     "shell.execute_reply.started": "2021-08-19T01:16:07.282290Z"
    },
    "papermill": {
     "duration": 0.061778,
     "end_time": "2021-08-19T01:42:55.259170",
     "exception": false,
     "start_time": "2021-08-19T01:42:55.197392",
     "status": "completed"
    },
    "tags": []
   },
   "outputs": [],
   "source": [
    "target = train['judgement']\n",
    "train = train.drop(['id', 'judgement'], axis=1)"
   ]
  },
  {
   "cell_type": "code",
   "execution_count": 20,
   "id": "dc15a9f2",
   "metadata": {
    "execution": {
     "iopub.execute_input": "2021-08-19T01:42:55.366653Z",
     "iopub.status.busy": "2021-08-19T01:42:55.365988Z",
     "iopub.status.idle": "2021-08-19T01:42:55.374788Z",
     "shell.execute_reply": "2021-08-19T01:42:55.374181Z",
     "shell.execute_reply.started": "2021-08-19T01:16:07.290685Z"
    },
    "papermill": {
     "duration": 0.065972,
     "end_time": "2021-08-19T01:42:55.374925",
     "exception": false,
     "start_time": "2021-08-19T01:42:55.308953",
     "status": "completed"
    },
    "tags": []
   },
   "outputs": [],
   "source": [
    "test_id = test['id']\n",
    "test = test.drop('id', axis=1)"
   ]
  },
  {
   "cell_type": "code",
   "execution_count": 21,
   "id": "904b5a12",
   "metadata": {
    "execution": {
     "iopub.execute_input": "2021-08-19T01:42:55.480220Z",
     "iopub.status.busy": "2021-08-19T01:42:55.479353Z",
     "iopub.status.idle": "2021-08-19T01:42:55.482773Z",
     "shell.execute_reply": "2021-08-19T01:42:55.482127Z",
     "shell.execute_reply.started": "2021-08-19T01:16:07.313137Z"
    },
    "papermill": {
     "duration": 0.058088,
     "end_time": "2021-08-19T01:42:55.482909",
     "exception": false,
     "start_time": "2021-08-19T01:42:55.424821",
     "status": "completed"
    },
    "tags": []
   },
   "outputs": [],
   "source": [
    "train_row = train.shape[0]"
   ]
  },
  {
   "cell_type": "code",
   "execution_count": 22,
   "id": "ad4675a7",
   "metadata": {
    "execution": {
     "iopub.execute_input": "2021-08-19T01:42:55.587738Z",
     "iopub.status.busy": "2021-08-19T01:42:55.587051Z",
     "iopub.status.idle": "2021-08-19T01:42:55.608376Z",
     "shell.execute_reply": "2021-08-19T01:42:55.607708Z",
     "shell.execute_reply.started": "2021-08-19T01:16:07.321372Z"
    },
    "papermill": {
     "duration": 0.075742,
     "end_time": "2021-08-19T01:42:55.608513",
     "exception": false,
     "start_time": "2021-08-19T01:42:55.532771",
     "status": "completed"
    },
    "tags": []
   },
   "outputs": [
    {
     "name": "stdout",
     "output_type": "stream",
     "text": [
      "(67979, 6)\n"
     ]
    },
    {
     "data": {
      "text/html": [
       "<div>\n",
       "<style scoped>\n",
       "    .dataframe tbody tr th:only-of-type {\n",
       "        vertical-align: middle;\n",
       "    }\n",
       "\n",
       "    .dataframe tbody tr th {\n",
       "        vertical-align: top;\n",
       "    }\n",
       "\n",
       "    .dataframe thead th {\n",
       "        text-align: right;\n",
       "    }\n",
       "</style>\n",
       "<table border=\"1\" class=\"dataframe\">\n",
       "  <thead>\n",
       "    <tr style=\"text-align: right;\">\n",
       "      <th></th>\n",
       "      <th>title</th>\n",
       "      <th>abstract</th>\n",
       "      <th>title_len</th>\n",
       "      <th>title_word_count</th>\n",
       "      <th>abstract_len</th>\n",
       "      <th>abstract_word_count</th>\n",
       "    </tr>\n",
       "  </thead>\n",
       "  <tbody>\n",
       "    <tr>\n",
       "      <th>0</th>\n",
       "      <td>One-year age changes in MRI brain volumes in o...</td>\n",
       "      <td>Longitudinal studies indicate that declines in...</td>\n",
       "      <td>58</td>\n",
       "      <td>10</td>\n",
       "      <td>1321</td>\n",
       "      <td>196</td>\n",
       "    </tr>\n",
       "    <tr>\n",
       "      <th>1</th>\n",
       "      <td>Supportive CSF biomarker evidence to enhance t...</td>\n",
       "      <td>The present study was undertaken to validate t...</td>\n",
       "      <td>182</td>\n",
       "      <td>23</td>\n",
       "      <td>1361</td>\n",
       "      <td>217</td>\n",
       "    </tr>\n",
       "    <tr>\n",
       "      <th>2</th>\n",
       "      <td>Occurrence of basal ganglia germ cell tumors w...</td>\n",
       "      <td>Objective: To report a case series in which ba...</td>\n",
       "      <td>59</td>\n",
       "      <td>10</td>\n",
       "      <td>1047</td>\n",
       "      <td>142</td>\n",
       "    </tr>\n",
       "    <tr>\n",
       "      <th>3</th>\n",
       "      <td>New developments in diagnosis and therapy of C...</td>\n",
       "      <td>The etiology and pathogenesis of idiopathic ch...</td>\n",
       "      <td>87</td>\n",
       "      <td>13</td>\n",
       "      <td>2686</td>\n",
       "      <td>374</td>\n",
       "    </tr>\n",
       "    <tr>\n",
       "      <th>4</th>\n",
       "      <td>Prolonged shedding of SARS-CoV-2 in an elderly...</td>\n",
       "      <td>missing</td>\n",
       "      <td>107</td>\n",
       "      <td>16</td>\n",
       "      <td>7</td>\n",
       "      <td>1</td>\n",
       "    </tr>\n",
       "  </tbody>\n",
       "</table>\n",
       "</div>"
      ],
      "text/plain": [
       "                                               title  \\\n",
       "0  One-year age changes in MRI brain volumes in o...   \n",
       "1  Supportive CSF biomarker evidence to enhance t...   \n",
       "2  Occurrence of basal ganglia germ cell tumors w...   \n",
       "3  New developments in diagnosis and therapy of C...   \n",
       "4  Prolonged shedding of SARS-CoV-2 in an elderly...   \n",
       "\n",
       "                                            abstract  title_len  \\\n",
       "0  Longitudinal studies indicate that declines in...         58   \n",
       "1  The present study was undertaken to validate t...        182   \n",
       "2  Objective: To report a case series in which ba...         59   \n",
       "3  The etiology and pathogenesis of idiopathic ch...         87   \n",
       "4                                            missing        107   \n",
       "\n",
       "   title_word_count  abstract_len  abstract_word_count  \n",
       "0                10          1321                  196  \n",
       "1                23          1361                  217  \n",
       "2                10          1047                  142  \n",
       "3                13          2686                  374  \n",
       "4                16             7                    1  "
      ]
     },
     "execution_count": 22,
     "metadata": {},
     "output_type": "execute_result"
    }
   ],
   "source": [
    "X = pd.concat([train, test], axis=0)\n",
    "\n",
    "print(X.shape)\n",
    "X.head()"
   ]
  },
  {
   "cell_type": "code",
   "execution_count": 23,
   "id": "9a1e3c26",
   "metadata": {
    "execution": {
     "iopub.execute_input": "2021-08-19T01:42:55.735104Z",
     "iopub.status.busy": "2021-08-19T01:42:55.734452Z",
     "iopub.status.idle": "2021-08-19T01:42:55.743033Z",
     "shell.execute_reply": "2021-08-19T01:42:55.742427Z",
     "shell.execute_reply.started": "2021-08-19T01:16:07.353244Z"
    },
    "papermill": {
     "duration": 0.081251,
     "end_time": "2021-08-19T01:42:55.743170",
     "exception": false,
     "start_time": "2021-08-19T01:42:55.661919",
     "status": "completed"
    },
    "tags": []
   },
   "outputs": [
    {
     "data": {
      "text/plain": [
       "title                  0\n",
       "abstract               0\n",
       "title_len              0\n",
       "title_word_count       0\n",
       "abstract_len           0\n",
       "abstract_word_count    0\n",
       "dtype: int64"
      ]
     },
     "execution_count": 23,
     "metadata": {},
     "output_type": "execute_result"
    }
   ],
   "source": [
    "X.isnull().sum()"
   ]
  },
  {
   "cell_type": "code",
   "execution_count": 24,
   "id": "5d64bb7a",
   "metadata": {
    "execution": {
     "iopub.execute_input": "2021-08-19T01:42:55.898235Z",
     "iopub.status.busy": "2021-08-19T01:42:55.887865Z",
     "iopub.status.idle": "2021-08-19T01:42:57.507686Z",
     "shell.execute_reply": "2021-08-19T01:42:57.507126Z",
     "shell.execute_reply.started": "2021-08-19T01:16:07.383828Z"
    },
    "papermill": {
     "duration": 1.711055,
     "end_time": "2021-08-19T01:42:57.507831",
     "exception": false,
     "start_time": "2021-08-19T01:42:55.796776",
     "status": "completed"
    },
    "tags": []
   },
   "outputs": [
    {
     "data": {
      "text/plain": [
       "<67979x33078 sparse matrix of type '<class 'numpy.int64'>'\n",
       "\twith 918993 stored elements in Compressed Sparse Row format>"
      ]
     },
     "execution_count": 24,
     "metadata": {},
     "output_type": "execute_result"
    }
   ],
   "source": [
    "cv = CountVectorizer()\n",
    "\n",
    "title = cv.fit_transform(X['title'])\n",
    "title"
   ]
  },
  {
   "cell_type": "code",
   "execution_count": 25,
   "id": "73c21ce1",
   "metadata": {
    "execution": {
     "iopub.execute_input": "2021-08-19T01:42:57.634080Z",
     "iopub.status.busy": "2021-08-19T01:42:57.628862Z",
     "iopub.status.idle": "2021-08-19T01:43:13.021284Z",
     "shell.execute_reply": "2021-08-19T01:43:13.020717Z",
     "shell.execute_reply.started": "2021-08-19T01:16:09.013813Z"
    },
    "papermill": {
     "duration": 15.462983,
     "end_time": "2021-08-19T01:43:13.021455",
     "exception": false,
     "start_time": "2021-08-19T01:42:57.558472",
     "status": "completed"
    },
    "tags": []
   },
   "outputs": [
    {
     "data": {
      "text/plain": [
       "<67979x107311 sparse matrix of type '<class 'numpy.float64'>'\n",
       "\twith 7096473 stored elements in Compressed Sparse Row format>"
      ]
     },
     "execution_count": 25,
     "metadata": {},
     "output_type": "execute_result"
    }
   ],
   "source": [
    "tv = TfidfVectorizer()\n",
    "\n",
    "abstract = tv.fit_transform(X['abstract'])\n",
    "abstract"
   ]
  },
  {
   "cell_type": "code",
   "execution_count": 26,
   "id": "53b9d0fc",
   "metadata": {
    "execution": {
     "iopub.execute_input": "2021-08-19T01:43:13.131490Z",
     "iopub.status.busy": "2021-08-19T01:43:13.130426Z",
     "iopub.status.idle": "2021-08-19T01:43:13.418846Z",
     "shell.execute_reply": "2021-08-19T01:43:13.419487Z",
     "shell.execute_reply.started": "2021-08-19T01:16:24.845753Z"
    },
    "papermill": {
     "duration": 0.346515,
     "end_time": "2021-08-19T01:43:13.419680",
     "exception": false,
     "start_time": "2021-08-19T01:43:13.073165",
     "status": "completed"
    },
    "tags": []
   },
   "outputs": [
    {
     "data": {
      "text/plain": [
       "<67979x324 sparse matrix of type '<class 'numpy.uint8'>'\n",
       "\twith 67979 stored elements in Compressed Sparse Row format>"
      ]
     },
     "execution_count": 26,
     "metadata": {},
     "output_type": "execute_result"
    }
   ],
   "source": [
    "title_len = scipy.sparse.csr_matrix(pd.get_dummies(X['title_len'], sparse = True).values)\n",
    "title_len"
   ]
  },
  {
   "cell_type": "code",
   "execution_count": 27,
   "id": "831110c2",
   "metadata": {
    "execution": {
     "iopub.execute_input": "2021-08-19T01:43:13.562465Z",
     "iopub.status.busy": "2021-08-19T01:43:13.561623Z",
     "iopub.status.idle": "2021-08-19T01:43:13.675555Z",
     "shell.execute_reply": "2021-08-19T01:43:13.675044Z",
     "shell.execute_reply.started": "2021-08-19T01:16:25.140973Z"
    },
    "papermill": {
     "duration": 0.180347,
     "end_time": "2021-08-19T01:43:13.675697",
     "exception": false,
     "start_time": "2021-08-19T01:43:13.495350",
     "status": "completed"
    },
    "tags": []
   },
   "outputs": [
    {
     "data": {
      "text/plain": [
       "<67979x55 sparse matrix of type '<class 'numpy.uint8'>'\n",
       "\twith 67979 stored elements in Compressed Sparse Row format>"
      ]
     },
     "execution_count": 27,
     "metadata": {},
     "output_type": "execute_result"
    }
   ],
   "source": [
    "title_word_count = scipy.sparse.csr_matrix(pd.get_dummies(X['title_word_count'], sparse = True).values)\n",
    "title_word_count"
   ]
  },
  {
   "cell_type": "code",
   "execution_count": 28,
   "id": "a5d8cb9e",
   "metadata": {
    "execution": {
     "iopub.execute_input": "2021-08-19T01:43:13.787385Z",
     "iopub.status.busy": "2021-08-19T01:43:13.786380Z",
     "iopub.status.idle": "2021-08-19T01:43:16.405348Z",
     "shell.execute_reply": "2021-08-19T01:43:16.404730Z",
     "shell.execute_reply.started": "2021-08-19T01:16:25.261414Z"
    },
    "papermill": {
     "duration": 2.67613,
     "end_time": "2021-08-19T01:43:16.405491",
     "exception": false,
     "start_time": "2021-08-19T01:43:13.729361",
     "status": "completed"
    },
    "tags": []
   },
   "outputs": [
    {
     "data": {
      "text/plain": [
       "<67979x3509 sparse matrix of type '<class 'numpy.uint8'>'\n",
       "\twith 67979 stored elements in Compressed Sparse Row format>"
      ]
     },
     "execution_count": 28,
     "metadata": {},
     "output_type": "execute_result"
    }
   ],
   "source": [
    "abstract_len = scipy.sparse.csr_matrix(pd.get_dummies(X['abstract_len'], sparse = True).values)\n",
    "abstract_len"
   ]
  },
  {
   "cell_type": "code",
   "execution_count": 29,
   "id": "bae5af90",
   "metadata": {
    "execution": {
     "iopub.execute_input": "2021-08-19T01:43:16.518178Z",
     "iopub.status.busy": "2021-08-19T01:43:16.517535Z",
     "iopub.status.idle": "2021-08-19T01:43:17.047000Z",
     "shell.execute_reply": "2021-08-19T01:43:17.046489Z",
     "shell.execute_reply.started": "2021-08-19T01:16:27.945285Z"
    },
    "papermill": {
     "duration": 0.589299,
     "end_time": "2021-08-19T01:43:17.047142",
     "exception": false,
     "start_time": "2021-08-19T01:43:16.457843",
     "status": "completed"
    },
    "tags": []
   },
   "outputs": [
    {
     "data": {
      "text/plain": [
       "<67979x700 sparse matrix of type '<class 'numpy.uint8'>'\n",
       "\twith 67979 stored elements in Compressed Sparse Row format>"
      ]
     },
     "execution_count": 29,
     "metadata": {},
     "output_type": "execute_result"
    }
   ],
   "source": [
    "abstract_word_count = scipy.sparse.csr_matrix(pd.get_dummies(X['abstract_word_count'], sparse = True).values)\n",
    "abstract_word_count"
   ]
  },
  {
   "cell_type": "code",
   "execution_count": 30,
   "id": "ba03953e",
   "metadata": {
    "execution": {
     "iopub.execute_input": "2021-08-19T01:43:17.160566Z",
     "iopub.status.busy": "2021-08-19T01:43:17.158555Z",
     "iopub.status.idle": "2021-08-19T01:43:17.881797Z",
     "shell.execute_reply": "2021-08-19T01:43:17.881211Z",
     "shell.execute_reply.started": "2021-08-19T01:16:28.484967Z"
    },
    "papermill": {
     "duration": 0.78087,
     "end_time": "2021-08-19T01:43:17.881936",
     "exception": false,
     "start_time": "2021-08-19T01:43:17.101066",
     "status": "completed"
    },
    "tags": []
   },
   "outputs": [
    {
     "data": {
      "text/plain": [
       "<67979x144977 sparse matrix of type '<class 'numpy.float64'>'\n",
       "\twith 8287382 stored elements in Compressed Sparse Row format>"
      ]
     },
     "execution_count": 30,
     "metadata": {},
     "output_type": "execute_result"
    }
   ],
   "source": [
    "X_sparse = scipy.sparse.hstack((title, abstract, title_len, title_word_count, abstract_len, abstract_word_count)).tocsr()\n",
    "X_sparse"
   ]
  },
  {
   "cell_type": "code",
   "execution_count": 31,
   "id": "70f022db",
   "metadata": {
    "execution": {
     "iopub.execute_input": "2021-08-19T01:43:18.014981Z",
     "iopub.status.busy": "2021-08-19T01:43:18.013926Z",
     "iopub.status.idle": "2021-08-19T01:43:18.135422Z",
     "shell.execute_reply": "2021-08-19T01:43:18.134712Z",
     "shell.execute_reply.started": "2021-08-19T01:16:29.205788Z"
    },
    "papermill": {
     "duration": 0.199018,
     "end_time": "2021-08-19T01:43:18.135576",
     "exception": false,
     "start_time": "2021-08-19T01:43:17.936558",
     "status": "completed"
    },
    "tags": []
   },
   "outputs": [],
   "source": [
    "train = X_sparse[:train_row]\n",
    "test = X_sparse[train_row:]"
   ]
  },
  {
   "cell_type": "code",
   "execution_count": 32,
   "id": "17349358",
   "metadata": {
    "execution": {
     "iopub.execute_input": "2021-08-19T01:43:18.249161Z",
     "iopub.status.busy": "2021-08-19T01:43:18.248526Z",
     "iopub.status.idle": "2021-08-19T01:43:18.251700Z",
     "shell.execute_reply": "2021-08-19T01:43:18.251127Z"
    },
    "papermill": {
     "duration": 0.061457,
     "end_time": "2021-08-19T01:43:18.251918",
     "exception": false,
     "start_time": "2021-08-19T01:43:18.190461",
     "status": "completed"
    },
    "tags": []
   },
   "outputs": [],
   "source": [
    "del X, X_sparse, train_row, title, abstract, title_len, title_word_count, abstract_len, abstract_word_count"
   ]
  },
  {
   "cell_type": "code",
   "execution_count": 33,
   "id": "36602f5f",
   "metadata": {
    "execution": {
     "iopub.execute_input": "2021-08-19T01:43:18.366423Z",
     "iopub.status.busy": "2021-08-19T01:43:18.365740Z",
     "iopub.status.idle": "2021-08-19T01:43:18.369465Z",
     "shell.execute_reply": "2021-08-19T01:43:18.370581Z",
     "shell.execute_reply.started": "2021-08-19T01:16:29.329948Z"
    },
    "papermill": {
     "duration": 0.064363,
     "end_time": "2021-08-19T01:43:18.370894",
     "exception": false,
     "start_time": "2021-08-19T01:43:18.306531",
     "status": "completed"
    },
    "tags": []
   },
   "outputs": [
    {
     "name": "stdout",
     "output_type": "stream",
     "text": [
      "(27145,)\n",
      "(27145, 144977)\n",
      "(40834, 144977)\n"
     ]
    }
   ],
   "source": [
    "print(target.shape)\n",
    "print(train.shape)\n",
    "print(test.shape)"
   ]
  },
  {
   "cell_type": "markdown",
   "id": "2a93c9f1",
   "metadata": {
    "papermill": {
     "duration": 0.053688,
     "end_time": "2021-08-19T01:43:18.487449",
     "exception": false,
     "start_time": "2021-08-19T01:43:18.433761",
     "status": "completed"
    },
    "tags": []
   },
   "source": [
    "# Modeling"
   ]
  },
  {
   "cell_type": "code",
   "execution_count": 34,
   "id": "8c99dbae",
   "metadata": {
    "_kg_hide-output": true,
    "execution": {
     "iopub.execute_input": "2021-08-19T01:43:18.599784Z",
     "iopub.status.busy": "2021-08-19T01:43:18.599127Z",
     "iopub.status.idle": "2021-08-19T01:43:18.604966Z",
     "shell.execute_reply": "2021-08-19T01:43:18.605452Z",
     "shell.execute_reply.started": "2021-08-19T01:18:27.424944Z"
    },
    "papermill": {
     "duration": 0.062486,
     "end_time": "2021-08-19T01:43:18.605632",
     "exception": false,
     "start_time": "2021-08-19T01:43:18.543146",
     "status": "completed"
    },
    "tags": []
   },
   "outputs": [
    {
     "data": {
      "text/plain": [
       "\"\\nX_tr, X_val, y_tr, y_val = train_test_split(train, target, test_size=0.2, random_state=666)\\n\\ndef create_model(trial):\\n    num_leaves = trial.suggest_int('num_leaves', 2, 30)\\n    n_estimators = trial.suggest_int('n_estimators', 50, 300)\\n    learning_rate = trial.suggest_uniform('learning_rate', 0.0001, 0.99)\\n    max_depth = trial.suggest_int('max_depth', 2, 10)\\n    min_child_samples = trial.suggest_int('min_child_samples', 100, 1200)\\n    min_data_in_leaf = trial.suggest_int('min_data_in_leaf', 5, 90)\\n    bagging_freq = trial.suggest_int('bagging_freq', 1, 7)\\n    bagging_fraction = trial.suggest_uniform('bagging_fraction', 0.0001, 1.0)\\n    feature_fraction = trial.suggest_uniform('feature_fraction', 0.0001, 1.0)\\n    subsample = trial.suggest_uniform('subsample', 0.1, 1.0)\\n    colsample_bytree = trial.suggest_uniform('colsample_bytree', 0.1, 1.0)\\n      \\n    model = lgb.LGBMClassifier(\\n        num_leaves=num_leaves,\\n        n_estimators=n_estimators,\\n        learning_rate=learning_rate,\\n        max_depth=max_depth, \\n        min_child_samples=min_child_samples, \\n        min_data_in_leaf=min_data_in_leaf,\\n        bagging_freq=bagging_freq,\\n        bagging_fraction=bagging_fraction,\\n        feature_fraction=feature_fraction,\\n        subsample=subsample,\\n        colsample_bytree=colsample_bytree,\\n        random_state=666)\\n    return model\\n\\ndef objective(trial):\\n    model = create_model(trial)\\n    model.fit(X_tr, y_tr)\\n    y_pred = model.predict(X_val)\\n    logloss = log_loss(y_val, y_pred)\\n    return logloss\\n\\nstudy = optuna.create_study()\\nstudy.optimize(objective, n_trials=40)\\nparams = study.best_params\\nprint(params)\\n\""
      ]
     },
     "execution_count": 34,
     "metadata": {},
     "output_type": "execute_result"
    }
   ],
   "source": [
    "'''\n",
    "X_tr, X_val, y_tr, y_val = train_test_split(train, target, test_size=0.2, random_state=666)\n",
    "\n",
    "def create_model(trial):\n",
    "    num_leaves = trial.suggest_int('num_leaves', 2, 30)\n",
    "    n_estimators = trial.suggest_int('n_estimators', 50, 300)\n",
    "    learning_rate = trial.suggest_uniform('learning_rate', 0.0001, 0.99)\n",
    "    max_depth = trial.suggest_int('max_depth', 2, 10)\n",
    "    min_child_samples = trial.suggest_int('min_child_samples', 100, 1200)\n",
    "    min_data_in_leaf = trial.suggest_int('min_data_in_leaf', 5, 90)\n",
    "    bagging_freq = trial.suggest_int('bagging_freq', 1, 7)\n",
    "    bagging_fraction = trial.suggest_uniform('bagging_fraction', 0.0001, 1.0)\n",
    "    feature_fraction = trial.suggest_uniform('feature_fraction', 0.0001, 1.0)\n",
    "    subsample = trial.suggest_uniform('subsample', 0.1, 1.0)\n",
    "    colsample_bytree = trial.suggest_uniform('colsample_bytree', 0.1, 1.0)\n",
    "      \n",
    "    model = lgb.LGBMClassifier(\n",
    "        num_leaves=num_leaves,\n",
    "        n_estimators=n_estimators,\n",
    "        learning_rate=learning_rate,\n",
    "        max_depth=max_depth, \n",
    "        min_child_samples=min_child_samples, \n",
    "        min_data_in_leaf=min_data_in_leaf,\n",
    "        bagging_freq=bagging_freq,\n",
    "        bagging_fraction=bagging_fraction,\n",
    "        feature_fraction=feature_fraction,\n",
    "        subsample=subsample,\n",
    "        colsample_bytree=colsample_bytree,\n",
    "        random_state=666)\n",
    "    return model\n",
    "\n",
    "def objective(trial):\n",
    "    model = create_model(trial)\n",
    "    model.fit(X_tr, y_tr)\n",
    "    y_pred = model.predict(X_val)\n",
    "    logloss = log_loss(y_val, y_pred)\n",
    "    return logloss\n",
    "\n",
    "study = optuna.create_study()\n",
    "study.optimize(objective, n_trials=40)\n",
    "params = study.best_params\n",
    "print(params)\n",
    "'''"
   ]
  },
  {
   "cell_type": "code",
   "execution_count": 35,
   "id": "106d501b",
   "metadata": {
    "execution": {
     "iopub.execute_input": "2021-08-19T01:43:18.716001Z",
     "iopub.status.busy": "2021-08-19T01:43:18.715268Z",
     "iopub.status.idle": "2021-08-19T01:43:18.719993Z",
     "shell.execute_reply": "2021-08-19T01:43:18.720548Z",
     "shell.execute_reply.started": "2021-08-19T01:41:22.787808Z"
    },
    "papermill": {
     "duration": 0.061568,
     "end_time": "2021-08-19T01:43:18.720734",
     "exception": false,
     "start_time": "2021-08-19T01:43:18.659166",
     "status": "completed"
    },
    "tags": []
   },
   "outputs": [],
   "source": [
    "params = {'num_leaves': 6,\n",
    "          'n_estimators': 257,\n",
    "          'learning_rate': 0.13941596320263555,\n",
    "          'max_depth': 4,\n",
    "          'min_child_samples': 458,\n",
    "          'min_data_in_leaf': 43,\n",
    "          'bagging_freq': 5,\n",
    "          'bagging_fraction': 0.7835441569077518,\n",
    "          'feature_fraction': 0.7376741168970312,\n",
    "          'subsample': 0.26126173246283657,\n",
    "          'colsample_bytree': 0.2318814498619885,\n",
    "          'random_state': 666}"
   ]
  },
  {
   "cell_type": "code",
   "execution_count": 36,
   "id": "dd95cfea",
   "metadata": {
    "_kg_hide-output": true,
    "execution": {
     "iopub.execute_input": "2021-08-19T01:43:18.831996Z",
     "iopub.status.busy": "2021-08-19T01:43:18.831376Z",
     "iopub.status.idle": "2021-08-19T01:43:37.536277Z",
     "shell.execute_reply": "2021-08-19T01:43:37.535296Z",
     "shell.execute_reply.started": "2021-08-19T01:41:26.121348Z"
    },
    "papermill": {
     "duration": 18.761858,
     "end_time": "2021-08-19T01:43:37.536457",
     "exception": false,
     "start_time": "2021-08-19T01:43:18.774599",
     "status": "completed"
    },
    "tags": []
   },
   "outputs": [
    {
     "name": "stdout",
     "output_type": "stream",
     "text": [
      "[LightGBM] [Warning] bagging_fraction is set=0.7835441569077518, subsample=0.26126173246283657 will be ignored. Current value: bagging_fraction=0.7835441569077518\n",
      "[LightGBM] [Warning] feature_fraction is set=0.7376741168970312, colsample_bytree=0.2318814498619885 will be ignored. Current value: feature_fraction=0.7376741168970312\n",
      "[LightGBM] [Warning] bagging_freq is set=5, subsample_freq=0 will be ignored. Current value: bagging_freq=5\n",
      "[LightGBM] [Warning] min_data_in_leaf is set=43, min_child_samples=458 will be ignored. Current value: min_data_in_leaf=43\n"
     ]
    },
    {
     "data": {
      "text/plain": [
       "LGBMClassifier(bagging_fraction=0.7835441569077518, bagging_freq=5,\n",
       "               colsample_bytree=0.2318814498619885,\n",
       "               feature_fraction=0.7376741168970312,\n",
       "               learning_rate=0.13941596320263555, max_depth=4,\n",
       "               min_child_samples=458, min_data_in_leaf=43, n_estimators=257,\n",
       "               num_leaves=6, random_state=666, subsample=0.26126173246283657)"
      ]
     },
     "execution_count": 36,
     "metadata": {},
     "output_type": "execute_result"
    }
   ],
   "source": [
    "cls = lgb.LGBMClassifier(**params)\n",
    "cls.fit(train, target)"
   ]
  },
  {
   "cell_type": "code",
   "execution_count": 37,
   "id": "9f83211e",
   "metadata": {
    "execution": {
     "iopub.execute_input": "2021-08-19T01:43:37.797930Z",
     "iopub.status.busy": "2021-08-19T01:43:37.797265Z",
     "iopub.status.idle": "2021-08-19T01:43:37.802209Z",
     "shell.execute_reply": "2021-08-19T01:43:37.802678Z",
     "shell.execute_reply.started": "2021-08-19T01:41:46.505536Z"
    },
    "papermill": {
     "duration": 0.211546,
     "end_time": "2021-08-19T01:43:37.802863",
     "exception": false,
     "start_time": "2021-08-19T01:43:37.591317",
     "status": "completed"
    },
    "tags": []
   },
   "outputs": [
    {
     "data": {
      "text/plain": [
       "205"
      ]
     },
     "execution_count": 37,
     "metadata": {},
     "output_type": "execute_result"
    }
   ],
   "source": [
    "del train, target, params\n",
    "gc.collect()"
   ]
  },
  {
   "cell_type": "markdown",
   "id": "303e4465",
   "metadata": {
    "papermill": {
     "duration": 0.054471,
     "end_time": "2021-08-19T01:43:37.911900",
     "exception": false,
     "start_time": "2021-08-19T01:43:37.857429",
     "status": "completed"
    },
    "tags": []
   },
   "source": [
    "# Submit"
   ]
  },
  {
   "cell_type": "code",
   "execution_count": 38,
   "id": "44d1edd3",
   "metadata": {
    "execution": {
     "iopub.execute_input": "2021-08-19T01:43:38.028072Z",
     "iopub.status.busy": "2021-08-19T01:43:38.027368Z",
     "iopub.status.idle": "2021-08-19T01:43:39.028889Z",
     "shell.execute_reply": "2021-08-19T01:43:39.028224Z",
     "shell.execute_reply.started": "2021-08-19T01:41:56.808494Z"
    },
    "papermill": {
     "duration": 1.062629,
     "end_time": "2021-08-19T01:43:39.029047",
     "exception": false,
     "start_time": "2021-08-19T01:43:37.966418",
     "status": "completed"
    },
    "tags": []
   },
   "outputs": [],
   "source": [
    "prediction = cls.predict(test)"
   ]
  },
  {
   "cell_type": "code",
   "execution_count": 39,
   "id": "17072145",
   "metadata": {
    "execution": {
     "iopub.execute_input": "2021-08-19T01:43:39.294601Z",
     "iopub.status.busy": "2021-08-19T01:43:39.293349Z",
     "iopub.status.idle": "2021-08-19T01:43:39.297258Z",
     "shell.execute_reply": "2021-08-19T01:43:39.297745Z",
     "shell.execute_reply.started": "2021-08-19T01:41:57.862392Z"
    },
    "papermill": {
     "duration": 0.210507,
     "end_time": "2021-08-19T01:43:39.297909",
     "exception": false,
     "start_time": "2021-08-19T01:43:39.087402",
     "status": "completed"
    },
    "tags": []
   },
   "outputs": [
    {
     "data": {
      "text/plain": [
       "48"
      ]
     },
     "execution_count": 39,
     "metadata": {},
     "output_type": "execute_result"
    }
   ],
   "source": [
    "del test\n",
    "gc.collect()"
   ]
  },
  {
   "cell_type": "code",
   "execution_count": 40,
   "id": "1ea18eb4",
   "metadata": {
    "execution": {
     "iopub.execute_input": "2021-08-19T01:43:39.415688Z",
     "iopub.status.busy": "2021-08-19T01:43:39.414727Z",
     "iopub.status.idle": "2021-08-19T01:43:39.423539Z",
     "shell.execute_reply": "2021-08-19T01:43:39.424007Z",
     "shell.execute_reply.started": "2021-08-19T01:41:58.015944Z"
    },
    "papermill": {
     "duration": 0.071187,
     "end_time": "2021-08-19T01:43:39.424179",
     "exception": false,
     "start_time": "2021-08-19T01:43:39.352992",
     "status": "completed"
    },
    "tags": []
   },
   "outputs": [
    {
     "data": {
      "text/html": [
       "<div>\n",
       "<style scoped>\n",
       "    .dataframe tbody tr th:only-of-type {\n",
       "        vertical-align: middle;\n",
       "    }\n",
       "\n",
       "    .dataframe tbody tr th {\n",
       "        vertical-align: top;\n",
       "    }\n",
       "\n",
       "    .dataframe thead th {\n",
       "        text-align: right;\n",
       "    }\n",
       "</style>\n",
       "<table border=\"1\" class=\"dataframe\">\n",
       "  <thead>\n",
       "    <tr style=\"text-align: right;\">\n",
       "      <th></th>\n",
       "      <th>id</th>\n",
       "      <th>judgement</th>\n",
       "    </tr>\n",
       "  </thead>\n",
       "  <tbody>\n",
       "    <tr>\n",
       "      <th>0</th>\n",
       "      <td>27145</td>\n",
       "      <td>0</td>\n",
       "    </tr>\n",
       "    <tr>\n",
       "      <th>1</th>\n",
       "      <td>27146</td>\n",
       "      <td>0</td>\n",
       "    </tr>\n",
       "    <tr>\n",
       "      <th>2</th>\n",
       "      <td>27147</td>\n",
       "      <td>0</td>\n",
       "    </tr>\n",
       "    <tr>\n",
       "      <th>3</th>\n",
       "      <td>27148</td>\n",
       "      <td>0</td>\n",
       "    </tr>\n",
       "    <tr>\n",
       "      <th>4</th>\n",
       "      <td>27149</td>\n",
       "      <td>0</td>\n",
       "    </tr>\n",
       "    <tr>\n",
       "      <th>5</th>\n",
       "      <td>27150</td>\n",
       "      <td>0</td>\n",
       "    </tr>\n",
       "    <tr>\n",
       "      <th>6</th>\n",
       "      <td>27151</td>\n",
       "      <td>0</td>\n",
       "    </tr>\n",
       "    <tr>\n",
       "      <th>7</th>\n",
       "      <td>27152</td>\n",
       "      <td>0</td>\n",
       "    </tr>\n",
       "    <tr>\n",
       "      <th>8</th>\n",
       "      <td>27153</td>\n",
       "      <td>0</td>\n",
       "    </tr>\n",
       "    <tr>\n",
       "      <th>9</th>\n",
       "      <td>27154</td>\n",
       "      <td>0</td>\n",
       "    </tr>\n",
       "  </tbody>\n",
       "</table>\n",
       "</div>"
      ],
      "text/plain": [
       "      id  judgement\n",
       "0  27145          0\n",
       "1  27146          0\n",
       "2  27147          0\n",
       "3  27148          0\n",
       "4  27149          0\n",
       "5  27150          0\n",
       "6  27151          0\n",
       "7  27152          0\n",
       "8  27153          0\n",
       "9  27154          0"
      ]
     },
     "execution_count": 40,
     "metadata": {},
     "output_type": "execute_result"
    }
   ],
   "source": [
    "submit = pd.DataFrame(test_id, columns=['id'])\n",
    "submit['judgement'] = prediction\n",
    "\n",
    "submit.head(10)"
   ]
  },
  {
   "cell_type": "code",
   "execution_count": 41,
   "id": "b7d67be4",
   "metadata": {
    "execution": {
     "iopub.execute_input": "2021-08-19T01:43:39.540429Z",
     "iopub.status.busy": "2021-08-19T01:43:39.539493Z",
     "iopub.status.idle": "2021-08-19T01:43:39.622511Z",
     "shell.execute_reply": "2021-08-19T01:43:39.621945Z",
     "shell.execute_reply.started": "2021-08-19T01:42:01.997166Z"
    },
    "papermill": {
     "duration": 0.142475,
     "end_time": "2021-08-19T01:43:39.622670",
     "exception": false,
     "start_time": "2021-08-19T01:43:39.480195",
     "status": "completed"
    },
    "tags": []
   },
   "outputs": [],
   "source": [
    "submit.to_csv('./submission.csv', index=False, header=None)"
   ]
  }
 ],
 "metadata": {
  "kernelspec": {
   "display_name": "Python 3",
   "language": "python",
   "name": "python3"
  },
  "language_info": {
   "codemirror_mode": {
    "name": "ipython",
    "version": 3
   },
   "file_extension": ".py",
   "mimetype": "text/x-python",
   "name": "python",
   "nbconvert_exporter": "python",
   "pygments_lexer": "ipython3",
   "version": "3.7.10"
  },
  "papermill": {
   "default_parameters": {},
   "duration": 68.918409,
   "end_time": "2021-08-19T01:43:41.264319",
   "environment_variables": {},
   "exception": null,
   "input_path": "__notebook__.ipynb",
   "output_path": "__notebook__.ipynb",
   "parameters": {},
   "start_time": "2021-08-19T01:42:32.345910",
   "version": "2.3.3"
  }
 },
 "nbformat": 4,
 "nbformat_minor": 5
}
