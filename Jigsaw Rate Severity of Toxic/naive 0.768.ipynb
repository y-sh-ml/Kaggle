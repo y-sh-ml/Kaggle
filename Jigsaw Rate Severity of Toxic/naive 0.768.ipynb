{
 "cells": [
  {
   "cell_type": "markdown",
   "id": "8313d4cd",
   "metadata": {
    "_cell_guid": "b1076dfc-b9ad-4769-8c92-a6c4dae69d19",
    "_uuid": "8f2839f25d086af736a60e9eeb907d3b93b6e0e5",
    "papermill": {
     "duration": 0.030308,
     "end_time": "2022-01-05T06:13:53.711545",
     "exception": false,
     "start_time": "2022-01-05T06:13:53.681237",
     "status": "completed"
    },
    "tags": []
   },
   "source": [
    "# Competition"
   ]
  },
  {
   "cell_type": "markdown",
   "id": "98f43c94",
   "metadata": {
    "papermill": {
     "duration": 0.029024,
     "end_time": "2022-01-05T06:13:53.769884",
     "exception": false,
     "start_time": "2022-01-05T06:13:53.740860",
     "status": "completed"
    },
    "tags": []
   },
   "source": [
    "[Jigsaw Rate Severity of Toxic Comments](https://www.kaggle.com/c/jigsaw-toxic-severity-rating)"
   ]
  },
  {
   "cell_type": "markdown",
   "id": "84613bb5",
   "metadata": {
    "papermill": {
     "duration": 0.030505,
     "end_time": "2022-01-05T06:13:53.829292",
     "exception": false,
     "start_time": "2022-01-05T06:13:53.798787",
     "status": "completed"
    },
    "tags": []
   },
   "source": [
    "# Overview"
   ]
  },
  {
   "cell_type": "markdown",
   "id": "51f14519",
   "metadata": {
    "execution": {
     "iopub.execute_input": "2022-01-05T00:51:16.487123Z",
     "iopub.status.busy": "2022-01-05T00:51:16.486311Z",
     "iopub.status.idle": "2022-01-05T00:51:16.517284Z",
     "shell.execute_reply": "2022-01-05T00:51:16.516554Z",
     "shell.execute_reply.started": "2022-01-05T00:51:16.486972Z"
    },
    "papermill": {
     "duration": 0.030507,
     "end_time": "2022-01-05T06:13:53.889846",
     "exception": false,
     "start_time": "2022-01-05T06:13:53.859339",
     "status": "completed"
    },
    "tags": []
   },
   "source": [
    "各コメントに対して、相対的な毒性の強さを表すスコア（有害度）を予測する。"
   ]
  },
  {
   "cell_type": "markdown",
   "id": "258bc3ce",
   "metadata": {
    "papermill": {
     "duration": 0.032553,
     "end_time": "2022-01-05T06:13:53.954840",
     "exception": false,
     "start_time": "2022-01-05T06:13:53.922287",
     "status": "completed"
    },
    "tags": []
   },
   "source": [
    "# Description"
   ]
  },
  {
   "cell_type": "markdown",
   "id": "fb89ded0",
   "metadata": {
    "papermill": {
     "duration": 0.031585,
     "end_time": "2022-01-05T06:13:54.018136",
     "exception": false,
     "start_time": "2022-01-05T06:13:53.986551",
     "status": "completed"
    },
    "tags": []
   },
   "source": [
    "Jigsawの第4回Kaggleコンペティションでは、第1回Kaggleコンペティションで取り上げたWikipediaのトークページのコメントに再び戻ります。<br>\n",
    "人間の審査員に、文脈を無視して個々のコメントを見て、どれが有害でどれが無害かを判断するよう依頼する場合、それは簡単な作業ではありません。<br>\n",
    "さらに、各個人が独自の毒性基準を持っている可能性もあります。私たちは、多数決で判定を集計することで、この問題を回避しようとしてきました。<br>\n",
    "しかし、多くの研究者から、これでは意味のある情報を捨ててしまうという指摘が当然ありました。\n",
    "\n",
    "😄 🙂 😐 😕 😞<br>\n",
    "もっと簡単なのは、2つのコメントのうち、どちらがより有毒だと思うかを尋ねることである。<br>\n",
    "しかし、もし両方のコメントが無毒であれば、人々はしばしばランダムに選択するでしょう。<br>\n",
    "一方のコメントが明らかに正しい選択である場合、アノテーター間の合意結果はより高くなります。\n",
    "\n",
    "**今回のコンペでは、約1万4千件のコメントセットを採点してもらいます。**2つのコメントのペアが専門家の評価者に提示され、<br>\n",
    "評価者はそれぞれの毒性概念に従って、2つのコメントのうちどちらがより有害かを評価しました。<br>\n",
    "今回のコンテストでは、コメントに点数をつけていただくと、数十万件のランキングと比較されます。<br>\n",
    "評価者との平均的な一致度合いによって、個人のスコアが決定されます。<br>\n",
    "このようにして、私たちは、無害なものからとんでもないものまで、コメントの有害性の深刻さをランキングすることに焦点を当てたいと考えています。\n",
    "\n",
    "あなたは、プロの評価者と同じように、コメントの各ペアをランク付けするスコアを生成するモデルを構築することができますか？\n",
    "\n",
    "免責事項：このコンペティションのデータセットには、不敬、下品、または不快とみなされる可能性のあるテキストが含まれています。\n",
    "\n",
    "**関連作品**<br>\n",
    "論文「Ruddit: Hadaらの論文 \"Norms of Offensiveness for English Reddit Comments \"では、<br>\n",
    "4文のタプルにベスト・ワーストのスコアリングを行った同様のデータセットを紹介しており、このデータはモデル構築に直接役立つと思われます。\n",
    "\n",
    "また、Kennedyらの「Constructing Interval Variables via Faceted Rasch Measurement and Multitask Deep Learning: a Hate Speech Application」は、<br>\n",
    "様々な異なる評価スキームを比較し、NLPタスクで通常行われる二値分類は貴重な情報を捨てていると論じていることに注目します。<br>\n",
    "複数のソースからのデータを組み合わせることは、たとえ異なるアノテーションガイドラインであっても、このコンペティションで成功するために不可欠なことかもしれません。\n",
    "\n",
    "**リソース**<br>\n",
    "第1回Kaggleコンペティション、第2回Kaggleコンペティションの英語リソースで、<br>\n",
    "TensorFlowデータセットWikipedia Toxicity SubtypesとCivil Commentsは、モデル構築に利用できます。\n",
    "\n",
    "出発点の一例として、オープンソースの UnitaryAI モデルがあります。\n",
    "\n",
    "**Google Jigsaw**<br>\n",
    "GoogleのJigsawチームは、開かれた社会に対する脅威を調査し、スケーラブルな解決策を鼓舞する技術を構築しています。<br>\n",
    "Jigsawの製品のひとつであるPerspectiveAPIは、世界中の出版社やプラットフォームで、全体的なモデレーション戦略の一部として使用されています。\n",
    "\n",
    "本コンテストは、コードコンペティションです。詳細は「コード要件」をご覧ください。"
   ]
  },
  {
   "cell_type": "markdown",
   "id": "89af8b9a",
   "metadata": {
    "papermill": {
     "duration": 0.030645,
     "end_time": "2022-01-05T06:13:54.080056",
     "exception": false,
     "start_time": "2022-01-05T06:13:54.049411",
     "status": "completed"
    },
    "tags": []
   },
   "source": [
    "# Data"
   ]
  },
  {
   "cell_type": "markdown",
   "id": "44613c0a",
   "metadata": {
    "papermill": {
     "duration": 0.029177,
     "end_time": "2022-01-05T06:13:54.140971",
     "exception": false,
     "start_time": "2022-01-05T06:13:54.111794",
     "status": "completed"
    },
    "tags": []
   },
   "source": [
    "このコンペティションでは、コメントの毒性が強い順にランキングをつけることになります。<br>\n",
    "あなたにはコメントのリストが与えられ、各コメントはその相対的な毒性に従って得点化されるべきです。<br>\n",
    "毒性の程度が高いコメントは、毒性の程度が低いコメントと比較して、より高い数値を受け取る必要があります。\n",
    "\n",
    "免責事項: このコンペティションのデータセットには、不敬、下品、または不快とみなされる可能性のあるテキストが含まれています。\n",
    "\n",
    "また、**このコンペティションにはトレーニングデータはありません。**モデルの学習に役立つデータについては、過去のジグソー・コンペティションを参照してください。<br>\n",
    "ただし、これまでのコンペティションの課題は、コメントの毒性の度合いや深刻さではなく、コメントが有毒である確率を予測することであったことに注意してください。\n",
    "\n",
    "・[Toxic Comment Classification Challenge](https://www.kaggle.com/c/jigsaw-toxic-comment-classification-challenge)<br>\n",
    "・[Jigsaw Unintended Bias in Toxicity Classification](https://www.kaggle.com/c/jigsaw-unintended-bias-in-toxicity-classification)<br>\n",
    "・[Jigsaw Multilingual Toxic Comment Classification](https://www.kaggle.com/c/jigsaw-multilingual-toxic-comment-classification)<br>\n",
    "\n",
    "学習データは含まれていませんが、モデルの検証に使用できるペアの毒性ランキングのセットを提供しています。\n",
    "\n",
    "**Files**\n",
    "\n",
    "comments_to_score.csv<br>\n",
    "・**このファイル内の各コメントテキストについて、そのコメントの相対的な毒性の強さを表すスコアを予測することがタスクとなります。**<br>\n",
    "　毒性が高いコメントは、毒性が低いコメントと比較して、より高い数値を受け取る必要があります。<br>\n",
    " 　注：このファイルの再実行版には、提出されたモデルによってスコアリングされる約14kのコメントがあります。<br>\n",
    " \n",
    "sample_submission.csv<br>\n",
    "・正しいフォーマットのサンプル提出ファイルです。\n",
    "\n",
    "validation_data.csv<br>\n",
    "・**モデルの検証に使用できるペアのランキング。**このデータには、アノテーターのワーカーID、<br>\n",
    "　およびそのアノテーターが与えられたコメントのペアをどのようにランク付けしたかが含まれています。"
   ]
  },
  {
   "cell_type": "markdown",
   "id": "a7e388de",
   "metadata": {
    "papermill": {
     "duration": 0.029254,
     "end_time": "2022-01-05T06:13:54.200394",
     "exception": false,
     "start_time": "2022-01-05T06:13:54.171140",
     "status": "completed"
    },
    "tags": []
   },
   "source": [
    "# Flow"
   ]
  },
  {
   "cell_type": "markdown",
   "id": "9aff4186",
   "metadata": {
    "execution": {
     "iopub.execute_input": "2022-01-05T01:30:17.189919Z",
     "iopub.status.busy": "2022-01-05T01:30:17.188873Z",
     "iopub.status.idle": "2022-01-05T01:30:17.195514Z",
     "shell.execute_reply": "2022-01-05T01:30:17.194516Z",
     "shell.execute_reply.started": "2022-01-05T01:30:17.189875Z"
    },
    "papermill": {
     "duration": 0.030122,
     "end_time": "2022-01-05T06:13:54.262089",
     "exception": false,
     "start_time": "2022-01-05T06:13:54.231967",
     "status": "completed"
    },
    "tags": []
   },
   "source": [
    "comments_to_score.csv に有害スコアを付与するモデルを作成した後に<br>\n",
    "validation_data.csv を用いてモデルの精度を確認する。"
   ]
  },
  {
   "cell_type": "markdown",
   "id": "74e0e3a2",
   "metadata": {
    "papermill": {
     "duration": 0.032028,
     "end_time": "2022-01-05T06:13:54.326846",
     "exception": false,
     "start_time": "2022-01-05T06:13:54.294818",
     "status": "completed"
    },
    "tags": []
   },
   "source": [
    "# Evaluation"
   ]
  },
  {
   "cell_type": "markdown",
   "id": "3ef8ca3f",
   "metadata": {
    "papermill": {
     "duration": 0.032246,
     "end_time": "2022-01-05T06:13:54.391241",
     "exception": false,
     "start_time": "2022-01-05T06:13:54.358995",
     "status": "completed"
    },
    "tags": []
   },
   "source": [
    "投稿は、アノテーターとの平均的な一致度で評価されています。<br>\n",
    "グランドトゥルースでは、注釈者は2つのコメントを見せられ、どちらがより有毒であるか特定するよう求められました。<br>\n",
    "コメントのペアは、複数の注釈者によって評価されることがあり、また多くの場合、異なる注釈者によって異なる順序で評価されている可能性があります。\n",
    "\n",
    "グランド・トゥルース・テスト・データに含まれる約20万件のペア評価それぞれについて、予測される毒性スコアを使用してコメントのペアをランク付けしています。<br>\n",
    "この順位が注釈者の順位と一致する場合はペアに1が与えられ、一致しない場合は0が与えられます。\n",
    "\n",
    "最終的なスコアは、すべてのペア評価の平均値です。\n",
    "\n",
    "以下の点に注意してください。\n",
    "\n",
    "スコアは数値の範囲に拘束されません (たとえば、[0, 1] や [-999, 999] を予測することができます)。<br>\n",
    "同点のコメントは常に0として評価されます。 scipy.stats.rankdata のようなものを使って、強制的に一意な値にすることもできます。\n",
    "\n",
    "**Submissionファイル**<br>\n",
    "comments_to_score.csv ファイルで見つかった各 comment_id について、コメントテキストに関連する毒性のある重大度スコアを予測する必要があります。<br>\n",
    "提出ファイルはヘッダを含み、以下の形式である必要があります。"
   ]
  },
  {
   "cell_type": "code",
   "execution_count": 1,
   "id": "9320c4ff",
   "metadata": {
    "execution": {
     "iopub.execute_input": "2022-01-05T06:13:54.460348Z",
     "iopub.status.busy": "2022-01-05T06:13:54.459237Z",
     "iopub.status.idle": "2022-01-05T06:13:54.461932Z",
     "shell.execute_reply": "2022-01-05T06:13:54.462391Z",
     "shell.execute_reply.started": "2022-01-05T05:00:38.317965Z"
    },
    "papermill": {
     "duration": 0.039382,
     "end_time": "2022-01-05T06:13:54.462694",
     "exception": false,
     "start_time": "2022-01-05T06:13:54.423312",
     "status": "completed"
    },
    "tags": []
   },
   "outputs": [],
   "source": [
    "# comment_id,score\n",
    "# 114890,0.43\n",
    "# 732895,0.98\n",
    "# 1139051,0.27\n",
    "# etc."
   ]
  },
  {
   "cell_type": "markdown",
   "id": "49552878",
   "metadata": {
    "papermill": {
     "duration": 0.032036,
     "end_time": "2022-01-05T06:13:54.525897",
     "exception": false,
     "start_time": "2022-01-05T06:13:54.493861",
     "status": "completed"
    },
    "tags": []
   },
   "source": [
    "# Idea"
   ]
  },
  {
   "cell_type": "code",
   "execution_count": 2,
   "id": "088c336e",
   "metadata": {
    "execution": {
     "iopub.execute_input": "2022-01-05T06:13:54.593586Z",
     "iopub.status.busy": "2022-01-05T06:13:54.592991Z",
     "iopub.status.idle": "2022-01-05T06:13:54.595572Z",
     "shell.execute_reply": "2022-01-05T06:13:54.594947Z",
     "shell.execute_reply.started": "2022-01-05T05:00:38.339514Z"
    },
    "papermill": {
     "duration": 0.037361,
     "end_time": "2022-01-05T06:13:54.595703",
     "exception": false,
     "start_time": "2022-01-05T06:13:54.558342",
     "status": "completed"
    },
    "tags": []
   },
   "outputs": [],
   "source": [
    "# Discussion"
   ]
  },
  {
   "cell_type": "markdown",
   "id": "8379816d",
   "metadata": {
    "papermill": {
     "duration": 0.028823,
     "end_time": "2022-01-05T06:13:54.653735",
     "exception": false,
     "start_time": "2022-01-05T06:13:54.624912",
     "status": "completed"
    },
    "tags": []
   },
   "source": [
    "# Timeline"
   ]
  },
  {
   "cell_type": "markdown",
   "id": "4a2b8498",
   "metadata": {
    "papermill": {
     "duration": 0.028618,
     "end_time": "2022-01-05T06:13:54.711024",
     "exception": false,
     "start_time": "2022-01-05T06:13:54.682406",
     "status": "completed"
    },
    "tags": []
   },
   "source": [
    "・2021年11月8日 - 開始日。<br>\n",
    "・2022年01月31日 - エントリー締切。出場するには、この日までに競技規則に同意する必要があります。<br>\n",
    "・2022年01月31日 - チーム合併の締切日。この日が、参加者がチームに参加したり合併したりできる最終日です。<br>\n",
    "・2022年02月07日 - 最終提出期限。\n",
    "\n",
    "すべての締め切りは、特に断りのない限り、該当する日の午後11時59分（UTC）です。<br>\n",
    "**日本時間では、2022年02月08日(火) 08:59（JTC）となります。**<br>\n",
    "大会主催者は、必要と判断した場合、コンテストのスケジュールを更新する権利を有します。"
   ]
  },
  {
   "cell_type": "markdown",
   "id": "93f1f4b2",
   "metadata": {
    "papermill": {
     "duration": 0.028644,
     "end_time": "2022-01-05T06:13:54.770677",
     "exception": false,
     "start_time": "2022-01-05T06:13:54.742033",
     "status": "completed"
    },
    "tags": []
   },
   "source": [
    "# Module"
   ]
  },
  {
   "cell_type": "code",
   "execution_count": 3,
   "id": "90caf249",
   "metadata": {
    "execution": {
     "iopub.execute_input": "2022-01-05T06:13:54.832019Z",
     "iopub.status.busy": "2022-01-05T06:13:54.831286Z",
     "iopub.status.idle": "2022-01-05T06:13:56.028848Z",
     "shell.execute_reply": "2022-01-05T06:13:56.027658Z",
     "shell.execute_reply.started": "2022-01-05T05:00:38.34884Z"
    },
    "papermill": {
     "duration": 1.229354,
     "end_time": "2022-01-05T06:13:56.029012",
     "exception": false,
     "start_time": "2022-01-05T06:13:54.799658",
     "status": "completed"
    },
    "tags": []
   },
   "outputs": [],
   "source": [
    "import gc \n",
    "import re \n",
    "import time\n",
    "import scipy\n",
    "import warnings\n",
    "import numpy as np\n",
    "import pandas as pd\n",
    "import scipy.optimize as optimize\n",
    "\n",
    "from scipy import sparse\n",
    "from pprint import pprint\n",
    "from IPython.display import display\n",
    "from matplotlib import pyplot as plt \n",
    "from sklearn.naive_bayes import MultinomialNB\n",
    "from sklearn.ensemble import RandomForestRegressor\n",
    "from sklearn.pipeline import Pipeline, FeatureUnion\n",
    "from sklearn.linear_model import Ridge, LinearRegression\n",
    "from sklearn.base import TransformerMixin, BaseEstimator\n",
    "from sklearn.feature_extraction.text import TfidfVectorizer, CountVectorizer"
   ]
  },
  {
   "cell_type": "code",
   "execution_count": 4,
   "id": "9a2644c5",
   "metadata": {
    "execution": {
     "iopub.execute_input": "2022-01-05T06:13:56.091151Z",
     "iopub.status.busy": "2022-01-05T06:13:56.090562Z",
     "iopub.status.idle": "2022-01-05T06:13:56.094141Z",
     "shell.execute_reply": "2022-01-05T06:13:56.094617Z",
     "shell.execute_reply.started": "2022-01-05T05:00:39.692157Z"
    },
    "papermill": {
     "duration": 0.036014,
     "end_time": "2022-01-05T06:13:56.094786",
     "exception": false,
     "start_time": "2022-01-05T06:13:56.058772",
     "status": "completed"
    },
    "tags": []
   },
   "outputs": [],
   "source": [
    "warnings.filterwarnings('ignore')\n",
    "pd.options.display.max_colwidth = 300\n",
    "pd.options.display.max_columns = 100"
   ]
  },
  {
   "cell_type": "markdown",
   "id": "4908e28a",
   "metadata": {
    "papermill": {
     "duration": 0.029922,
     "end_time": "2022-01-05T06:13:56.154831",
     "exception": false,
     "start_time": "2022-01-05T06:13:56.124909",
     "status": "completed"
    },
    "tags": []
   },
   "source": [
    "# Datasets"
   ]
  },
  {
   "cell_type": "markdown",
   "id": "31ff7b9f",
   "metadata": {
    "papermill": {
     "duration": 0.029375,
     "end_time": "2022-01-05T06:13:56.213956",
     "exception": false,
     "start_time": "2022-01-05T06:13:56.184581",
     "status": "completed"
    },
    "tags": []
   },
   "source": [
    "### comments_to_score"
   ]
  },
  {
   "cell_type": "code",
   "execution_count": 5,
   "id": "0c5d5a5b",
   "metadata": {
    "execution": {
     "iopub.execute_input": "2022-01-05T06:13:56.276771Z",
     "iopub.status.busy": "2022-01-05T06:13:56.276079Z",
     "iopub.status.idle": "2022-01-05T06:13:56.408203Z",
     "shell.execute_reply": "2022-01-05T06:13:56.408673Z",
     "shell.execute_reply.started": "2022-01-05T05:00:39.699733Z"
    },
    "papermill": {
     "duration": 0.165494,
     "end_time": "2022-01-05T06:13:56.408837",
     "exception": false,
     "start_time": "2022-01-05T06:13:56.243343",
     "status": "completed"
    },
    "tags": []
   },
   "outputs": [
    {
     "name": "stdout",
     "output_type": "stream",
     "text": [
      "(7537, 2)\n"
     ]
    },
    {
     "data": {
      "text/html": [
       "<div>\n",
       "<style scoped>\n",
       "    .dataframe tbody tr th:only-of-type {\n",
       "        vertical-align: middle;\n",
       "    }\n",
       "\n",
       "    .dataframe tbody tr th {\n",
       "        vertical-align: top;\n",
       "    }\n",
       "\n",
       "    .dataframe thead th {\n",
       "        text-align: right;\n",
       "    }\n",
       "</style>\n",
       "<table border=\"1\" class=\"dataframe\">\n",
       "  <thead>\n",
       "    <tr style=\"text-align: right;\">\n",
       "      <th></th>\n",
       "      <th>comment_id</th>\n",
       "      <th>text</th>\n",
       "    </tr>\n",
       "  </thead>\n",
       "  <tbody>\n",
       "    <tr>\n",
       "      <th>0</th>\n",
       "      <td>114890</td>\n",
       "      <td>\"\\n \\n\\nGjalexei, you asked about whether there is an \"\"anti-editorializing\"\" policy here.  There is, and it's called wikipedia:neutral point of view.  It discusses at some length  the case of what we should do when writing about a subject which most of us find repugnant.  Whilst you're not like...</td>\n",
       "    </tr>\n",
       "    <tr>\n",
       "      <th>1</th>\n",
       "      <td>732895</td>\n",
       "      <td>Looks like be have an abuser , can you please look into this?  thanks.</td>\n",
       "    </tr>\n",
       "    <tr>\n",
       "      <th>2</th>\n",
       "      <td>1139051</td>\n",
       "      <td>I confess to having complete (and apparently blissful) ignorance of Jordan, but I've glanced at the article. Is this a woman or a soap opera!?.  I don't think there was much to change in terms of the description of the various diseases.  It is mentioned that she is famous for the size of her bre...</td>\n",
       "    </tr>\n",
       "    <tr>\n",
       "      <th>3</th>\n",
       "      <td>1434512</td>\n",
       "      <td>\"\\n\\nFreud's ideas are certainly much discussed today, and I would be the first to agree that they must be grappled with and dealt with seriously, if only because of their currency.  So Freud deserves a long and thorough article in Wikipedia.  I believe that a balanced article would include A) e...</td>\n",
       "    </tr>\n",
       "    <tr>\n",
       "      <th>4</th>\n",
       "      <td>2084821</td>\n",
       "      <td>It is not just you. This is a laundry list of stupid allegations scooped up from god-knows-where. Probably two-thirds of it has little basis in fact.</td>\n",
       "    </tr>\n",
       "    <tr>\n",
       "      <th>5</th>\n",
       "      <td>2452675</td>\n",
       "      <td>HectorRodriguez added blatant NPOV comments to this article, and when I reverted them, Wik re-reverted them because he wants to spite me.  The information that was added is ridiculously POV and should be changed, but because Wik is stalking me, it's impossible for me to do so.   04:32, 20 Feb 20...</td>\n",
       "    </tr>\n",
       "    <tr>\n",
       "      <th>6</th>\n",
       "      <td>3206615</td>\n",
       "      <td>\"\\n\\n baiting Paul \\n\\nI don't think its entirely fair the way you are searching about for paul to call you a name, in order to use it against him. He is clearly uncertain of what label to give you, and any lable he did use is apt to be offensive (\"\"jew\"\", \"\"commie\"\" \"\"wanker\"\", etc.. ;). IMO pa...</td>\n",
       "    </tr>\n",
       "    <tr>\n",
       "      <th>7</th>\n",
       "      <td>3665348</td>\n",
       "      <td>\"\\nTesla stuff\\n\\nNotice how all those \"\"ugly American\"\" comments are merely part of Irismeister's rant.  \"</td>\n",
       "    </tr>\n",
       "    <tr>\n",
       "      <th>8</th>\n",
       "      <td>4502494</td>\n",
       "      <td>Shoot! I can't find where i found that instance. Anyways, let's add the hyphen. )  04:10, 7 Jul 2004 (UTC)</td>\n",
       "    </tr>\n",
       "    <tr>\n",
       "      <th>9</th>\n",
       "      <td>4804786</td>\n",
       "      <td>Just because one is gay does not mean one is unwilling to breed. I want to have two kids of my own, by a surrogate.  16:47, Jul 23, 2004 (UTC)</td>\n",
       "    </tr>\n",
       "  </tbody>\n",
       "</table>\n",
       "</div>"
      ],
      "text/plain": [
       "   comment_id  \\\n",
       "0      114890   \n",
       "1      732895   \n",
       "2     1139051   \n",
       "3     1434512   \n",
       "4     2084821   \n",
       "5     2452675   \n",
       "6     3206615   \n",
       "7     3665348   \n",
       "8     4502494   \n",
       "9     4804786   \n",
       "\n",
       "                                                                                                                                                                                                                                                                                                          text  \n",
       "0  \"\\n \\n\\nGjalexei, you asked about whether there is an \"\"anti-editorializing\"\" policy here.  There is, and it's called wikipedia:neutral point of view.  It discusses at some length  the case of what we should do when writing about a subject which most of us find repugnant.  Whilst you're not like...  \n",
       "1                                                                                                                                                                                                                                       Looks like be have an abuser , can you please look into this?  thanks.  \n",
       "2  I confess to having complete (and apparently blissful) ignorance of Jordan, but I've glanced at the article. Is this a woman or a soap opera!?.  I don't think there was much to change in terms of the description of the various diseases.  It is mentioned that she is famous for the size of her bre...  \n",
       "3  \"\\n\\nFreud's ideas are certainly much discussed today, and I would be the first to agree that they must be grappled with and dealt with seriously, if only because of their currency.  So Freud deserves a long and thorough article in Wikipedia.  I believe that a balanced article would include A) e...  \n",
       "4                                                                                                                                                        It is not just you. This is a laundry list of stupid allegations scooped up from god-knows-where. Probably two-thirds of it has little basis in fact.  \n",
       "5  HectorRodriguez added blatant NPOV comments to this article, and when I reverted them, Wik re-reverted them because he wants to spite me.  The information that was added is ridiculously POV and should be changed, but because Wik is stalking me, it's impossible for me to do so.   04:32, 20 Feb 20...  \n",
       "6  \"\\n\\n baiting Paul \\n\\nI don't think its entirely fair the way you are searching about for paul to call you a name, in order to use it against him. He is clearly uncertain of what label to give you, and any lable he did use is apt to be offensive (\"\"jew\"\", \"\"commie\"\" \"\"wanker\"\", etc.. ;). IMO pa...  \n",
       "7                                                                                                                                                                                                  \"\\nTesla stuff\\n\\nNotice how all those \"\"ugly American\"\" comments are merely part of Irismeister's rant.  \"  \n",
       "8                                                                                                                                                                                                   Shoot! I can't find where i found that instance. Anyways, let's add the hyphen. )  04:10, 7 Jul 2004 (UTC)  \n",
       "9                                                                                                                                                               Just because one is gay does not mean one is unwilling to breed. I want to have two kids of my own, by a surrogate.  16:47, Jul 23, 2004 (UTC)  "
      ]
     },
     "execution_count": 5,
     "metadata": {},
     "output_type": "execute_result"
    }
   ],
   "source": [
    "score = pd.read_csv('../input/jigsaw-toxic-severity-rating/comments_to_score.csv')\n",
    "print(score.shape)\n",
    "score.head(10)"
   ]
  },
  {
   "cell_type": "markdown",
   "id": "2cdfa3cb",
   "metadata": {
    "papermill": {
     "duration": 0.030398,
     "end_time": "2022-01-05T06:13:56.470290",
     "exception": false,
     "start_time": "2022-01-05T06:13:56.439892",
     "status": "completed"
    },
    "tags": []
   },
   "source": [
    "### sample_submission"
   ]
  },
  {
   "cell_type": "code",
   "execution_count": 6,
   "id": "bcb11271",
   "metadata": {
    "execution": {
     "iopub.execute_input": "2022-01-05T06:13:56.536885Z",
     "iopub.status.busy": "2022-01-05T06:13:56.536133Z",
     "iopub.status.idle": "2022-01-05T06:13:56.556772Z",
     "shell.execute_reply": "2022-01-05T06:13:56.556135Z",
     "shell.execute_reply.started": "2022-01-05T05:00:39.833641Z"
    },
    "papermill": {
     "duration": 0.055312,
     "end_time": "2022-01-05T06:13:56.556909",
     "exception": false,
     "start_time": "2022-01-05T06:13:56.501597",
     "status": "completed"
    },
    "tags": []
   },
   "outputs": [
    {
     "name": "stdout",
     "output_type": "stream",
     "text": [
      "(7537, 2)\n"
     ]
    },
    {
     "data": {
      "text/html": [
       "<div>\n",
       "<style scoped>\n",
       "    .dataframe tbody tr th:only-of-type {\n",
       "        vertical-align: middle;\n",
       "    }\n",
       "\n",
       "    .dataframe tbody tr th {\n",
       "        vertical-align: top;\n",
       "    }\n",
       "\n",
       "    .dataframe thead th {\n",
       "        text-align: right;\n",
       "    }\n",
       "</style>\n",
       "<table border=\"1\" class=\"dataframe\">\n",
       "  <thead>\n",
       "    <tr style=\"text-align: right;\">\n",
       "      <th></th>\n",
       "      <th>comment_id</th>\n",
       "      <th>score</th>\n",
       "    </tr>\n",
       "  </thead>\n",
       "  <tbody>\n",
       "    <tr>\n",
       "      <th>0</th>\n",
       "      <td>114890</td>\n",
       "      <td>0.5</td>\n",
       "    </tr>\n",
       "    <tr>\n",
       "      <th>1</th>\n",
       "      <td>732895</td>\n",
       "      <td>0.5</td>\n",
       "    </tr>\n",
       "    <tr>\n",
       "      <th>2</th>\n",
       "      <td>1139051</td>\n",
       "      <td>0.5</td>\n",
       "    </tr>\n",
       "    <tr>\n",
       "      <th>3</th>\n",
       "      <td>1434512</td>\n",
       "      <td>0.5</td>\n",
       "    </tr>\n",
       "    <tr>\n",
       "      <th>4</th>\n",
       "      <td>2084821</td>\n",
       "      <td>0.5</td>\n",
       "    </tr>\n",
       "    <tr>\n",
       "      <th>5</th>\n",
       "      <td>2452675</td>\n",
       "      <td>0.5</td>\n",
       "    </tr>\n",
       "    <tr>\n",
       "      <th>6</th>\n",
       "      <td>3206615</td>\n",
       "      <td>0.5</td>\n",
       "    </tr>\n",
       "    <tr>\n",
       "      <th>7</th>\n",
       "      <td>3665348</td>\n",
       "      <td>0.5</td>\n",
       "    </tr>\n",
       "    <tr>\n",
       "      <th>8</th>\n",
       "      <td>4502494</td>\n",
       "      <td>0.5</td>\n",
       "    </tr>\n",
       "    <tr>\n",
       "      <th>9</th>\n",
       "      <td>4804786</td>\n",
       "      <td>0.5</td>\n",
       "    </tr>\n",
       "  </tbody>\n",
       "</table>\n",
       "</div>"
      ],
      "text/plain": [
       "   comment_id  score\n",
       "0      114890    0.5\n",
       "1      732895    0.5\n",
       "2     1139051    0.5\n",
       "3     1434512    0.5\n",
       "4     2084821    0.5\n",
       "5     2452675    0.5\n",
       "6     3206615    0.5\n",
       "7     3665348    0.5\n",
       "8     4502494    0.5\n",
       "9     4804786    0.5"
      ]
     },
     "execution_count": 6,
     "metadata": {},
     "output_type": "execute_result"
    }
   ],
   "source": [
    "sample_submission = pd.read_csv('../input/jigsaw-toxic-severity-rating/sample_submission.csv')\n",
    "print(sample_submission.shape)\n",
    "sample_submission.head(10)"
   ]
  },
  {
   "cell_type": "markdown",
   "id": "fd796911",
   "metadata": {
    "papermill": {
     "duration": 0.031931,
     "end_time": "2022-01-05T06:13:56.619523",
     "exception": false,
     "start_time": "2022-01-05T06:13:56.587592",
     "status": "completed"
    },
    "tags": []
   },
   "source": [
    "### validation_data"
   ]
  },
  {
   "cell_type": "code",
   "execution_count": 7,
   "id": "36164000",
   "metadata": {
    "execution": {
     "iopub.execute_input": "2022-01-05T06:13:56.687374Z",
     "iopub.status.busy": "2022-01-05T06:13:56.686665Z",
     "iopub.status.idle": "2022-01-05T06:13:57.209386Z",
     "shell.execute_reply": "2022-01-05T06:13:57.208755Z",
     "shell.execute_reply.started": "2022-01-05T05:00:39.858312Z"
    },
    "papermill": {
     "duration": 0.558613,
     "end_time": "2022-01-05T06:13:57.209556",
     "exception": false,
     "start_time": "2022-01-05T06:13:56.650943",
     "status": "completed"
    },
    "tags": []
   },
   "outputs": [
    {
     "name": "stdout",
     "output_type": "stream",
     "text": [
      "(30108, 3)\n"
     ]
    },
    {
     "data": {
      "text/html": [
       "<div>\n",
       "<style scoped>\n",
       "    .dataframe tbody tr th:only-of-type {\n",
       "        vertical-align: middle;\n",
       "    }\n",
       "\n",
       "    .dataframe tbody tr th {\n",
       "        vertical-align: top;\n",
       "    }\n",
       "\n",
       "    .dataframe thead th {\n",
       "        text-align: right;\n",
       "    }\n",
       "</style>\n",
       "<table border=\"1\" class=\"dataframe\">\n",
       "  <thead>\n",
       "    <tr style=\"text-align: right;\">\n",
       "      <th></th>\n",
       "      <th>worker</th>\n",
       "      <th>less_toxic</th>\n",
       "      <th>more_toxic</th>\n",
       "    </tr>\n",
       "  </thead>\n",
       "  <tbody>\n",
       "    <tr>\n",
       "      <th>0</th>\n",
       "      <td>313</td>\n",
       "      <td>This article sucks \\n\\nwoo woo wooooooo</td>\n",
       "      <td>WHAT!!!!!!!!?!?!!?!?!!?!?!?!?!!!!!!!!!!!!!!!!!!!!!!!!??????????????????????????????????????????????????????!!!!!!=\\nWHER IS YOUR SEXY PIC GONE FROM YOUR MAIN PAGE???????? put it back</td>\n",
       "    </tr>\n",
       "    <tr>\n",
       "      <th>1</th>\n",
       "      <td>188</td>\n",
       "      <td>\"And yes, people should recognize that but they usually don't. One of the first objections you hear directed at someone who says he favors free markets is invariably \"\"There's no such thing as a free market.\"\" Ridiculously trivial. \"</td>\n",
       "      <td>Daphne Guinness \\n\\nTop of the mornin' my favourite Alien Life Form. I'm sorry, I can't marry you because you are a poor commoner so, therefore, unimportant. Can I have my dresses back. I hope your fat Oirish arse hasn't stretched them.</td>\n",
       "    </tr>\n",
       "    <tr>\n",
       "      <th>2</th>\n",
       "      <td>82</td>\n",
       "      <td>Western Media?\\n\\nYup, because every crime in the entire world is caused by the west.  Racists.</td>\n",
       "      <td>\"Atom you don't believe actual photos of masturbation is sexually explicit photos. I am sorry to say they are sexually explicit and so you said yourself that the disclaimer is used for that purpose. Also, Wikipedia itself is targeted for minors. In addition, you say that Wikipedia does not have ...</td>\n",
       "    </tr>\n",
       "    <tr>\n",
       "      <th>3</th>\n",
       "      <td>347</td>\n",
       "      <td>And you removed it! You numbskull! I don't care what you say anymore, this is my life! Go ahead with your own life, leave me alone! —</td>\n",
       "      <td>You seem to have sand in your vagina.\\n\\nMight want to wash that stinking hole out, bitch.</td>\n",
       "    </tr>\n",
       "    <tr>\n",
       "      <th>4</th>\n",
       "      <td>539</td>\n",
       "      <td>smelly vagina \\n\\nBluerasberry why don't you be a model for a cheesy blue vagina syndrome. A lot are experiencing this vaginal disease.</td>\n",
       "      <td>hey \\n\\nway to support nazis, you racist</td>\n",
       "    </tr>\n",
       "    <tr>\n",
       "      <th>5</th>\n",
       "      <td>437</td>\n",
       "      <td>There's a better answer to the question: the people that made the anime fucked up.</td>\n",
       "      <td>I'm not new here. I don't know what the hell you are talking about. Don't talk to me again.</td>\n",
       "    </tr>\n",
       "    <tr>\n",
       "      <th>6</th>\n",
       "      <td>52</td>\n",
       "      <td>\"\\n\\nHey Dude\\nWell, I guess you know that TREY and I got blocked for our \"\"behaviour\"\" when dealing with Kd lvr and Kdkatpir2 and that those two are no longer sockpuppets nor meatpuppets.  Which adds to my confusion.  Oh well.  TREY has quit Wikipedia and I no longer helping, reverting, or repo...</td>\n",
       "      <td>gender neutral \\n\\nwhy is the page called henchmen there are females like Lucy saxon in this page shouldnt it have a gender neutral name like sub-villain</td>\n",
       "    </tr>\n",
       "    <tr>\n",
       "      <th>7</th>\n",
       "      <td>672</td>\n",
       "      <td>Also my remarks are indeed a criticism of you and your behavior in relation to the dreamhost talkpage but if you are indeed a NPOV then admin you should perhaps instead of interpreting them as a personal attack read them as just criticism and take steps to improve your conduct.</td>\n",
       "      <td>Why not head on over to WP:RFA and try your hand at getting a mop for all your bullshit?  Just think!  Maybe one day your useless editing and countless wasted hours/days/weeks here will get you a silly little icon and an excuse to waste even more time. 67.176.98.94</td>\n",
       "    </tr>\n",
       "    <tr>\n",
       "      <th>8</th>\n",
       "      <td>52</td>\n",
       "      <td>\" July 2012 (UTC)\\n\\nI\"\"M ABUSING PEOPLE!!!!!?????\\nYour the one ranting on about how it doesn't exist, the Battle for Australia DID happen it was very similiar to the Battle of Britain, so are you saying the Battle of Britain didn't happen? Of course not, your probably British and will do anyth...</td>\n",
       "      <td>You are such a useless bitch! I mean do you have a life or friends? Because all you do is sit at your computer on wikipeida. You are a loser and I would watch out because you will be blocked soon!\\n{Talkback|Tdawg4701}</td>\n",
       "    </tr>\n",
       "    <tr>\n",
       "      <th>9</th>\n",
       "      <td>539</td>\n",
       "      <td>It's just simple Beefcake... \\n\\nThe recent edit I made to Star Trek: Of Gods and Men was constructive, the film really did suck. I mean Bill Shatner's last record was bad but this... Astral please do not abuse Wikipedia and vandalise the article Star Trek: Of Gods and Men again or you will be ...</td>\n",
       "      <td>Hi \\n\\nI Hate you. ^_^</td>\n",
       "    </tr>\n",
       "  </tbody>\n",
       "</table>\n",
       "</div>"
      ],
      "text/plain": [
       "   worker  \\\n",
       "0     313   \n",
       "1     188   \n",
       "2      82   \n",
       "3     347   \n",
       "4     539   \n",
       "5     437   \n",
       "6      52   \n",
       "7     672   \n",
       "8      52   \n",
       "9     539   \n",
       "\n",
       "                                                                                                                                                                                                                                                                                                    less_toxic  \\\n",
       "0                                                                                                                                                                                                                                                                      This article sucks \\n\\nwoo woo wooooooo   \n",
       "1                                                                    \"And yes, people should recognize that but they usually don't. One of the first objections you hear directed at someone who says he favors free markets is invariably \"\"There's no such thing as a free market.\"\" Ridiculously trivial. \"   \n",
       "2                                                                                                                                                                                                           Western Media?\\n\\nYup, because every crime in the entire world is caused by the west.  Racists.      \n",
       "3                                                                                                                                                                       And you removed it! You numbskull! I don't care what you say anymore, this is my life! Go ahead with your own life, leave me alone! —    \n",
       "4                                                                                                                                                                      smelly vagina \\n\\nBluerasberry why don't you be a model for a cheesy blue vagina syndrome. A lot are experiencing this vaginal disease.   \n",
       "5                                                                                                                                                                                                                         There's a better answer to the question: the people that made the anime fucked up.     \n",
       "6  \"\\n\\nHey Dude\\nWell, I guess you know that TREY and I got blocked for our \"\"behaviour\"\" when dealing with Kd lvr and Kdkatpir2 and that those two are no longer sockpuppets nor meatpuppets.  Which adds to my confusion.  Oh well.  TREY has quit Wikipedia and I no longer helping, reverting, or repo...   \n",
       "7                     Also my remarks are indeed a criticism of you and your behavior in relation to the dreamhost talkpage but if you are indeed a NPOV then admin you should perhaps instead of interpreting them as a personal attack read them as just criticism and take steps to improve your conduct.     \n",
       "8  \" July 2012 (UTC)\\n\\nI\"\"M ABUSING PEOPLE!!!!!?????\\nYour the one ranting on about how it doesn't exist, the Battle for Australia DID happen it was very similiar to the Battle of Britain, so are you saying the Battle of Britain didn't happen? Of course not, your probably British and will do anyth...   \n",
       "9   It's just simple Beefcake... \\n\\nThe recent edit I made to Star Trek: Of Gods and Men was constructive, the film really did suck. I mean Bill Shatner's last record was bad but this... Astral please do not abuse Wikipedia and vandalise the article Star Trek: Of Gods and Men again or you will be ...   \n",
       "\n",
       "                                                                                                                                                                                                                                                                                                    more_toxic  \n",
       "0                                                                                                                       WHAT!!!!!!!!?!?!!?!?!!?!?!?!?!!!!!!!!!!!!!!!!!!!!!!!!??????????????????????????????????????????????????????!!!!!!=\\nWHER IS YOUR SEXY PIC GONE FROM YOUR MAIN PAGE???????? put it back  \n",
       "1                                                                 Daphne Guinness \\n\\nTop of the mornin' my favourite Alien Life Form. I'm sorry, I can't marry you because you are a poor commoner so, therefore, unimportant. Can I have my dresses back. I hope your fat Oirish arse hasn't stretched them.  \n",
       "2  \"Atom you don't believe actual photos of masturbation is sexually explicit photos. I am sorry to say they are sexually explicit and so you said yourself that the disclaimer is used for that purpose. Also, Wikipedia itself is targeted for minors. In addition, you say that Wikipedia does not have ...  \n",
       "3                                                                                                                                                                                                                   You seem to have sand in your vagina.\\n\\nMight want to wash that stinking hole out, bitch.  \n",
       "4                                                                                                                                                                                                                                                                     hey \\n\\nway to support nazis, you racist  \n",
       "5                                                                                                                                                                                                                  I'm not new here. I don't know what the hell you are talking about. Don't talk to me again.  \n",
       "6                                                                                                                                                  gender neutral \\n\\nwhy is the page called henchmen there are females like Lucy saxon in this page shouldnt it have a gender neutral name like sub-villain    \n",
       "7                                  Why not head on over to WP:RFA and try your hand at getting a mop for all your bullshit?  Just think!  Maybe one day your useless editing and countless wasted hours/days/weeks here will get you a silly little icon and an excuse to waste even more time. 67.176.98.94    \n",
       "8                                                                                   You are such a useless bitch! I mean do you have a life or friends? Because all you do is sit at your computer on wikipeida. You are a loser and I would watch out because you will be blocked soon!\\n{Talkback|Tdawg4701}  \n",
       "9                                                                                                                                                                                                                                                                                       Hi \\n\\nI Hate you. ^_^  "
      ]
     },
     "execution_count": 7,
     "metadata": {},
     "output_type": "execute_result"
    }
   ],
   "source": [
    "validation = pd.read_csv('../input/jigsaw-toxic-severity-rating/validation_data.csv')\n",
    "print(validation.shape)\n",
    "validation.head(10)"
   ]
  },
  {
   "cell_type": "markdown",
   "id": "eb40a7a6",
   "metadata": {
    "papermill": {
     "duration": 0.032465,
     "end_time": "2022-01-05T06:13:57.274742",
     "exception": false,
     "start_time": "2022-01-05T06:13:57.242277",
     "status": "completed"
    },
    "tags": []
   },
   "source": [
    "### train"
   ]
  },
  {
   "cell_type": "code",
   "execution_count": 8,
   "id": "03d77d2f",
   "metadata": {
    "execution": {
     "iopub.execute_input": "2022-01-05T06:13:57.345119Z",
     "iopub.status.busy": "2022-01-05T06:13:57.343223Z",
     "iopub.status.idle": "2022-01-05T06:13:59.167127Z",
     "shell.execute_reply": "2022-01-05T06:13:59.167617Z",
     "shell.execute_reply.started": "2022-01-05T05:00:40.423096Z"
    },
    "papermill": {
     "duration": 1.860528,
     "end_time": "2022-01-05T06:13:59.167793",
     "exception": false,
     "start_time": "2022-01-05T06:13:57.307265",
     "status": "completed"
    },
    "tags": []
   },
   "outputs": [
    {
     "name": "stdout",
     "output_type": "stream",
     "text": [
      "(159571, 8)\n"
     ]
    },
    {
     "data": {
      "text/html": [
       "<div>\n",
       "<style scoped>\n",
       "    .dataframe tbody tr th:only-of-type {\n",
       "        vertical-align: middle;\n",
       "    }\n",
       "\n",
       "    .dataframe tbody tr th {\n",
       "        vertical-align: top;\n",
       "    }\n",
       "\n",
       "    .dataframe thead th {\n",
       "        text-align: right;\n",
       "    }\n",
       "</style>\n",
       "<table border=\"1\" class=\"dataframe\">\n",
       "  <thead>\n",
       "    <tr style=\"text-align: right;\">\n",
       "      <th></th>\n",
       "      <th>id</th>\n",
       "      <th>comment_text</th>\n",
       "      <th>toxic</th>\n",
       "      <th>severe_toxic</th>\n",
       "      <th>obscene</th>\n",
       "      <th>threat</th>\n",
       "      <th>insult</th>\n",
       "      <th>identity_hate</th>\n",
       "    </tr>\n",
       "  </thead>\n",
       "  <tbody>\n",
       "    <tr>\n",
       "      <th>0</th>\n",
       "      <td>0000997932d777bf</td>\n",
       "      <td>Explanation\\nWhy the edits made under my username Hardcore Metallica Fan were reverted? They weren't vandalisms, just closure on some GAs after I voted at New York Dolls FAC. And please don't remove the template from the talk page since I'm retired now.89.205.38.27</td>\n",
       "      <td>0</td>\n",
       "      <td>0</td>\n",
       "      <td>0</td>\n",
       "      <td>0</td>\n",
       "      <td>0</td>\n",
       "      <td>0</td>\n",
       "    </tr>\n",
       "    <tr>\n",
       "      <th>1</th>\n",
       "      <td>000103f0d9cfb60f</td>\n",
       "      <td>D'aww! He matches this background colour I'm seemingly stuck with. Thanks.  (talk) 21:51, January 11, 2016 (UTC)</td>\n",
       "      <td>0</td>\n",
       "      <td>0</td>\n",
       "      <td>0</td>\n",
       "      <td>0</td>\n",
       "      <td>0</td>\n",
       "      <td>0</td>\n",
       "    </tr>\n",
       "    <tr>\n",
       "      <th>2</th>\n",
       "      <td>000113f07ec002fd</td>\n",
       "      <td>Hey man, I'm really not trying to edit war. It's just that this guy is constantly removing relevant information and talking to me through edits instead of my talk page. He seems to care more about the formatting than the actual info.</td>\n",
       "      <td>0</td>\n",
       "      <td>0</td>\n",
       "      <td>0</td>\n",
       "      <td>0</td>\n",
       "      <td>0</td>\n",
       "      <td>0</td>\n",
       "    </tr>\n",
       "    <tr>\n",
       "      <th>3</th>\n",
       "      <td>0001b41b1c6bb37e</td>\n",
       "      <td>\"\\nMore\\nI can't make any real suggestions on improvement - I wondered if the section statistics should be later on, or a subsection of \"\"types of accidents\"\"  -I think the references may need tidying so that they are all in the exact same format ie date format etc. I can do that later on, if no...</td>\n",
       "      <td>0</td>\n",
       "      <td>0</td>\n",
       "      <td>0</td>\n",
       "      <td>0</td>\n",
       "      <td>0</td>\n",
       "      <td>0</td>\n",
       "    </tr>\n",
       "    <tr>\n",
       "      <th>4</th>\n",
       "      <td>0001d958c54c6e35</td>\n",
       "      <td>You, sir, are my hero. Any chance you remember what page that's on?</td>\n",
       "      <td>0</td>\n",
       "      <td>0</td>\n",
       "      <td>0</td>\n",
       "      <td>0</td>\n",
       "      <td>0</td>\n",
       "      <td>0</td>\n",
       "    </tr>\n",
       "    <tr>\n",
       "      <th>5</th>\n",
       "      <td>00025465d4725e87</td>\n",
       "      <td>\"\\n\\nCongratulations from me as well, use the tools well.  · talk \"</td>\n",
       "      <td>0</td>\n",
       "      <td>0</td>\n",
       "      <td>0</td>\n",
       "      <td>0</td>\n",
       "      <td>0</td>\n",
       "      <td>0</td>\n",
       "    </tr>\n",
       "    <tr>\n",
       "      <th>6</th>\n",
       "      <td>0002bcb3da6cb337</td>\n",
       "      <td>COCKSUCKER BEFORE YOU PISS AROUND ON MY WORK</td>\n",
       "      <td>1</td>\n",
       "      <td>1</td>\n",
       "      <td>1</td>\n",
       "      <td>0</td>\n",
       "      <td>1</td>\n",
       "      <td>0</td>\n",
       "    </tr>\n",
       "    <tr>\n",
       "      <th>7</th>\n",
       "      <td>00031b1e95af7921</td>\n",
       "      <td>Your vandalism to the Matt Shirvington article has been reverted.  Please don't do it again, or you will be banned.</td>\n",
       "      <td>0</td>\n",
       "      <td>0</td>\n",
       "      <td>0</td>\n",
       "      <td>0</td>\n",
       "      <td>0</td>\n",
       "      <td>0</td>\n",
       "    </tr>\n",
       "    <tr>\n",
       "      <th>8</th>\n",
       "      <td>00037261f536c51d</td>\n",
       "      <td>Sorry if the word 'nonsense' was offensive to you. Anyway, I'm not intending to write anything in the article(wow they would jump on me for vandalism), I'm merely requesting that it be more encyclopedic so one can use it for school as a reference. I have been to the selective breeding page but i...</td>\n",
       "      <td>0</td>\n",
       "      <td>0</td>\n",
       "      <td>0</td>\n",
       "      <td>0</td>\n",
       "      <td>0</td>\n",
       "      <td>0</td>\n",
       "    </tr>\n",
       "    <tr>\n",
       "      <th>9</th>\n",
       "      <td>00040093b2687caa</td>\n",
       "      <td>alignment on this subject and which are contrary to those of DuLithgow</td>\n",
       "      <td>0</td>\n",
       "      <td>0</td>\n",
       "      <td>0</td>\n",
       "      <td>0</td>\n",
       "      <td>0</td>\n",
       "      <td>0</td>\n",
       "    </tr>\n",
       "  </tbody>\n",
       "</table>\n",
       "</div>"
      ],
      "text/plain": [
       "                 id  \\\n",
       "0  0000997932d777bf   \n",
       "1  000103f0d9cfb60f   \n",
       "2  000113f07ec002fd   \n",
       "3  0001b41b1c6bb37e   \n",
       "4  0001d958c54c6e35   \n",
       "5  00025465d4725e87   \n",
       "6  0002bcb3da6cb337   \n",
       "7  00031b1e95af7921   \n",
       "8  00037261f536c51d   \n",
       "9  00040093b2687caa   \n",
       "\n",
       "                                                                                                                                                                                                                                                                                                  comment_text  \\\n",
       "0                                    Explanation\\nWhy the edits made under my username Hardcore Metallica Fan were reverted? They weren't vandalisms, just closure on some GAs after I voted at New York Dolls FAC. And please don't remove the template from the talk page since I'm retired now.89.205.38.27   \n",
       "1                                                                                                                                                                                             D'aww! He matches this background colour I'm seemingly stuck with. Thanks.  (talk) 21:51, January 11, 2016 (UTC)   \n",
       "2                                                                    Hey man, I'm really not trying to edit war. It's just that this guy is constantly removing relevant information and talking to me through edits instead of my talk page. He seems to care more about the formatting than the actual info.   \n",
       "3  \"\\nMore\\nI can't make any real suggestions on improvement - I wondered if the section statistics should be later on, or a subsection of \"\"types of accidents\"\"  -I think the references may need tidying so that they are all in the exact same format ie date format etc. I can do that later on, if no...   \n",
       "4                                                                                                                                                                                                                                          You, sir, are my hero. Any chance you remember what page that's on?   \n",
       "5                                                                                                                                                                                                                                          \"\\n\\nCongratulations from me as well, use the tools well.  · talk \"   \n",
       "6                                                                                                                                                                                                                                                                 COCKSUCKER BEFORE YOU PISS AROUND ON MY WORK   \n",
       "7                                                                                                                                                                                          Your vandalism to the Matt Shirvington article has been reverted.  Please don't do it again, or you will be banned.   \n",
       "8  Sorry if the word 'nonsense' was offensive to you. Anyway, I'm not intending to write anything in the article(wow they would jump on me for vandalism), I'm merely requesting that it be more encyclopedic so one can use it for school as a reference. I have been to the selective breeding page but i...   \n",
       "9                                                                                                                                                                                                                                       alignment on this subject and which are contrary to those of DuLithgow   \n",
       "\n",
       "   toxic  severe_toxic  obscene  threat  insult  identity_hate  \n",
       "0      0             0        0       0       0              0  \n",
       "1      0             0        0       0       0              0  \n",
       "2      0             0        0       0       0              0  \n",
       "3      0             0        0       0       0              0  \n",
       "4      0             0        0       0       0              0  \n",
       "5      0             0        0       0       0              0  \n",
       "6      1             1        1       0       1              0  \n",
       "7      0             0        0       0       0              0  \n",
       "8      0             0        0       0       0              0  \n",
       "9      0             0        0       0       0              0  "
      ]
     },
     "execution_count": 8,
     "metadata": {},
     "output_type": "execute_result"
    }
   ],
   "source": [
    "train = pd.read_csv('../input/jigsaw-toxic-comment-classification-challenge/train.csv')\n",
    "print(train.shape)\n",
    "train.head(10)"
   ]
  },
  {
   "cell_type": "markdown",
   "id": "a2b4f702",
   "metadata": {
    "papermill": {
     "duration": 0.033827,
     "end_time": "2022-01-05T06:13:59.235744",
     "exception": false,
     "start_time": "2022-01-05T06:13:59.201917",
     "status": "completed"
    },
    "tags": []
   },
   "source": [
    "### test"
   ]
  },
  {
   "cell_type": "code",
   "execution_count": 9,
   "id": "8e4cb8b0",
   "metadata": {
    "execution": {
     "iopub.execute_input": "2022-01-05T06:13:59.306084Z",
     "iopub.status.busy": "2022-01-05T06:13:59.305400Z",
     "iopub.status.idle": "2022-01-05T06:14:00.904433Z",
     "shell.execute_reply": "2022-01-05T06:14:00.903914Z",
     "shell.execute_reply.started": "2022-01-05T05:00:42.271798Z"
    },
    "papermill": {
     "duration": 1.636052,
     "end_time": "2022-01-05T06:14:00.904588",
     "exception": false,
     "start_time": "2022-01-05T06:13:59.268536",
     "status": "completed"
    },
    "tags": []
   },
   "outputs": [
    {
     "name": "stdout",
     "output_type": "stream",
     "text": [
      "(153164, 2)\n"
     ]
    },
    {
     "data": {
      "text/html": [
       "<div>\n",
       "<style scoped>\n",
       "    .dataframe tbody tr th:only-of-type {\n",
       "        vertical-align: middle;\n",
       "    }\n",
       "\n",
       "    .dataframe tbody tr th {\n",
       "        vertical-align: top;\n",
       "    }\n",
       "\n",
       "    .dataframe thead th {\n",
       "        text-align: right;\n",
       "    }\n",
       "</style>\n",
       "<table border=\"1\" class=\"dataframe\">\n",
       "  <thead>\n",
       "    <tr style=\"text-align: right;\">\n",
       "      <th></th>\n",
       "      <th>id</th>\n",
       "      <th>comment_text</th>\n",
       "    </tr>\n",
       "  </thead>\n",
       "  <tbody>\n",
       "    <tr>\n",
       "      <th>0</th>\n",
       "      <td>00001cee341fdb12</td>\n",
       "      <td>Yo bitch Ja Rule is more succesful then you'll ever be whats up with you and hating you sad mofuckas...i should bitch slap ur pethedic white faces and get you to kiss my ass you guys sicken me. Ja rule is about pride in da music man. dont diss that shit on him. and nothin is wrong bein like tupa...</td>\n",
       "    </tr>\n",
       "    <tr>\n",
       "      <th>1</th>\n",
       "      <td>0000247867823ef7</td>\n",
       "      <td>== From RfC == \\n\\n The title is fine as it is, IMO.</td>\n",
       "    </tr>\n",
       "    <tr>\n",
       "      <th>2</th>\n",
       "      <td>00013b17ad220c46</td>\n",
       "      <td>\" \\n\\n == Sources == \\n\\n * Zawe Ashton on Lapland —  /  \"</td>\n",
       "    </tr>\n",
       "    <tr>\n",
       "      <th>3</th>\n",
       "      <td>00017563c3f7919a</td>\n",
       "      <td>:If you have a look back at the source, the information I updated was the correct form. I can only guess the source hadn't updated. I shall update the information once again but thank you for your message.</td>\n",
       "    </tr>\n",
       "    <tr>\n",
       "      <th>4</th>\n",
       "      <td>00017695ad8997eb</td>\n",
       "      <td>I don't anonymously edit articles at all.</td>\n",
       "    </tr>\n",
       "    <tr>\n",
       "      <th>5</th>\n",
       "      <td>0001ea8717f6de06</td>\n",
       "      <td>Thank you for understanding. I think very highly of you and would not revert without discussion.</td>\n",
       "    </tr>\n",
       "    <tr>\n",
       "      <th>6</th>\n",
       "      <td>00024115d4cbde0f</td>\n",
       "      <td>Please do not add nonsense to Wikipedia. Such edits are considered vandalism and quickly undone. If you would like to experiment, please use the sandbox instead. Thank you.   -</td>\n",
       "    </tr>\n",
       "    <tr>\n",
       "      <th>7</th>\n",
       "      <td>000247e83dcc1211</td>\n",
       "      <td>:Dear god this site is horrible.</td>\n",
       "    </tr>\n",
       "    <tr>\n",
       "      <th>8</th>\n",
       "      <td>00025358d4737918</td>\n",
       "      <td>\" \\n Only a fool can believe in such numbers. \\n The correct number lies between 10 000 to 15 000. \\n Ponder the numbers carefully.  \\n\\n This error will persist for a long time as it continues to reproduce... The latest reproduction I know is from ENCYCLOPÆDIA BRITANNICA ALMANAC 2008 wich state...</td>\n",
       "    </tr>\n",
       "    <tr>\n",
       "      <th>9</th>\n",
       "      <td>00026d1092fe71cc</td>\n",
       "      <td>== Double Redirects == \\n\\n When fixing double redirects, don't just blank the outer one, you need edit it to point it to the final target, unless you think it's inappropriate, in which case, it needs to be nominated at WP:RfD</td>\n",
       "    </tr>\n",
       "  </tbody>\n",
       "</table>\n",
       "</div>"
      ],
      "text/plain": [
       "                 id  \\\n",
       "0  00001cee341fdb12   \n",
       "1  0000247867823ef7   \n",
       "2  00013b17ad220c46   \n",
       "3  00017563c3f7919a   \n",
       "4  00017695ad8997eb   \n",
       "5  0001ea8717f6de06   \n",
       "6  00024115d4cbde0f   \n",
       "7  000247e83dcc1211   \n",
       "8  00025358d4737918   \n",
       "9  00026d1092fe71cc   \n",
       "\n",
       "                                                                                                                                                                                                                                                                                                  comment_text  \n",
       "0  Yo bitch Ja Rule is more succesful then you'll ever be whats up with you and hating you sad mofuckas...i should bitch slap ur pethedic white faces and get you to kiss my ass you guys sicken me. Ja rule is about pride in da music man. dont diss that shit on him. and nothin is wrong bein like tupa...  \n",
       "1                                                                                                                                                                                                                                                         == From RfC == \\n\\n The title is fine as it is, IMO.  \n",
       "2                                                                                                                                                                                                                                                   \" \\n\\n == Sources == \\n\\n * Zawe Ashton on Lapland —  /  \"  \n",
       "3                                                                                                :If you have a look back at the source, the information I updated was the correct form. I can only guess the source hadn't updated. I shall update the information once again but thank you for your message.  \n",
       "4                                                                                                                                                                                                                                                                    I don't anonymously edit articles at all.  \n",
       "5                                                                                                                                                                                                             Thank you for understanding. I think very highly of you and would not revert without discussion.  \n",
       "6                                                                                                                             Please do not add nonsense to Wikipedia. Such edits are considered vandalism and quickly undone. If you would like to experiment, please use the sandbox instead. Thank you.   -  \n",
       "7                                                                                                                                                                                                                                                                             :Dear god this site is horrible.  \n",
       "8  \" \\n Only a fool can believe in such numbers. \\n The correct number lies between 10 000 to 15 000. \\n Ponder the numbers carefully.  \\n\\n This error will persist for a long time as it continues to reproduce... The latest reproduction I know is from ENCYCLOPÆDIA BRITANNICA ALMANAC 2008 wich state...  \n",
       "9                                                                           == Double Redirects == \\n\\n When fixing double redirects, don't just blank the outer one, you need edit it to point it to the final target, unless you think it's inappropriate, in which case, it needs to be nominated at WP:RfD  "
      ]
     },
     "execution_count": 9,
     "metadata": {},
     "output_type": "execute_result"
    }
   ],
   "source": [
    "test = pd.read_csv('../input/jigsaw-toxic-comment-classification-challenge/test.csv')\n",
    "print(test.shape)\n",
    "test.head(10)"
   ]
  },
  {
   "cell_type": "markdown",
   "id": "d4c32d3d",
   "metadata": {
    "papermill": {
     "duration": 0.036263,
     "end_time": "2022-01-05T06:14:00.975165",
     "exception": false,
     "start_time": "2022-01-05T06:14:00.938902",
     "status": "completed"
    },
    "tags": []
   },
   "source": [
    "### test_labels"
   ]
  },
  {
   "cell_type": "code",
   "execution_count": 10,
   "id": "f302f210",
   "metadata": {
    "execution": {
     "iopub.execute_input": "2022-01-05T06:14:01.049167Z",
     "iopub.status.busy": "2022-01-05T06:14:01.047559Z",
     "iopub.status.idle": "2022-01-05T06:14:01.269877Z",
     "shell.execute_reply": "2022-01-05T06:14:01.271087Z",
     "shell.execute_reply.started": "2022-01-05T05:00:43.763281Z"
    },
    "papermill": {
     "duration": 0.260585,
     "end_time": "2022-01-05T06:14:01.271277",
     "exception": false,
     "start_time": "2022-01-05T06:14:01.010692",
     "status": "completed"
    },
    "tags": []
   },
   "outputs": [
    {
     "name": "stdout",
     "output_type": "stream",
     "text": [
      "(153164, 7)\n"
     ]
    },
    {
     "data": {
      "text/html": [
       "<div>\n",
       "<style scoped>\n",
       "    .dataframe tbody tr th:only-of-type {\n",
       "        vertical-align: middle;\n",
       "    }\n",
       "\n",
       "    .dataframe tbody tr th {\n",
       "        vertical-align: top;\n",
       "    }\n",
       "\n",
       "    .dataframe thead th {\n",
       "        text-align: right;\n",
       "    }\n",
       "</style>\n",
       "<table border=\"1\" class=\"dataframe\">\n",
       "  <thead>\n",
       "    <tr style=\"text-align: right;\">\n",
       "      <th></th>\n",
       "      <th>id</th>\n",
       "      <th>toxic</th>\n",
       "      <th>severe_toxic</th>\n",
       "      <th>obscene</th>\n",
       "      <th>threat</th>\n",
       "      <th>insult</th>\n",
       "      <th>identity_hate</th>\n",
       "    </tr>\n",
       "  </thead>\n",
       "  <tbody>\n",
       "    <tr>\n",
       "      <th>0</th>\n",
       "      <td>00001cee341fdb12</td>\n",
       "      <td>-1</td>\n",
       "      <td>-1</td>\n",
       "      <td>-1</td>\n",
       "      <td>-1</td>\n",
       "      <td>-1</td>\n",
       "      <td>-1</td>\n",
       "    </tr>\n",
       "    <tr>\n",
       "      <th>1</th>\n",
       "      <td>0000247867823ef7</td>\n",
       "      <td>-1</td>\n",
       "      <td>-1</td>\n",
       "      <td>-1</td>\n",
       "      <td>-1</td>\n",
       "      <td>-1</td>\n",
       "      <td>-1</td>\n",
       "    </tr>\n",
       "    <tr>\n",
       "      <th>2</th>\n",
       "      <td>00013b17ad220c46</td>\n",
       "      <td>-1</td>\n",
       "      <td>-1</td>\n",
       "      <td>-1</td>\n",
       "      <td>-1</td>\n",
       "      <td>-1</td>\n",
       "      <td>-1</td>\n",
       "    </tr>\n",
       "    <tr>\n",
       "      <th>3</th>\n",
       "      <td>00017563c3f7919a</td>\n",
       "      <td>-1</td>\n",
       "      <td>-1</td>\n",
       "      <td>-1</td>\n",
       "      <td>-1</td>\n",
       "      <td>-1</td>\n",
       "      <td>-1</td>\n",
       "    </tr>\n",
       "    <tr>\n",
       "      <th>4</th>\n",
       "      <td>00017695ad8997eb</td>\n",
       "      <td>-1</td>\n",
       "      <td>-1</td>\n",
       "      <td>-1</td>\n",
       "      <td>-1</td>\n",
       "      <td>-1</td>\n",
       "      <td>-1</td>\n",
       "    </tr>\n",
       "    <tr>\n",
       "      <th>5</th>\n",
       "      <td>0001ea8717f6de06</td>\n",
       "      <td>0</td>\n",
       "      <td>0</td>\n",
       "      <td>0</td>\n",
       "      <td>0</td>\n",
       "      <td>0</td>\n",
       "      <td>0</td>\n",
       "    </tr>\n",
       "    <tr>\n",
       "      <th>6</th>\n",
       "      <td>00024115d4cbde0f</td>\n",
       "      <td>-1</td>\n",
       "      <td>-1</td>\n",
       "      <td>-1</td>\n",
       "      <td>-1</td>\n",
       "      <td>-1</td>\n",
       "      <td>-1</td>\n",
       "    </tr>\n",
       "    <tr>\n",
       "      <th>7</th>\n",
       "      <td>000247e83dcc1211</td>\n",
       "      <td>0</td>\n",
       "      <td>0</td>\n",
       "      <td>0</td>\n",
       "      <td>0</td>\n",
       "      <td>0</td>\n",
       "      <td>0</td>\n",
       "    </tr>\n",
       "    <tr>\n",
       "      <th>8</th>\n",
       "      <td>00025358d4737918</td>\n",
       "      <td>-1</td>\n",
       "      <td>-1</td>\n",
       "      <td>-1</td>\n",
       "      <td>-1</td>\n",
       "      <td>-1</td>\n",
       "      <td>-1</td>\n",
       "    </tr>\n",
       "    <tr>\n",
       "      <th>9</th>\n",
       "      <td>00026d1092fe71cc</td>\n",
       "      <td>-1</td>\n",
       "      <td>-1</td>\n",
       "      <td>-1</td>\n",
       "      <td>-1</td>\n",
       "      <td>-1</td>\n",
       "      <td>-1</td>\n",
       "    </tr>\n",
       "  </tbody>\n",
       "</table>\n",
       "</div>"
      ],
      "text/plain": [
       "                 id  toxic  severe_toxic  obscene  threat  insult  \\\n",
       "0  00001cee341fdb12     -1            -1       -1      -1      -1   \n",
       "1  0000247867823ef7     -1            -1       -1      -1      -1   \n",
       "2  00013b17ad220c46     -1            -1       -1      -1      -1   \n",
       "3  00017563c3f7919a     -1            -1       -1      -1      -1   \n",
       "4  00017695ad8997eb     -1            -1       -1      -1      -1   \n",
       "5  0001ea8717f6de06      0             0        0       0       0   \n",
       "6  00024115d4cbde0f     -1            -1       -1      -1      -1   \n",
       "7  000247e83dcc1211      0             0        0       0       0   \n",
       "8  00025358d4737918     -1            -1       -1      -1      -1   \n",
       "9  00026d1092fe71cc     -1            -1       -1      -1      -1   \n",
       "\n",
       "   identity_hate  \n",
       "0             -1  \n",
       "1             -1  \n",
       "2             -1  \n",
       "3             -1  \n",
       "4             -1  \n",
       "5              0  \n",
       "6             -1  \n",
       "7              0  \n",
       "8             -1  \n",
       "9             -1  "
      ]
     },
     "execution_count": 10,
     "metadata": {},
     "output_type": "execute_result"
    }
   ],
   "source": [
    "test_labels = pd.read_csv('../input/jigsaw-toxic-comment-classification-challenge/test_labels.csv')\n",
    "print(test_labels.shape)\n",
    "test_labels.head(10)"
   ]
  },
  {
   "cell_type": "markdown",
   "id": "05e2fcc9",
   "metadata": {
    "papermill": {
     "duration": 0.033923,
     "end_time": "2022-01-05T06:14:01.345089",
     "exception": false,
     "start_time": "2022-01-05T06:14:01.311166",
     "status": "completed"
    },
    "tags": []
   },
   "source": [
    "# Info"
   ]
  },
  {
   "cell_type": "code",
   "execution_count": 11,
   "id": "da0057c4",
   "metadata": {
    "execution": {
     "iopub.execute_input": "2022-01-05T06:14:01.437859Z",
     "iopub.status.busy": "2022-01-05T06:14:01.437212Z",
     "iopub.status.idle": "2022-01-05T06:14:01.440109Z",
     "shell.execute_reply": "2022-01-05T06:14:01.440798Z",
     "shell.execute_reply.started": "2022-01-05T05:00:44.004939Z"
    },
    "papermill": {
     "duration": 0.060836,
     "end_time": "2022-01-05T06:14:01.441019",
     "exception": false,
     "start_time": "2022-01-05T06:14:01.380183",
     "status": "completed"
    },
    "tags": []
   },
   "outputs": [
    {
     "name": "stdout",
     "output_type": "stream",
     "text": [
      "<class 'pandas.core.frame.DataFrame'>\n",
      "RangeIndex: 7537 entries, 0 to 7536\n",
      "Data columns (total 2 columns):\n",
      " #   Column      Non-Null Count  Dtype \n",
      "---  ------      --------------  ----- \n",
      " 0   comment_id  7537 non-null   int64 \n",
      " 1   text        7537 non-null   object\n",
      "dtypes: int64(1), object(1)\n",
      "memory usage: 117.9+ KB\n"
     ]
    }
   ],
   "source": [
    "score.info()"
   ]
  },
  {
   "cell_type": "code",
   "execution_count": 12,
   "id": "65adebd6",
   "metadata": {
    "execution": {
     "iopub.execute_input": "2022-01-05T06:14:01.519177Z",
     "iopub.status.busy": "2022-01-05T06:14:01.518231Z",
     "iopub.status.idle": "2022-01-05T06:14:01.536095Z",
     "shell.execute_reply": "2022-01-05T06:14:01.535211Z",
     "shell.execute_reply.started": "2022-01-05T05:00:44.037613Z"
    },
    "papermill": {
     "duration": 0.059325,
     "end_time": "2022-01-05T06:14:01.536337",
     "exception": false,
     "start_time": "2022-01-05T06:14:01.477012",
     "status": "completed"
    },
    "tags": []
   },
   "outputs": [
    {
     "name": "stdout",
     "output_type": "stream",
     "text": [
      "<class 'pandas.core.frame.DataFrame'>\n",
      "RangeIndex: 30108 entries, 0 to 30107\n",
      "Data columns (total 3 columns):\n",
      " #   Column      Non-Null Count  Dtype \n",
      "---  ------      --------------  ----- \n",
      " 0   worker      30108 non-null  int64 \n",
      " 1   less_toxic  30108 non-null  object\n",
      " 2   more_toxic  30108 non-null  object\n",
      "dtypes: int64(1), object(2)\n",
      "memory usage: 705.8+ KB\n"
     ]
    }
   ],
   "source": [
    "validation.info()"
   ]
  },
  {
   "cell_type": "code",
   "execution_count": 13,
   "id": "851f9d84",
   "metadata": {
    "execution": {
     "iopub.execute_input": "2022-01-05T06:14:01.611432Z",
     "iopub.status.busy": "2022-01-05T06:14:01.609247Z",
     "iopub.status.idle": "2022-01-05T06:14:01.648497Z",
     "shell.execute_reply": "2022-01-05T06:14:01.648943Z",
     "shell.execute_reply.started": "2022-01-05T05:00:44.061788Z"
    },
    "papermill": {
     "duration": 0.076692,
     "end_time": "2022-01-05T06:14:01.649119",
     "exception": false,
     "start_time": "2022-01-05T06:14:01.572427",
     "status": "completed"
    },
    "tags": []
   },
   "outputs": [
    {
     "name": "stdout",
     "output_type": "stream",
     "text": [
      "<class 'pandas.core.frame.DataFrame'>\n",
      "RangeIndex: 159571 entries, 0 to 159570\n",
      "Data columns (total 8 columns):\n",
      " #   Column         Non-Null Count   Dtype \n",
      "---  ------         --------------   ----- \n",
      " 0   id             159571 non-null  object\n",
      " 1   comment_text   159571 non-null  object\n",
      " 2   toxic          159571 non-null  int64 \n",
      " 3   severe_toxic   159571 non-null  int64 \n",
      " 4   obscene        159571 non-null  int64 \n",
      " 5   threat         159571 non-null  int64 \n",
      " 6   insult         159571 non-null  int64 \n",
      " 7   identity_hate  159571 non-null  int64 \n",
      "dtypes: int64(6), object(2)\n",
      "memory usage: 9.7+ MB\n"
     ]
    }
   ],
   "source": [
    "train.info()"
   ]
  },
  {
   "cell_type": "code",
   "execution_count": 14,
   "id": "31a8a459",
   "metadata": {
    "execution": {
     "iopub.execute_input": "2022-01-05T06:14:01.721596Z",
     "iopub.status.busy": "2022-01-05T06:14:01.721009Z",
     "iopub.status.idle": "2022-01-05T06:14:01.755571Z",
     "shell.execute_reply": "2022-01-05T06:14:01.755985Z",
     "shell.execute_reply.started": "2022-01-05T05:00:44.125061Z"
    },
    "papermill": {
     "duration": 0.072442,
     "end_time": "2022-01-05T06:14:01.756150",
     "exception": false,
     "start_time": "2022-01-05T06:14:01.683708",
     "status": "completed"
    },
    "tags": []
   },
   "outputs": [
    {
     "name": "stdout",
     "output_type": "stream",
     "text": [
      "<class 'pandas.core.frame.DataFrame'>\n",
      "RangeIndex: 153164 entries, 0 to 153163\n",
      "Data columns (total 2 columns):\n",
      " #   Column        Non-Null Count   Dtype \n",
      "---  ------        --------------   ----- \n",
      " 0   id            153164 non-null  object\n",
      " 1   comment_text  153164 non-null  object\n",
      "dtypes: object(2)\n",
      "memory usage: 2.3+ MB\n"
     ]
    }
   ],
   "source": [
    "test.info()"
   ]
  },
  {
   "cell_type": "code",
   "execution_count": 15,
   "id": "b5ef26d2",
   "metadata": {
    "execution": {
     "iopub.execute_input": "2022-01-05T06:14:01.830000Z",
     "iopub.status.busy": "2022-01-05T06:14:01.829313Z",
     "iopub.status.idle": "2022-01-05T06:14:01.847897Z",
     "shell.execute_reply": "2022-01-05T06:14:01.848584Z",
     "shell.execute_reply.started": "2022-01-05T05:00:44.183795Z"
    },
    "papermill": {
     "duration": 0.056986,
     "end_time": "2022-01-05T06:14:01.848806",
     "exception": false,
     "start_time": "2022-01-05T06:14:01.791820",
     "status": "completed"
    },
    "tags": []
   },
   "outputs": [
    {
     "name": "stdout",
     "output_type": "stream",
     "text": [
      "<class 'pandas.core.frame.DataFrame'>\n",
      "RangeIndex: 153164 entries, 0 to 153163\n",
      "Data columns (total 7 columns):\n",
      " #   Column         Non-Null Count   Dtype \n",
      "---  ------         --------------   ----- \n",
      " 0   id             153164 non-null  object\n",
      " 1   toxic          153164 non-null  int64 \n",
      " 2   severe_toxic   153164 non-null  int64 \n",
      " 3   obscene        153164 non-null  int64 \n",
      " 4   threat         153164 non-null  int64 \n",
      " 5   insult         153164 non-null  int64 \n",
      " 6   identity_hate  153164 non-null  int64 \n",
      "dtypes: int64(6), object(1)\n",
      "memory usage: 8.2+ MB\n"
     ]
    }
   ],
   "source": [
    "test_labels.info()"
   ]
  },
  {
   "cell_type": "markdown",
   "id": "1a7a2afd",
   "metadata": {
    "execution": {
     "iopub.execute_input": "2022-01-05T01:26:23.014216Z",
     "iopub.status.busy": "2022-01-05T01:26:23.013804Z",
     "iopub.status.idle": "2022-01-05T01:26:23.019007Z",
     "shell.execute_reply": "2022-01-05T01:26:23.017676Z",
     "shell.execute_reply.started": "2022-01-05T01:26:23.014176Z"
    },
    "papermill": {
     "duration": 0.034977,
     "end_time": "2022-01-05T06:14:01.920223",
     "exception": false,
     "start_time": "2022-01-05T06:14:01.885246",
     "status": "completed"
    },
    "tags": []
   },
   "source": [
    "# Preprocess"
   ]
  },
  {
   "cell_type": "markdown",
   "id": "6c2a4fbb",
   "metadata": {
    "papermill": {
     "duration": 0.036064,
     "end_time": "2022-01-05T06:14:01.991857",
     "exception": false,
     "start_time": "2022-01-05T06:14:01.955793",
     "status": "completed"
    },
    "tags": []
   },
   "source": [
    "少しでも有害な可能性のあるコメントに、1を付ける。"
   ]
  },
  {
   "cell_type": "code",
   "execution_count": 16,
   "id": "7f3623d9",
   "metadata": {
    "execution": {
     "iopub.execute_input": "2022-01-05T06:14:02.074452Z",
     "iopub.status.busy": "2022-01-05T06:14:02.066386Z",
     "iopub.status.idle": "2022-01-05T06:14:02.107895Z",
     "shell.execute_reply": "2022-01-05T06:14:02.107385Z",
     "shell.execute_reply.started": "2022-01-05T05:00:44.223639Z"
    },
    "papermill": {
     "duration": 0.080434,
     "end_time": "2022-01-05T06:14:02.108046",
     "exception": false,
     "start_time": "2022-01-05T06:14:02.027612",
     "status": "completed"
    },
    "tags": []
   },
   "outputs": [
    {
     "data": {
      "text/html": [
       "<div>\n",
       "<style scoped>\n",
       "    .dataframe tbody tr th:only-of-type {\n",
       "        vertical-align: middle;\n",
       "    }\n",
       "\n",
       "    .dataframe tbody tr th {\n",
       "        vertical-align: top;\n",
       "    }\n",
       "\n",
       "    .dataframe thead th {\n",
       "        text-align: right;\n",
       "    }\n",
       "</style>\n",
       "<table border=\"1\" class=\"dataframe\">\n",
       "  <thead>\n",
       "    <tr style=\"text-align: right;\">\n",
       "      <th></th>\n",
       "      <th>text</th>\n",
       "      <th>y</th>\n",
       "    </tr>\n",
       "  </thead>\n",
       "  <tbody>\n",
       "    <tr>\n",
       "      <th>0</th>\n",
       "      <td>Explanation\\nWhy the edits made under my username Hardcore Metallica Fan were reverted? They weren't vandalisms, just closure on some GAs after I voted at New York Dolls FAC. And please don't remove the template from the talk page since I'm retired now.89.205.38.27</td>\n",
       "      <td>0</td>\n",
       "    </tr>\n",
       "    <tr>\n",
       "      <th>1</th>\n",
       "      <td>D'aww! He matches this background colour I'm seemingly stuck with. Thanks.  (talk) 21:51, January 11, 2016 (UTC)</td>\n",
       "      <td>0</td>\n",
       "    </tr>\n",
       "    <tr>\n",
       "      <th>2</th>\n",
       "      <td>Hey man, I'm really not trying to edit war. It's just that this guy is constantly removing relevant information and talking to me through edits instead of my talk page. He seems to care more about the formatting than the actual info.</td>\n",
       "      <td>0</td>\n",
       "    </tr>\n",
       "    <tr>\n",
       "      <th>3</th>\n",
       "      <td>\"\\nMore\\nI can't make any real suggestions on improvement - I wondered if the section statistics should be later on, or a subsection of \"\"types of accidents\"\"  -I think the references may need tidying so that they are all in the exact same format ie date format etc. I can do that later on, if no...</td>\n",
       "      <td>0</td>\n",
       "    </tr>\n",
       "    <tr>\n",
       "      <th>4</th>\n",
       "      <td>You, sir, are my hero. Any chance you remember what page that's on?</td>\n",
       "      <td>0</td>\n",
       "    </tr>\n",
       "    <tr>\n",
       "      <th>5</th>\n",
       "      <td>\"\\n\\nCongratulations from me as well, use the tools well.  · talk \"</td>\n",
       "      <td>0</td>\n",
       "    </tr>\n",
       "    <tr>\n",
       "      <th>6</th>\n",
       "      <td>COCKSUCKER BEFORE YOU PISS AROUND ON MY WORK</td>\n",
       "      <td>1</td>\n",
       "    </tr>\n",
       "    <tr>\n",
       "      <th>7</th>\n",
       "      <td>Your vandalism to the Matt Shirvington article has been reverted.  Please don't do it again, or you will be banned.</td>\n",
       "      <td>0</td>\n",
       "    </tr>\n",
       "    <tr>\n",
       "      <th>8</th>\n",
       "      <td>Sorry if the word 'nonsense' was offensive to you. Anyway, I'm not intending to write anything in the article(wow they would jump on me for vandalism), I'm merely requesting that it be more encyclopedic so one can use it for school as a reference. I have been to the selective breeding page but i...</td>\n",
       "      <td>0</td>\n",
       "    </tr>\n",
       "    <tr>\n",
       "      <th>9</th>\n",
       "      <td>alignment on this subject and which are contrary to those of DuLithgow</td>\n",
       "      <td>0</td>\n",
       "    </tr>\n",
       "  </tbody>\n",
       "</table>\n",
       "</div>"
      ],
      "text/plain": [
       "                                                                                                                                                                                                                                                                                                          text  \\\n",
       "0                                    Explanation\\nWhy the edits made under my username Hardcore Metallica Fan were reverted? They weren't vandalisms, just closure on some GAs after I voted at New York Dolls FAC. And please don't remove the template from the talk page since I'm retired now.89.205.38.27   \n",
       "1                                                                                                                                                                                             D'aww! He matches this background colour I'm seemingly stuck with. Thanks.  (talk) 21:51, January 11, 2016 (UTC)   \n",
       "2                                                                    Hey man, I'm really not trying to edit war. It's just that this guy is constantly removing relevant information and talking to me through edits instead of my talk page. He seems to care more about the formatting than the actual info.   \n",
       "3  \"\\nMore\\nI can't make any real suggestions on improvement - I wondered if the section statistics should be later on, or a subsection of \"\"types of accidents\"\"  -I think the references may need tidying so that they are all in the exact same format ie date format etc. I can do that later on, if no...   \n",
       "4                                                                                                                                                                                                                                          You, sir, are my hero. Any chance you remember what page that's on?   \n",
       "5                                                                                                                                                                                                                                          \"\\n\\nCongratulations from me as well, use the tools well.  · talk \"   \n",
       "6                                                                                                                                                                                                                                                                 COCKSUCKER BEFORE YOU PISS AROUND ON MY WORK   \n",
       "7                                                                                                                                                                                          Your vandalism to the Matt Shirvington article has been reverted.  Please don't do it again, or you will be banned.   \n",
       "8  Sorry if the word 'nonsense' was offensive to you. Anyway, I'm not intending to write anything in the article(wow they would jump on me for vandalism), I'm merely requesting that it be more encyclopedic so one can use it for school as a reference. I have been to the selective breeding page but i...   \n",
       "9                                                                                                                                                                                                                                       alignment on this subject and which are contrary to those of DuLithgow   \n",
       "\n",
       "   y  \n",
       "0  0  \n",
       "1  0  \n",
       "2  0  \n",
       "3  0  \n",
       "4  0  \n",
       "5  0  \n",
       "6  1  \n",
       "7  0  \n",
       "8  0  \n",
       "9  0  "
      ]
     },
     "execution_count": 16,
     "metadata": {},
     "output_type": "execute_result"
    }
   ],
   "source": [
    "train['y'] = (train[['toxic', 'severe_toxic', 'obscene', 'threat', 'insult', 'identity_hate']].sum(axis=1) > 0 ).astype(int)\n",
    "train = train[['comment_text', 'y']].rename(columns={'comment_text': 'text'})\n",
    "train.head(10)"
   ]
  },
  {
   "cell_type": "code",
   "execution_count": 17,
   "id": "7beae6a8",
   "metadata": {
    "execution": {
     "iopub.execute_input": "2022-01-05T06:14:02.190531Z",
     "iopub.status.busy": "2022-01-05T06:14:02.189894Z",
     "iopub.status.idle": "2022-01-05T06:14:02.192666Z",
     "shell.execute_reply": "2022-01-05T06:14:02.193093Z",
     "shell.execute_reply.started": "2022-01-05T05:00:44.270145Z"
    },
    "papermill": {
     "duration": 0.047848,
     "end_time": "2022-01-05T06:14:02.193252",
     "exception": false,
     "start_time": "2022-01-05T06:14:02.145404",
     "status": "completed"
    },
    "tags": []
   },
   "outputs": [
    {
     "data": {
      "text/plain": [
       "0    0.898321\n",
       "1    0.101679\n",
       "Name: y, dtype: float64"
      ]
     },
     "execution_count": 17,
     "metadata": {},
     "output_type": "execute_result"
    }
   ],
   "source": [
    "train['y'].value_counts(normalize=True)"
   ]
  },
  {
   "cell_type": "code",
   "execution_count": 18,
   "id": "0b6554af",
   "metadata": {
    "execution": {
     "iopub.execute_input": "2022-01-05T06:14:02.269435Z",
     "iopub.status.busy": "2022-01-05T06:14:02.267761Z",
     "iopub.status.idle": "2022-01-05T06:14:02.273582Z",
     "shell.execute_reply": "2022-01-05T06:14:02.274057Z",
     "shell.execute_reply.started": "2022-01-05T05:00:44.283357Z"
    },
    "papermill": {
     "duration": 0.045171,
     "end_time": "2022-01-05T06:14:02.274218",
     "exception": false,
     "start_time": "2022-01-05T06:14:02.229047",
     "status": "completed"
    },
    "tags": []
   },
   "outputs": [
    {
     "name": "stdout",
     "output_type": "stream",
     "text": [
      "16225\n"
     ]
    }
   ],
   "source": [
    "min_len = (train['y'] == 1).sum()\n",
    "print(min_len)"
   ]
  },
  {
   "cell_type": "code",
   "execution_count": 19,
   "id": "38ac89a3",
   "metadata": {
    "execution": {
     "iopub.execute_input": "2022-01-05T06:14:02.349706Z",
     "iopub.status.busy": "2022-01-05T06:14:02.349108Z",
     "iopub.status.idle": "2022-01-05T06:14:02.370844Z",
     "shell.execute_reply": "2022-01-05T06:14:02.371269Z",
     "shell.execute_reply.started": "2022-01-05T05:00:44.297179Z"
    },
    "papermill": {
     "duration": 0.060964,
     "end_time": "2022-01-05T06:14:02.371441",
     "exception": false,
     "start_time": "2022-01-05T06:14:02.310477",
     "status": "completed"
    },
    "tags": []
   },
   "outputs": [],
   "source": [
    "train_y0_undersample = train[train['y'] == 0].sample(n=min_len, random_state=201)"
   ]
  },
  {
   "cell_type": "code",
   "execution_count": 20,
   "id": "d1553d9e",
   "metadata": {
    "execution": {
     "iopub.execute_input": "2022-01-05T06:14:02.446994Z",
     "iopub.status.busy": "2022-01-05T06:14:02.446343Z",
     "iopub.status.idle": "2022-01-05T06:14:02.462988Z",
     "shell.execute_reply": "2022-01-05T06:14:02.463474Z",
     "shell.execute_reply.started": "2022-01-05T05:00:44.33553Z"
    },
    "papermill": {
     "duration": 0.056017,
     "end_time": "2022-01-05T06:14:02.463664",
     "exception": false,
     "start_time": "2022-01-05T06:14:02.407647",
     "status": "completed"
    },
    "tags": []
   },
   "outputs": [
    {
     "name": "stdout",
     "output_type": "stream",
     "text": [
      "(32450, 2)\n"
     ]
    },
    {
     "data": {
      "text/html": [
       "<div>\n",
       "<style scoped>\n",
       "    .dataframe tbody tr th:only-of-type {\n",
       "        vertical-align: middle;\n",
       "    }\n",
       "\n",
       "    .dataframe tbody tr th {\n",
       "        vertical-align: top;\n",
       "    }\n",
       "\n",
       "    .dataframe thead th {\n",
       "        text-align: right;\n",
       "    }\n",
       "</style>\n",
       "<table border=\"1\" class=\"dataframe\">\n",
       "  <thead>\n",
       "    <tr style=\"text-align: right;\">\n",
       "      <th></th>\n",
       "      <th>text</th>\n",
       "      <th>y</th>\n",
       "    </tr>\n",
       "  </thead>\n",
       "  <tbody>\n",
       "    <tr>\n",
       "      <th>0</th>\n",
       "      <td>COCKSUCKER BEFORE YOU PISS AROUND ON MY WORK</td>\n",
       "      <td>1</td>\n",
       "    </tr>\n",
       "    <tr>\n",
       "      <th>1</th>\n",
       "      <td>Hey... what is it..\\n@ | talk .\\nWhat is it... an exclusive group of some WP TALIBANS...who are good at destroying, self-appointed purist who GANG UP any one who asks them questions abt their ANTI-SOCIAL and DESTRUCTIVE (non)-contribution at WP?\\n\\nAsk Sityush to clean up his behavior than issue...</td>\n",
       "      <td>1</td>\n",
       "    </tr>\n",
       "    <tr>\n",
       "      <th>2</th>\n",
       "      <td>Bye! \\n\\nDon't look, come or think of comming back! Tosser.</td>\n",
       "      <td>1</td>\n",
       "    </tr>\n",
       "    <tr>\n",
       "      <th>3</th>\n",
       "      <td>You are gay or antisemmitian? \\n\\nArchangel WHite Tiger\\n\\nMeow! Greetingshhh!\\n\\nUh, there are two ways, why you do erased my comment about WW2, that holocaust was brutally slaying of Jews and not gays/Gypsys/Slavs/anyone...\\n\\n1 - If you are anti-semitian, than shave your head bald and go to t...</td>\n",
       "      <td>1</td>\n",
       "    </tr>\n",
       "    <tr>\n",
       "      <th>4</th>\n",
       "      <td>FUCK YOUR FILTHY MOTHER IN THE ASS, DRY!</td>\n",
       "      <td>1</td>\n",
       "    </tr>\n",
       "  </tbody>\n",
       "</table>\n",
       "</div>"
      ],
      "text/plain": [
       "                                                                                                                                                                                                                                                                                                          text  \\\n",
       "0                                                                                                                                                                                                                                                                 COCKSUCKER BEFORE YOU PISS AROUND ON MY WORK   \n",
       "1  Hey... what is it..\\n@ | talk .\\nWhat is it... an exclusive group of some WP TALIBANS...who are good at destroying, self-appointed purist who GANG UP any one who asks them questions abt their ANTI-SOCIAL and DESTRUCTIVE (non)-contribution at WP?\\n\\nAsk Sityush to clean up his behavior than issue...   \n",
       "2                                                                                                                                                                                                                                                  Bye! \\n\\nDon't look, come or think of comming back! Tosser.   \n",
       "3  You are gay or antisemmitian? \\n\\nArchangel WHite Tiger\\n\\nMeow! Greetingshhh!\\n\\nUh, there are two ways, why you do erased my comment about WW2, that holocaust was brutally slaying of Jews and not gays/Gypsys/Slavs/anyone...\\n\\n1 - If you are anti-semitian, than shave your head bald and go to t...   \n",
       "4                                                                                                                                                                                                                                                                     FUCK YOUR FILTHY MOTHER IN THE ASS, DRY!   \n",
       "\n",
       "   y  \n",
       "0  1  \n",
       "1  1  \n",
       "2  1  \n",
       "3  1  \n",
       "4  1  "
      ]
     },
     "execution_count": 20,
     "metadata": {},
     "output_type": "execute_result"
    }
   ],
   "source": [
    "train = pd.concat([train[train['y'] == 1], train_y0_undersample]).reset_index(drop=True)\n",
    "print(train.shape)\n",
    "train.head()"
   ]
  },
  {
   "cell_type": "code",
   "execution_count": 21,
   "id": "96daa9d5",
   "metadata": {
    "execution": {
     "iopub.execute_input": "2022-01-05T06:14:02.540604Z",
     "iopub.status.busy": "2022-01-05T06:14:02.540037Z",
     "iopub.status.idle": "2022-01-05T06:14:02.546094Z",
     "shell.execute_reply": "2022-01-05T06:14:02.546542Z",
     "shell.execute_reply.started": "2022-01-05T05:03:10.986731Z"
    },
    "papermill": {
     "duration": 0.045969,
     "end_time": "2022-01-05T06:14:02.546707",
     "exception": false,
     "start_time": "2022-01-05T06:14:02.500738",
     "status": "completed"
    },
    "tags": []
   },
   "outputs": [
    {
     "data": {
      "text/plain": [
       "1    16225\n",
       "0    16225\n",
       "Name: y, dtype: int64"
      ]
     },
     "execution_count": 21,
     "metadata": {},
     "output_type": "execute_result"
    }
   ],
   "source": [
    "y = train['y']\n",
    "y.value_counts()"
   ]
  },
  {
   "cell_type": "code",
   "execution_count": 22,
   "id": "797fc653",
   "metadata": {
    "execution": {
     "iopub.execute_input": "2022-01-05T06:14:02.623701Z",
     "iopub.status.busy": "2022-01-05T06:14:02.623099Z",
     "iopub.status.idle": "2022-01-05T06:14:04.427986Z",
     "shell.execute_reply": "2022-01-05T06:14:04.427399Z",
     "shell.execute_reply.started": "2022-01-05T05:00:44.367126Z"
    },
    "papermill": {
     "duration": 1.844522,
     "end_time": "2022-01-05T06:14:04.428123",
     "exception": false,
     "start_time": "2022-01-05T06:14:02.583601",
     "status": "completed"
    },
    "tags": []
   },
   "outputs": [],
   "source": [
    "vec = TfidfVectorizer()\n",
    "X = vec.fit_transform(train['text'])"
   ]
  },
  {
   "cell_type": "markdown",
   "id": "096047d3",
   "metadata": {
    "papermill": {
     "duration": 0.042319,
     "end_time": "2022-01-05T06:14:04.508529",
     "exception": false,
     "start_time": "2022-01-05T06:14:04.466210",
     "status": "completed"
    },
    "tags": []
   },
   "source": [
    "# Modeling"
   ]
  },
  {
   "cell_type": "markdown",
   "id": "1a16dfdf",
   "metadata": {
    "papermill": {
     "duration": 0.045104,
     "end_time": "2022-01-05T06:14:04.599310",
     "exception": false,
     "start_time": "2022-01-05T06:14:04.554206",
     "status": "completed"
    },
    "tags": []
   },
   "source": [
    "有害であるかどうかを分類するモデルを作成する。"
   ]
  },
  {
   "cell_type": "code",
   "execution_count": 23,
   "id": "4d7c0f39",
   "metadata": {
    "execution": {
     "iopub.execute_input": "2022-01-05T06:14:04.684376Z",
     "iopub.status.busy": "2022-01-05T06:14:04.683416Z",
     "iopub.status.idle": "2022-01-05T06:14:04.705856Z",
     "shell.execute_reply": "2022-01-05T06:14:04.706301Z",
     "shell.execute_reply.started": "2022-01-05T05:03:24.103108Z"
    },
    "papermill": {
     "duration": 0.064521,
     "end_time": "2022-01-05T06:14:04.706466",
     "exception": false,
     "start_time": "2022-01-05T06:14:04.641945",
     "status": "completed"
    },
    "tags": []
   },
   "outputs": [
    {
     "data": {
      "text/plain": [
       "MultinomialNB()"
      ]
     },
     "execution_count": 23,
     "metadata": {},
     "output_type": "execute_result"
    }
   ],
   "source": [
    "model = MultinomialNB()\n",
    "model.fit(X, y)"
   ]
  },
  {
   "cell_type": "markdown",
   "id": "b2aefe20",
   "metadata": {
    "papermill": {
     "duration": 0.037138,
     "end_time": "2022-01-05T06:14:04.780997",
     "exception": false,
     "start_time": "2022-01-05T06:14:04.743859",
     "status": "completed"
    },
    "tags": []
   },
   "source": [
    "# Validation"
   ]
  },
  {
   "cell_type": "code",
   "execution_count": 24,
   "id": "0d81a7d2",
   "metadata": {
    "execution": {
     "iopub.execute_input": "2022-01-05T06:14:04.875364Z",
     "iopub.status.busy": "2022-01-05T06:14:04.874451Z",
     "iopub.status.idle": "2022-01-05T06:14:08.098913Z",
     "shell.execute_reply": "2022-01-05T06:14:08.098005Z",
     "shell.execute_reply.started": "2022-01-05T05:03:26.742047Z"
    },
    "papermill": {
     "duration": 3.280699,
     "end_time": "2022-01-05T06:14:08.099080",
     "exception": false,
     "start_time": "2022-01-05T06:14:04.818381",
     "status": "completed"
    },
    "tags": []
   },
   "outputs": [],
   "source": [
    "X_less_toxic = vec.transform(validation['less_toxic'])\n",
    "X_more_toxic = vec.transform(validation['more_toxic'])"
   ]
  },
  {
   "cell_type": "markdown",
   "id": "0ad97425",
   "metadata": {
    "execution": {
     "iopub.execute_input": "2022-01-05T05:14:17.440882Z",
     "iopub.status.busy": "2022-01-05T05:14:17.440524Z",
     "iopub.status.idle": "2022-01-05T05:14:17.446788Z",
     "shell.execute_reply": "2022-01-05T05:14:17.445952Z",
     "shell.execute_reply.started": "2022-01-05T05:14:17.440845Z"
    },
    "papermill": {
     "duration": 0.042023,
     "end_time": "2022-01-05T06:14:08.179140",
     "exception": false,
     "start_time": "2022-01-05T06:14:08.137117",
     "status": "completed"
    },
    "tags": []
   },
   "source": [
    "X_less_toxic と X_more_toxic における、有害なコメントである確率を求める。"
   ]
  },
  {
   "cell_type": "code",
   "execution_count": 25,
   "id": "c9c7c66f",
   "metadata": {
    "execution": {
     "iopub.execute_input": "2022-01-05T06:14:08.263973Z",
     "iopub.status.busy": "2022-01-05T06:14:08.263221Z",
     "iopub.status.idle": "2022-01-05T06:14:08.292461Z",
     "shell.execute_reply": "2022-01-05T06:14:08.293273Z",
     "shell.execute_reply.started": "2022-01-05T05:03:37.290916Z"
    },
    "papermill": {
     "duration": 0.073646,
     "end_time": "2022-01-05T06:14:08.293500",
     "exception": false,
     "start_time": "2022-01-05T06:14:08.219854",
     "status": "completed"
    },
    "tags": []
   },
   "outputs": [],
   "source": [
    "p1 = model.predict_proba(X_less_toxic)\n",
    "p2 = model.predict_proba(X_more_toxic)"
   ]
  },
  {
   "cell_type": "markdown",
   "id": "f9255af8",
   "metadata": {
    "papermill": {
     "duration": 0.039874,
     "end_time": "2022-01-05T06:14:08.371094",
     "exception": false,
     "start_time": "2022-01-05T06:14:08.331220",
     "status": "completed"
    },
    "tags": []
   },
   "source": [
    "X_less_toxic よりも X_more_toxic の方が有害であることが分かっているので、その通りに予測できているかを確認する。"
   ]
  },
  {
   "cell_type": "code",
   "execution_count": 26,
   "id": "b48bc94c",
   "metadata": {
    "execution": {
     "iopub.execute_input": "2022-01-05T06:14:08.454023Z",
     "iopub.status.busy": "2022-01-05T06:14:08.452170Z",
     "iopub.status.idle": "2022-01-05T06:14:08.458440Z",
     "shell.execute_reply": "2022-01-05T06:14:08.458925Z",
     "shell.execute_reply.started": "2022-01-05T05:04:25.638674Z"
    },
    "papermill": {
     "duration": 0.047078,
     "end_time": "2022-01-05T06:14:08.459087",
     "exception": false,
     "start_time": "2022-01-05T06:14:08.412009",
     "status": "completed"
    },
    "tags": []
   },
   "outputs": [
    {
     "data": {
      "text/plain": [
       "0.6643749169655906"
      ]
     },
     "execution_count": 26,
     "metadata": {},
     "output_type": "execute_result"
    }
   ],
   "source": [
    "(p1[:, 1] < p2[:, 1]).mean()"
   ]
  },
  {
   "cell_type": "markdown",
   "id": "ba01a066",
   "metadata": {
    "execution": {
     "iopub.execute_input": "2022-01-05T05:16:40.627448Z",
     "iopub.status.busy": "2022-01-05T05:16:40.627082Z",
     "iopub.status.idle": "2022-01-05T05:16:40.634124Z",
     "shell.execute_reply": "2022-01-05T05:16:40.632752Z",
     "shell.execute_reply.started": "2022-01-05T05:16:40.627411Z"
    },
    "papermill": {
     "duration": 0.039256,
     "end_time": "2022-01-05T06:14:08.539414",
     "exception": false,
     "start_time": "2022-01-05T06:14:08.500158",
     "status": "completed"
    },
    "tags": []
   },
   "source": [
    "よって、精度は 0.66 であることが分かる。"
   ]
  },
  {
   "cell_type": "markdown",
   "id": "661aa62c",
   "metadata": {
    "papermill": {
     "duration": 0.039479,
     "end_time": "2022-01-05T06:14:08.619430",
     "exception": false,
     "start_time": "2022-01-05T06:14:08.579951",
     "status": "completed"
    },
    "tags": []
   },
   "source": [
    "# Submission"
   ]
  },
  {
   "cell_type": "code",
   "execution_count": 27,
   "id": "289b8d81",
   "metadata": {
    "execution": {
     "iopub.execute_input": "2022-01-05T06:14:08.711124Z",
     "iopub.status.busy": "2022-01-05T06:14:08.710526Z",
     "iopub.status.idle": "2022-01-05T06:14:09.132362Z",
     "shell.execute_reply": "2022-01-05T06:14:09.132857Z",
     "shell.execute_reply.started": "2022-01-05T05:08:32.615271Z"
    },
    "papermill": {
     "duration": 0.475018,
     "end_time": "2022-01-05T06:14:09.133025",
     "exception": false,
     "start_time": "2022-01-05T06:14:08.658007",
     "status": "completed"
    },
    "tags": []
   },
   "outputs": [],
   "source": [
    "X_test = vec.transform(score['text'])\n",
    "p3 = model.predict_proba(X_test)"
   ]
  },
  {
   "cell_type": "code",
   "execution_count": 28,
   "id": "8e6dfd5f",
   "metadata": {
    "execution": {
     "iopub.execute_input": "2022-01-05T06:14:09.221240Z",
     "iopub.status.busy": "2022-01-05T06:14:09.220572Z",
     "iopub.status.idle": "2022-01-05T06:14:09.232455Z",
     "shell.execute_reply": "2022-01-05T06:14:09.233442Z",
     "shell.execute_reply.started": "2022-01-05T05:20:24.361231Z"
    },
    "papermill": {
     "duration": 0.060571,
     "end_time": "2022-01-05T06:14:09.233682",
     "exception": false,
     "start_time": "2022-01-05T06:14:09.173111",
     "status": "completed"
    },
    "tags": []
   },
   "outputs": [
    {
     "name": "stdout",
     "output_type": "stream",
     "text": [
      "(7537, 2)\n"
     ]
    },
    {
     "data": {
      "text/html": [
       "<div>\n",
       "<style scoped>\n",
       "    .dataframe tbody tr th:only-of-type {\n",
       "        vertical-align: middle;\n",
       "    }\n",
       "\n",
       "    .dataframe tbody tr th {\n",
       "        vertical-align: top;\n",
       "    }\n",
       "\n",
       "    .dataframe thead th {\n",
       "        text-align: right;\n",
       "    }\n",
       "</style>\n",
       "<table border=\"1\" class=\"dataframe\">\n",
       "  <thead>\n",
       "    <tr style=\"text-align: right;\">\n",
       "      <th></th>\n",
       "      <th>comment_id</th>\n",
       "      <th>score</th>\n",
       "    </tr>\n",
       "  </thead>\n",
       "  <tbody>\n",
       "    <tr>\n",
       "      <th>0</th>\n",
       "      <td>114890</td>\n",
       "      <td>0.049429</td>\n",
       "    </tr>\n",
       "    <tr>\n",
       "      <th>1</th>\n",
       "      <td>732895</td>\n",
       "      <td>0.411702</td>\n",
       "    </tr>\n",
       "    <tr>\n",
       "      <th>2</th>\n",
       "      <td>1139051</td>\n",
       "      <td>0.086581</td>\n",
       "    </tr>\n",
       "    <tr>\n",
       "      <th>3</th>\n",
       "      <td>1434512</td>\n",
       "      <td>0.029652</td>\n",
       "    </tr>\n",
       "    <tr>\n",
       "      <th>4</th>\n",
       "      <td>2084821</td>\n",
       "      <td>0.559462</td>\n",
       "    </tr>\n",
       "    <tr>\n",
       "      <th>5</th>\n",
       "      <td>2452675</td>\n",
       "      <td>0.198060</td>\n",
       "    </tr>\n",
       "    <tr>\n",
       "      <th>6</th>\n",
       "      <td>3206615</td>\n",
       "      <td>0.182303</td>\n",
       "    </tr>\n",
       "    <tr>\n",
       "      <th>7</th>\n",
       "      <td>3665348</td>\n",
       "      <td>0.764599</td>\n",
       "    </tr>\n",
       "    <tr>\n",
       "      <th>8</th>\n",
       "      <td>4502494</td>\n",
       "      <td>0.098096</td>\n",
       "    </tr>\n",
       "    <tr>\n",
       "      <th>9</th>\n",
       "      <td>4804786</td>\n",
       "      <td>0.281726</td>\n",
       "    </tr>\n",
       "  </tbody>\n",
       "</table>\n",
       "</div>"
      ],
      "text/plain": [
       "   comment_id     score\n",
       "0      114890  0.049429\n",
       "1      732895  0.411702\n",
       "2     1139051  0.086581\n",
       "3     1434512  0.029652\n",
       "4     2084821  0.559462\n",
       "5     2452675  0.198060\n",
       "6     3206615  0.182303\n",
       "7     3665348  0.764599\n",
       "8     4502494  0.098096\n",
       "9     4804786  0.281726"
      ]
     },
     "execution_count": 28,
     "metadata": {},
     "output_type": "execute_result"
    }
   ],
   "source": [
    "score['score'] = p3[:, 1]\n",
    "score = score.drop('text', axis=1)\n",
    "\n",
    "print(score.shape)\n",
    "score.head(10)"
   ]
  },
  {
   "cell_type": "code",
   "execution_count": 29,
   "id": "2fdf7af5",
   "metadata": {
    "execution": {
     "iopub.execute_input": "2022-01-05T06:14:09.323146Z",
     "iopub.status.busy": "2022-01-05T06:14:09.322546Z",
     "iopub.status.idle": "2022-01-05T06:14:09.348294Z",
     "shell.execute_reply": "2022-01-05T06:14:09.347689Z"
    },
    "papermill": {
     "duration": 0.072487,
     "end_time": "2022-01-05T06:14:09.348435",
     "exception": false,
     "start_time": "2022-01-05T06:14:09.275948",
     "status": "completed"
    },
    "tags": []
   },
   "outputs": [],
   "source": [
    "score.to_csv('submission.csv', index=False)"
   ]
  },
  {
   "cell_type": "markdown",
   "id": "4789e3b8",
   "metadata": {
    "papermill": {
     "duration": 0.040141,
     "end_time": "2022-01-05T06:14:09.428268",
     "exception": false,
     "start_time": "2022-01-05T06:14:09.388127",
     "status": "completed"
    },
    "tags": []
   },
   "source": [
    "# References"
   ]
  },
  {
   "cell_type": "markdown",
   "id": "19420e45",
   "metadata": {
    "papermill": {
     "duration": 0.041702,
     "end_time": "2022-01-05T06:14:09.508460",
     "exception": false,
     "start_time": "2022-01-05T06:14:09.466758",
     "status": "completed"
    },
    "tags": []
   },
   "source": [
    "・[Jigsaw - Incredibly Simple Naive Bayes [0.768]](https://www.kaggle.com/julian3833/jigsaw-incredibly-simple-naive-bayes-0-768)<br>\n",
    "・[Mega (B)Ridge to the top [LB: 0.85]](https://www.kaggle.com/samarthagarwal23/mega-b-ridge-to-the-top-lb-0-85/notebook)<br>\n",
    "・[Most Detailed EDA, TF-IDF and Logistic Reg 🎃](https://www.kaggle.com/kishalmandal/most-detailed-eda-tf-idf-and-logistic-reg#3.-WordClouds)"
   ]
  }
 ],
 "metadata": {
  "kernelspec": {
   "display_name": "Python 3",
   "language": "python",
   "name": "python3"
  },
  "language_info": {
   "codemirror_mode": {
    "name": "ipython",
    "version": 3
   },
   "file_extension": ".py",
   "mimetype": "text/x-python",
   "name": "python",
   "nbconvert_exporter": "python",
   "pygments_lexer": "ipython3",
   "version": "3.7.12"
  },
  "papermill": {
   "default_parameters": {},
   "duration": 25.836935,
   "end_time": "2022-01-05T06:14:10.363640",
   "environment_variables": {},
   "exception": null,
   "input_path": "__notebook__.ipynb",
   "output_path": "__notebook__.ipynb",
   "parameters": {},
   "start_time": "2022-01-05T06:13:44.526705",
   "version": "2.3.3"
  }
 },
 "nbformat": 4,
 "nbformat_minor": 5
}
